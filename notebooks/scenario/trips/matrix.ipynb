{
 "cells": [
  {
   "cell_type": "markdown",
   "id": "mineral-pricing",
   "metadata": {},
   "source": [
    "# Matrix\n",
    "\n",
    "### Purpose\n",
    "- Demonstrate graph connecting output to input. The example shows connection between cities in a trip. \n",
    "- Build a dependency matrix"
   ]
  },
  {
   "cell_type": "code",
   "execution_count": 23,
   "id": "former-school",
   "metadata": {},
   "outputs": [],
   "source": [
    "import logging\n",
    "logging.basicConfig()\n",
    "logger = logging.getLogger('dependencynet')\n",
    "logger.setLevel(logging.WARN)"
   ]
  },
  {
   "cell_type": "code",
   "execution_count": 24,
   "id": "fallen-territory",
   "metadata": {},
   "outputs": [],
   "source": [
    "# clarification for linter\n",
    "from IPython.display import display"
   ]
  },
  {
   "cell_type": "code",
   "execution_count": 25,
   "id": "pursuant-digest",
   "metadata": {},
   "outputs": [],
   "source": [
    "# remove these lines if you use the pypi package\n",
    "import sys\n",
    "sys.path.append(\"../../..\") # go to parent dir"
   ]
  },
  {
   "cell_type": "code",
   "execution_count": 26,
   "id": "velvet-going",
   "metadata": {},
   "outputs": [],
   "source": [
    "from dependencynet.schema import SchemaBuilder\n",
    "from dependencynet.model import ModelBuilder\n",
    "from dependencynet.network.graphbuilder import GraphBuilder, LevelNode, InputNode, OutputNode\n",
    "from dependencynet.network.stylebuilder import StyleBuilder\n",
    "from dependencynet.network.graphviewer import GraphViewer\n",
    "from dependencynet.network.graphml import GraphMLConverter"
   ]
  },
  {
   "cell_type": "markdown",
   "id": "mexican-ivory",
   "metadata": {},
   "source": [
    "## Loads and prepare data\n",
    "\n",
    "Check the notebook for more information on the dataset and the steps requiored to prepare the graph."
   ]
  },
  {
   "cell_type": "code",
   "execution_count": 27,
   "id": "illegal-plenty",
   "metadata": {},
   "outputs": [
    {
     "data": {
      "text/html": [
       "<div>\n",
       "<style scoped>\n",
       "    .dataframe tbody tr th:only-of-type {\n",
       "        vertical-align: middle;\n",
       "    }\n",
       "\n",
       "    .dataframe tbody tr th {\n",
       "        vertical-align: top;\n",
       "    }\n",
       "\n",
       "    .dataframe thead th {\n",
       "        text-align: right;\n",
       "    }\n",
       "</style>\n",
       "<table border=\"1\" class=\"dataframe\">\n",
       "  <thead>\n",
       "    <tr style=\"text-align: right;\">\n",
       "      <th></th>\n",
       "      <th>area</th>\n",
       "      <th>country</th>\n",
       "      <th>town</th>\n",
       "      <th>flight_in</th>\n",
       "      <th>flight_out</th>\n",
       "    </tr>\n",
       "  </thead>\n",
       "  <tbody>\n",
       "    <tr>\n",
       "      <th>0</th>\n",
       "      <td>Europe</td>\n",
       "      <td>France</td>\n",
       "      <td>Paris</td>\n",
       "      <td>fl2</td>\n",
       "      <td>fl3</td>\n",
       "    </tr>\n",
       "    <tr>\n",
       "      <th>1</th>\n",
       "      <td>Europe</td>\n",
       "      <td>France</td>\n",
       "      <td>Lyon</td>\n",
       "      <td>NaN</td>\n",
       "      <td>fl1</td>\n",
       "    </tr>\n",
       "    <tr>\n",
       "      <th>2</th>\n",
       "      <td>Europe</td>\n",
       "      <td>UK</td>\n",
       "      <td>London</td>\n",
       "      <td>fl4</td>\n",
       "      <td>fl5</td>\n",
       "    </tr>\n",
       "    <tr>\n",
       "      <th>3</th>\n",
       "      <td>Europe</td>\n",
       "      <td>Italia</td>\n",
       "      <td>Rome</td>\n",
       "      <td>fl1</td>\n",
       "      <td>fl2</td>\n",
       "    </tr>\n",
       "    <tr>\n",
       "      <th>4</th>\n",
       "      <td>Asia</td>\n",
       "      <td>Japan</td>\n",
       "      <td>Tokyo</td>\n",
       "      <td>fl3</td>\n",
       "      <td>fl4</td>\n",
       "    </tr>\n",
       "  </tbody>\n",
       "</table>\n",
       "</div>"
      ],
      "text/plain": [
       "     area country    town flight_in flight_out\n",
       "0  Europe  France   Paris       fl2        fl3\n",
       "1  Europe  France    Lyon       NaN        fl1\n",
       "2  Europe      UK  London       fl4        fl5\n",
       "3  Europe  Italia    Rome       fl1        fl2\n",
       "4    Asia   Japan   Tokyo       fl3        fl4"
      ]
     },
     "metadata": {},
     "output_type": "display_data"
    },
    {
     "data": {
      "application/vnd.jupyter.widget-view+json": {
       "model_id": "2d5e6e8936804685a8f1eab7b328d1c1",
       "version_major": 2,
       "version_minor": 0
      },
      "text/plain": [
       "CytoscapeWidget(cytoscape_layout={'name': 'dagre', 'nodeSpacing': 10, 'edgeLenghVal': 10, 'rankDir': 'LR'}, cy…"
      ]
     },
     "metadata": {},
     "output_type": "display_data"
    },
    {
     "name": "stdout",
     "output_type": "stream",
     "text": [
      "Done\n"
     ]
    }
   ],
   "source": [
    "%run example-graphml-trips.ipynb"
   ]
  },
  {
   "cell_type": "markdown",
   "id": "characteristic-leone",
   "metadata": {},
   "source": [
    "## Matrix"
   ]
  },
  {
   "cell_type": "code",
   "execution_count": 28,
   "id": "unauthorized-international",
   "metadata": {},
   "outputs": [],
   "source": [
    "graph_model.remove_category('area')\n",
    "graph_model.remove_category('country')\n",
    "graph_model.merge_connection('flight_out', 'flight_in', 'flight')\n",
    "graph_model.fold_category('flight')"
   ]
  },
  {
   "cell_type": "code",
   "execution_count": 29,
   "id": "weighted-program",
   "metadata": {},
   "outputs": [
    {
     "data": {
      "text/plain": [
       "['Nodes:',\n",
       " 'town level - A01C01T01 Paris',\n",
       " 'town level - A01C01T02 Lyon',\n",
       " 'town level - A01C02T01 London',\n",
       " 'town level - A01C03T01 Rome',\n",
       " 'town level - A02C01T01 Tokyo',\n",
       " '',\n",
       " 'Edges:',\n",
       " 'town level A01C01T01 -> town level A02C01T01',\n",
       " 'town level A01C01T02 -> town level A01C03T01',\n",
       " 'town level A01C03T01 -> town level A01C01T01',\n",
       " 'town level A02C01T01 -> town level A01C02T01']"
      ]
     },
     "execution_count": 29,
     "metadata": {},
     "output_type": "execute_result"
    }
   ],
   "source": [
    "graph_model.pretty_print()"
   ]
  },
  {
   "cell_type": "code",
   "execution_count": 44,
   "id": "antique-digit",
   "metadata": {},
   "outputs": [],
   "source": [
    "def to_checkmark(v):\n",
    "    if not isinstance(v, str):\n",
    "        if v > 0:\n",
    "            v = 'X'\n",
    "        else:\n",
    "            v = ''\n",
    "    return v"
   ]
  },
  {
   "cell_type": "markdown",
   "id": "identical-imagination",
   "metadata": {},
   "source": [
    "#### Matrix 1"
   ]
  },
  {
   "cell_type": "code",
   "execution_count": 30,
   "id": "outstanding-newspaper",
   "metadata": {},
   "outputs": [
    {
     "data": {
      "text/plain": [
       "matrix([[0., 0., 0., 0., 1.],\n",
       "        [0., 0., 0., 1., 0.],\n",
       "        [0., 0., 0., 0., 0.],\n",
       "        [1., 0., 0., 0., 0.],\n",
       "        [0., 0., 1., 0., 0.]])"
      ]
     },
     "metadata": {},
     "output_type": "display_data"
    }
   ],
   "source": [
    "import networkx as nx\n",
    "#nx.to_numpy_matrix(graph_model.G, nodelist=[0,1,2])\n",
    "matrix = nx.to_numpy_matrix(graph_model.G)\n",
    "display(matrix)"
   ]
  },
  {
   "cell_type": "code",
   "execution_count": 47,
   "id": "federal-orleans",
   "metadata": {},
   "outputs": [],
   "source": [
    "towns = source_df['town'].tolist()"
   ]
  },
  {
   "cell_type": "code",
   "execution_count": 49,
   "id": "recreational-washington",
   "metadata": {},
   "outputs": [],
   "source": [
    "matrix_df = pd.DataFrame(data=matrix, index=towns, columns=towns)"
   ]
  },
  {
   "cell_type": "code",
   "execution_count": 50,
   "id": "dependent-privacy",
   "metadata": {},
   "outputs": [],
   "source": [
    "checkmarks_df = matrix_df.applymap(to_checkmark)"
   ]
  },
  {
   "cell_type": "code",
   "execution_count": 51,
   "id": "decreased-response",
   "metadata": {},
   "outputs": [
    {
     "data": {
      "text/html": [
       "<div>\n",
       "<style scoped>\n",
       "    .dataframe tbody tr th:only-of-type {\n",
       "        vertical-align: middle;\n",
       "    }\n",
       "\n",
       "    .dataframe tbody tr th {\n",
       "        vertical-align: top;\n",
       "    }\n",
       "\n",
       "    .dataframe thead th {\n",
       "        text-align: right;\n",
       "    }\n",
       "</style>\n",
       "<table border=\"1\" class=\"dataframe\">\n",
       "  <thead>\n",
       "    <tr style=\"text-align: right;\">\n",
       "      <th></th>\n",
       "      <th>Paris</th>\n",
       "      <th>Lyon</th>\n",
       "      <th>London</th>\n",
       "      <th>Rome</th>\n",
       "      <th>Tokyo</th>\n",
       "    </tr>\n",
       "  </thead>\n",
       "  <tbody>\n",
       "    <tr>\n",
       "      <th>Paris</th>\n",
       "      <td></td>\n",
       "      <td></td>\n",
       "      <td></td>\n",
       "      <td></td>\n",
       "      <td>X</td>\n",
       "    </tr>\n",
       "    <tr>\n",
       "      <th>Lyon</th>\n",
       "      <td></td>\n",
       "      <td></td>\n",
       "      <td></td>\n",
       "      <td>X</td>\n",
       "      <td></td>\n",
       "    </tr>\n",
       "    <tr>\n",
       "      <th>London</th>\n",
       "      <td></td>\n",
       "      <td></td>\n",
       "      <td></td>\n",
       "      <td></td>\n",
       "      <td></td>\n",
       "    </tr>\n",
       "    <tr>\n",
       "      <th>Rome</th>\n",
       "      <td>X</td>\n",
       "      <td></td>\n",
       "      <td></td>\n",
       "      <td></td>\n",
       "      <td></td>\n",
       "    </tr>\n",
       "    <tr>\n",
       "      <th>Tokyo</th>\n",
       "      <td></td>\n",
       "      <td></td>\n",
       "      <td>X</td>\n",
       "      <td></td>\n",
       "      <td></td>\n",
       "    </tr>\n",
       "  </tbody>\n",
       "</table>\n",
       "</div>"
      ],
      "text/plain": [
       "       Paris Lyon London Rome Tokyo\n",
       "Paris                             X\n",
       "Lyon                        X      \n",
       "London                             \n",
       "Rome       X                       \n",
       "Tokyo                  X           "
      ]
     },
     "metadata": {},
     "output_type": "display_data"
    }
   ],
   "source": [
    "display(checkmarks_df)"
   ]
  },
  {
   "cell_type": "markdown",
   "id": "rental-chick",
   "metadata": {},
   "source": [
    "#### Matrix 2"
   ]
  },
  {
   "cell_type": "code",
   "execution_count": 40,
   "id": "favorite-index",
   "metadata": {},
   "outputs": [],
   "source": [
    "data_df = source_df.copy()\n",
    "no_flight_in_mask = pd.isnull(data_df['flight_in'])\n",
    "clean_df = data_df[~no_flight_in_mask]\n",
    "one_hot_df = pd.get_dummies(clean_df['flight_in'], prefix='', prefix_sep='')\n",
    "extended_df = pd.concat([clean_df, one_hot_df], axis=1)\n",
    "key = ['area', 'country', 'town']\n",
    "matrix_df = extended_df.groupby(by=key).sum()"
   ]
  },
  {
   "cell_type": "code",
   "execution_count": 41,
   "id": "approximate-wiring",
   "metadata": {},
   "outputs": [
    {
     "data": {
      "text/html": [
       "<div>\n",
       "<style scoped>\n",
       "    .dataframe tbody tr th:only-of-type {\n",
       "        vertical-align: middle;\n",
       "    }\n",
       "\n",
       "    .dataframe tbody tr th {\n",
       "        vertical-align: top;\n",
       "    }\n",
       "\n",
       "    .dataframe thead th {\n",
       "        text-align: right;\n",
       "    }\n",
       "</style>\n",
       "<table border=\"1\" class=\"dataframe\">\n",
       "  <thead>\n",
       "    <tr style=\"text-align: right;\">\n",
       "      <th></th>\n",
       "      <th></th>\n",
       "      <th></th>\n",
       "      <th>fl1</th>\n",
       "      <th>fl2</th>\n",
       "      <th>fl3</th>\n",
       "      <th>fl4</th>\n",
       "    </tr>\n",
       "    <tr>\n",
       "      <th>area</th>\n",
       "      <th>country</th>\n",
       "      <th>town</th>\n",
       "      <th></th>\n",
       "      <th></th>\n",
       "      <th></th>\n",
       "      <th></th>\n",
       "    </tr>\n",
       "  </thead>\n",
       "  <tbody>\n",
       "    <tr>\n",
       "      <th>Asia</th>\n",
       "      <th>Japan</th>\n",
       "      <th>Tokyo</th>\n",
       "      <td>0</td>\n",
       "      <td>0</td>\n",
       "      <td>1</td>\n",
       "      <td>0</td>\n",
       "    </tr>\n",
       "    <tr>\n",
       "      <th rowspan=\"3\" valign=\"top\">Europe</th>\n",
       "      <th>France</th>\n",
       "      <th>Paris</th>\n",
       "      <td>0</td>\n",
       "      <td>1</td>\n",
       "      <td>0</td>\n",
       "      <td>0</td>\n",
       "    </tr>\n",
       "    <tr>\n",
       "      <th>Italia</th>\n",
       "      <th>Rome</th>\n",
       "      <td>1</td>\n",
       "      <td>0</td>\n",
       "      <td>0</td>\n",
       "      <td>0</td>\n",
       "    </tr>\n",
       "    <tr>\n",
       "      <th>UK</th>\n",
       "      <th>London</th>\n",
       "      <td>0</td>\n",
       "      <td>0</td>\n",
       "      <td>0</td>\n",
       "      <td>1</td>\n",
       "    </tr>\n",
       "  </tbody>\n",
       "</table>\n",
       "</div>"
      ],
      "text/plain": [
       "                       fl1  fl2  fl3  fl4\n",
       "area   country town                      \n",
       "Asia   Japan   Tokyo     0    0    1    0\n",
       "Europe France  Paris     0    1    0    0\n",
       "       Italia  Rome      1    0    0    0\n",
       "       UK      London    0    0    0    1"
      ]
     },
     "metadata": {},
     "output_type": "display_data"
    }
   ],
   "source": [
    "display(matrix_df)"
   ]
  },
  {
   "cell_type": "code",
   "execution_count": 45,
   "id": "renewable-ordinance",
   "metadata": {},
   "outputs": [],
   "source": [
    "checkmarks_df = matrix_df.applymap(to_checkmark)"
   ]
  },
  {
   "cell_type": "code",
   "execution_count": 46,
   "id": "headed-austria",
   "metadata": {},
   "outputs": [
    {
     "data": {
      "text/html": [
       "<div>\n",
       "<style scoped>\n",
       "    .dataframe tbody tr th:only-of-type {\n",
       "        vertical-align: middle;\n",
       "    }\n",
       "\n",
       "    .dataframe tbody tr th {\n",
       "        vertical-align: top;\n",
       "    }\n",
       "\n",
       "    .dataframe thead th {\n",
       "        text-align: right;\n",
       "    }\n",
       "</style>\n",
       "<table border=\"1\" class=\"dataframe\">\n",
       "  <thead>\n",
       "    <tr style=\"text-align: right;\">\n",
       "      <th></th>\n",
       "      <th></th>\n",
       "      <th></th>\n",
       "      <th>fl1</th>\n",
       "      <th>fl2</th>\n",
       "      <th>fl3</th>\n",
       "      <th>fl4</th>\n",
       "    </tr>\n",
       "    <tr>\n",
       "      <th>area</th>\n",
       "      <th>country</th>\n",
       "      <th>town</th>\n",
       "      <th></th>\n",
       "      <th></th>\n",
       "      <th></th>\n",
       "      <th></th>\n",
       "    </tr>\n",
       "  </thead>\n",
       "  <tbody>\n",
       "    <tr>\n",
       "      <th>Asia</th>\n",
       "      <th>Japan</th>\n",
       "      <th>Tokyo</th>\n",
       "      <td></td>\n",
       "      <td></td>\n",
       "      <td>X</td>\n",
       "      <td></td>\n",
       "    </tr>\n",
       "    <tr>\n",
       "      <th rowspan=\"3\" valign=\"top\">Europe</th>\n",
       "      <th>France</th>\n",
       "      <th>Paris</th>\n",
       "      <td></td>\n",
       "      <td>X</td>\n",
       "      <td></td>\n",
       "      <td></td>\n",
       "    </tr>\n",
       "    <tr>\n",
       "      <th>Italia</th>\n",
       "      <th>Rome</th>\n",
       "      <td>X</td>\n",
       "      <td></td>\n",
       "      <td></td>\n",
       "      <td></td>\n",
       "    </tr>\n",
       "    <tr>\n",
       "      <th>UK</th>\n",
       "      <th>London</th>\n",
       "      <td></td>\n",
       "      <td></td>\n",
       "      <td></td>\n",
       "      <td>X</td>\n",
       "    </tr>\n",
       "  </tbody>\n",
       "</table>\n",
       "</div>"
      ],
      "text/plain": [
       "                      fl1 fl2 fl3 fl4\n",
       "area   country town                  \n",
       "Asia   Japan   Tokyo            X    \n",
       "Europe France  Paris        X        \n",
       "       Italia  Rome     X            \n",
       "       UK      London               X"
      ]
     },
     "metadata": {},
     "output_type": "display_data"
    }
   ],
   "source": [
    "display(checkmarks_df)"
   ]
  },
  {
   "cell_type": "code",
   "execution_count": null,
   "id": "agricultural-sitting",
   "metadata": {},
   "outputs": [],
   "source": []
  }
 ],
 "metadata": {
  "kernelspec": {
   "display_name": "Python 3",
   "language": "python",
   "name": "python3"
  },
  "language_info": {
   "codemirror_mode": {
    "name": "ipython",
    "version": 3
   },
   "file_extension": ".py",
   "mimetype": "text/x-python",
   "name": "python",
   "nbconvert_exporter": "python",
   "pygments_lexer": "ipython3",
   "version": "3.8.5"
  }
 },
 "nbformat": 4,
 "nbformat_minor": 5
}
