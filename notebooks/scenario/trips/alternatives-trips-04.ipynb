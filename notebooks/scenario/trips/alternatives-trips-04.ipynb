{
 "cells": [
  {
   "cell_type": "markdown",
   "id": "rocky-wonder",
   "metadata": {},
   "source": [
    "# Alternate view 04\n",
    "\n",
    "### Purpose\n",
    "- Demonstrate graph connecting output to input. The example shows connection between cities in a trip. \n",
    "- Simplify view by removing area and country which are not usefull here and hiding flights. The graph only shows connections between towns"
   ]
  },
  {
   "cell_type": "markdown",
   "id": "worldwide-tender",
   "metadata": {},
   "source": [
    "## Imports modules and does some configurations"
   ]
  },
  {
   "cell_type": "code",
   "execution_count": 29,
   "id": "chemical-corps",
   "metadata": {},
   "outputs": [],
   "source": [
    "import logging\n",
    "logging.basicConfig()\n",
    "logger = logging.getLogger('dependencynet')\n",
    "logger.setLevel(logging.WARN)"
   ]
  },
  {
   "cell_type": "code",
   "execution_count": 30,
   "id": "tough-elite",
   "metadata": {},
   "outputs": [],
   "source": [
    "# clarification for linter\n",
    "from IPython.display import display"
   ]
  },
  {
   "cell_type": "code",
   "execution_count": 31,
   "id": "stable-furniture",
   "metadata": {},
   "outputs": [],
   "source": [
    "# remove these lines if you use the pypi package\n",
    "import sys\n",
    "sys.path.append(\"../../..\") # go to parent dir"
   ]
  },
  {
   "cell_type": "code",
   "execution_count": 32,
   "id": "english-switzerland",
   "metadata": {},
   "outputs": [],
   "source": [
    "from dependencynet.schema import SchemaBuilder\n",
    "from dependencynet.model import ModelBuilder\n",
    "from dependencynet.network.graphbuilder import GraphBuilder, LevelNode, InputNode, OutputNode\n",
    "from dependencynet.network.stylebuilder import StyleBuilder\n",
    "from dependencynet.network.graphviewer import GraphViewer\n",
    "from dependencynet.network.graphml import GraphMLConverter"
   ]
  },
  {
   "cell_type": "markdown",
   "id": "republican-constitutional",
   "metadata": {},
   "source": [
    "## Loads and prepare data\n",
    "\n",
    "Check the notebook for more information on the dataset and the steps requiored to prepare the graph."
   ]
  },
  {
   "cell_type": "code",
   "execution_count": 33,
   "id": "bottom-disorder",
   "metadata": {},
   "outputs": [
    {
     "data": {
      "text/html": [
       "<div>\n",
       "<style scoped>\n",
       "    .dataframe tbody tr th:only-of-type {\n",
       "        vertical-align: middle;\n",
       "    }\n",
       "\n",
       "    .dataframe tbody tr th {\n",
       "        vertical-align: top;\n",
       "    }\n",
       "\n",
       "    .dataframe thead th {\n",
       "        text-align: right;\n",
       "    }\n",
       "</style>\n",
       "<table border=\"1\" class=\"dataframe\">\n",
       "  <thead>\n",
       "    <tr style=\"text-align: right;\">\n",
       "      <th></th>\n",
       "      <th>area</th>\n",
       "      <th>country</th>\n",
       "      <th>town</th>\n",
       "      <th>flight_in</th>\n",
       "      <th>flight_out</th>\n",
       "    </tr>\n",
       "  </thead>\n",
       "  <tbody>\n",
       "    <tr>\n",
       "      <th>0</th>\n",
       "      <td>Europe</td>\n",
       "      <td>France</td>\n",
       "      <td>Paris</td>\n",
       "      <td>fl2</td>\n",
       "      <td>fl3</td>\n",
       "    </tr>\n",
       "    <tr>\n",
       "      <th>1</th>\n",
       "      <td>Europe</td>\n",
       "      <td>France</td>\n",
       "      <td>Lyon</td>\n",
       "      <td>NaN</td>\n",
       "      <td>fl1</td>\n",
       "    </tr>\n",
       "    <tr>\n",
       "      <th>2</th>\n",
       "      <td>Europe</td>\n",
       "      <td>UK</td>\n",
       "      <td>London</td>\n",
       "      <td>fl4</td>\n",
       "      <td>fl5</td>\n",
       "    </tr>\n",
       "    <tr>\n",
       "      <th>3</th>\n",
       "      <td>Europe</td>\n",
       "      <td>Italia</td>\n",
       "      <td>Rome</td>\n",
       "      <td>fl1</td>\n",
       "      <td>fl2</td>\n",
       "    </tr>\n",
       "    <tr>\n",
       "      <th>4</th>\n",
       "      <td>Asia</td>\n",
       "      <td>Japan</td>\n",
       "      <td>Tokyo</td>\n",
       "      <td>fl3</td>\n",
       "      <td>fl4</td>\n",
       "    </tr>\n",
       "  </tbody>\n",
       "</table>\n",
       "</div>"
      ],
      "text/plain": [
       "     area country    town flight_in flight_out\n",
       "0  Europe  France   Paris       fl2        fl3\n",
       "1  Europe  France    Lyon       NaN        fl1\n",
       "2  Europe      UK  London       fl4        fl5\n",
       "3  Europe  Italia    Rome       fl1        fl2\n",
       "4    Asia   Japan   Tokyo       fl3        fl4"
      ]
     },
     "metadata": {},
     "output_type": "display_data"
    },
    {
     "data": {
      "application/vnd.jupyter.widget-view+json": {
       "model_id": "16f06a09309040bf8d243779288b24d6",
       "version_major": 2,
       "version_minor": 0
      },
      "text/plain": [
       "CytoscapeWidget(cytoscape_layout={'name': 'dagre', 'nodeSpacing': 10, 'edgeLenghVal': 10, 'rankDir': 'LR'}, cy…"
      ]
     },
     "metadata": {},
     "output_type": "display_data"
    },
    {
     "name": "stdout",
     "output_type": "stream",
     "text": [
      "Done\n"
     ]
    }
   ],
   "source": [
    "%run example-graphml-trips.ipynb"
   ]
  },
  {
   "cell_type": "code",
   "execution_count": 34,
   "id": "fiscal-survivor",
   "metadata": {},
   "outputs": [
    {
     "data": {
      "text/plain": [
       "['Nodes:',\n",
       " 'area level - A01 Europe',\n",
       " 'area level - A02 Asia',\n",
       " 'country level - A01C01 France',\n",
       " 'country level - A01C02 UK',\n",
       " 'country level - A01C03 Italia',\n",
       " 'country level - A02C01 Japan',\n",
       " 'town level - A01C01T01 Paris',\n",
       " 'town level - A01C01T02 Lyon',\n",
       " 'town level - A01C02T01 London',\n",
       " 'town level - A01C03T01 Rome',\n",
       " 'town level - A02C01T01 Tokyo',\n",
       " 'flight_in input resource - A01C01T01FIn01 fl2',\n",
       " 'flight_in input resource - A01C02T01FIn01 fl4',\n",
       " 'flight_in input resource - A01C03T01FIn01 fl1',\n",
       " 'flight_in input resource - A02C01T01FIn01 fl3',\n",
       " 'flight_out output resource - A01C01T01FOut01 fl3',\n",
       " 'flight_out output resource - A01C01T02FOut01 fl1',\n",
       " 'flight_out output resource - A01C02T01FOut01 fl5',\n",
       " 'flight_out output resource - A01C03T01FOut01 fl2',\n",
       " 'flight_out output resource - A02C01T01FOut01 fl4',\n",
       " '',\n",
       " 'Edges:',\n",
       " 'area level A01 -> country level A01C01',\n",
       " 'area level A01 -> country level A01C02',\n",
       " 'area level A01 -> country level A01C03',\n",
       " 'area level A02 -> country level A02C01',\n",
       " 'country level A01C01 -> town level A01C01T01',\n",
       " 'country level A01C01 -> town level A01C01T02',\n",
       " 'country level A01C02 -> town level A01C02T01',\n",
       " 'country level A01C03 -> town level A01C03T01',\n",
       " 'country level A02C01 -> town level A02C01T01',\n",
       " 'town level A01C01T01 -> flight_out output resource A01C01T01FOut01',\n",
       " 'town level A01C01T02 -> flight_out output resource A01C01T02FOut01',\n",
       " 'town level A01C02T01 -> flight_out output resource A01C02T01FOut01',\n",
       " 'town level A01C03T01 -> flight_out output resource A01C03T01FOut01',\n",
       " 'town level A02C01T01 -> flight_out output resource A02C01T01FOut01',\n",
       " 'flight_in input resource A01C01T01FIn01 -> town level A01C01T01',\n",
       " 'flight_in input resource A01C02T01FIn01 -> town level A01C02T01',\n",
       " 'flight_in input resource A01C03T01FIn01 -> town level A01C03T01',\n",
       " 'flight_in input resource A02C01T01FIn01 -> town level A02C01T01',\n",
       " 'flight_out output resource A01C01T01FOut01 -> flight_in input resource A02C01T01FIn01',\n",
       " 'flight_out output resource A01C01T02FOut01 -> flight_in input resource A01C03T01FIn01',\n",
       " 'flight_out output resource A01C03T01FOut01 -> flight_in input resource A01C01T01FIn01',\n",
       " 'flight_out output resource A02C01T01FOut01 -> flight_in input resource A01C02T01FIn01']"
      ]
     },
     "execution_count": 34,
     "metadata": {},
     "output_type": "execute_result"
    }
   ],
   "source": [
    "graph_model.pretty_print()"
   ]
  },
  {
   "cell_type": "markdown",
   "id": "identified-noise",
   "metadata": {},
   "source": [
    "## Alter the graph model \n",
    "\n",
    "- remove area and country nodes\n",
    "- show connections between towns (merge flight_in and flight_out into a single node, then hide flights nodes)"
   ]
  },
  {
   "cell_type": "code",
   "execution_count": 35,
   "id": "fitted-string",
   "metadata": {},
   "outputs": [],
   "source": [
    "graph_model.remove_category('area')\n",
    "graph_model.remove_category('country')\n",
    "graph_model.merge_connection('flight_out', 'flight_in', 'flight')\n",
    "graph_model.fold_category('flight')"
   ]
  },
  {
   "cell_type": "code",
   "execution_count": 36,
   "id": "champion-wound",
   "metadata": {},
   "outputs": [
    {
     "data": {
      "text/plain": [
       "['Nodes:',\n",
       " 'town level - A01C01T01 Paris',\n",
       " 'town level - A01C01T02 Lyon',\n",
       " 'town level - A01C02T01 London',\n",
       " 'town level - A01C03T01 Rome',\n",
       " 'town level - A02C01T01 Tokyo',\n",
       " '',\n",
       " 'Edges:',\n",
       " 'town level A01C01T01 -> town level A02C01T01',\n",
       " 'town level A01C01T02 -> town level A01C03T01',\n",
       " 'town level A01C03T01 -> town level A01C01T01',\n",
       " 'town level A02C01T01 -> town level A01C02T01']"
      ]
     },
     "execution_count": 36,
     "metadata": {},
     "output_type": "execute_result"
    }
   ],
   "source": [
    "graph_model.pretty_print()"
   ]
  },
  {
   "cell_type": "markdown",
   "id": "dying-equipment",
   "metadata": {},
   "source": [
    "#### Shows graph"
   ]
  },
  {
   "cell_type": "code",
   "execution_count": 37,
   "id": "lovely-diagnosis",
   "metadata": {},
   "outputs": [
    {
     "data": {
      "application/vnd.jupyter.widget-view+json": {
       "model_id": "d76fd160714045098582db8b15c76d82",
       "version_major": 2,
       "version_minor": 0
      },
      "text/plain": [
       "CytoscapeWidget(cytoscape_layout={'name': 'dagre', 'nodeSpacing': 10, 'edgeLenghVal': 10, 'rankDir': 'LR'}, cy…"
      ]
     },
     "metadata": {},
     "output_type": "display_data"
    }
   ],
   "source": [
    "display(GraphViewer(graph_model).render('dagre', graph_style, 'LR'))"
   ]
  },
  {
   "cell_type": "markdown",
   "id": "level-ordering",
   "metadata": {},
   "source": [
    "## Exports to GraphML"
   ]
  },
  {
   "cell_type": "code",
   "execution_count": 38,
   "id": "approved-affair",
   "metadata": {},
   "outputs": [],
   "source": [
    "dirname = path.join('output')\n",
    "makedirs(dirname, exist_ok=True)\n",
    "filename = path.join(dirname, 'trips_yed_04.graphml')\n",
    "GraphMLConverter(graph_model, graph_style, schema_trips).save(filename)"
   ]
  }
 ],
 "metadata": {
  "kernelspec": {
   "display_name": "Python 3",
   "language": "python",
   "name": "python3"
  },
  "language_info": {
   "codemirror_mode": {
    "name": "ipython",
    "version": 3
   },
   "file_extension": ".py",
   "mimetype": "text/x-python",
   "name": "python",
   "nbconvert_exporter": "python",
   "pygments_lexer": "ipython3",
   "version": "3.8.5"
  }
 },
 "nbformat": 4,
 "nbformat_minor": 5
}
