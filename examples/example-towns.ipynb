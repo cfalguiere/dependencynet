{
 "cells": [
  {
   "cell_type": "markdown",
   "metadata": {},
   "source": [
    "# Exemples of model builders"
   ]
  },
  {
   "cell_type": "code",
   "execution_count": 1,
   "metadata": {},
   "outputs": [],
   "source": [
    "import logging\n",
    "logging.basicConfig()\n",
    "logger = logging.getLogger('dependencynet')\n",
    "logger.setLevel(logging.INFO)"
   ]
  },
  {
   "cell_type": "code",
   "execution_count": 2,
   "metadata": {},
   "outputs": [],
   "source": [
    "import sys\n",
    "sys.path.append(\"../\")  # go to parent dir to load depencencynet classes"
   ]
  },
  {
   "cell_type": "code",
   "execution_count": 3,
   "metadata": {},
   "outputs": [],
   "source": [
    "from dependencynet.schema import SchemaBuilder\n",
    "from dependencynet.model import ModelBuilder, ModelStorageService"
   ]
  },
  {
   "cell_type": "code",
   "execution_count": 4,
   "metadata": {},
   "outputs": [],
   "source": [
    "from os import path\n",
    "import pandas as pd"
   ]
  },
  {
   "cell_type": "code",
   "execution_count": 5,
   "metadata": {},
   "outputs": [
    {
     "data": {
      "text/html": [
       "<div>\n",
       "<style scoped>\n",
       "    .dataframe tbody tr th:only-of-type {\n",
       "        vertical-align: middle;\n",
       "    }\n",
       "\n",
       "    .dataframe tbody tr th {\n",
       "        vertical-align: top;\n",
       "    }\n",
       "\n",
       "    .dataframe thead th {\n",
       "        text-align: right;\n",
       "    }\n",
       "</style>\n",
       "<table border=\"1\" class=\"dataframe\">\n",
       "  <thead>\n",
       "    <tr style=\"text-align: right;\">\n",
       "      <th></th>\n",
       "      <th>area</th>\n",
       "      <th>country</th>\n",
       "      <th>town</th>\n",
       "      <th>monument</th>\n",
       "    </tr>\n",
       "  </thead>\n",
       "  <tbody>\n",
       "    <tr>\n",
       "      <th>0</th>\n",
       "      <td>Europe</td>\n",
       "      <td>France</td>\n",
       "      <td>Paris</td>\n",
       "      <td>Eiffel Tower,Louvre Museum</td>\n",
       "    </tr>\n",
       "    <tr>\n",
       "      <th>1</th>\n",
       "      <td>Europe</td>\n",
       "      <td>France</td>\n",
       "      <td>Lyon</td>\n",
       "      <td>NaN</td>\n",
       "    </tr>\n",
       "    <tr>\n",
       "      <th>2</th>\n",
       "      <td>Europe</td>\n",
       "      <td>UK</td>\n",
       "      <td>London</td>\n",
       "      <td>Tower Bridge,Tower of London</td>\n",
       "    </tr>\n",
       "    <tr>\n",
       "      <th>3</th>\n",
       "      <td>Europe</td>\n",
       "      <td>Italia</td>\n",
       "      <td>Rome</td>\n",
       "      <td>Colosseum</td>\n",
       "    </tr>\n",
       "    <tr>\n",
       "      <th>4</th>\n",
       "      <td>Asia</td>\n",
       "      <td>Japan</td>\n",
       "      <td>Tokyo</td>\n",
       "      <td>Senso-ji</td>\n",
       "    </tr>\n",
       "  </tbody>\n",
       "</table>\n",
       "</div>"
      ],
      "text/plain": [
       "     area country    town                      monument\n",
       "0  Europe  France   Paris    Eiffel Tower,Louvre Museum\n",
       "1  Europe  France    Lyon                           NaN\n",
       "2  Europe      UK  London  Tower Bridge,Tower of London\n",
       "3  Europe  Italia    Rome                     Colosseum\n",
       "4    Asia   Japan   Tokyo                      Senso-ji"
      ]
     },
     "metadata": {},
     "output_type": "display_data"
    }
   ],
   "source": [
    "filename = path.join('..', 'tests', 'resources', 'data', 'compact', 'towns.csv')\n",
    "data = pd.read_csv(filename, delimiter=';')\n",
    "\n",
    "properties = ['area', 'country', 'town', 'monument']\n",
    "source_df = pd.DataFrame(data, columns=properties)\n",
    "\n",
    "display(source_df)"
   ]
  },
  {
   "cell_type": "code",
   "execution_count": 6,
   "metadata": {},
   "outputs": [
    {
     "name": "stderr",
     "output_type": "stream",
     "text": [
      "INFO:dependencynet.schema:rendering schema\n",
      "INFO:dependencynet.datasource.core.levelsloader:extract_items_root keys=['area'] id_pattern=A{id:02d} => shape=(2, 4)\n",
      "INFO:dependencynet.datasource.core.levelsloader:extract_items_root keys=['area', 'country'] id_pattern={id_parent}C{id:02d} => shape=(4, 6)\n",
      "INFO:dependencynet.datasource.core.levelsloader:extract_items_root keys=['area', 'country', 'town'] id_pattern={id_parent}T{id:02d} => shape=(5, 7)\n",
      "INFO:dependencynet.datasource.core.resourcesloader:__extract_resource keys=['area', 'country', 'town', 'monument'] id_pattern={id_parent}M{id:02d} => shape=(4, 8)\n"
     ]
    }
   ],
   "source": [
    "schema_towns = SchemaBuilder().level('area', 'A').level('country', 'C').level('town', 'T').resource('monument', 'M').render()\n",
    "\n",
    "model = ModelBuilder().from_compact(source_df) \\\n",
    "                      .with_schema(schema_towns) \\\n",
    "                      .render()"
   ]
  },
  {
   "cell_type": "code",
   "execution_count": 7,
   "metadata": {
    "scrolled": true
   },
   "outputs": [
    {
     "name": "stderr",
     "output_type": "stream",
     "text": [
      "INFO:dependencynet:level datasets\n"
     ]
    },
    {
     "data": {
      "text/html": [
       "<div>\n",
       "<style scoped>\n",
       "    .dataframe tbody tr th:only-of-type {\n",
       "        vertical-align: middle;\n",
       "    }\n",
       "\n",
       "    .dataframe tbody tr th {\n",
       "        vertical-align: top;\n",
       "    }\n",
       "\n",
       "    .dataframe thead th {\n",
       "        text-align: right;\n",
       "    }\n",
       "</style>\n",
       "<table border=\"1\" class=\"dataframe\">\n",
       "  <thead>\n",
       "    <tr style=\"text-align: right;\">\n",
       "      <th></th>\n",
       "      <th>area</th>\n",
       "      <th>pos</th>\n",
       "      <th>id</th>\n",
       "      <th>label</th>\n",
       "    </tr>\n",
       "  </thead>\n",
       "  <tbody>\n",
       "    <tr>\n",
       "      <th>0</th>\n",
       "      <td>Europe</td>\n",
       "      <td>1</td>\n",
       "      <td>A01</td>\n",
       "      <td>A01 Europe</td>\n",
       "    </tr>\n",
       "    <tr>\n",
       "      <th>4</th>\n",
       "      <td>Asia</td>\n",
       "      <td>2</td>\n",
       "      <td>A02</td>\n",
       "      <td>A02 Asia</td>\n",
       "    </tr>\n",
       "  </tbody>\n",
       "</table>\n",
       "</div>"
      ],
      "text/plain": [
       "     area  pos   id       label\n",
       "0  Europe    1  A01  A01 Europe\n",
       "4    Asia    2  A02    A02 Asia"
      ]
     },
     "metadata": {},
     "output_type": "display_data"
    },
    {
     "data": {
      "text/html": [
       "<div>\n",
       "<style scoped>\n",
       "    .dataframe tbody tr th:only-of-type {\n",
       "        vertical-align: middle;\n",
       "    }\n",
       "\n",
       "    .dataframe tbody tr th {\n",
       "        vertical-align: top;\n",
       "    }\n",
       "\n",
       "    .dataframe thead th {\n",
       "        text-align: right;\n",
       "    }\n",
       "</style>\n",
       "<table border=\"1\" class=\"dataframe\">\n",
       "  <thead>\n",
       "    <tr style=\"text-align: right;\">\n",
       "      <th></th>\n",
       "      <th>area</th>\n",
       "      <th>country</th>\n",
       "      <th>pos</th>\n",
       "      <th>id_parent</th>\n",
       "      <th>id</th>\n",
       "      <th>label</th>\n",
       "    </tr>\n",
       "  </thead>\n",
       "  <tbody>\n",
       "    <tr>\n",
       "      <th>0</th>\n",
       "      <td>Europe</td>\n",
       "      <td>France</td>\n",
       "      <td>1</td>\n",
       "      <td>A01</td>\n",
       "      <td>A01C01</td>\n",
       "      <td>A01C01 France</td>\n",
       "    </tr>\n",
       "    <tr>\n",
       "      <th>1</th>\n",
       "      <td>Europe</td>\n",
       "      <td>UK</td>\n",
       "      <td>2</td>\n",
       "      <td>A01</td>\n",
       "      <td>A01C02</td>\n",
       "      <td>A01C02 UK</td>\n",
       "    </tr>\n",
       "    <tr>\n",
       "      <th>2</th>\n",
       "      <td>Europe</td>\n",
       "      <td>Italia</td>\n",
       "      <td>3</td>\n",
       "      <td>A01</td>\n",
       "      <td>A01C03</td>\n",
       "      <td>A01C03 Italia</td>\n",
       "    </tr>\n",
       "    <tr>\n",
       "      <th>3</th>\n",
       "      <td>Asia</td>\n",
       "      <td>Japan</td>\n",
       "      <td>1</td>\n",
       "      <td>A02</td>\n",
       "      <td>A02C01</td>\n",
       "      <td>A02C01 Japan</td>\n",
       "    </tr>\n",
       "  </tbody>\n",
       "</table>\n",
       "</div>"
      ],
      "text/plain": [
       "     area country  pos id_parent      id          label\n",
       "0  Europe  France    1       A01  A01C01  A01C01 France\n",
       "1  Europe      UK    2       A01  A01C02      A01C02 UK\n",
       "2  Europe  Italia    3       A01  A01C03  A01C03 Italia\n",
       "3    Asia   Japan    1       A02  A02C01   A02C01 Japan"
      ]
     },
     "metadata": {},
     "output_type": "display_data"
    },
    {
     "data": {
      "text/html": [
       "<div>\n",
       "<style scoped>\n",
       "    .dataframe tbody tr th:only-of-type {\n",
       "        vertical-align: middle;\n",
       "    }\n",
       "\n",
       "    .dataframe tbody tr th {\n",
       "        vertical-align: top;\n",
       "    }\n",
       "\n",
       "    .dataframe thead th {\n",
       "        text-align: right;\n",
       "    }\n",
       "</style>\n",
       "<table border=\"1\" class=\"dataframe\">\n",
       "  <thead>\n",
       "    <tr style=\"text-align: right;\">\n",
       "      <th></th>\n",
       "      <th>area</th>\n",
       "      <th>country</th>\n",
       "      <th>town</th>\n",
       "      <th>pos</th>\n",
       "      <th>id_parent</th>\n",
       "      <th>id</th>\n",
       "      <th>label</th>\n",
       "    </tr>\n",
       "  </thead>\n",
       "  <tbody>\n",
       "    <tr>\n",
       "      <th>0</th>\n",
       "      <td>Europe</td>\n",
       "      <td>France</td>\n",
       "      <td>Paris</td>\n",
       "      <td>1</td>\n",
       "      <td>A01C01</td>\n",
       "      <td>A01C01T01</td>\n",
       "      <td>A01C01T01 Paris</td>\n",
       "    </tr>\n",
       "    <tr>\n",
       "      <th>1</th>\n",
       "      <td>Europe</td>\n",
       "      <td>France</td>\n",
       "      <td>Lyon</td>\n",
       "      <td>2</td>\n",
       "      <td>A01C01</td>\n",
       "      <td>A01C01T02</td>\n",
       "      <td>A01C01T02 Lyon</td>\n",
       "    </tr>\n",
       "    <tr>\n",
       "      <th>2</th>\n",
       "      <td>Europe</td>\n",
       "      <td>UK</td>\n",
       "      <td>London</td>\n",
       "      <td>1</td>\n",
       "      <td>A01C02</td>\n",
       "      <td>A01C02T01</td>\n",
       "      <td>A01C02T01 London</td>\n",
       "    </tr>\n",
       "    <tr>\n",
       "      <th>3</th>\n",
       "      <td>Europe</td>\n",
       "      <td>Italia</td>\n",
       "      <td>Rome</td>\n",
       "      <td>1</td>\n",
       "      <td>A01C03</td>\n",
       "      <td>A01C03T01</td>\n",
       "      <td>A01C03T01 Rome</td>\n",
       "    </tr>\n",
       "    <tr>\n",
       "      <th>4</th>\n",
       "      <td>Asia</td>\n",
       "      <td>Japan</td>\n",
       "      <td>Tokyo</td>\n",
       "      <td>1</td>\n",
       "      <td>A02C01</td>\n",
       "      <td>A02C01T01</td>\n",
       "      <td>A02C01T01 Tokyo</td>\n",
       "    </tr>\n",
       "  </tbody>\n",
       "</table>\n",
       "</div>"
      ],
      "text/plain": [
       "     area country    town  pos id_parent         id             label\n",
       "0  Europe  France   Paris    1    A01C01  A01C01T01   A01C01T01 Paris\n",
       "1  Europe  France    Lyon    2    A01C01  A01C01T02    A01C01T02 Lyon\n",
       "2  Europe      UK  London    1    A01C02  A01C02T01  A01C02T01 London\n",
       "3  Europe  Italia    Rome    1    A01C03  A01C03T01    A01C03T01 Rome\n",
       "4    Asia   Japan   Tokyo    1    A02C01  A02C01T01   A02C01T01 Tokyo"
      ]
     },
     "metadata": {},
     "output_type": "display_data"
    }
   ],
   "source": [
    "dfs = model.levels_datasets\n",
    "\n",
    "if logger.level <= logging.INFO:\n",
    "    logger.info('level datasets')\n",
    "    display(dfs[0])\n",
    "    display(dfs[1])\n",
    "    display(dfs[2])"
   ]
  },
  {
   "cell_type": "code",
   "execution_count": 8,
   "metadata": {},
   "outputs": [
    {
     "name": "stderr",
     "output_type": "stream",
     "text": [
      "INFO:dependencynet:resourcez datasets\n"
     ]
    },
    {
     "data": {
      "text/html": [
       "<div>\n",
       "<style scoped>\n",
       "    .dataframe tbody tr th:only-of-type {\n",
       "        vertical-align: middle;\n",
       "    }\n",
       "\n",
       "    .dataframe tbody tr th {\n",
       "        vertical-align: top;\n",
       "    }\n",
       "\n",
       "    .dataframe thead th {\n",
       "        text-align: right;\n",
       "    }\n",
       "</style>\n",
       "<table border=\"1\" class=\"dataframe\">\n",
       "  <thead>\n",
       "    <tr style=\"text-align: right;\">\n",
       "      <th></th>\n",
       "      <th>area</th>\n",
       "      <th>country</th>\n",
       "      <th>town</th>\n",
       "      <th>monument</th>\n",
       "      <th>pos</th>\n",
       "      <th>id_parent</th>\n",
       "      <th>id</th>\n",
       "      <th>label</th>\n",
       "    </tr>\n",
       "  </thead>\n",
       "  <tbody>\n",
       "    <tr>\n",
       "      <th>0</th>\n",
       "      <td>Europe</td>\n",
       "      <td>France</td>\n",
       "      <td>Paris</td>\n",
       "      <td>Eiffel Tower,Louvre Museum</td>\n",
       "      <td>1</td>\n",
       "      <td>A01C01T01</td>\n",
       "      <td>A01C01T01M01</td>\n",
       "      <td>A01C01T01M01 Eiffel Tower,Louvre Museum</td>\n",
       "    </tr>\n",
       "    <tr>\n",
       "      <th>1</th>\n",
       "      <td>Europe</td>\n",
       "      <td>UK</td>\n",
       "      <td>London</td>\n",
       "      <td>Tower Bridge,Tower of London</td>\n",
       "      <td>1</td>\n",
       "      <td>A01C02T01</td>\n",
       "      <td>A01C02T01M01</td>\n",
       "      <td>A01C02T01M01 Tower Bridge,Tower of London</td>\n",
       "    </tr>\n",
       "    <tr>\n",
       "      <th>2</th>\n",
       "      <td>Europe</td>\n",
       "      <td>Italia</td>\n",
       "      <td>Rome</td>\n",
       "      <td>Colosseum</td>\n",
       "      <td>1</td>\n",
       "      <td>A01C03T01</td>\n",
       "      <td>A01C03T01M01</td>\n",
       "      <td>A01C03T01M01 Colosseum</td>\n",
       "    </tr>\n",
       "    <tr>\n",
       "      <th>3</th>\n",
       "      <td>Asia</td>\n",
       "      <td>Japan</td>\n",
       "      <td>Tokyo</td>\n",
       "      <td>Senso-ji</td>\n",
       "      <td>1</td>\n",
       "      <td>A02C01T01</td>\n",
       "      <td>A02C01T01M01</td>\n",
       "      <td>A02C01T01M01 Senso-ji</td>\n",
       "    </tr>\n",
       "  </tbody>\n",
       "</table>\n",
       "</div>"
      ],
      "text/plain": [
       "     area country    town                      monument  pos  id_parent  \\\n",
       "0  Europe  France   Paris    Eiffel Tower,Louvre Museum    1  A01C01T01   \n",
       "1  Europe      UK  London  Tower Bridge,Tower of London    1  A01C02T01   \n",
       "2  Europe  Italia    Rome                     Colosseum    1  A01C03T01   \n",
       "3    Asia   Japan   Tokyo                      Senso-ji    1  A02C01T01   \n",
       "\n",
       "             id                                      label  \n",
       "0  A01C01T01M01    A01C01T01M01 Eiffel Tower,Louvre Museum  \n",
       "1  A01C02T01M01  A01C02T01M01 Tower Bridge,Tower of London  \n",
       "2  A01C03T01M01                     A01C03T01M01 Colosseum  \n",
       "3  A02C01T01M01                      A02C01T01M01 Senso-ji  "
      ]
     },
     "metadata": {},
     "output_type": "display_data"
    },
    {
     "data": {
      "text/plain": [
       "True"
      ]
     },
     "metadata": {},
     "output_type": "display_data"
    }
   ],
   "source": [
    "dfs = model.resources_datasets\n",
    "\n",
    "if logger.level <= logging.INFO:\n",
    "    logger.info('resourcez datasets')\n",
    "    display(dfs['monument'])    \n",
    "    display('monument' in dfs['monument'].columns)"
   ]
  },
  {
   "cell_type": "code",
   "execution_count": 9,
   "metadata": {},
   "outputs": [
    {
     "name": "stderr",
     "output_type": "stream",
     "text": [
      "INFO:dependencynet.datasource.core.modelstorage:model folder is output/datasets/current\n",
      "INFO:dependencynet.datasource.core.modelstorage:schema saved under name output/datasets/current/schema.json\n",
      "INFO:dependencynet.datasource.core.modelstorage:dateset saved under name output/datasets/current/area.csv\n",
      "INFO:dependencynet.datasource.core.modelstorage:dateset saved under name output/datasets/current/country.csv\n",
      "INFO:dependencynet.datasource.core.modelstorage:dateset saved under name output/datasets/current/town.csv\n",
      "INFO:dependencynet.datasource.core.modelstorage:dateset saved under name output/datasets/current/monument.csv\n",
      "INFO:dependencynet.datasource.core.modelstorage:tree saved under name output/datasets/current/tree.json\n"
     ]
    }
   ],
   "source": [
    "folder_name = path.join('output', 'datasets')\n",
    "model.save(folder_name)"
   ]
  },
  {
   "cell_type": "code",
   "execution_count": 10,
   "metadata": {},
   "outputs": [
    {
     "data": {
      "text/plain": [
       "defaultdict(<class 'dict'>, {'area_dict': {'A01': {'area': 'Europe', 'pos': 1, 'id': 'A01', 'label': 'A01 Europe', 'country_dict': {'A01C01': {'area': 'Europe', 'country': 'France', 'pos': 1, 'id_parent': 'A01', 'id': 'A01C01', 'label': 'A01C01 France', 'town_dict': {'A01C01T01': {'area': 'Europe', 'country': 'France', 'town': 'Paris', 'pos': 1, 'id_parent': 'A01C01', 'id': 'A01C01T01', 'label': 'A01C01T01 Paris', 'monument_dict': {'A01C01T01M01': {'area': 'Europe', 'country': 'France', 'town': 'Paris', 'monument': 'Eiffel Tower,Louvre Museum', 'pos': 1, 'id_parent': 'A01C01T01', 'id': 'A01C01T01M01', 'label': 'A01C01T01M01 Eiffel Tower,Louvre Museum'}}}, 'A01C01T02': {'area': 'Europe', 'country': 'France', 'town': 'Lyon', 'pos': 2, 'id_parent': 'A01C01', 'id': 'A01C01T02', 'label': 'A01C01T02 Lyon', 'monument_dict': {}}}}, 'A01C02': {'area': 'Europe', 'country': 'UK', 'pos': 2, 'id_parent': 'A01', 'id': 'A01C02', 'label': 'A01C02 UK', 'town_dict': {'A01C02T01': {'area': 'Europe', 'country': 'UK', 'town': 'London', 'pos': 1, 'id_parent': 'A01C02', 'id': 'A01C02T01', 'label': 'A01C02T01 London', 'monument_dict': {'A01C02T01M01': {'area': 'Europe', 'country': 'UK', 'town': 'London', 'monument': 'Tower Bridge,Tower of London', 'pos': 1, 'id_parent': 'A01C02T01', 'id': 'A01C02T01M01', 'label': 'A01C02T01M01 Tower Bridge,Tower of London'}}}}}, 'A01C03': {'area': 'Europe', 'country': 'Italia', 'pos': 3, 'id_parent': 'A01', 'id': 'A01C03', 'label': 'A01C03 Italia', 'town_dict': {'A01C03T01': {'area': 'Europe', 'country': 'Italia', 'town': 'Rome', 'pos': 1, 'id_parent': 'A01C03', 'id': 'A01C03T01', 'label': 'A01C03T01 Rome', 'monument_dict': {'A01C03T01M01': {'area': 'Europe', 'country': 'Italia', 'town': 'Rome', 'monument': 'Colosseum', 'pos': 1, 'id_parent': 'A01C03T01', 'id': 'A01C03T01M01', 'label': 'A01C03T01M01 Colosseum'}}}}}}}, 'A02': {'area': 'Asia', 'pos': 2, 'id': 'A02', 'label': 'A02 Asia', 'country_dict': {'A02C01': {'area': 'Asia', 'country': 'Japan', 'pos': 1, 'id_parent': 'A02', 'id': 'A02C01', 'label': 'A02C01 Japan', 'town_dict': {'A02C01T01': {'area': 'Asia', 'country': 'Japan', 'town': 'Tokyo', 'pos': 1, 'id_parent': 'A02C01', 'id': 'A02C01T01', 'label': 'A02C01T01 Tokyo', 'monument_dict': {'A02C01T01M01': {'area': 'Asia', 'country': 'Japan', 'town': 'Tokyo', 'monument': 'Senso-ji', 'pos': 1, 'id_parent': 'A02C01T01', 'id': 'A02C01T01M01', 'label': 'A02C01T01M01 Senso-ji'}}}}}}}}})"
      ]
     },
     "metadata": {},
     "output_type": "display_data"
    }
   ],
   "source": [
    "display(model.tree_model)"
   ]
  },
  {
   "cell_type": "code",
   "execution_count": 11,
   "metadata": {},
   "outputs": [
    {
     "data": {
      "text/plain": [
       "['there are 2 area(s)',\n",
       " '  A01, A02',\n",
       " '  area A01: Europe',\n",
       " '    has 3 country(s)',\n",
       " '      A01C01, A01C02, A01C03',\n",
       " '      country A01C01: France',\n",
       " '        has 2 town(s)',\n",
       " '          A01C01T01, A01C01T02',\n",
       " '          town A01C01T01: Paris',\n",
       " '            has 1 monument(s)',\n",
       " '               A01C01T01M01',\n",
       " '                 monument A01C01T01M01: Eiffel Tower,Louvre Museum',\n",
       " '          town A01C01T02: Lyon',\n",
       " '            has 0 monument(s)',\n",
       " '      country A01C02: UK',\n",
       " '        has 1 town(s)',\n",
       " '          A01C02T01',\n",
       " '          town A01C02T01: London',\n",
       " '            has 1 monument(s)',\n",
       " '               A01C02T01M01',\n",
       " '                 monument A01C02T01M01: Tower Bridge,Tower of London',\n",
       " '      country A01C03: Italia',\n",
       " '        has 1 town(s)',\n",
       " '          A01C03T01',\n",
       " '          town A01C03T01: Rome',\n",
       " '            has 1 monument(s)',\n",
       " '               A01C03T01M01',\n",
       " '                 monument A01C03T01M01: Colosseum',\n",
       " '  area A02: Asia',\n",
       " '    has 1 country(s)',\n",
       " '      A02C01',\n",
       " '      country A02C01: Japan',\n",
       " '        has 1 town(s)',\n",
       " '          A02C01T01',\n",
       " '          town A02C01T01: Tokyo',\n",
       " '            has 1 monument(s)',\n",
       " '               A02C01T01M01',\n",
       " '                 monument A02C01T01M01: Senso-ji']"
      ]
     },
     "metadata": {},
     "output_type": "display_data"
    }
   ],
   "source": [
    "lines = model.pretty_print()\n",
    "display(lines)"
   ]
  },
  {
   "cell_type": "code",
   "execution_count": null,
   "metadata": {},
   "outputs": [],
   "source": []
  },
  {
   "cell_type": "code",
   "execution_count": null,
   "metadata": {},
   "outputs": [],
   "source": []
  },
  {
   "cell_type": "code",
   "execution_count": null,
   "metadata": {},
   "outputs": [],
   "source": []
  }
 ],
 "metadata": {
  "kernelspec": {
   "display_name": "Python 3",
   "language": "python",
   "name": "python3"
  },
  "language_info": {
   "codemirror_mode": {
    "name": "ipython",
    "version": 3
   },
   "file_extension": ".py",
   "mimetype": "text/x-python",
   "name": "python",
   "nbconvert_exporter": "python",
   "pygments_lexer": "ipython3",
   "version": "3.8.5"
  }
 },
 "nbformat": 4,
 "nbformat_minor": 2
}
