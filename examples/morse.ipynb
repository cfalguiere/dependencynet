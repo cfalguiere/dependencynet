{
 "cells": [
  {
   "cell_type": "code",
   "execution_count": 12,
   "id": "helpful-pharmacology",
   "metadata": {},
   "outputs": [],
   "source": [
    "alphabet = '''A  .- \t B  -... \t C  -.-. \t D  -..\n",
    " E  . \t F  ..-. \t G  --. \t H  ....\n",
    " I  .. \t J  .--- \t K  -.- \t L  .-..\n",
    " M  -- \t N  -. \t O  --- \t P  .--.\n",
    " Q  --.- \t R  .-. \t S  ... \t T  -\n",
    " U  ..- \t V  ...- \t W  .-- \t X  -..-\n",
    " Y  -.-- \t Z  --..'''"
   ]
  },
  {
   "cell_type": "code",
   "execution_count": 13,
   "id": "continued-sister",
   "metadata": {},
   "outputs": [],
   "source": [
    "key = None\n",
    "alphabet_map = {}\n",
    "for value in alphabet.split():\n",
    "    if not key is None:\n",
    "        alphabet_map[key] = value\n",
    "        key = None\n",
    "    else:\n",
    "        key = value\n",
    "        "
   ]
  },
  {
   "cell_type": "code",
   "execution_count": 14,
   "id": "anticipated-nursery",
   "metadata": {},
   "outputs": [
    {
     "name": "stdout",
     "output_type": "stream",
     "text": [
      "D -..\n"
     ]
    }
   ],
   "source": [
    "key = 'D'\n",
    "print(f'{key} {alphabet_map[key]}')"
   ]
  },
  {
   "cell_type": "code",
   "execution_count": 15,
   "id": "important-daisy",
   "metadata": {},
   "outputs": [],
   "source": [
    "morse_sentence = '......-...-..---.-----.-..-..-..'\n",
    "L = len(morse_sentence)"
   ]
  },
  {
   "cell_type": "code",
   "execution_count": 16,
   "id": "formed-comfort",
   "metadata": {},
   "outputs": [],
   "source": [
    "words = ['HELL', 'HELLO', 'WORLD', 'OWORLD', 'TEST']"
   ]
  },
  {
   "cell_type": "code",
   "execution_count": 17,
   "id": "apparent-glenn",
   "metadata": {},
   "outputs": [],
   "source": [
    "def encode_word(word):\n",
    "    encoded_word = ''.join([alphabet_map[letter] for letter in word])\n",
    "    return encoded_word"
   ]
  },
  {
   "cell_type": "code",
   "execution_count": 18,
   "id": "greenhouse-browser",
   "metadata": {},
   "outputs": [
    {
     "data": {
      "text/plain": [
       "{'......-...-..': 'HELL',\n",
       " '......-...-..---': 'HELLO',\n",
       " '.-----.-..-..-..': 'WORLD',\n",
       " '---.-----.-..-..-..': 'OWORLD',\n",
       " '-....-': 'TEST'}"
      ]
     },
     "execution_count": 18,
     "metadata": {},
     "output_type": "execute_result"
    }
   ],
   "source": [
    "encoded_words_map = {encode_word(word):word for word in words}\n",
    "encoded_words_map"
   ]
  },
  {
   "cell_type": "code",
   "execution_count": 19,
   "id": "compressed-champagne",
   "metadata": {},
   "outputs": [
    {
     "data": {
      "text/plain": [
       "dict_keys(['......-...-..', '......-...-..---', '.-----.-..-..-..', '---.-----.-..-..-..', '-....-'])"
      ]
     },
     "execution_count": 19,
     "metadata": {},
     "output_type": "execute_result"
    }
   ],
   "source": [
    "encoded_words_map.keys()"
   ]
  },
  {
   "cell_type": "code",
   "execution_count": 21,
   "id": "periodic-collectible",
   "metadata": {},
   "outputs": [
    {
     "name": "stdout",
     "output_type": "stream",
     "text": [
      "19\n"
     ]
    }
   ],
   "source": [
    "max_len = max([len(w) for w in encoded_words_map.keys()])\n",
    "print(max_len)"
   ]
  },
  {
   "cell_type": "code",
   "execution_count": 22,
   "id": "civilian-implement",
   "metadata": {},
   "outputs": [],
   "source": [
    "def count(level, current_sentence, remaining_signs):\n",
    "    nb_remaining = len(remaining_signs)\n",
    "    if nb_remaining == 0:\n",
    "        print(f'level {level} ===> {current_sentence}')\n",
    "        return 1\n",
    "     \n",
    "    nb_options = 0\n",
    "    for i in range(1,min(max_len, nb_remaining)+1):\n",
    "        option = remaining_signs[0:i]\n",
    "        print(f'level {level} {current_sentence} option {i} {option}')\n",
    "        if option in encoded_words_map:\n",
    "            word = encoded_words_map[option]\n",
    "            remaining = str(remaining_signs[i:])\n",
    "            print(f'level {level} {current_sentence} option {i} {option} -> {word} + remainder {remaining} {len(remaining)}')\n",
    "            new_sentence = current_sentence.copy()\n",
    "            new_sentence.append(word)\n",
    "            nb_options += count(level+1, new_sentence, remaining)\n",
    "                \n",
    "    return nb_options"
   ]
  },
  {
   "cell_type": "code",
   "execution_count": 23,
   "id": "indie-validity",
   "metadata": {},
   "outputs": [
    {
     "name": "stdout",
     "output_type": "stream",
     "text": [
      "level 0 [] option 1 .\n",
      "level 0 [] option 2 ..\n",
      "level 0 [] option 3 ...\n",
      "level 0 [] option 4 ....\n",
      "level 0 [] option 5 .....\n",
      "level 0 [] option 6 ......\n",
      "level 0 [] option 7 ......-\n",
      "level 0 [] option 8 ......-.\n",
      "level 0 [] option 9 ......-..\n",
      "level 0 [] option 10 ......-...\n",
      "level 0 [] option 11 ......-...-\n",
      "level 0 [] option 12 ......-...-.\n",
      "level 0 [] option 13 ......-...-..\n",
      "level 0 [] option 13 ......-...-.. -> HELL + remainder ---.-----.-..-..-.. 19\n",
      "level 1 ['HELL'] option 1 -\n",
      "level 1 ['HELL'] option 2 --\n",
      "level 1 ['HELL'] option 3 ---\n",
      "level 1 ['HELL'] option 4 ---.\n",
      "level 1 ['HELL'] option 5 ---.-\n",
      "level 1 ['HELL'] option 6 ---.--\n",
      "level 1 ['HELL'] option 7 ---.---\n",
      "level 1 ['HELL'] option 8 ---.----\n",
      "level 1 ['HELL'] option 9 ---.-----\n",
      "level 1 ['HELL'] option 10 ---.-----.\n",
      "level 1 ['HELL'] option 11 ---.-----.-\n",
      "level 1 ['HELL'] option 12 ---.-----.-.\n",
      "level 1 ['HELL'] option 13 ---.-----.-..\n",
      "level 1 ['HELL'] option 14 ---.-----.-..-\n",
      "level 1 ['HELL'] option 15 ---.-----.-..-.\n",
      "level 1 ['HELL'] option 16 ---.-----.-..-..\n",
      "level 1 ['HELL'] option 17 ---.-----.-..-..-\n",
      "level 1 ['HELL'] option 18 ---.-----.-..-..-.\n",
      "level 1 ['HELL'] option 19 ---.-----.-..-..-..\n",
      "level 1 ['HELL'] option 19 ---.-----.-..-..-.. -> OWORLD + remainder  0\n",
      "level 2 ===> ['HELL', 'OWORLD']\n",
      "level 0 [] option 14 ......-...-..-\n",
      "level 0 [] option 15 ......-...-..--\n",
      "level 0 [] option 16 ......-...-..---\n",
      "level 0 [] option 16 ......-...-..--- -> HELLO + remainder .-----.-..-..-.. 16\n",
      "level 1 ['HELLO'] option 1 .\n",
      "level 1 ['HELLO'] option 2 .-\n",
      "level 1 ['HELLO'] option 3 .--\n",
      "level 1 ['HELLO'] option 4 .---\n",
      "level 1 ['HELLO'] option 5 .----\n",
      "level 1 ['HELLO'] option 6 .-----\n",
      "level 1 ['HELLO'] option 7 .-----.\n",
      "level 1 ['HELLO'] option 8 .-----.-\n",
      "level 1 ['HELLO'] option 9 .-----.-.\n",
      "level 1 ['HELLO'] option 10 .-----.-..\n",
      "level 1 ['HELLO'] option 11 .-----.-..-\n",
      "level 1 ['HELLO'] option 12 .-----.-..-.\n",
      "level 1 ['HELLO'] option 13 .-----.-..-..\n",
      "level 1 ['HELLO'] option 14 .-----.-..-..-\n",
      "level 1 ['HELLO'] option 15 .-----.-..-..-.\n",
      "level 1 ['HELLO'] option 16 .-----.-..-..-..\n",
      "level 1 ['HELLO'] option 16 .-----.-..-..-.. -> WORLD + remainder  0\n",
      "level 2 ===> ['HELLO', 'WORLD']\n",
      "level 0 [] option 17 ......-...-..---.\n",
      "level 0 [] option 18 ......-...-..---.-\n",
      "level 0 [] option 19 ......-...-..---.--\n"
     ]
    },
    {
     "data": {
      "text/plain": [
       "2"
      ]
     },
     "execution_count": 23,
     "metadata": {},
     "output_type": "execute_result"
    }
   ],
   "source": [
    "res = count(0, [], morse_sentence)\n",
    "res"
   ]
  },
  {
   "cell_type": "code",
   "execution_count": 26,
   "id": "monetary-separate",
   "metadata": {},
   "outputs": [],
   "source": [
    "def count(current_sentence, remaining_signs):\n",
    "    nb_remaining = len(remaining_signs)\n",
    "    if nb_remaining == 0:\n",
    "        print(f'===> {current_sentence}')\n",
    "        return 1\n",
    "     \n",
    "    nb_options = 0\n",
    "    for i in range(1,min(max_len, nb_remaining)+1):\n",
    "        option = remaining_signs[0:i]\n",
    "        if option in encoded_words_map.keys():\n",
    "            word = encoded_words_map[option]\n",
    "            remaining = str(remaining_signs[i:])\n",
    "            new_sentence = current_sentence.copy()\n",
    "            new_sentence.append(word)\n",
    "            nb_options += count(new_sentence, remaining)\n",
    "                \n",
    "    return nb_options"
   ]
  },
  {
   "cell_type": "code",
   "execution_count": 27,
   "id": "forward-chemistry",
   "metadata": {},
   "outputs": [
    {
     "name": "stdout",
     "output_type": "stream",
     "text": [
      "===> ['HELL', 'OWORLD']\n",
      "===> ['HELLO', 'WORLD']\n"
     ]
    },
    {
     "data": {
      "text/plain": [
       "2"
      ]
     },
     "execution_count": 27,
     "metadata": {},
     "output_type": "execute_result"
    }
   ],
   "source": [
    "res = count([], morse_sentence)\n",
    "res"
   ]
  },
  {
   "cell_type": "code",
   "execution_count": 74,
   "id": "hollywood-fifty",
   "metadata": {},
   "outputs": [],
   "source": [
    "sentence_len = len(morse_sentence)\n",
    "\n",
    "def count(level, current_sentence, remaining):\n",
    "    print(f'level {level} ===> remaining {remaining}')\n",
    "    if remaining >= sentence_len:\n",
    "        print(f'level {level} ===> {current_sentence}')\n",
    "        return 1\n",
    "     \n",
    "    nb_options = 0\n",
    "    last_stop = current_sentence[-1]\n",
    "    print(f'level {level} last_stop {last_stop}')\n",
    "    \n",
    "    for i in range(1, min(max_len, sentence_len - remaining) + 1):\n",
    "        option = morse_sentence[last_stop:last_stop + i]\n",
    "        print(f'level {level} {current_sentence} option {i} {option}')\n",
    "        if option in encoded_words_map:\n",
    "            word = encoded_words_map[option]\n",
    "            remaining = last_stop + i\n",
    "            print(f'level {level} {current_sentence} option {i} {option} -> {word} + remainder {remaining}')\n",
    "            new_sentence = current_sentence.copy()\n",
    "            new_sentence.append(i)\n",
    "            nb_options += count(level+1, new_sentence, remaining)\n",
    "                \n",
    "    return nb_options"
   ]
  },
  {
   "cell_type": "code",
   "execution_count": 75,
   "id": "printable-wildlife",
   "metadata": {},
   "outputs": [
    {
     "name": "stdout",
     "output_type": "stream",
     "text": [
      "level 0 ===> remaining 0\n",
      "level 0 last_stop 0\n",
      "level 0 [0] option 1 .\n",
      "level 0 [0] option 2 ..\n",
      "level 0 [0] option 3 ...\n",
      "level 0 [0] option 4 ....\n",
      "level 0 [0] option 5 .....\n",
      "level 0 [0] option 6 ......\n",
      "level 0 [0] option 7 ......-\n",
      "level 0 [0] option 8 ......-.\n",
      "level 0 [0] option 9 ......-..\n",
      "level 0 [0] option 10 ......-...\n",
      "level 0 [0] option 11 ......-...-\n",
      "level 0 [0] option 12 ......-...-.\n",
      "level 0 [0] option 13 ......-...-..\n",
      "level 0 [0] option 13 ......-...-.. -> HELL + remainder 13\n",
      "level 1 ===> remaining 13\n",
      "level 1 last_stop 13\n",
      "level 1 [0, 13] option 1 -\n",
      "level 1 [0, 13] option 2 --\n",
      "level 1 [0, 13] option 3 ---\n",
      "level 1 [0, 13] option 4 ---.\n",
      "level 1 [0, 13] option 5 ---.-\n",
      "level 1 [0, 13] option 6 ---.--\n",
      "level 1 [0, 13] option 7 ---.---\n",
      "level 1 [0, 13] option 8 ---.----\n",
      "level 1 [0, 13] option 9 ---.-----\n",
      "level 1 [0, 13] option 10 ---.-----.\n",
      "level 1 [0, 13] option 11 ---.-----.-\n",
      "level 1 [0, 13] option 12 ---.-----.-.\n",
      "level 1 [0, 13] option 13 ---.-----.-..\n",
      "level 1 [0, 13] option 14 ---.-----.-..-\n",
      "level 1 [0, 13] option 15 ---.-----.-..-.\n",
      "level 1 [0, 13] option 16 ---.-----.-..-..\n",
      "level 1 [0, 13] option 17 ---.-----.-..-..-\n",
      "level 1 [0, 13] option 18 ---.-----.-..-..-.\n",
      "level 1 [0, 13] option 19 ---.-----.-..-..-..\n",
      "level 1 [0, 13] option 19 ---.-----.-..-..-.. -> OWORLD + remainder 32\n",
      "level 2 ===> remaining 32\n",
      "level 2 ===> [0, 13, 19]\n",
      "level 0 [0] option 14 ......-...-..-\n",
      "level 0 [0] option 15 ......-...-..--\n",
      "level 0 [0] option 16 ......-...-..---\n",
      "level 0 [0] option 16 ......-...-..--- -> HELLO + remainder 16\n",
      "level 1 ===> remaining 16\n",
      "level 1 last_stop 16\n",
      "level 1 [0, 16] option 1 .\n",
      "level 1 [0, 16] option 2 .-\n",
      "level 1 [0, 16] option 3 .--\n",
      "level 1 [0, 16] option 4 .---\n",
      "level 1 [0, 16] option 5 .----\n",
      "level 1 [0, 16] option 6 .-----\n",
      "level 1 [0, 16] option 7 .-----.\n",
      "level 1 [0, 16] option 8 .-----.-\n",
      "level 1 [0, 16] option 9 .-----.-.\n",
      "level 1 [0, 16] option 10 .-----.-..\n",
      "level 1 [0, 16] option 11 .-----.-..-\n",
      "level 1 [0, 16] option 12 .-----.-..-.\n",
      "level 1 [0, 16] option 13 .-----.-..-..\n",
      "level 1 [0, 16] option 14 .-----.-..-..-\n",
      "level 1 [0, 16] option 15 .-----.-..-..-.\n",
      "level 1 [0, 16] option 16 .-----.-..-..-..\n",
      "level 1 [0, 16] option 16 .-----.-..-..-.. -> WORLD + remainder 32\n",
      "level 2 ===> remaining 32\n",
      "level 2 ===> [0, 16, 16]\n",
      "level 0 [0] option 17 ......-...-..---.\n",
      "level 0 [0] option 18 ......-...-..---.-\n",
      "level 0 [0] option 19 ......-...-..---.--\n"
     ]
    },
    {
     "data": {
      "text/plain": [
       "2"
      ]
     },
     "execution_count": 75,
     "metadata": {},
     "output_type": "execute_result"
    }
   ],
   "source": [
    "res = count(0, [0], 0)\n",
    "res"
   ]
  },
  {
   "cell_type": "code",
   "execution_count": null,
   "id": "hired-seeker",
   "metadata": {},
   "outputs": [],
   "source": []
  }
 ],
 "metadata": {
  "kernelspec": {
   "display_name": "Python 3",
   "language": "python",
   "name": "python3"
  },
  "language_info": {
   "codemirror_mode": {
    "name": "ipython",
    "version": 3
   },
   "file_extension": ".py",
   "mimetype": "text/x-python",
   "name": "python",
   "nbconvert_exporter": "python",
   "pygments_lexer": "ipython3",
   "version": "3.8.5"
  }
 },
 "nbformat": 4,
 "nbformat_minor": 5
}
