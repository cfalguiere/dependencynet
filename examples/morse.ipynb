{
 "cells": [
  {
   "cell_type": "code",
   "execution_count": 2,
   "id": "unexpected-personal",
   "metadata": {},
   "outputs": [],
   "source": [
    "alphabet = '''A  .- \t B  -... \t C  -.-. \t D  -..\n",
    " E  . \t F  ..-. \t G  --. \t H  ....\n",
    " I  .. \t J  .--- \t K  -.- \t L  .-..\n",
    " M  -- \t N  -. \t O  --- \t P  .--.\n",
    " Q  --.- \t R  .-. \t S  ... \t T  -\n",
    " U  ..- \t V  ...- \t W  .-- \t X  -..-\n",
    " Y  -.-- \t Z  --..'''"
   ]
  },
  {
   "cell_type": "code",
   "execution_count": 3,
   "id": "maritime-martial",
   "metadata": {},
   "outputs": [],
   "source": [
    "key = None\n",
    "alphabet_map = {}\n",
    "for value in alphabet.split():\n",
    "    if not key is None:\n",
    "        alphabet_map[key] = value\n",
    "        key = None\n",
    "    else:\n",
    "        key = value\n",
    "        "
   ]
  },
  {
   "cell_type": "code",
   "execution_count": 4,
   "id": "stuck-syndrome",
   "metadata": {},
   "outputs": [
    {
     "name": "stdout",
     "output_type": "stream",
     "text": [
      "D -..\n"
     ]
    }
   ],
   "source": [
    "key = 'D'\n",
    "print(f'{key} {alphabet_map[key]}')"
   ]
  },
  {
   "cell_type": "code",
   "execution_count": 5,
   "id": "monetary-wilderness",
   "metadata": {},
   "outputs": [],
   "source": [
    "morse_sentence = '......-...-..---.-----.-..-..-..'\n",
    "L = len(morse_sentence)"
   ]
  },
  {
   "cell_type": "code",
   "execution_count": 64,
   "id": "configured-roots",
   "metadata": {},
   "outputs": [],
   "source": [
    "words = ['HELL', 'HELLO', 'WORLD', 'OWORLD', 'TEST']"
   ]
  },
  {
   "cell_type": "code",
   "execution_count": 7,
   "id": "together-gibraltar",
   "metadata": {},
   "outputs": [],
   "source": [
    "def encode_word(word):\n",
    "    encoded_word = ''.join([alphabet_map[letter] for letter in word])\n",
    "    return encoded_word"
   ]
  },
  {
   "cell_type": "code",
   "execution_count": 65,
   "id": "loaded-liability",
   "metadata": {},
   "outputs": [
    {
     "data": {
      "text/plain": [
       "{'......-...-..': 'HELL',\n",
       " '......-...-..---': 'HELLO',\n",
       " '.-----.-..-..-..': 'WORLD',\n",
       " '---.-----.-..-..-..': 'OWORLD',\n",
       " '....': 'H',\n",
       " '..-...-..---.-----.-..-..-..': 'ELLOWORLD',\n",
       " '-....-': 'TEST'}"
      ]
     },
     "execution_count": 65,
     "metadata": {},
     "output_type": "execute_result"
    }
   ],
   "source": [
    "encoded_words_map = {encode_word(word):word for word in words}\n",
    "encoded_words_map"
   ]
  },
  {
   "cell_type": "code",
   "execution_count": 9,
   "id": "average-newark",
   "metadata": {},
   "outputs": [
    {
     "data": {
      "text/plain": [
       "dict_keys(['......-...-..', '......-...-..---', '.-----.-..-..-..', '---.-----.-..-..-..', '-....-'])"
      ]
     },
     "execution_count": 9,
     "metadata": {},
     "output_type": "execute_result"
    }
   ],
   "source": [
    "encoded_words_map.keys()"
   ]
  },
  {
   "cell_type": "code",
   "execution_count": 10,
   "id": "chubby-pennsylvania",
   "metadata": {},
   "outputs": [
    {
     "name": "stdout",
     "output_type": "stream",
     "text": [
      "19\n"
     ]
    }
   ],
   "source": [
    "max_len = max([len(w) for w in encoded_words_map.keys()])\n",
    "print(max_len)"
   ]
  },
  {
   "cell_type": "code",
   "execution_count": 11,
   "id": "hawaiian-pharmacology",
   "metadata": {},
   "outputs": [],
   "source": [
    "def count(level, current_sentence, remaining_signs):\n",
    "    nb_remaining = len(remaining_signs)\n",
    "    if nb_remaining == 0:\n",
    "        print(f'level {level} ===> {current_sentence}')\n",
    "        return 1\n",
    "     \n",
    "    nb_options = 0\n",
    "    for i in range(1,min(max_len, nb_remaining)+1):\n",
    "        option = remaining_signs[0:i]\n",
    "        print(f'level {level} {current_sentence} option {i} {option}')\n",
    "        if option in encoded_words_map:\n",
    "            word = encoded_words_map[option]\n",
    "            remaining = str(remaining_signs[i:])\n",
    "            print(f'level {level} {current_sentence} option {i} {option} -> {word} + remainder {remaining} {len(remaining)}')\n",
    "            new_sentence = current_sentence.copy()\n",
    "            new_sentence.append(word)\n",
    "            nb_options += count(level+1, new_sentence, remaining)\n",
    "                \n",
    "    return nb_options"
   ]
  },
  {
   "cell_type": "code",
   "execution_count": 12,
   "id": "everyday-church",
   "metadata": {},
   "outputs": [
    {
     "name": "stdout",
     "output_type": "stream",
     "text": [
      "level 0 [] option 1 .\n",
      "level 0 [] option 2 ..\n",
      "level 0 [] option 3 ...\n",
      "level 0 [] option 4 ....\n",
      "level 0 [] option 5 .....\n",
      "level 0 [] option 6 ......\n",
      "level 0 [] option 7 ......-\n",
      "level 0 [] option 8 ......-.\n",
      "level 0 [] option 9 ......-..\n",
      "level 0 [] option 10 ......-...\n",
      "level 0 [] option 11 ......-...-\n",
      "level 0 [] option 12 ......-...-.\n",
      "level 0 [] option 13 ......-...-..\n",
      "level 0 [] option 13 ......-...-.. -> HELL + remainder ---.-----.-..-..-.. 19\n",
      "level 1 ['HELL'] option 1 -\n",
      "level 1 ['HELL'] option 2 --\n",
      "level 1 ['HELL'] option 3 ---\n",
      "level 1 ['HELL'] option 4 ---.\n",
      "level 1 ['HELL'] option 5 ---.-\n",
      "level 1 ['HELL'] option 6 ---.--\n",
      "level 1 ['HELL'] option 7 ---.---\n",
      "level 1 ['HELL'] option 8 ---.----\n",
      "level 1 ['HELL'] option 9 ---.-----\n",
      "level 1 ['HELL'] option 10 ---.-----.\n",
      "level 1 ['HELL'] option 11 ---.-----.-\n",
      "level 1 ['HELL'] option 12 ---.-----.-.\n",
      "level 1 ['HELL'] option 13 ---.-----.-..\n",
      "level 1 ['HELL'] option 14 ---.-----.-..-\n",
      "level 1 ['HELL'] option 15 ---.-----.-..-.\n",
      "level 1 ['HELL'] option 16 ---.-----.-..-..\n",
      "level 1 ['HELL'] option 17 ---.-----.-..-..-\n",
      "level 1 ['HELL'] option 18 ---.-----.-..-..-.\n",
      "level 1 ['HELL'] option 19 ---.-----.-..-..-..\n",
      "level 1 ['HELL'] option 19 ---.-----.-..-..-.. -> OWORLD + remainder  0\n",
      "level 2 ===> ['HELL', 'OWORLD']\n",
      "level 0 [] option 14 ......-...-..-\n",
      "level 0 [] option 15 ......-...-..--\n",
      "level 0 [] option 16 ......-...-..---\n",
      "level 0 [] option 16 ......-...-..--- -> HELLO + remainder .-----.-..-..-.. 16\n",
      "level 1 ['HELLO'] option 1 .\n",
      "level 1 ['HELLO'] option 2 .-\n",
      "level 1 ['HELLO'] option 3 .--\n",
      "level 1 ['HELLO'] option 4 .---\n",
      "level 1 ['HELLO'] option 5 .----\n",
      "level 1 ['HELLO'] option 6 .-----\n",
      "level 1 ['HELLO'] option 7 .-----.\n",
      "level 1 ['HELLO'] option 8 .-----.-\n",
      "level 1 ['HELLO'] option 9 .-----.-.\n",
      "level 1 ['HELLO'] option 10 .-----.-..\n",
      "level 1 ['HELLO'] option 11 .-----.-..-\n",
      "level 1 ['HELLO'] option 12 .-----.-..-.\n",
      "level 1 ['HELLO'] option 13 .-----.-..-..\n",
      "level 1 ['HELLO'] option 14 .-----.-..-..-\n",
      "level 1 ['HELLO'] option 15 .-----.-..-..-.\n",
      "level 1 ['HELLO'] option 16 .-----.-..-..-..\n",
      "level 1 ['HELLO'] option 16 .-----.-..-..-.. -> WORLD + remainder  0\n",
      "level 2 ===> ['HELLO', 'WORLD']\n",
      "level 0 [] option 17 ......-...-..---.\n",
      "level 0 [] option 18 ......-...-..---.-\n",
      "level 0 [] option 19 ......-...-..---.--\n"
     ]
    },
    {
     "data": {
      "text/plain": [
       "2"
      ]
     },
     "execution_count": 12,
     "metadata": {},
     "output_type": "execute_result"
    }
   ],
   "source": [
    "res = count(0, [], morse_sentence)\n",
    "res"
   ]
  },
  {
   "cell_type": "code",
   "execution_count": 13,
   "id": "expressed-thickness",
   "metadata": {},
   "outputs": [],
   "source": [
    "def count(current_sentence, remaining_signs):\n",
    "    nb_remaining = len(remaining_signs)\n",
    "    if nb_remaining == 0:\n",
    "        print(f'===> {current_sentence}')\n",
    "        return 1\n",
    "     \n",
    "    nb_options = 0\n",
    "    for i in range(1,min(max_len, nb_remaining)+1):\n",
    "        option = remaining_signs[0:i]\n",
    "        if option in encoded_words_map.keys():\n",
    "            word = encoded_words_map[option]\n",
    "            remaining = str(remaining_signs[i:])\n",
    "            new_sentence = current_sentence.copy()\n",
    "            new_sentence.append(word)\n",
    "            nb_options += count(new_sentence, remaining)\n",
    "                \n",
    "    return nb_options"
   ]
  },
  {
   "cell_type": "code",
   "execution_count": 14,
   "id": "stupid-printing",
   "metadata": {},
   "outputs": [
    {
     "name": "stdout",
     "output_type": "stream",
     "text": [
      "===> ['HELL', 'OWORLD']\n",
      "===> ['HELLO', 'WORLD']\n"
     ]
    },
    {
     "data": {
      "text/plain": [
       "2"
      ]
     },
     "execution_count": 14,
     "metadata": {},
     "output_type": "execute_result"
    }
   ],
   "source": [
    "res = count([], morse_sentence)\n",
    "res"
   ]
  },
  {
   "cell_type": "code",
   "execution_count": 15,
   "id": "charitable-archive",
   "metadata": {},
   "outputs": [],
   "source": [
    "sentence_len = len(morse_sentence)\n",
    "\n",
    "def count(level, current_sentence, remaining):\n",
    "    print(f'level {level} ===> remaining {remaining}')\n",
    "    if remaining >= sentence_len:\n",
    "        print(f'level {level} ===> {current_sentence}')\n",
    "        return 1\n",
    "     \n",
    "    nb_options = 0\n",
    "    last_stop = current_sentence[-1]\n",
    "    print(f'level {level} last_stop {last_stop}')\n",
    "    \n",
    "    for i in range(1, min(max_len, sentence_len - remaining) + 1):\n",
    "        option = morse_sentence[last_stop:last_stop + i]\n",
    "        print(f'level {level} {current_sentence} option {i} {option}')\n",
    "        if option in encoded_words_map:\n",
    "            word = encoded_words_map[option]\n",
    "            remaining = last_stop + i\n",
    "            print(f'level {level} {current_sentence} option {i} {option} -> {word} + remainder {remaining}')\n",
    "            new_sentence = current_sentence.copy()\n",
    "            new_sentence.append(i)\n",
    "            nb_options += count(level+1, new_sentence, remaining)\n",
    "                \n",
    "    return nb_options"
   ]
  },
  {
   "cell_type": "code",
   "execution_count": 16,
   "id": "introductory-shield",
   "metadata": {},
   "outputs": [
    {
     "name": "stdout",
     "output_type": "stream",
     "text": [
      "level 0 ===> remaining 0\n",
      "level 0 last_stop 0\n",
      "level 0 [0] option 1 .\n",
      "level 0 [0] option 2 ..\n",
      "level 0 [0] option 3 ...\n",
      "level 0 [0] option 4 ....\n",
      "level 0 [0] option 5 .....\n",
      "level 0 [0] option 6 ......\n",
      "level 0 [0] option 7 ......-\n",
      "level 0 [0] option 8 ......-.\n",
      "level 0 [0] option 9 ......-..\n",
      "level 0 [0] option 10 ......-...\n",
      "level 0 [0] option 11 ......-...-\n",
      "level 0 [0] option 12 ......-...-.\n",
      "level 0 [0] option 13 ......-...-..\n",
      "level 0 [0] option 13 ......-...-.. -> HELL + remainder 13\n",
      "level 1 ===> remaining 13\n",
      "level 1 last_stop 13\n",
      "level 1 [0, 13] option 1 -\n",
      "level 1 [0, 13] option 2 --\n",
      "level 1 [0, 13] option 3 ---\n",
      "level 1 [0, 13] option 4 ---.\n",
      "level 1 [0, 13] option 5 ---.-\n",
      "level 1 [0, 13] option 6 ---.--\n",
      "level 1 [0, 13] option 7 ---.---\n",
      "level 1 [0, 13] option 8 ---.----\n",
      "level 1 [0, 13] option 9 ---.-----\n",
      "level 1 [0, 13] option 10 ---.-----.\n",
      "level 1 [0, 13] option 11 ---.-----.-\n",
      "level 1 [0, 13] option 12 ---.-----.-.\n",
      "level 1 [0, 13] option 13 ---.-----.-..\n",
      "level 1 [0, 13] option 14 ---.-----.-..-\n",
      "level 1 [0, 13] option 15 ---.-----.-..-.\n",
      "level 1 [0, 13] option 16 ---.-----.-..-..\n",
      "level 1 [0, 13] option 17 ---.-----.-..-..-\n",
      "level 1 [0, 13] option 18 ---.-----.-..-..-.\n",
      "level 1 [0, 13] option 19 ---.-----.-..-..-..\n",
      "level 1 [0, 13] option 19 ---.-----.-..-..-.. -> OWORLD + remainder 32\n",
      "level 2 ===> remaining 32\n",
      "level 2 ===> [0, 13, 19]\n",
      "level 0 [0] option 14 ......-...-..-\n",
      "level 0 [0] option 15 ......-...-..--\n",
      "level 0 [0] option 16 ......-...-..---\n",
      "level 0 [0] option 16 ......-...-..--- -> HELLO + remainder 16\n",
      "level 1 ===> remaining 16\n",
      "level 1 last_stop 16\n",
      "level 1 [0, 16] option 1 .\n",
      "level 1 [0, 16] option 2 .-\n",
      "level 1 [0, 16] option 3 .--\n",
      "level 1 [0, 16] option 4 .---\n",
      "level 1 [0, 16] option 5 .----\n",
      "level 1 [0, 16] option 6 .-----\n",
      "level 1 [0, 16] option 7 .-----.\n",
      "level 1 [0, 16] option 8 .-----.-\n",
      "level 1 [0, 16] option 9 .-----.-.\n",
      "level 1 [0, 16] option 10 .-----.-..\n",
      "level 1 [0, 16] option 11 .-----.-..-\n",
      "level 1 [0, 16] option 12 .-----.-..-.\n",
      "level 1 [0, 16] option 13 .-----.-..-..\n",
      "level 1 [0, 16] option 14 .-----.-..-..-\n",
      "level 1 [0, 16] option 15 .-----.-..-..-.\n",
      "level 1 [0, 16] option 16 .-----.-..-..-..\n",
      "level 1 [0, 16] option 16 .-----.-..-..-.. -> WORLD + remainder 32\n",
      "level 2 ===> remaining 32\n",
      "level 2 ===> [0, 16, 16]\n",
      "level 0 [0] option 17 ......-...-..---.\n",
      "level 0 [0] option 18 ......-...-..---.-\n",
      "level 0 [0] option 19 ......-...-..---.--\n"
     ]
    },
    {
     "data": {
      "text/plain": [
       "2"
      ]
     },
     "execution_count": 16,
     "metadata": {},
     "output_type": "execute_result"
    }
   ],
   "source": [
    "res = count(0, [0], 0)\n",
    "res"
   ]
  },
  {
   "cell_type": "code",
   "execution_count": 29,
   "id": "quantitative-immune",
   "metadata": {},
   "outputs": [],
   "source": [
    "sentence_len = len(morse_sentence)\n",
    "\n",
    "def count(last_stop, remaining):\n",
    "    if remaining >= sentence_len:\n",
    "        return 1\n",
    "     \n",
    "    nb_options = 0\n",
    "    \n",
    "    for i in range(1, min(max_len, sentence_len - remaining) + 1):\n",
    "        stop = last_stop + i\n",
    "        option = morse_sentence[last_stop:stop]\n",
    "        if option in encoded_words_map:\n",
    "            word = encoded_words_map[option]\n",
    "            remaining = last_stop + i\n",
    "            nb_options += count(i, remaining)\n",
    "                \n",
    "    return nb_options"
   ]
  },
  {
   "cell_type": "markdown",
   "id": "vulnerable-scale",
   "metadata": {},
   "source": [
    "def count(last_stop, remaining):\n",
    "   if remaining >= sentence_len:\n",
    "        return 1\n",
    "     \n",
    "    nb_options = 0\n",
    "    for i in range(1, min(max_len, sentence_len - remaining) + 1):\n",
    "        stop = last_stop + i\n",
    "        option = morse_sentence[last_stop:stop]\n",
    "        if option in words:\n",
    "            nb_options += count(i, stop)\n",
    "                \n",
    "    return nb_options\n",
    "\n",
    "res = count(0,0)"
   ]
  },
  {
   "cell_type": "markdown",
   "id": "violent-istanbul",
   "metadata": {},
   "source": [
    " def count(last_stop, remaining):\n",
    "    if remaining >= sentence_len:\n",
    "        return 1\n",
    "     \n",
    "    nb_options = 0\n",
    "    \n",
    "    for i in range(1, min(max_len, sentence_len - remaining) + 1):\n",
    "        stop = last_stop + i\n",
    "        option = morse_sentence[last_stop:stop]\n",
    "        if option in encoded_words_map:\n",
    "            word = encoded_words_map[option]\n",
    "            remaining = last_stop + i\n",
    "            nb_options += count(i, remaining)\n",
    "                \n",
    "    return nb_options"
   ]
  },
  {
   "cell_type": "code",
   "execution_count": 30,
   "id": "advised-franklin",
   "metadata": {},
   "outputs": [
    {
     "data": {
      "text/plain": [
       "2"
      ]
     },
     "execution_count": 30,
     "metadata": {},
     "output_type": "execute_result"
    }
   ],
   "source": [
    "res = count(0, 0)\n",
    "res"
   ]
  },
  {
   "cell_type": "code",
   "execution_count": 37,
   "id": "single-setting",
   "metadata": {},
   "outputs": [],
   "source": [
    "sentence_len = len(morse_sentence)\n",
    "\n",
    "def count(last_stop):\n",
    "    if last_stop >= sentence_len:\n",
    "        return 1\n",
    "     \n",
    "    nb_options = 0 \n",
    "    for word in encoded_words_map:\n",
    "        stop = last_stop + len(word)\n",
    "        if word == morse_sentence[last_stop:stop]:\n",
    "            nb_options += count(stop)\n",
    "                \n",
    "    return nb_options"
   ]
  },
  {
   "cell_type": "markdown",
   "id": "polyphonic-following",
   "metadata": {},
   "source": [
    "def count(last_stop):\n",
    "    if last_stop >= sentence_len:\n",
    "        return 1\n",
    "     \n",
    "    nb_options = 0 \n",
    "    for word in words:\n",
    "        stop = last_stop + len(word)\n",
    "        if word == morse_sentence[last_stop:stop]:\n",
    "            nb_options += count(stop)\n",
    "                \n",
    "    return nb_options\n"
   ]
  },
  {
   "cell_type": "code",
   "execution_count": 39,
   "id": "supreme-angola",
   "metadata": {},
   "outputs": [
    {
     "data": {
      "text/plain": [
       "2"
      ]
     },
     "execution_count": 39,
     "metadata": {},
     "output_type": "execute_result"
    }
   ],
   "source": [
    "res = count(0)\n",
    "res"
   ]
  },
  {
   "cell_type": "code",
   "execution_count": 52,
   "id": "worse-lounge",
   "metadata": {},
   "outputs": [],
   "source": [
    "def count(last_start):\n",
    "    if last_start == 0:\n",
    "        return 1\n",
    "     \n",
    "    nb_options = 0 \n",
    "    for word in words:\n",
    "        start = last_start - len(word)\n",
    "        if word == morse_sentence[start:last_start]:\n",
    "            nb_options += count(start)\n",
    "                \n",
    "    return nb_options\n"
   ]
  },
  {
   "cell_type": "code",
   "execution_count": 53,
   "id": "local-optics",
   "metadata": {},
   "outputs": [
    {
     "data": {
      "text/plain": [
       "0"
      ]
     },
     "execution_count": 53,
     "metadata": {},
     "output_type": "execute_result"
    }
   ],
   "source": [
    "res = count(sentence_len)\n",
    "res"
   ]
  },
  {
   "cell_type": "code",
   "execution_count": 57,
   "id": "corrected-economics",
   "metadata": {},
   "outputs": [],
   "source": [
    "encoded_words_map = {}\n",
    "for w in words:\n",
    "    letters = []\n",
    "    for letter in w: letters.append(alphabet_map[letter])\n",
    "    encoded_word = ''.join(letters)\n",
    "    encoded_words_map[encoded_word] = len(encoded_word)\n",
    "\n",
    "sentence_len = len(morse_sentence)\n",
    "\n",
    "def count(last_stop):\n",
    "    if last_stop >= sentence_len:\n",
    "        return 1\n",
    "     \n",
    "    nb_options = 0 \n",
    "    for word in encoded_words_map:\n",
    "        stop = last_stop + encoded_words_map[word]\n",
    "        if word == morse_sentence[last_stop:stop]:\n",
    "            nb_options += count(stop)\n",
    "                \n",
    "    return nb_options"
   ]
  },
  {
   "cell_type": "code",
   "execution_count": 58,
   "id": "supported-enlargement",
   "metadata": {},
   "outputs": [
    {
     "data": {
      "text/plain": [
       "2"
      ]
     },
     "execution_count": 58,
     "metadata": {},
     "output_type": "execute_result"
    }
   ],
   "source": [
    "res = count(0)\n",
    "res"
   ]
  },
  {
   "cell_type": "markdown",
   "id": "balanced-overall",
   "metadata": {},
   "source": [
    "# 70 %"
   ]
  },
  {
   "cell_type": "code",
   "execution_count": 93,
   "id": "united-legend",
   "metadata": {},
   "outputs": [],
   "source": [
    "#morse_sentence = '......-...-..---.-----.-..-..-..'\n",
    "morse_sentence = '......-...-..---'\n",
    "sentence_len = len(morse_sentence)"
   ]
  },
  {
   "cell_type": "code",
   "execution_count": 124,
   "id": "seventh-elimination",
   "metadata": {},
   "outputs": [],
   "source": [
    "#words = ['HELL', 'HELLO', 'WORLD', 'OWORLD', 'H', 'E', 'L', 'O', 'R', 'D', 'TEST']\n",
    "#words = ['HELL', 'O', 'HELLO', 'TEST']\n",
    "words = ['H', 'E', 'L', 'O', 'HELLO']"
   ]
  },
  {
   "cell_type": "code",
   "execution_count": 125,
   "id": "general-weekly",
   "metadata": {},
   "outputs": [
    {
     "data": {
      "text/plain": [
       "{'....': 'H', '.': 'E', '.-..': 'L', '---': 'O', '......-...-..---': 'HELLO'}"
      ]
     },
     "execution_count": 125,
     "metadata": {},
     "output_type": "execute_result"
    }
   ],
   "source": [
    "encoded_words_map = {encode_word(word):word for word in words}\n",
    "encoded_words_map"
   ]
  },
  {
   "cell_type": "code",
   "execution_count": 172,
   "id": "respected-bracelet",
   "metadata": {},
   "outputs": [
    {
     "name": "stdout",
     "output_type": "stream",
     "text": [
      "{'....': 1, '.': 1, '.-..': 1, '---': 1, '......-...-..---': 1}\n",
      "{'....': 4, '.': 1, '.-..': 4, '---': 3, '......-...-..---': 16}\n"
     ]
    }
   ],
   "source": [
    "#l = input\n",
    "l = morse_sentence\n",
    "#n = int(input())\n",
    "n = len(words)\n",
    "\n",
    "alphabet = '''A  .- \t B  -... \t C  -.-. \t D  -..\n",
    " E  . \t F  ..-. \t G  --. \t H  ....\n",
    " I  .. \t J  .--- \t K  -.- \t L  .-..\n",
    " M  -- \t N  -. \t O  --- \t P  .--.\n",
    " Q  --.- \t R  .-. \t S  ... \t T  -\n",
    " U  ..- \t V  ...- \t W  .-- \t X  -..-\n",
    " Y  -.-- \t Z  --..'''\n",
    "\n",
    "key = None\n",
    "alphabet_map = {}\n",
    "for value in alphabet.split():\n",
    "    if not key is None:\n",
    "        alphabet_map[key] = value\n",
    "        key = None\n",
    "    else:\n",
    "        key = value\n",
    "        \n",
    "encoded_words_map = {}\n",
    "for i in range(n):\n",
    "    #w = input()\n",
    "    w = words[i]\n",
    "    letters = []\n",
    "    for letter in w: letters.append(alphabet_map[letter])\n",
    "    encoded_word = ''.join(letters)\n",
    "    if encoded_word in encoded_words_map: encoded_words_map[encoded_word] += 1\n",
    "    else: encoded_words_map[encoded_word] = 1\n",
    "\n",
    "print(encoded_words_map)\n",
    "\n",
    "encoded_words_size_map = {w:len(w) for w in encoded_words_map.keys()}  \n",
    "max_len = max(encoded_words_size_map.values())\n",
    "\n",
    "print(encoded_words_size_map)\n",
    "\n",
    "#morse_sentence = l\n",
    "sentence_len = len(l)\n",
    "\n",
    "def count(level, current_sentence, last_stop):\n",
    "    if last_stop >= sentence_len:\n",
    "        print(f'==> {level} {current_sentence}')\n",
    "        return 1\n",
    "     \n",
    "    nb_options = 0\n",
    "    \n",
    "    n = min(max_len, sentence_len - last_stop) + 1\n",
    "    #print(n)\n",
    "    for i in range(1, n):\n",
    "        stop = last_stop + i\n",
    "        option = l[last_stop:stop]\n",
    "        #print(f'{i} {option}')\n",
    "        if option in encoded_words_map:\n",
    "            #print(f'{i} {option} ->')\n",
    "            new_sentence = current_sentence.copy()\n",
    "            new_sentence.append(option)\n",
    "            nb_options += count(level+1, new_sentence, stop) * encoded_words_map[option]\n",
    "                \n",
    "    return nb_options\n",
    "\n",
    "def countx(level, current_sentence, last_stop):\n",
    "    if last_stop == 0:\n",
    "        print(f'==> {level} {current_sentence}')\n",
    "        return 1\n",
    "     \n",
    "    nb_options = 0 \n",
    "    for word in encoded_words_map:\n",
    "        stop = last_stop - encoded_words_size_map[word]\n",
    "        if word == l[stop:last_stop]:\n",
    "            #print(f'{level} {current_sentence} + {word}')\n",
    "            new_sentence = current_sentence.copy()\n",
    "            new_sentence.append(word)\n",
    "            nb_options += countx(level+1, new_sentence, stop) * encoded_words_map[word]\n",
    "                \n",
    "    return nb_options"
   ]
  },
  {
   "cell_type": "code",
   "execution_count": 146,
   "id": "aggregate-practitioner",
   "metadata": {},
   "outputs": [
    {
     "name": "stdout",
     "output_type": "stream",
     "text": [
      "==> 5 ['---', '.-..', '.-..', '....', '.']\n",
      "==> 5 ['---', '.-..', '.-..', '.', '....']\n",
      "==> 8 ['---', '.-..', '.-..', '.', '.', '.', '.', '.']\n",
      "==> 1 ['......-...-..---']\n"
     ]
    },
    {
     "data": {
      "text/plain": [
       "4"
      ]
     },
     "execution_count": 146,
     "metadata": {},
     "output_type": "execute_result"
    }
   ],
   "source": [
    "res = countx(0, [], sentence_len)\n",
    "res"
   ]
  },
  {
   "cell_type": "markdown",
   "id": "obvious-costume",
   "metadata": {},
   "source": [
    "'......-...-..---'\n",
    "OLLHE -> ?\n",
    "OLLEH -> ?\n",
    "OLLEEEEE -> ?\n",
    "HELLO\n",
    "\n",
    "EEEEELLO ?"
   ]
  },
  {
   "cell_type": "code",
   "execution_count": 173,
   "id": "plastic-magnet",
   "metadata": {},
   "outputs": [
    {
     "name": "stdout",
     "output_type": "stream",
     "text": [
      "==> 8 ['.', '.', '.', '.', '.', '.-..', '.-..', '---']\n",
      "==> 5 ['.', '....', '.-..', '.-..', '---']\n",
      "==> 5 ['....', '.', '.-..', '.-..', '---']\n",
      "==> 1 ['......-...-..---']\n"
     ]
    },
    {
     "data": {
      "text/plain": [
       "4"
      ]
     },
     "execution_count": 173,
     "metadata": {},
     "output_type": "execute_result"
    }
   ],
   "source": [
    "res = count(0, [], 0)\n",
    "res"
   ]
  },
  {
   "cell_type": "markdown",
   "id": "amazing-projector",
   "metadata": {},
   "source": [
    "'......-...-..---'\n",
    "E E E E E L L O\n",
    "E H L L O\n",
    "H E L L O\n",
    "HELLO"
   ]
  }
 ],
 "metadata": {
  "kernelspec": {
   "display_name": "Python 3",
   "language": "python",
   "name": "python3"
  },
  "language_info": {
   "codemirror_mode": {
    "name": "ipython",
    "version": 3
   },
   "file_extension": ".py",
   "mimetype": "text/x-python",
   "name": "python",
   "nbconvert_exporter": "python",
   "pygments_lexer": "ipython3",
   "version": "3.8.5"
  }
 },
 "nbformat": 4,
 "nbformat_minor": 5
}
