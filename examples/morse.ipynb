{
 "cells": [
  {
   "cell_type": "code",
   "execution_count": 12,
   "id": "express-senegal",
   "metadata": {},
   "outputs": [],
   "source": [
    "alphabet = '''A  .- \t B  -... \t C  -.-. \t D  -..\n",
    " E  . \t F  ..-. \t G  --. \t H  ....\n",
    " I  .. \t J  .--- \t K  -.- \t L  .-..\n",
    " M  -- \t N  -. \t O  --- \t P  .--.\n",
    " Q  --.- \t R  .-. \t S  ... \t T  -\n",
    " U  ..- \t V  ...- \t W  .-- \t X  -..-\n",
    " Y  -.-- \t Z  --..'''"
   ]
  },
  {
   "cell_type": "code",
   "execution_count": 13,
   "id": "necessary-learning",
   "metadata": {},
   "outputs": [],
   "source": [
    "key = None\n",
    "alphabet_map = {}\n",
    "for value in alphabet.split():\n",
    "    if not key is None:\n",
    "        alphabet_map[key] = value\n",
    "        key = None\n",
    "    else:\n",
    "        key = value\n",
    "        "
   ]
  },
  {
   "cell_type": "code",
   "execution_count": 14,
   "id": "narrative-harvest",
   "metadata": {},
   "outputs": [
    {
     "name": "stdout",
     "output_type": "stream",
     "text": [
      "D -..\n"
     ]
    }
   ],
   "source": [
    "key = 'D'\n",
    "print(f'{key} {alphabet_map[key]}')"
   ]
  },
  {
   "cell_type": "code",
   "execution_count": 15,
   "id": "compliant-vaccine",
   "metadata": {},
   "outputs": [],
   "source": [
    "morse_sentence = '......-...-..---.-----.-..-..-..'\n",
    "L = len(morse_sentence)"
   ]
  },
  {
   "cell_type": "code",
   "execution_count": 16,
   "id": "statutory-principle",
   "metadata": {},
   "outputs": [],
   "source": [
    "words = ['HELL', 'HELLO', 'WORLD', 'OWORLD', 'TEST']"
   ]
  },
  {
   "cell_type": "code",
   "execution_count": 17,
   "id": "governing-basics",
   "metadata": {},
   "outputs": [],
   "source": [
    "def encode_word(word):\n",
    "    encoded_word = ''.join([alphabet_map[letter] for letter in word])\n",
    "    return encoded_word"
   ]
  },
  {
   "cell_type": "code",
   "execution_count": 18,
   "id": "cultural-aluminum",
   "metadata": {},
   "outputs": [
    {
     "data": {
      "text/plain": [
       "{'......-...-..': 'HELL',\n",
       " '......-...-..---': 'HELLO',\n",
       " '.-----.-..-..-..': 'WORLD',\n",
       " '---.-----.-..-..-..': 'OWORLD',\n",
       " '-....-': 'TEST'}"
      ]
     },
     "execution_count": 18,
     "metadata": {},
     "output_type": "execute_result"
    }
   ],
   "source": [
    "encoded_words_map = {encode_word(word):word for word in words}\n",
    "encoded_words_map"
   ]
  },
  {
   "cell_type": "code",
   "execution_count": 19,
   "id": "general-makeup",
   "metadata": {},
   "outputs": [
    {
     "data": {
      "text/plain": [
       "dict_keys(['......-...-..', '......-...-..---', '.-----.-..-..-..', '---.-----.-..-..-..', '-....-'])"
      ]
     },
     "execution_count": 19,
     "metadata": {},
     "output_type": "execute_result"
    }
   ],
   "source": [
    "encoded_words_map.keys()"
   ]
  },
  {
   "cell_type": "code",
   "execution_count": 21,
   "id": "exceptional-record",
   "metadata": {},
   "outputs": [
    {
     "name": "stdout",
     "output_type": "stream",
     "text": [
      "19\n"
     ]
    }
   ],
   "source": [
    "max_len = max([len(w) for w in encoded_words_map.keys()])\n",
    "print(max_len)"
   ]
  },
  {
   "cell_type": "code",
   "execution_count": 22,
   "id": "fitting-canada",
   "metadata": {},
   "outputs": [],
   "source": [
    "def count(level, current_sentence, remaining_signs):\n",
    "    nb_remaining = len(remaining_signs)\n",
    "    if nb_remaining == 0:\n",
    "        print(f'level {level} ===> {current_sentence}')\n",
    "        return 1\n",
    "     \n",
    "    nb_options = 0\n",
    "    for i in range(1,min(max_len, nb_remaining)+1):\n",
    "        option = remaining_signs[0:i]\n",
    "        print(f'level {level} {current_sentence} option {i} {option}')\n",
    "        if option in encoded_words_map.keys():\n",
    "            word = encoded_words_map[option]\n",
    "            remaining = str(remaining_signs[i:])\n",
    "            print(f'level {level} {current_sentence} option {i} {option} -> {word} + remainder {remaining} {len(remaining)}')\n",
    "            new_sentence = current_sentence.copy()\n",
    "            new_sentence.append(word)\n",
    "            nb_options += count(level+1, new_sentence, remaining)\n",
    "                \n",
    "    return nb_options"
   ]
  },
  {
   "cell_type": "code",
   "execution_count": 23,
   "id": "meaningful-positive",
   "metadata": {},
   "outputs": [
    {
     "name": "stdout",
     "output_type": "stream",
     "text": [
      "level 0 [] option 1 .\n",
      "level 0 [] option 2 ..\n",
      "level 0 [] option 3 ...\n",
      "level 0 [] option 4 ....\n",
      "level 0 [] option 5 .....\n",
      "level 0 [] option 6 ......\n",
      "level 0 [] option 7 ......-\n",
      "level 0 [] option 8 ......-.\n",
      "level 0 [] option 9 ......-..\n",
      "level 0 [] option 10 ......-...\n",
      "level 0 [] option 11 ......-...-\n",
      "level 0 [] option 12 ......-...-.\n",
      "level 0 [] option 13 ......-...-..\n",
      "level 0 [] option 13 ......-...-.. -> HELL + remainder ---.-----.-..-..-.. 19\n",
      "level 1 ['HELL'] option 1 -\n",
      "level 1 ['HELL'] option 2 --\n",
      "level 1 ['HELL'] option 3 ---\n",
      "level 1 ['HELL'] option 4 ---.\n",
      "level 1 ['HELL'] option 5 ---.-\n",
      "level 1 ['HELL'] option 6 ---.--\n",
      "level 1 ['HELL'] option 7 ---.---\n",
      "level 1 ['HELL'] option 8 ---.----\n",
      "level 1 ['HELL'] option 9 ---.-----\n",
      "level 1 ['HELL'] option 10 ---.-----.\n",
      "level 1 ['HELL'] option 11 ---.-----.-\n",
      "level 1 ['HELL'] option 12 ---.-----.-.\n",
      "level 1 ['HELL'] option 13 ---.-----.-..\n",
      "level 1 ['HELL'] option 14 ---.-----.-..-\n",
      "level 1 ['HELL'] option 15 ---.-----.-..-.\n",
      "level 1 ['HELL'] option 16 ---.-----.-..-..\n",
      "level 1 ['HELL'] option 17 ---.-----.-..-..-\n",
      "level 1 ['HELL'] option 18 ---.-----.-..-..-.\n",
      "level 1 ['HELL'] option 19 ---.-----.-..-..-..\n",
      "level 1 ['HELL'] option 19 ---.-----.-..-..-.. -> OWORLD + remainder  0\n",
      "level 2 ===> ['HELL', 'OWORLD']\n",
      "level 0 [] option 14 ......-...-..-\n",
      "level 0 [] option 15 ......-...-..--\n",
      "level 0 [] option 16 ......-...-..---\n",
      "level 0 [] option 16 ......-...-..--- -> HELLO + remainder .-----.-..-..-.. 16\n",
      "level 1 ['HELLO'] option 1 .\n",
      "level 1 ['HELLO'] option 2 .-\n",
      "level 1 ['HELLO'] option 3 .--\n",
      "level 1 ['HELLO'] option 4 .---\n",
      "level 1 ['HELLO'] option 5 .----\n",
      "level 1 ['HELLO'] option 6 .-----\n",
      "level 1 ['HELLO'] option 7 .-----.\n",
      "level 1 ['HELLO'] option 8 .-----.-\n",
      "level 1 ['HELLO'] option 9 .-----.-.\n",
      "level 1 ['HELLO'] option 10 .-----.-..\n",
      "level 1 ['HELLO'] option 11 .-----.-..-\n",
      "level 1 ['HELLO'] option 12 .-----.-..-.\n",
      "level 1 ['HELLO'] option 13 .-----.-..-..\n",
      "level 1 ['HELLO'] option 14 .-----.-..-..-\n",
      "level 1 ['HELLO'] option 15 .-----.-..-..-.\n",
      "level 1 ['HELLO'] option 16 .-----.-..-..-..\n",
      "level 1 ['HELLO'] option 16 .-----.-..-..-.. -> WORLD + remainder  0\n",
      "level 2 ===> ['HELLO', 'WORLD']\n",
      "level 0 [] option 17 ......-...-..---.\n",
      "level 0 [] option 18 ......-...-..---.-\n",
      "level 0 [] option 19 ......-...-..---.--\n"
     ]
    },
    {
     "data": {
      "text/plain": [
       "2"
      ]
     },
     "execution_count": 23,
     "metadata": {},
     "output_type": "execute_result"
    }
   ],
   "source": [
    "res = count(0, [], morse_sentence)\n",
    "res"
   ]
  },
  {
   "cell_type": "code",
   "execution_count": 26,
   "id": "pursuant-ranking",
   "metadata": {},
   "outputs": [],
   "source": [
    "def count(current_sentence, remaining_signs):\n",
    "    nb_remaining = len(remaining_signs)\n",
    "    if nb_remaining == 0:\n",
    "        print(f'===> {current_sentence}')\n",
    "        return 1\n",
    "     \n",
    "    nb_options = 0\n",
    "    for i in range(1,min(max_len, nb_remaining)+1):\n",
    "        option = remaining_signs[0:i]\n",
    "        if option in encoded_words_map.keys():\n",
    "            word = encoded_words_map[option]\n",
    "            remaining = str(remaining_signs[i:])\n",
    "            new_sentence = current_sentence.copy()\n",
    "            new_sentence.append(word)\n",
    "            nb_options += count(new_sentence, remaining)\n",
    "                \n",
    "    return nb_options"
   ]
  },
  {
   "cell_type": "code",
   "execution_count": 27,
   "id": "raised-peace",
   "metadata": {},
   "outputs": [
    {
     "name": "stdout",
     "output_type": "stream",
     "text": [
      "===> ['HELL', 'OWORLD']\n",
      "===> ['HELLO', 'WORLD']\n"
     ]
    },
    {
     "data": {
      "text/plain": [
       "2"
      ]
     },
     "execution_count": 27,
     "metadata": {},
     "output_type": "execute_result"
    }
   ],
   "source": [
    "res = count([], morse_sentence)\n",
    "res"
   ]
  },
  {
   "cell_type": "code",
   "execution_count": null,
   "id": "interested-assessment",
   "metadata": {},
   "outputs": [],
   "source": []
  }
 ],
 "metadata": {
  "kernelspec": {
   "display_name": "Python 3",
   "language": "python",
   "name": "python3"
  },
  "language_info": {
   "codemirror_mode": {
    "name": "ipython",
    "version": 3
   },
   "file_extension": ".py",
   "mimetype": "text/x-python",
   "name": "python",
   "nbconvert_exporter": "python",
   "pygments_lexer": "ipython3",
   "version": "3.8.5"
  }
 },
 "nbformat": 4,
 "nbformat_minor": 5
}
