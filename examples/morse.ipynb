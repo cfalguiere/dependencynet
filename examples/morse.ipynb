{
 "cells": [
  {
   "cell_type": "code",
   "execution_count": 2,
   "id": "equal-practitioner",
   "metadata": {},
   "outputs": [],
   "source": [
    "alphabet = '''A  .- \t B  -... \t C  -.-. \t D  -..\n",
    " E  . \t F  ..-. \t G  --. \t H  ....\n",
    " I  .. \t J  .--- \t K  -.- \t L  .-..\n",
    " M  -- \t N  -. \t O  --- \t P  .--.\n",
    " Q  --.- \t R  .-. \t S  ... \t T  -\n",
    " U  ..- \t V  ...- \t W  .-- \t X  -..-\n",
    " Y  -.-- \t Z  --..'''"
   ]
  },
  {
   "cell_type": "code",
   "execution_count": 3,
   "id": "lucky-weapon",
   "metadata": {},
   "outputs": [],
   "source": [
    "key = None\n",
    "alphabet_map = {}\n",
    "for value in alphabet.split():\n",
    "    if not key is None:\n",
    "        alphabet_map[key] = value\n",
    "        key = None\n",
    "    else:\n",
    "        key = value\n",
    "        "
   ]
  },
  {
   "cell_type": "code",
   "execution_count": 4,
   "id": "thorough-zealand",
   "metadata": {},
   "outputs": [
    {
     "name": "stdout",
     "output_type": "stream",
     "text": [
      "D -..\n"
     ]
    }
   ],
   "source": [
    "key = 'D'\n",
    "print(f'{key} {alphabet_map[key]}')"
   ]
  },
  {
   "cell_type": "code",
   "execution_count": 5,
   "id": "generous-munich",
   "metadata": {},
   "outputs": [],
   "source": [
    "morse_sentence = '......-...-..---.-----.-..-..-..'\n",
    "L = len(morse_sentence)"
   ]
  },
  {
   "cell_type": "code",
   "execution_count": 6,
   "id": "minus-montana",
   "metadata": {},
   "outputs": [],
   "source": [
    "words = ['HELL', 'HELLO', 'WORLD', 'OWORLD', 'TEST']"
   ]
  },
  {
   "cell_type": "code",
   "execution_count": 7,
   "id": "forbidden-slave",
   "metadata": {},
   "outputs": [],
   "source": [
    "def encode_word(word):\n",
    "    encoded_word = ''.join([alphabet_map[letter] for letter in word])\n",
    "    return encoded_word"
   ]
  },
  {
   "cell_type": "code",
   "execution_count": 8,
   "id": "isolated-planet",
   "metadata": {},
   "outputs": [
    {
     "data": {
      "text/plain": [
       "{'......-...-..': 'HELL',\n",
       " '......-...-..---': 'HELLO',\n",
       " '.-----.-..-..-..': 'WORLD',\n",
       " '---.-----.-..-..-..': 'OWORLD',\n",
       " '-....-': 'TEST'}"
      ]
     },
     "execution_count": 8,
     "metadata": {},
     "output_type": "execute_result"
    }
   ],
   "source": [
    "encoded_words_map = {encode_word(word):word for word in words}\n",
    "encoded_words_map"
   ]
  },
  {
   "cell_type": "code",
   "execution_count": 9,
   "id": "vocal-exclusive",
   "metadata": {},
   "outputs": [
    {
     "data": {
      "text/plain": [
       "dict_keys(['......-...-..', '......-...-..---', '.-----.-..-..-..', '---.-----.-..-..-..', '-....-'])"
      ]
     },
     "execution_count": 9,
     "metadata": {},
     "output_type": "execute_result"
    }
   ],
   "source": [
    "encoded_words_map.keys()"
   ]
  },
  {
   "cell_type": "code",
   "execution_count": 10,
   "id": "ahead-philosophy",
   "metadata": {},
   "outputs": [
    {
     "name": "stdout",
     "output_type": "stream",
     "text": [
      "19\n"
     ]
    }
   ],
   "source": [
    "max_len = max([len(w) for w in encoded_words_map.keys()])\n",
    "print(max_len)"
   ]
  },
  {
   "cell_type": "code",
   "execution_count": 11,
   "id": "refined-hybrid",
   "metadata": {},
   "outputs": [],
   "source": [
    "def count(level, current_sentence, remaining_signs):\n",
    "    nb_remaining = len(remaining_signs)\n",
    "    if nb_remaining == 0:\n",
    "        print(f'level {level} ===> {current_sentence}')\n",
    "        return 1\n",
    "     \n",
    "    nb_options = 0\n",
    "    for i in range(1,min(max_len, nb_remaining)+1):\n",
    "        option = remaining_signs[0:i]\n",
    "        print(f'level {level} {current_sentence} option {i} {option}')\n",
    "        if option in encoded_words_map:\n",
    "            word = encoded_words_map[option]\n",
    "            remaining = str(remaining_signs[i:])\n",
    "            print(f'level {level} {current_sentence} option {i} {option} -> {word} + remainder {remaining} {len(remaining)}')\n",
    "            new_sentence = current_sentence.copy()\n",
    "            new_sentence.append(word)\n",
    "            nb_options += count(level+1, new_sentence, remaining)\n",
    "                \n",
    "    return nb_options"
   ]
  },
  {
   "cell_type": "code",
   "execution_count": 12,
   "id": "minor-integration",
   "metadata": {},
   "outputs": [
    {
     "name": "stdout",
     "output_type": "stream",
     "text": [
      "level 0 [] option 1 .\n",
      "level 0 [] option 2 ..\n",
      "level 0 [] option 3 ...\n",
      "level 0 [] option 4 ....\n",
      "level 0 [] option 5 .....\n",
      "level 0 [] option 6 ......\n",
      "level 0 [] option 7 ......-\n",
      "level 0 [] option 8 ......-.\n",
      "level 0 [] option 9 ......-..\n",
      "level 0 [] option 10 ......-...\n",
      "level 0 [] option 11 ......-...-\n",
      "level 0 [] option 12 ......-...-.\n",
      "level 0 [] option 13 ......-...-..\n",
      "level 0 [] option 13 ......-...-.. -> HELL + remainder ---.-----.-..-..-.. 19\n",
      "level 1 ['HELL'] option 1 -\n",
      "level 1 ['HELL'] option 2 --\n",
      "level 1 ['HELL'] option 3 ---\n",
      "level 1 ['HELL'] option 4 ---.\n",
      "level 1 ['HELL'] option 5 ---.-\n",
      "level 1 ['HELL'] option 6 ---.--\n",
      "level 1 ['HELL'] option 7 ---.---\n",
      "level 1 ['HELL'] option 8 ---.----\n",
      "level 1 ['HELL'] option 9 ---.-----\n",
      "level 1 ['HELL'] option 10 ---.-----.\n",
      "level 1 ['HELL'] option 11 ---.-----.-\n",
      "level 1 ['HELL'] option 12 ---.-----.-.\n",
      "level 1 ['HELL'] option 13 ---.-----.-..\n",
      "level 1 ['HELL'] option 14 ---.-----.-..-\n",
      "level 1 ['HELL'] option 15 ---.-----.-..-.\n",
      "level 1 ['HELL'] option 16 ---.-----.-..-..\n",
      "level 1 ['HELL'] option 17 ---.-----.-..-..-\n",
      "level 1 ['HELL'] option 18 ---.-----.-..-..-.\n",
      "level 1 ['HELL'] option 19 ---.-----.-..-..-..\n",
      "level 1 ['HELL'] option 19 ---.-----.-..-..-.. -> OWORLD + remainder  0\n",
      "level 2 ===> ['HELL', 'OWORLD']\n",
      "level 0 [] option 14 ......-...-..-\n",
      "level 0 [] option 15 ......-...-..--\n",
      "level 0 [] option 16 ......-...-..---\n",
      "level 0 [] option 16 ......-...-..--- -> HELLO + remainder .-----.-..-..-.. 16\n",
      "level 1 ['HELLO'] option 1 .\n",
      "level 1 ['HELLO'] option 2 .-\n",
      "level 1 ['HELLO'] option 3 .--\n",
      "level 1 ['HELLO'] option 4 .---\n",
      "level 1 ['HELLO'] option 5 .----\n",
      "level 1 ['HELLO'] option 6 .-----\n",
      "level 1 ['HELLO'] option 7 .-----.\n",
      "level 1 ['HELLO'] option 8 .-----.-\n",
      "level 1 ['HELLO'] option 9 .-----.-.\n",
      "level 1 ['HELLO'] option 10 .-----.-..\n",
      "level 1 ['HELLO'] option 11 .-----.-..-\n",
      "level 1 ['HELLO'] option 12 .-----.-..-.\n",
      "level 1 ['HELLO'] option 13 .-----.-..-..\n",
      "level 1 ['HELLO'] option 14 .-----.-..-..-\n",
      "level 1 ['HELLO'] option 15 .-----.-..-..-.\n",
      "level 1 ['HELLO'] option 16 .-----.-..-..-..\n",
      "level 1 ['HELLO'] option 16 .-----.-..-..-.. -> WORLD + remainder  0\n",
      "level 2 ===> ['HELLO', 'WORLD']\n",
      "level 0 [] option 17 ......-...-..---.\n",
      "level 0 [] option 18 ......-...-..---.-\n",
      "level 0 [] option 19 ......-...-..---.--\n"
     ]
    },
    {
     "data": {
      "text/plain": [
       "2"
      ]
     },
     "execution_count": 12,
     "metadata": {},
     "output_type": "execute_result"
    }
   ],
   "source": [
    "res = count(0, [], morse_sentence)\n",
    "res"
   ]
  },
  {
   "cell_type": "code",
   "execution_count": 13,
   "id": "absent-joining",
   "metadata": {},
   "outputs": [],
   "source": [
    "def count(current_sentence, remaining_signs):\n",
    "    nb_remaining = len(remaining_signs)\n",
    "    if nb_remaining == 0:\n",
    "        print(f'===> {current_sentence}')\n",
    "        return 1\n",
    "     \n",
    "    nb_options = 0\n",
    "    for i in range(1,min(max_len, nb_remaining)+1):\n",
    "        option = remaining_signs[0:i]\n",
    "        if option in encoded_words_map.keys():\n",
    "            word = encoded_words_map[option]\n",
    "            remaining = str(remaining_signs[i:])\n",
    "            new_sentence = current_sentence.copy()\n",
    "            new_sentence.append(word)\n",
    "            nb_options += count(new_sentence, remaining)\n",
    "                \n",
    "    return nb_options"
   ]
  },
  {
   "cell_type": "code",
   "execution_count": 14,
   "id": "handled-brooks",
   "metadata": {},
   "outputs": [
    {
     "name": "stdout",
     "output_type": "stream",
     "text": [
      "===> ['HELL', 'OWORLD']\n",
      "===> ['HELLO', 'WORLD']\n"
     ]
    },
    {
     "data": {
      "text/plain": [
       "2"
      ]
     },
     "execution_count": 14,
     "metadata": {},
     "output_type": "execute_result"
    }
   ],
   "source": [
    "res = count([], morse_sentence)\n",
    "res"
   ]
  },
  {
   "cell_type": "code",
   "execution_count": 15,
   "id": "strange-forty",
   "metadata": {},
   "outputs": [],
   "source": [
    "sentence_len = len(morse_sentence)\n",
    "\n",
    "def count(level, current_sentence, remaining):\n",
    "    print(f'level {level} ===> remaining {remaining}')\n",
    "    if remaining >= sentence_len:\n",
    "        print(f'level {level} ===> {current_sentence}')\n",
    "        return 1\n",
    "     \n",
    "    nb_options = 0\n",
    "    last_stop = current_sentence[-1]\n",
    "    print(f'level {level} last_stop {last_stop}')\n",
    "    \n",
    "    for i in range(1, min(max_len, sentence_len - remaining) + 1):\n",
    "        option = morse_sentence[last_stop:last_stop + i]\n",
    "        print(f'level {level} {current_sentence} option {i} {option}')\n",
    "        if option in encoded_words_map:\n",
    "            word = encoded_words_map[option]\n",
    "            remaining = last_stop + i\n",
    "            print(f'level {level} {current_sentence} option {i} {option} -> {word} + remainder {remaining}')\n",
    "            new_sentence = current_sentence.copy()\n",
    "            new_sentence.append(i)\n",
    "            nb_options += count(level+1, new_sentence, remaining)\n",
    "                \n",
    "    return nb_options"
   ]
  },
  {
   "cell_type": "code",
   "execution_count": 16,
   "id": "cardiac-charter",
   "metadata": {},
   "outputs": [
    {
     "name": "stdout",
     "output_type": "stream",
     "text": [
      "level 0 ===> remaining 0\n",
      "level 0 last_stop 0\n",
      "level 0 [0] option 1 .\n",
      "level 0 [0] option 2 ..\n",
      "level 0 [0] option 3 ...\n",
      "level 0 [0] option 4 ....\n",
      "level 0 [0] option 5 .....\n",
      "level 0 [0] option 6 ......\n",
      "level 0 [0] option 7 ......-\n",
      "level 0 [0] option 8 ......-.\n",
      "level 0 [0] option 9 ......-..\n",
      "level 0 [0] option 10 ......-...\n",
      "level 0 [0] option 11 ......-...-\n",
      "level 0 [0] option 12 ......-...-.\n",
      "level 0 [0] option 13 ......-...-..\n",
      "level 0 [0] option 13 ......-...-.. -> HELL + remainder 13\n",
      "level 1 ===> remaining 13\n",
      "level 1 last_stop 13\n",
      "level 1 [0, 13] option 1 -\n",
      "level 1 [0, 13] option 2 --\n",
      "level 1 [0, 13] option 3 ---\n",
      "level 1 [0, 13] option 4 ---.\n",
      "level 1 [0, 13] option 5 ---.-\n",
      "level 1 [0, 13] option 6 ---.--\n",
      "level 1 [0, 13] option 7 ---.---\n",
      "level 1 [0, 13] option 8 ---.----\n",
      "level 1 [0, 13] option 9 ---.-----\n",
      "level 1 [0, 13] option 10 ---.-----.\n",
      "level 1 [0, 13] option 11 ---.-----.-\n",
      "level 1 [0, 13] option 12 ---.-----.-.\n",
      "level 1 [0, 13] option 13 ---.-----.-..\n",
      "level 1 [0, 13] option 14 ---.-----.-..-\n",
      "level 1 [0, 13] option 15 ---.-----.-..-.\n",
      "level 1 [0, 13] option 16 ---.-----.-..-..\n",
      "level 1 [0, 13] option 17 ---.-----.-..-..-\n",
      "level 1 [0, 13] option 18 ---.-----.-..-..-.\n",
      "level 1 [0, 13] option 19 ---.-----.-..-..-..\n",
      "level 1 [0, 13] option 19 ---.-----.-..-..-.. -> OWORLD + remainder 32\n",
      "level 2 ===> remaining 32\n",
      "level 2 ===> [0, 13, 19]\n",
      "level 0 [0] option 14 ......-...-..-\n",
      "level 0 [0] option 15 ......-...-..--\n",
      "level 0 [0] option 16 ......-...-..---\n",
      "level 0 [0] option 16 ......-...-..--- -> HELLO + remainder 16\n",
      "level 1 ===> remaining 16\n",
      "level 1 last_stop 16\n",
      "level 1 [0, 16] option 1 .\n",
      "level 1 [0, 16] option 2 .-\n",
      "level 1 [0, 16] option 3 .--\n",
      "level 1 [0, 16] option 4 .---\n",
      "level 1 [0, 16] option 5 .----\n",
      "level 1 [0, 16] option 6 .-----\n",
      "level 1 [0, 16] option 7 .-----.\n",
      "level 1 [0, 16] option 8 .-----.-\n",
      "level 1 [0, 16] option 9 .-----.-.\n",
      "level 1 [0, 16] option 10 .-----.-..\n",
      "level 1 [0, 16] option 11 .-----.-..-\n",
      "level 1 [0, 16] option 12 .-----.-..-.\n",
      "level 1 [0, 16] option 13 .-----.-..-..\n",
      "level 1 [0, 16] option 14 .-----.-..-..-\n",
      "level 1 [0, 16] option 15 .-----.-..-..-.\n",
      "level 1 [0, 16] option 16 .-----.-..-..-..\n",
      "level 1 [0, 16] option 16 .-----.-..-..-.. -> WORLD + remainder 32\n",
      "level 2 ===> remaining 32\n",
      "level 2 ===> [0, 16, 16]\n",
      "level 0 [0] option 17 ......-...-..---.\n",
      "level 0 [0] option 18 ......-...-..---.-\n",
      "level 0 [0] option 19 ......-...-..---.--\n"
     ]
    },
    {
     "data": {
      "text/plain": [
       "2"
      ]
     },
     "execution_count": 16,
     "metadata": {},
     "output_type": "execute_result"
    }
   ],
   "source": [
    "res = count(0, [0], 0)\n",
    "res"
   ]
  },
  {
   "cell_type": "code",
   "execution_count": 29,
   "id": "threatened-belief",
   "metadata": {},
   "outputs": [],
   "source": [
    "sentence_len = len(morse_sentence)\n",
    "\n",
    "def count(last_stop, remaining):\n",
    "    if remaining >= sentence_len:\n",
    "        return 1\n",
    "     \n",
    "    nb_options = 0\n",
    "    \n",
    "    for i in range(1, min(max_len, sentence_len - remaining) + 1):\n",
    "        stop = last_stop + i\n",
    "        option = morse_sentence[last_stop:stop]\n",
    "        if option in encoded_words_map:\n",
    "            word = encoded_words_map[option]\n",
    "            remaining = last_stop + i\n",
    "            nb_options += count(i, remaining)\n",
    "                \n",
    "    return nb_options"
   ]
  },
  {
   "cell_type": "markdown",
   "id": "social-modern",
   "metadata": {},
   "source": [
    "def count(last_stop, remaining):\n",
    " def count(last_stop, remaining):\n",
    "    if remaining >= sentence_len:\n",
    "        return 1\n",
    "     \n",
    "    nb_options = 0\n",
    "    \n",
    "    for i in range(1, min(max_len, sentence_len - remaining) + 1):\n",
    "        stop = last_stop + i\n",
    "        option = morse_sentence[last_stop:stop]\n",
    "        if option in encoded_words_map:\n",
    "            word = encoded_words_map[option]\n",
    "            remaining = last_stop + i\n",
    "            nb_options += count(i, remaining)\n",
    "                \n",
    "    return nb_options   if remaining >= sentence_len:\n",
    "        return 1\n",
    "     \n",
    "    nb_options = 0\n",
    "    for i in range(1, min(max_len, sentence_len - remaining) + 1):\n",
    "        stop = last_stop + i\n",
    "        option = morse_sentence[last_stop:stop]\n",
    "        if option in words:\n",
    "            nb_options += count(i, stop)\n",
    "                \n",
    "    return nb_options\n",
    "\n",
    "res = count(0,0)"
   ]
  },
  {
   "cell_type": "code",
   "execution_count": 30,
   "id": "steady-reward",
   "metadata": {},
   "outputs": [
    {
     "data": {
      "text/plain": [
       "2"
      ]
     },
     "execution_count": 30,
     "metadata": {},
     "output_type": "execute_result"
    }
   ],
   "source": [
    "res = count(0, 0)\n",
    "res"
   ]
  },
  {
   "cell_type": "code",
   "execution_count": 37,
   "id": "biological-toilet",
   "metadata": {},
   "outputs": [],
   "source": [
    "sentence_len = len(morse_sentence)\n",
    "\n",
    "def count(last_stop):\n",
    "    if last_stop >= sentence_len:\n",
    "        return 1\n",
    "     \n",
    "    nb_options = 0 \n",
    "    for word in encoded_words_map:\n",
    "        stop = last_stop + len(word)\n",
    "        if word == morse_sentence[last_stop:stop]:\n",
    "            nb_options += count(stop)\n",
    "                \n",
    "    return nb_options"
   ]
  },
  {
   "cell_type": "markdown",
   "id": "adaptive-soldier",
   "metadata": {},
   "source": [
    "def count(last_stop):\n",
    "    if last_stop >= sentence_len:\n",
    "        return 1\n",
    "     \n",
    "    nb_options = 0 \n",
    "    for word in words:\n",
    "        stop = last_stop + len(word)\n",
    "        if word == morse_sentence[last_stop:stop]:\n",
    "            nb_options += count(stop)\n",
    "                \n",
    "    return nb_options\n"
   ]
  },
  {
   "cell_type": "code",
   "execution_count": 39,
   "id": "interior-arthritis",
   "metadata": {},
   "outputs": [
    {
     "data": {
      "text/plain": [
       "2"
      ]
     },
     "execution_count": 39,
     "metadata": {},
     "output_type": "execute_result"
    }
   ],
   "source": [
    "res = count(0)\n",
    "res"
   ]
  },
  {
   "cell_type": "code",
   "execution_count": 52,
   "id": "architectural-montreal",
   "metadata": {},
   "outputs": [],
   "source": [
    "def count(last_start):\n",
    "    if last_start == 0:\n",
    "        return 1\n",
    "     \n",
    "    nb_options = 0 \n",
    "    for word in words:\n",
    "        start = last_start - len(word)\n",
    "        if word == morse_sentence[start:last_start]:\n",
    "            nb_options += count(start)\n",
    "                \n",
    "    return nb_options\n"
   ]
  },
  {
   "cell_type": "code",
   "execution_count": 53,
   "id": "fancy-burns",
   "metadata": {},
   "outputs": [
    {
     "data": {
      "text/plain": [
       "0"
      ]
     },
     "execution_count": 53,
     "metadata": {},
     "output_type": "execute_result"
    }
   ],
   "source": [
    "res = count(sentence_len)\n",
    "res"
   ]
  },
  {
   "cell_type": "code",
   "execution_count": 57,
   "id": "surrounded-treat",
   "metadata": {},
   "outputs": [],
   "source": [
    "encoded_words_map = {}\n",
    "for w in words:\n",
    "    letters = []\n",
    "    for letter in w: letters.append(alphabet_map[letter])\n",
    "    encoded_word = ''.join(letters)\n",
    "    encoded_words_map[encoded_word] = len(encoded_word)\n",
    "\n",
    "sentence_len = len(morse_sentence)\n",
    "\n",
    "def count(last_stop):\n",
    "    if last_stop >= sentence_len:\n",
    "        return 1\n",
    "     \n",
    "    nb_options = 0 \n",
    "    for word in encoded_words_map:\n",
    "        stop = last_stop + encoded_words_map[word]\n",
    "        if word == morse_sentence[last_stop:stop]:\n",
    "            nb_options += count(stop)\n",
    "                \n",
    "    return nb_options"
   ]
  },
  {
   "cell_type": "code",
   "execution_count": 58,
   "id": "coastal-notice",
   "metadata": {},
   "outputs": [
    {
     "data": {
      "text/plain": [
       "2"
      ]
     },
     "execution_count": 58,
     "metadata": {},
     "output_type": "execute_result"
    }
   ],
   "source": [
    "res = count(0)\n",
    "res"
   ]
  },
  {
   "cell_type": "markdown",
   "id": "latin-witness",
   "metadata": {},
   "source": [
    "# 70 %"
   ]
  },
  {
   "cell_type": "code",
   "execution_count": null,
   "id": "instant-article",
   "metadata": {},
   "outputs": [],
   "source": [
    "\n",
    "l = input()\n",
    "n = int(input())\n",
    "\n",
    "alphabet = '''A  .- \t B  -... \t C  -.-. \t D  -..\n",
    " E  . \t F  ..-. \t G  --. \t H  ....\n",
    " I  .. \t J  .--- \t K  -.- \t L  .-..\n",
    " M  -- \t N  -. \t O  --- \t P  .--.\n",
    " Q  --.- \t R  .-. \t S  ... \t T  -\n",
    " U  ..- \t V  ...- \t W  .-- \t X  -..-\n",
    " Y  -.-- \t Z  --..'''\n",
    "\n",
    "key = None\n",
    "alphabet_map = {}\n",
    "for value in alphabet.split():\n",
    "    if not key is None:\n",
    "        alphabet_map[key] = value\n",
    "        key = None\n",
    "    else:\n",
    "        key = value\n",
    "        \n",
    "encoded_words_map = {}\n",
    "for i in range(n):\n",
    "    w = input()\n",
    "    letters = []\n",
    "    for letter in w: letters.append(alphabet_map[letter])\n",
    "    encoded_word = ''.join(letters)\n",
    "    if encoded_word in encoded_words_map: encoded_words_map[encoded_word] += 1\n",
    "    else: encoded_words_map[encoded_word] = 1\n",
    "\n",
    "encoded_words_size_map = {w:len(w) for w in encoded_words_map.keys()}  \n",
    "#max_len = max(encoded_words_size_map.values())\n",
    "\n",
    "#morse_sentence = l\n",
    "sentence_len = len(l)\n",
    "\n",
    "def count(last_stop):\n",
    "    if last_stop == 0:\n",
    "        return 1\n",
    "     \n",
    "    nb_options = 0 \n",
    "    for word in encoded_words_map:\n",
    "        stop = last_stop - encoded_words_size_map[word]\n",
    "        if word == l[stop:last_stop]:\n",
    "            nb_options += count(stop) * encoded_words_map[word]\n",
    "                \n",
    "    return nb_options\n",
    "\n",
    "res = count(sentence_len)\n"
   ]
  }
 ],
 "metadata": {
  "kernelspec": {
   "display_name": "Python 3",
   "language": "python",
   "name": "python3"
  },
  "language_info": {
   "codemirror_mode": {
    "name": "ipython",
    "version": 3
   },
   "file_extension": ".py",
   "mimetype": "text/x-python",
   "name": "python",
   "nbconvert_exporter": "python",
   "pygments_lexer": "ipython3",
   "version": "3.8.5"
  }
 },
 "nbformat": 4,
 "nbformat_minor": 5
}
