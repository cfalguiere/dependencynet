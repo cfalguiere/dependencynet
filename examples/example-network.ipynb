{
 "cells": [
  {
   "cell_type": "code",
   "execution_count": 568,
   "metadata": {},
   "outputs": [],
   "source": [
    "from os import path\n",
    "import logging\n",
    "\n",
    "import pandas as pd"
   ]
  },
  {
   "cell_type": "code",
   "execution_count": 569,
   "metadata": {},
   "outputs": [],
   "source": [
    "import sys\n",
    "sys.path.append(\"../\") # go to parent dir"
   ]
  },
  {
   "cell_type": "code",
   "execution_count": 570,
   "metadata": {},
   "outputs": [],
   "source": [
    "from dependencynet.schema import SchemaBuilder\n",
    "from dependencynet.model import ModelBuilder, ModelStorageService"
   ]
  },
  {
   "cell_type": "code",
   "execution_count": 571,
   "metadata": {},
   "outputs": [],
   "source": [
    "logging.basicConfig()\n",
    "logger = logging.getLogger('dependencynet')\n",
    "logger.setLevel(logging.INFO)"
   ]
  },
  {
   "cell_type": "code",
   "execution_count": 572,
   "metadata": {},
   "outputs": [],
   "source": [
    "filename = path.join('..', 'tests', 'resources', 'data', 'compact', 'towns.csv')\n",
    "data = pd.read_csv(filename, delimiter=';')\n",
    "properties = ['area', 'country', 'town']\n",
    "source_df = pd.DataFrame(data, columns=properties)"
   ]
  },
  {
   "cell_type": "code",
   "execution_count": 573,
   "metadata": {},
   "outputs": [
    {
     "name": "stderr",
     "output_type": "stream",
     "text": [
      "INFO:dependencynet.schema:rendering schema\n",
      "INFO:dependencynet.model:extract_items_root keys=['area'] id_pattern=A{id:02d} => shape=(2, 4)\n",
      "INFO:dependencynet.model:extract_items_root keys=['area', 'country'] id_pattern={id_parent}C{id:02d} => shape=(4, 6)\n",
      "INFO:dependencynet.model:extract_items_root keys=['area', 'country', 'town'] id_pattern={id_parent}T{id:02d} => shape=(5, 7)\n"
     ]
    }
   ],
   "source": [
    "schema_towns = SchemaBuilder().level('area', 'A').level('country', 'C').level('town', 'T').resource('monument', 'M').render()\n",
    "\n",
    "model = ModelBuilder().from_compact(source_df) \\\n",
    "                      .with_schema(schema_towns) \\\n",
    "                      .render()"
   ]
  },
  {
   "cell_type": "code",
   "execution_count": null,
   "metadata": {},
   "outputs": [],
   "source": []
  },
  {
   "cell_type": "code",
   "execution_count": 574,
   "metadata": {},
   "outputs": [],
   "source": [
    "import ipycytoscape"
   ]
  },
  {
   "cell_type": "code",
   "execution_count": 575,
   "metadata": {},
   "outputs": [],
   "source": [
    "import networkx as nx"
   ]
  },
  {
   "cell_type": "code",
   "execution_count": 576,
   "metadata": {},
   "outputs": [],
   "source": [
    "G = nx.DiGraph()"
   ]
  },
  {
   "cell_type": "markdown",
   "metadata": {},
   "source": [
    "nodes"
   ]
  },
  {
   "cell_type": "code",
   "execution_count": 577,
   "metadata": {},
   "outputs": [],
   "source": [
    "class CustomNode(ipycytoscape.Node):\n",
    "    def __init__(self, id, label, classes):\n",
    "        super().__init__()\n",
    "        self.data['id'] = id       \n",
    "        self.data['label'] = label       \n",
    "        self.classes = classes"
   ]
  },
  {
   "cell_type": "code",
   "execution_count": 578,
   "metadata": {},
   "outputs": [],
   "source": [
    "class AreaNode(CustomNode):\n",
    "    def __init__(self, properties):\n",
    "        super().__init__(properties['id'], properties['label'], 'area')\n"
   ]
  },
  {
   "cell_type": "code",
   "execution_count": 579,
   "metadata": {},
   "outputs": [],
   "source": [
    "class CountryNode(CustomNode):\n",
    "    def __init__(self, properties):\n",
    "        super().__init__(properties['id'], properties['label'], 'country')\n"
   ]
  },
  {
   "cell_type": "code",
   "execution_count": 603,
   "metadata": {},
   "outputs": [],
   "source": [
    "class GraphBuilder():\n",
    "    @staticmethod\n",
    "    def show_graph(G, layout_name, graph_style, rank_dir):\n",
    "        cytoscapeobj = ipycytoscape.CytoscapeWidget()\n",
    "        cytoscapeobj.set_style(graph_style)\n",
    "        cytoscapeobj.graph.add_graph_from_networkx(G)\n",
    "        \n",
    "        cytoscapeobj.set_layout(name=layout_name, nodeSpacing=10, edgeLenghVal=10, rankDir=rank_dir)\n",
    "        # klay, dagre, cola\n",
    "       \n",
    "        cytoscapeobj.set_tooltip_source('label')\n",
    "        \n",
    "        display(cytoscapeobj)\n",
    "        \n",
    "    \n",
    "    @staticmethod\n",
    "    def node_from_area(area_df, G):\n",
    "            wf_records = area_df.to_dict('records')\n",
    "            wf_nodes = [AreaNode(row) for row in wf_records]\n",
    "            G.add_nodes_from(wf_nodes)\n",
    "        \n",
    "    @staticmethod\n",
    "    def node_from_country(country_df, G):\n",
    "            wf_records = country_df.to_dict('records')\n",
    "            wf_nodes = [CountryNode(row) for row in wf_records]\n",
    "            G.add_nodes_from(wf_nodes)\n",
    "        \n",
    "        "
   ]
  },
  {
   "cell_type": "code",
   "execution_count": 581,
   "metadata": {},
   "outputs": [],
   "source": [
    "area_df = model.level_dataset(0)\n",
    "country_df = model.level_dataset(1)\n",
    "GraphBuilder.node_from_area(area_df, G)\n",
    "GraphBuilder.node_from_country(country_df, G)"
   ]
  },
  {
   "cell_type": "markdown",
   "metadata": {},
   "source": [
    "edges"
   ]
  },
  {
   "cell_type": "code",
   "execution_count": 582,
   "metadata": {},
   "outputs": [],
   "source": [
    "area_nodes_by_id = {n.data['id']:n for n in G.nodes() if 'area' in n.classes}\n",
    "country_nodes_by_id = {n.data['id']:n for n in G.nodes() if 'country' in n.classes}"
   ]
  },
  {
   "cell_type": "code",
   "execution_count": 583,
   "metadata": {},
   "outputs": [
    {
     "name": "stdout",
     "output_type": "stream",
     "text": [
      "A01 -> A01C01\n",
      "A01 -> A01C02\n",
      "A01 -> A01C03\n",
      "A02 -> A02C01\n"
     ]
    }
   ],
   "source": [
    "def add_area_country_edge(row):\n",
    "    id_country = row['id']\n",
    "    id_area = row['id_parent']\n",
    "    print(f'{id_area} -> {id_country}')\n",
    "    G.add_edge(area_nodes_by_id[id_area], country_nodes_by_id[id_country], label='country')\n",
    "    \n",
    "country_edges = country_df.apply(add_area_country_edge, axis=1)"
   ]
  },
  {
   "cell_type": "code",
   "execution_count": 584,
   "metadata": {},
   "outputs": [],
   "source": [
    "graph_style_ex = [ \n",
    "    {\n",
    "        \"selector\" : \"node\",\n",
    "        \"css\" : {\n",
    "          \"text-valign\" : \"center\",\n",
    "          \"text-halign\" : \"center\",\n",
    "          \"font-family\" : \"SansSerif.plain\",\n",
    "          \"font-weight\" : \"normal\",\n",
    "          \"background-color\" : \"rgb(204,255,255)\",\n",
    "          \"border-width\" : 1.5,\n",
    "          \"height\" : 35.0,\n",
    "          \"width\" : 75.0,\n",
    "          \"border-opacity\" : 1.0,\n",
    "          \"color\" : \"rgb(0,0,0)\",\n",
    "          \"border-color\" : \"rgb(0,153,255)\",\n",
    "          \"text-opacity\" : 1.0,\n",
    "          \"background-opacity\" : 1.0,\n",
    "          \"font-size\" : 12,\n",
    "          \"shape\" : \"ellipse\",\n",
    "          \"content\" : \"data(src_node)\"\n",
    "        }\n",
    "    }\n",
    "]"
   ]
  },
  {
   "cell_type": "code",
   "execution_count": 602,
   "metadata": {},
   "outputs": [],
   "source": [
    "graph_style = [ \n",
    "    {\n",
    "        'selector' : 'node.area',\n",
    "        'css' : {\n",
    "            'shape' : 'roundrectangle',\n",
    "            'label' : 'data(id)',\n",
    "            'content' : 'data(label)',\n",
    "            'font-size' : '4pt',\n",
    "            'text-valign' : 'center',\n",
    "            'text-halign' : 'center',\n",
    "            'color' : 'white',\n",
    "            'background-color' : 'black',\n",
    "            'height' : '0.8em',\n",
    "            'width' : '4em',\n",
    "            'text-wrap': 'wrap',\n",
    "            'text-max-width' : '5em' \n",
    "           }\n",
    "    }, \n",
    "    {\n",
    "         'selector' : 'node.country',\n",
    "        'css' : {\n",
    "            'shape' : 'roundrectangle',\n",
    "            'label' : 'data(id)',\n",
    "            'content' : 'data(label)',\n",
    "            'font-size' : '4pt',\n",
    "            'text-valign' : 'center',\n",
    "            'text-halign' : 'center',\n",
    "            'color' : 'white',\n",
    "            'background-color' : 'black',\n",
    "            'height' : '0.8em',\n",
    "            'width' : '6em',\n",
    "            'text-wrap': 'wrap',\n",
    "            'text-max-width' : '7em' \n",
    "       }\n",
    "    }, \n",
    "    {\n",
    "         'selector' : 'edge',\n",
    "         'css' : {\n",
    "            'shape' : 'arrow',\n",
    "            'width' : 1,\n",
    "            'line-color' : 'gray',\n",
    "            'curve-style' : 'bezier',\n",
    "            'target-arrow-color' : 'gray',\n",
    "            'target-arrow-shape' : 'triangle'\n",
    "       }\n",
    "    }\n",
    "]"
   ]
  },
  {
   "cell_type": "code",
   "execution_count": 586,
   "metadata": {},
   "outputs": [
    {
     "name": "stdout",
     "output_type": "stream",
     "text": [
      "[AreaNode(classes='area', data={'id': 'A01', 'label': 'A01 Europe'}, position={}), AreaNode(classes='area', data={'id': 'A02', 'label': 'A02 Asia'}, position={}), CountryNode(classes='country', data={'id': 'A01C01', 'label': 'A01C01 France'}, position={}), CountryNode(classes='country', data={'id': 'A01C02', 'label': 'A01C02 UK'}, position={}), CountryNode(classes='country', data={'id': 'A01C03', 'label': 'A01C03 Italia'}, position={}), CountryNode(classes='country', data={'id': 'A02C01', 'label': 'A02C01 Japan'}, position={})]\n"
     ]
    }
   ],
   "source": [
    "print(G.nodes)"
   ]
  },
  {
   "cell_type": "code",
   "execution_count": null,
   "metadata": {},
   "outputs": [],
   "source": []
  },
  {
   "cell_type": "code",
   "execution_count": 587,
   "metadata": {},
   "outputs": [
    {
     "name": "stderr",
     "output_type": "stream",
     "text": [
      "DEBUG:matplotlib.pyplot:Loaded backend module://ipykernel.pylab.backend_inline version unknown.\n"
     ]
    }
   ],
   "source": [
    "import matplotlib.pyplot as plt\n",
    "%matplotlib inline"
   ]
  },
  {
   "cell_type": "markdown",
   "metadata": {},
   "source": [
    "dagre klay"
   ]
  },
  {
   "cell_type": "code",
   "execution_count": 605,
   "metadata": {},
   "outputs": [
    {
     "data": {
      "application/vnd.jupyter.widget-view+json": {
       "model_id": "cfd6853b0d384831872c16b0a330ebb3",
       "version_major": 2,
       "version_minor": 0
      },
      "text/plain": [
       "CytoscapeWidget(cytoscape_layout={'name': 'dagre', 'nodeSpacing': 10, 'edgeLenghVal': 10, 'rankDir': 'LR'}, cy…"
      ]
     },
     "metadata": {},
     "output_type": "display_data"
    }
   ],
   "source": [
    "GraphBuilder.show_graph(G, 'dagre', graph_style, 'LR')"
   ]
  },
  {
   "cell_type": "code",
   "execution_count": null,
   "metadata": {},
   "outputs": [],
   "source": []
  },
  {
   "cell_type": "code",
   "execution_count": null,
   "metadata": {},
   "outputs": [],
   "source": []
  },
  {
   "cell_type": "code",
   "execution_count": 589,
   "metadata": {},
   "outputs": [],
   "source": [
    "import pyyed"
   ]
  },
  {
   "cell_type": "markdown",
   "metadata": {},
   "source": [
    "Valid node shapes are: \"rectangle\", \"rectangle3d\", \"roundrectangle\", \"diamond\", \"ellipse\", \"fatarrow\", \"fatarrow2\", \"hexagon\", \"octagon\", \"parallelogram\", \"parallelogram2\", \"star5\", \"star6\", \"star6\", \"star8\", \"trapezoid\", \"trapezoid2\", \"triangle\", \"trapezoid2\", \"triangle\"\n",
    "\n",
    "Valid line_types are: \"line\", \"dashed\", \"dotted\", \"dashed_dotted\"\n",
    "\n",
    "Valid font_styles are: \"plain\", \"bold\", \"italic\", \"bolditalic\"\n",
    "\n",
    "Valid arrow_types are: \"none\", \"standard\", \"white_delta\", \"diamond\", \"white_diamond\", \"short\", \"plain\", \"concave\", \"concave\", \"convex\", \"circle\", \"transparent_circle\", \"dash\", \"skewed_dash\", \"t_shape\", \"crows_foot_one_mandatory\", \"crows_foot_many_mandatory\", \"crows_foot_many_optional\", \"crows_foot_many_optional\", \"crows_foot_one\", \"crows_foot_many\", \"crows_foot_optional\""
   ]
  },
  {
   "cell_type": "markdown",
   "metadata": {},
   "source": [
    "custom properties \n",
    "https://github.com/jamesscottbrown/pyyed/blob/master/examples/demo-custom-properties-nodes-edges.py"
   ]
  },
  {
   "cell_type": "code",
   "execution_count": 590,
   "metadata": {},
   "outputs": [
    {
     "data": {
      "application/vnd.jupyter.widget-view+json": {
       "model_id": "ac99e0d6d6d844deb67499f6396f0a67",
       "version_major": 2,
       "version_minor": 0
      },
      "text/plain": [
       "AreaNode(classes='area', data={'id': 'A01', 'label': 'A01 Europe'}, position={})"
      ]
     },
     "metadata": {},
     "output_type": "display_data"
    },
    {
     "data": {
      "application/vnd.jupyter.widget-view+json": {
       "model_id": "b8d67ff89b3d4d1d993bbded17273e76",
       "version_major": 2,
       "version_minor": 0
      },
      "text/plain": [
       "AreaNode(classes='area', data={'id': 'A02', 'label': 'A02 Asia'}, position={})"
      ]
     },
     "metadata": {},
     "output_type": "display_data"
    },
    {
     "data": {
      "application/vnd.jupyter.widget-view+json": {
       "model_id": "6b1c258deee942d491662cb7cbd90fec",
       "version_major": 2,
       "version_minor": 0
      },
      "text/plain": [
       "CountryNode(classes='country', data={'id': 'A01C01', 'label': 'A01C01 France'}, position={})"
      ]
     },
     "metadata": {},
     "output_type": "display_data"
    },
    {
     "data": {
      "application/vnd.jupyter.widget-view+json": {
       "model_id": "82c0b5977c6d42feb57fcedcb66b791f",
       "version_major": 2,
       "version_minor": 0
      },
      "text/plain": [
       "CountryNode(classes='country', data={'id': 'A01C02', 'label': 'A01C02 UK'}, position={})"
      ]
     },
     "metadata": {},
     "output_type": "display_data"
    },
    {
     "data": {
      "application/vnd.jupyter.widget-view+json": {
       "model_id": "7740df2c852448cab897c9f7e8475263",
       "version_major": 2,
       "version_minor": 0
      },
      "text/plain": [
       "CountryNode(classes='country', data={'id': 'A01C03', 'label': 'A01C03 Italia'}, position={})"
      ]
     },
     "metadata": {},
     "output_type": "display_data"
    },
    {
     "data": {
      "application/vnd.jupyter.widget-view+json": {
       "model_id": "5f2188c5f35f4bea9d2ae6679e809443",
       "version_major": 2,
       "version_minor": 0
      },
      "text/plain": [
       "CountryNode(classes='country', data={'id': 'A02C01', 'label': 'A02C01 Japan'}, position={})"
      ]
     },
     "metadata": {},
     "output_type": "display_data"
    },
    {
     "name": "stdout",
     "output_type": "stream",
     "text": [
      "AreaNode(classes='area', data={'id': 'A01', 'label': 'A01 Europe'}, position={})\n",
      "AreaNode(classes='area', data={'id': 'A02', 'label': 'A02 Asia'}, position={})\n",
      "CountryNode(classes='country', data={'id': 'A01C01', 'label': 'A01C01 France'}, position={})\n",
      "CountryNode(classes='country', data={'id': 'A01C02', 'label': 'A01C02 UK'}, position={})\n",
      "CountryNode(classes='country', data={'id': 'A01C03', 'label': 'A01C03 Italia'}, position={})\n",
      "CountryNode(classes='country', data={'id': 'A02C01', 'label': 'A02C01 Japan'}, position={})\n"
     ]
    }
   ],
   "source": [
    "display(*G)\n",
    "for node in G.nodes(data=True):\n",
    "    print(node[0])"
   ]
  },
  {
   "cell_type": "code",
   "execution_count": 591,
   "metadata": {},
   "outputs": [],
   "source": [
    "import pyyed\n",
    "import codecs\n",
    "\n",
    "class YedBuilder:\n",
    "    @staticmethod\n",
    "    def build(G):\n",
    "        g = pyyed.Graph()\n",
    "        \n",
    "        colors = { 'area': '#FFFF88', 'country': '#FFFFCC'}\n",
    "        shapes = { 'area': 'roundrectangle', 'country': 'roundrectangle'}\n",
    "        widths = { 'area': '80', 'country': '120'}\n",
    "       \n",
    "        for node in G.nodes(data=True):\n",
    "            n = node[0]\n",
    "            g.add_node(n.data[\"id\"], label=n.data[\"label\"],\n",
    "                                     shape=shapes[n.classes], \n",
    "                                     shape_fill=colors[n.classes],\n",
    "                                     font_size='8',\n",
    "                                     width=widths[n.classes],\n",
    "                                     height='30')\n",
    "    \n",
    "        for n1, n2 in G.edges():\n",
    "            g.add_edge(n1.data[\"id\"], n2.data[\"id\"], arrowhead=\"standard\", arrowfoot=\"none\")\n",
    "\n",
    "        filename = path.join('output', 'testyed.graphml')\n",
    " \n",
    "        with codecs.open(filename, 'w', 'utf-8') as fp:\n",
    "            graph = g.get_graph()\n",
    "            fp.write(graph)\n",
    "            print(filename)\n"
   ]
  },
  {
   "cell_type": "code",
   "execution_count": 592,
   "metadata": {},
   "outputs": [
    {
     "name": "stdout",
     "output_type": "stream",
     "text": [
      "output/testyed.graphml\n"
     ]
    }
   ],
   "source": [
    "YedBuilder.build(G)"
   ]
  },
  {
   "cell_type": "code",
   "execution_count": null,
   "metadata": {},
   "outputs": [],
   "source": []
  },
  {
   "cell_type": "code",
   "execution_count": null,
   "metadata": {},
   "outputs": [],
   "source": []
  },
  {
   "cell_type": "code",
   "execution_count": 593,
   "metadata": {},
   "outputs": [],
   "source": [
    "class YedBuilderTest:\n",
    "    @staticmethod\n",
    "    def build(G):\n",
    "        g = pyyed.Graph()\n",
    "\n",
    "        n1 = g.add_node(\"A\", label=\"A\", shape=\"roundrectangle\", shape_fill=\"#FFFFFF\")\n",
    "        n2 = g.add_node(\"B\", label=\"B\", shape=\"roundrectangle\", shape_fill=\"#FFFFFF\")\n",
    "        n3 = g.add_node(\"C\", label=\"C\", shape=\"roundrectangle\", shape_fill=\"#FFFFFF\")\n",
    "        n4 = g.add_node(\"D\", label=\"D\", shape=\"roundrectangle\", shape_fill=\"#FFFFFF\")\n",
    "        n5 = g.add_node(\"E\", label=\"E\", shape=\"roundrectangle\", shape_fill=\"#FFFFFF\")\n",
    "\n",
    "        g.add_edge(\"A\", \"C\", arrowhead=\"standard\", arrowfoot=\"none\")\n",
    "        g.add_edge(\"B\", \"C\", arrowhead=\"standard\", arrowfoot=\"none\")\n",
    "        g.add_edge(\"C\", \"D\", arrowhead=\"standard\", arrowfoot=\"none\")\n",
    "        g.add_edge(\"C\", \"E\", arrowhead=\"standard\", arrowfoot=\"none\")\n",
    "\n",
    "        #g.add_node('abc', font_size=\"72\", height=\"100\", shape_fill=\"#FFFFFF\")\n",
    "\n",
    "        #g.add_edge('foo', 'foo1', label=\"EDGE!\", width=\"3.0\", color=\"#0000FF\", \n",
    "        #               arrowhead=\"white_diamond\", arrowfoot=\"standard\", line_type=\"dotted\")\n",
    "\n",
    "        # file content\n",
    "        #print(g.get_graph())\n",
    "\n",
    "        filename = path.join('output', 'testyed.graphml')\n",
    "        # To write to file:\n",
    "        #with open('test_graph.graphml', 'w') as fp:\n",
    "        #    fp.write(g.get_graph())\n",
    "\n",
    "        # Or:\n",
    "        #g.write_graph('example.graphml')\n",
    "\n",
    "        # Or, to pretty-print with whitespace:\n",
    "        g.write_graph(filename, pretty_print=True)\n",
    "        print(filename)\n",
    "        \n"
   ]
  },
  {
   "cell_type": "code",
   "execution_count": 594,
   "metadata": {},
   "outputs": [
    {
     "name": "stdout",
     "output_type": "stream",
     "text": [
      "output/testyed.graphml\n"
     ]
    }
   ],
   "source": [
    "YedBuilderTest.build(G)"
   ]
  },
  {
   "cell_type": "code",
   "execution_count": 595,
   "metadata": {},
   "outputs": [
    {
     "data": {
      "text/plain": [
       "<module 'pygraphml' from '/Users/cfalguiere/anaconda3/envs/dependencynet/lib/python3.8/site-packages/pygraphml/__init__.py'>"
      ]
     },
     "execution_count": 595,
     "metadata": {},
     "output_type": "execute_result"
    }
   ],
   "source": [
    "pygraphml"
   ]
  },
  {
   "cell_type": "code",
   "execution_count": null,
   "metadata": {},
   "outputs": [],
   "source": []
  },
  {
   "cell_type": "code",
   "execution_count": 596,
   "metadata": {},
   "outputs": [],
   "source": [
    "import pygraphml as gml\n",
    "import tempfile"
   ]
  },
  {
   "cell_type": "code",
   "execution_count": 597,
   "metadata": {},
   "outputs": [],
   "source": [
    "class GraphMLBuilderTest:\n",
    "    @staticmethod\n",
    "    def build(G):\n",
    "        g = gml.Graph()\n",
    "        \n",
    "        n1 = g.add_node(\"A\")\n",
    "        n2 = g.add_node(\"B\")\n",
    "        n3 = g.add_node(\"C\")\n",
    "        n4 = g.add_node(\"D\")\n",
    "        n5 = g.add_node(\"E\")\n",
    "\n",
    "        # Add attribute\n",
    "        n1['color'] = 'red'\n",
    "\n",
    "        g.add_edge(n1, n3)\n",
    "        g.add_edge(n2, n3)\n",
    "        g.add_edge(n3, n4)\n",
    "        g.add_edge(n3, n5)\n",
    "\n",
    "        filename = path.join('output', 'testpygraphml.graphml')\n",
    "        #fname = tempfile.mktemp()\n",
    "        parser = gml.GraphMLParser()\n",
    "        #parser.write(g, fname)\n",
    "        parser.write(g, filename)\n",
    "        print(filename)\n",
    "        \n",
    "        # back - parser\n",
    "        # parser = GraphMLParser()\n",
    "        # g = parser.parse(fname)\n",
    "\n",
    "        # g.show()\n",
    "        # Read attribute\n",
    "        # print(n['color'])\n"
   ]
  },
  {
   "cell_type": "code",
   "execution_count": 598,
   "metadata": {},
   "outputs": [
    {
     "name": "stdout",
     "output_type": "stream",
     "text": [
      "output/testpygraphml.graphml\n"
     ]
    }
   ],
   "source": [
    "GraphMLBuilder.build(G)"
   ]
  },
  {
   "cell_type": "code",
   "execution_count": null,
   "metadata": {},
   "outputs": [],
   "source": []
  },
  {
   "cell_type": "code",
   "execution_count": null,
   "metadata": {},
   "outputs": [],
   "source": []
  },
  {
   "cell_type": "code",
   "execution_count": null,
   "metadata": {},
   "outputs": [],
   "source": []
  },
  {
   "cell_type": "code",
   "execution_count": null,
   "metadata": {},
   "outputs": [],
   "source": []
  },
  {
   "cell_type": "code",
   "execution_count": 599,
   "metadata": {},
   "outputs": [
    {
     "ename": "FeatureNotFound",
     "evalue": "Couldn't find a tree builder with the features you requested: lxml. Do you need to install a parser library?",
     "output_type": "error",
     "traceback": [
      "\u001b[0;31m---------------------------------------------------------------------------\u001b[0m",
      "\u001b[0;31mFeatureNotFound\u001b[0m                           Traceback (most recent call last)",
      "\u001b[0;32m<ipython-input-599-1a10d76a9a5a>\u001b[0m in \u001b[0;36m<module>\u001b[0;34m\u001b[0m\n\u001b[1;32m      4\u001b[0m \u001b[0;34m\u001b[0m\u001b[0m\n\u001b[1;32m      5\u001b[0m \u001b[0;32mwith\u001b[0m \u001b[0mopen\u001b[0m\u001b[0;34m(\u001b[0m\u001b[0mfp\u001b[0m\u001b[0;34m)\u001b[0m \u001b[0;32mas\u001b[0m \u001b[0mfile\u001b[0m\u001b[0;34m:\u001b[0m\u001b[0;34m\u001b[0m\u001b[0;34m\u001b[0m\u001b[0m\n\u001b[0;32m----> 6\u001b[0;31m     \u001b[0msoup\u001b[0m \u001b[0;34m=\u001b[0m \u001b[0mBeautifulSoup\u001b[0m\u001b[0;34m(\u001b[0m\u001b[0mfile\u001b[0m\u001b[0;34m,\u001b[0m \u001b[0;34m\"lxml\"\u001b[0m\u001b[0;34m)\u001b[0m\u001b[0;34m\u001b[0m\u001b[0;34m\u001b[0m\u001b[0m\n\u001b[0m\u001b[1;32m      7\u001b[0m \u001b[0;34m\u001b[0m\u001b[0m\n\u001b[1;32m      8\u001b[0m     \u001b[0mnodes\u001b[0m \u001b[0;34m=\u001b[0m \u001b[0msoup\u001b[0m\u001b[0;34m.\u001b[0m\u001b[0mfindAll\u001b[0m\u001b[0;34m(\u001b[0m\u001b[0;34m\"node\"\u001b[0m\u001b[0;34m,\u001b[0m \u001b[0;34m{\u001b[0m\u001b[0;34m\"yfiles.foldertype\"\u001b[0m\u001b[0;34m:\u001b[0m\u001b[0;34m\"\"\u001b[0m\u001b[0;34m}\u001b[0m\u001b[0;34m)\u001b[0m\u001b[0;34m\u001b[0m\u001b[0;34m\u001b[0m\u001b[0m\n",
      "\u001b[0;32m~/anaconda3/envs/dependencynet/lib/python3.8/site-packages/bs4/__init__.py\u001b[0m in \u001b[0;36m__init__\u001b[0;34m(self, markup, features, builder, parse_only, from_encoding, exclude_encodings, element_classes, **kwargs)\u001b[0m\n\u001b[1;32m    241\u001b[0m             \u001b[0mbuilder_class\u001b[0m \u001b[0;34m=\u001b[0m \u001b[0mbuilder_registry\u001b[0m\u001b[0;34m.\u001b[0m\u001b[0mlookup\u001b[0m\u001b[0;34m(\u001b[0m\u001b[0;34m*\u001b[0m\u001b[0mfeatures\u001b[0m\u001b[0;34m)\u001b[0m\u001b[0;34m\u001b[0m\u001b[0;34m\u001b[0m\u001b[0m\n\u001b[1;32m    242\u001b[0m             \u001b[0;32mif\u001b[0m \u001b[0mbuilder_class\u001b[0m \u001b[0;32mis\u001b[0m \u001b[0;32mNone\u001b[0m\u001b[0;34m:\u001b[0m\u001b[0;34m\u001b[0m\u001b[0;34m\u001b[0m\u001b[0m\n\u001b[0;32m--> 243\u001b[0;31m                 raise FeatureNotFound(\n\u001b[0m\u001b[1;32m    244\u001b[0m                     \u001b[0;34m\"Couldn't find a tree builder with the features you \"\u001b[0m\u001b[0;34m\u001b[0m\u001b[0;34m\u001b[0m\u001b[0m\n\u001b[1;32m    245\u001b[0m                     \u001b[0;34m\"requested: %s. Do you need to install a parser library?\"\u001b[0m\u001b[0;34m\u001b[0m\u001b[0;34m\u001b[0m\u001b[0m\n",
      "\u001b[0;31mFeatureNotFound\u001b[0m: Couldn't find a tree builder with the features you requested: lxml. Do you need to install a parser library?"
     ]
    }
   ],
   "source": [
    "from bs4 import BeautifulSoup\n",
    "\n",
    "fp = \"output/testpygraphml.graphml\"\n",
    "\n",
    "with open(fp) as file:\n",
    "    soup = BeautifulSoup(file, \"lxml\")\n",
    "\n",
    "    nodes = soup.findAll(\"node\", {\"yfiles.foldertype\":\"\"})\n",
    "    groups = soup.find_all(\"node\", {\"yfiles.foldertype\":\"group\"})\n",
    "    edges = soup.findAll(\"edge\")"
   ]
  },
  {
   "cell_type": "code",
   "execution_count": null,
   "metadata": {},
   "outputs": [],
   "source": [
    "for node in G.nodes(data=True):\n",
    "    print node"
   ]
  },
  {
   "cell_type": "code",
   "execution_count": null,
   "metadata": {},
   "outputs": [],
   "source": [
    "from ipywidgets import Output\n",
    "from IPython.display import display\n",
    "from pprint import pformat\n",
    "\n",
    "out = Output()\n",
    "\n",
    "def log_clicks(node):\n",
    "    with out:\n",
    "        print(f'clicked: {pformat(node)}')\n",
    "\n",
    "def log_mouseovers(node):\n",
    "    with out:\n",
    "        print(f'mouseover: {pformat(node)}')\n",
    "\n",
    "cyto.on('node', 'click', log_clicks)\n",
    "cyto.on('node', 'mouseover', log_mouseovers)\n"
   ]
  },
  {
   "cell_type": "code",
   "execution_count": null,
   "metadata": {},
   "outputs": [],
   "source": []
  }
 ],
 "metadata": {
  "kernelspec": {
   "display_name": "Python 3",
   "language": "python",
   "name": "python3"
  },
  "language_info": {
   "codemirror_mode": {
    "name": "ipython",
    "version": 3
   },
   "file_extension": ".py",
   "mimetype": "text/x-python",
   "name": "python",
   "nbconvert_exporter": "python",
   "pygments_lexer": "ipython3",
   "version": "3.8.5"
  }
 },
 "nbformat": 4,
 "nbformat_minor": 2
}
