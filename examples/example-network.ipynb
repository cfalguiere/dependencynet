{
 "cells": [
  {
   "cell_type": "code",
   "execution_count": 1,
   "metadata": {},
   "outputs": [],
   "source": [
    "from os import path\n",
    "import logging\n",
    "\n",
    "import pandas as pd"
   ]
  },
  {
   "cell_type": "code",
   "execution_count": 2,
   "metadata": {},
   "outputs": [],
   "source": [
    "import sys\n",
    "sys.path.append(\"../\") # go to parent dir"
   ]
  },
  {
   "cell_type": "code",
   "execution_count": 3,
   "metadata": {},
   "outputs": [],
   "source": [
    "from dependencynet.schema import SchemaBuilder\n",
    "from dependencynet.model import ModelBuilder, ModelStorageService"
   ]
  },
  {
   "cell_type": "code",
   "execution_count": 4,
   "metadata": {},
   "outputs": [],
   "source": [
    "logging.basicConfig()\n",
    "logger = logging.getLogger('dependencynet')\n",
    "logger.setLevel(logging.INFO)"
   ]
  },
  {
   "cell_type": "code",
   "execution_count": 5,
   "metadata": {},
   "outputs": [],
   "source": [
    "filename = path.join('..', 'tests', 'resources', 'data', 'compact', 'towns.csv')\n",
    "data = pd.read_csv(filename, delimiter=';')\n",
    "properties = ['area', 'country', 'town']\n",
    "source_df = pd.DataFrame(data, columns=properties)"
   ]
  },
  {
   "cell_type": "code",
   "execution_count": 6,
   "metadata": {},
   "outputs": [
    {
     "name": "stderr",
     "output_type": "stream",
     "text": [
      "INFO:dependencynet.schema:rendering schema\n",
      "INFO:dependencynet.model:extract_items_root keys=['area'] id_pattern=A{id:02d} => shape=(2, 4)\n",
      "INFO:dependencynet.model:extract_items_root keys=['area', 'country'] id_pattern={id_parent}C{id:02d} => shape=(4, 6)\n",
      "INFO:dependencynet.model:extract_items_root keys=['area', 'country', 'town'] id_pattern={id_parent}T{id:02d} => shape=(5, 7)\n"
     ]
    }
   ],
   "source": [
    "schema_towns = SchemaBuilder().level('area', 'A').level('country', 'C').level('town', 'T').resource('monument', 'M').render()\n",
    "\n",
    "model = ModelBuilder().from_compact(source_df) \\\n",
    "                      .with_schema(schema_towns) \\\n",
    "                      .render()"
   ]
  },
  {
   "cell_type": "code",
   "execution_count": null,
   "metadata": {},
   "outputs": [],
   "source": []
  },
  {
   "cell_type": "code",
   "execution_count": 7,
   "metadata": {},
   "outputs": [],
   "source": [
    "import ipycytoscape"
   ]
  },
  {
   "cell_type": "code",
   "execution_count": 8,
   "metadata": {},
   "outputs": [],
   "source": [
    "import networkx as nx"
   ]
  },
  {
   "cell_type": "code",
   "execution_count": 9,
   "metadata": {},
   "outputs": [],
   "source": [
    "G = nx.Graph()"
   ]
  },
  {
   "cell_type": "code",
   "execution_count": 10,
   "metadata": {},
   "outputs": [],
   "source": [
    "class CustomNode(ipycytoscape.Node):\n",
    "    def __init__(self, id, label, classes):\n",
    "        super().__init__()\n",
    "        self.data['id'] = id       \n",
    "        self.data['label'] = label       \n",
    "        self.classes = classes"
   ]
  },
  {
   "cell_type": "code",
   "execution_count": 11,
   "metadata": {},
   "outputs": [],
   "source": [
    "class AreaNode(CustomNode):\n",
    "    def __init__(self, properties):\n",
    "        super().__init__(properties['id'], properties['label'], 'area')\n"
   ]
  },
  {
   "cell_type": "code",
   "execution_count": 12,
   "metadata": {},
   "outputs": [],
   "source": [
    "class GraphBuilder():\n",
    "    @staticmethod\n",
    "    def show_graph(G, layout_name, graph_style, rank_dir):\n",
    "        cytoscapeobj = ipycytoscape.CytoscapeWidget()\n",
    "        cytoscapeobj.set_style(graph_style)\n",
    "        cytoscapeobj.graph.add_graph_from_networkx(G)\n",
    "        \n",
    "        cytoscapeobj.set_layout(name=layout_name, nodeSpacing=10, edgeLenghVal=10, rankDir=rank_dir)\n",
    "        # klay, dagre, cola\n",
    "       \n",
    "        cytoscapeobj.set_tooltip_source('label')\n",
    "        \n",
    "        display(cytoscapeobj)\n",
    "        \n",
    "    \n",
    "    @staticmethod\n",
    "    def node_from_area(area_df, G):\n",
    "            wf_records = area_df.to_dict('records')\n",
    "            wf_nodes = [AreaNode(row) for row in wf_records]\n",
    "            G.add_nodes_from(wf_nodes)\n",
    "        \n",
    "        "
   ]
  },
  {
   "cell_type": "code",
   "execution_count": 13,
   "metadata": {},
   "outputs": [],
   "source": [
    "graph_style_ex = [ \n",
    "    {\n",
    "        \"selector\" : \"node\",\n",
    "        \"css\" : {\n",
    "          \"text-valign\" : \"center\",\n",
    "          \"text-halign\" : \"center\",\n",
    "          \"font-family\" : \"SansSerif.plain\",\n",
    "          \"font-weight\" : \"normal\",\n",
    "          \"background-color\" : \"rgb(204,255,255)\",\n",
    "          \"border-width\" : 1.5,\n",
    "          \"height\" : 35.0,\n",
    "          \"width\" : 75.0,\n",
    "          \"border-opacity\" : 1.0,\n",
    "          \"color\" : \"rgb(0,0,0)\",\n",
    "          \"border-color\" : \"rgb(0,153,255)\",\n",
    "          \"text-opacity\" : 1.0,\n",
    "          \"background-opacity\" : 1.0,\n",
    "          \"font-size\" : 12,\n",
    "          \"shape\" : \"ellipse\",\n",
    "          \"content\" : \"data(src_node)\"\n",
    "        }\n",
    "    }\n",
    "]"
   ]
  },
  {
   "cell_type": "code",
   "execution_count": 14,
   "metadata": {},
   "outputs": [],
   "source": [
    "graph_style = [ \n",
    "    {\n",
    "        'selector' : 'node.area',\n",
    "        'css' : {\n",
    "            'shape' : 'roundrectangle',\n",
    "            'label' : 'data(id)',\n",
    "            'content' : 'data(label)',\n",
    "            'font-size' : '4pt',\n",
    "            'text-valign' : 'center',\n",
    "            'text-halign' : 'center',\n",
    "            'color' : 'white',\n",
    "            'background-color' : 'black',\n",
    "            'height' : '0.8em',\n",
    "            'width' : '7em',\n",
    "            'text-wrap': 'wrap',\n",
    "            'text-max-width' : '7em' \n",
    "          }\n",
    "    }\n",
    "]"
   ]
  },
  {
   "cell_type": "code",
   "execution_count": 15,
   "metadata": {},
   "outputs": [],
   "source": [
    "area_df = model.level_dataset(0)\n",
    "GraphBuilder.node_from_area(area_df, G)"
   ]
  },
  {
   "cell_type": "code",
   "execution_count": 53,
   "metadata": {},
   "outputs": [
    {
     "data": {
      "application/vnd.jupyter.widget-view+json": {
       "model_id": "cad9a25f80e544f399e9f29fedd2dbc4",
       "version_major": 2,
       "version_minor": 0
      },
      "text/plain": [
       "CytoscapeWidget(cytoscape_layout={'name': 'klay', 'nodeSpacing': 10, 'edgeLenghVal': 10, 'rankDir': 'LR'}, cyt…"
      ]
     },
     "metadata": {},
     "output_type": "display_data"
    }
   ],
   "source": [
    "GraphBuilder.show_graph(G, 'klay', graph_style, 'LR')"
   ]
  },
  {
   "cell_type": "code",
   "execution_count": null,
   "metadata": {},
   "outputs": [],
   "source": [
    "G = nx.complete_graph(5)\n",
    "directed = ipycytoscape.CytoscapeWidget()\n",
    "directed.graph.add_graph_from_networkx(G, directed=True)\n",
    "directed\n"
   ]
  },
  {
   "cell_type": "code",
   "execution_count": 36,
   "metadata": {},
   "outputs": [],
   "source": [
    "import pyyed"
   ]
  },
  {
   "cell_type": "markdown",
   "metadata": {},
   "source": [
    "Valid node shapes are: \"rectangle\", \"rectangle3d\", \"roundrectangle\", \"diamond\", \"ellipse\", \"fatarrow\", \"fatarrow2\", \"hexagon\", \"octagon\", \"parallelogram\", \"parallelogram2\", \"star5\", \"star6\", \"star6\", \"star8\", \"trapezoid\", \"trapezoid2\", \"triangle\", \"trapezoid2\", \"triangle\"\n",
    "\n",
    "Valid line_types are: \"line\", \"dashed\", \"dotted\", \"dashed_dotted\"\n",
    "\n",
    "Valid font_styles are: \"plain\", \"bold\", \"italic\", \"bolditalic\"\n",
    "\n",
    "Valid arrow_types are: \"none\", \"standard\", \"white_delta\", \"diamond\", \"white_diamond\", \"short\", \"plain\", \"concave\", \"concave\", \"convex\", \"circle\", \"transparent_circle\", \"dash\", \"skewed_dash\", \"t_shape\", \"crows_foot_one_mandatory\", \"crows_foot_many_mandatory\", \"crows_foot_many_optional\", \"crows_foot_many_optional\", \"crows_foot_one\", \"crows_foot_many\", \"crows_foot_optional\""
   ]
  },
  {
   "cell_type": "markdown",
   "metadata": {},
   "source": [
    "custom properties \n",
    "https://github.com/jamesscottbrown/pyyed/blob/master/examples/demo-custom-properties-nodes-edges.py"
   ]
  },
  {
   "cell_type": "code",
   "execution_count": 74,
   "metadata": {},
   "outputs": [],
   "source": [
    "class YedBuilder:\n",
    "    @staticmethod\n",
    "    def build(G):\n",
    "        g = pyyed.Graph()\n",
    "       \n",
    "        for node in G.nodes(data=True):\n",
    "            g.add_node(node[0].data[\"id\"], label=node[0].data[\"label\"], shape=\"roundrectangle\", shape_fill=\"#FFFFFF\")\n",
    "    \n",
    "\n",
    "        #g.add_edge(\"A\", \"C\", arrowhead=\"standard\", arrowfoot=\"none\")\n",
    "\n",
    "        filename = path.join('output', 'testyed.graphml')\n",
    " \n",
    "        # Or, to pretty-print with whitespace:\n",
    "        g.write_graph(filename, pretty_print=True)\n",
    "        print(filename)\n",
    "        \n"
   ]
  },
  {
   "cell_type": "code",
   "execution_count": 75,
   "metadata": {},
   "outputs": [
    {
     "name": "stdout",
     "output_type": "stream",
     "text": [
      "output/testyed.graphml\n"
     ]
    }
   ],
   "source": [
    "YedBuilder.build(G)"
   ]
  },
  {
   "cell_type": "code",
   "execution_count": null,
   "metadata": {},
   "outputs": [],
   "source": []
  },
  {
   "cell_type": "code",
   "execution_count": null,
   "metadata": {},
   "outputs": [],
   "source": []
  },
  {
   "cell_type": "code",
   "execution_count": 51,
   "metadata": {},
   "outputs": [],
   "source": [
    "class YedBuilderTest:\n",
    "    @staticmethod\n",
    "    def build(G):\n",
    "        g = pyyed.Graph()\n",
    "\n",
    "        n1 = g.add_node(\"A\", label=\"A\", shape=\"roundrectangle\", shape_fill=\"#FFFFFF\")\n",
    "        n2 = g.add_node(\"B\", label=\"B\", shape=\"roundrectangle\", shape_fill=\"#FFFFFF\")\n",
    "        n3 = g.add_node(\"C\", label=\"C\", shape=\"roundrectangle\", shape_fill=\"#FFFFFF\")\n",
    "        n4 = g.add_node(\"D\", label=\"D\", shape=\"roundrectangle\", shape_fill=\"#FFFFFF\")\n",
    "        n5 = g.add_node(\"E\", label=\"E\", shape=\"roundrectangle\", shape_fill=\"#FFFFFF\")\n",
    "\n",
    "        g.add_edge(\"A\", \"C\", arrowhead=\"standard\", arrowfoot=\"none\")\n",
    "        g.add_edge(\"B\", \"C\", arrowhead=\"standard\", arrowfoot=\"none\")\n",
    "        g.add_edge(\"C\", \"D\", arrowhead=\"standard\", arrowfoot=\"none\")\n",
    "        g.add_edge(\"C\", \"E\", arrowhead=\"standard\", arrowfoot=\"none\")\n",
    "\n",
    "        #g.add_node('abc', font_size=\"72\", height=\"100\", shape_fill=\"#FFFFFF\")\n",
    "\n",
    "        #g.add_edge('foo', 'foo1', label=\"EDGE!\", width=\"3.0\", color=\"#0000FF\", \n",
    "        #               arrowhead=\"white_diamond\", arrowfoot=\"standard\", line_type=\"dotted\")\n",
    "\n",
    "        # file content\n",
    "        #print(g.get_graph())\n",
    "\n",
    "        filename = path.join('output', 'testyed.graphml')\n",
    "        # To write to file:\n",
    "        #with open('test_graph.graphml', 'w') as fp:\n",
    "        #    fp.write(g.get_graph())\n",
    "\n",
    "        # Or:\n",
    "        #g.write_graph('example.graphml')\n",
    "\n",
    "        # Or, to pretty-print with whitespace:\n",
    "        g.write_graph(filename, pretty_print=True)\n",
    "        print(filename)\n",
    "        \n"
   ]
  },
  {
   "cell_type": "code",
   "execution_count": null,
   "metadata": {},
   "outputs": [],
   "source": [
    "YedBuilderTest.build(G)"
   ]
  },
  {
   "cell_type": "code",
   "execution_count": null,
   "metadata": {},
   "outputs": [],
   "source": []
  },
  {
   "cell_type": "code",
   "execution_count": 28,
   "metadata": {},
   "outputs": [],
   "source": [
    "import pygraphml as gml\n",
    "import tempfile"
   ]
  },
  {
   "cell_type": "code",
   "execution_count": 33,
   "metadata": {},
   "outputs": [],
   "source": [
    "class GraphMLBuilderTest:\n",
    "    @staticmethod\n",
    "    def build(G):\n",
    "        g = gml.Graph()\n",
    "        \n",
    "        n1 = g.add_node(\"A\")\n",
    "        n2 = g.add_node(\"B\")\n",
    "        n3 = g.add_node(\"C\")\n",
    "        n4 = g.add_node(\"D\")\n",
    "        n5 = g.add_node(\"E\")\n",
    "\n",
    "        # Add attribute\n",
    "        n1['color'] = 'red'\n",
    "\n",
    "        g.add_edge(n1, n3)\n",
    "        g.add_edge(n2, n3)\n",
    "        g.add_edge(n3, n4)\n",
    "        g.add_edge(n3, n5)\n",
    "\n",
    "        filename = path.join('output', 'testpygraphml.graphml')\n",
    "        #fname = tempfile.mktemp()\n",
    "        parser = gml.GraphMLParser()\n",
    "        #parser.write(g, fname)\n",
    "        parser.write(g, filename)\n",
    "        print(filename)\n",
    "        \n",
    "        # back - parser\n",
    "        # parser = GraphMLParser()\n",
    "        # g = parser.parse(fname)\n",
    "\n",
    "        # g.show()\n",
    "        # Read attribute\n",
    "        # print(n['color'])\n"
   ]
  },
  {
   "cell_type": "code",
   "execution_count": 34,
   "metadata": {},
   "outputs": [
    {
     "name": "stdout",
     "output_type": "stream",
     "text": [
      "output/testpygraphml.graphml\n"
     ]
    }
   ],
   "source": [
    "GraphMLBuilder.build(G)"
   ]
  },
  {
   "cell_type": "code",
   "execution_count": null,
   "metadata": {},
   "outputs": [],
   "source": []
  },
  {
   "cell_type": "code",
   "execution_count": null,
   "metadata": {},
   "outputs": [],
   "source": []
  },
  {
   "cell_type": "code",
   "execution_count": null,
   "metadata": {},
   "outputs": [],
   "source": []
  },
  {
   "cell_type": "code",
   "execution_count": null,
   "metadata": {},
   "outputs": [],
   "source": []
  },
  {
   "cell_type": "code",
   "execution_count": null,
   "metadata": {},
   "outputs": [],
   "source": [
    "from bs4 import BeautifulSoup\n",
    "\n",
    "fp = \"files/tes.graphml\"\n",
    "\n",
    "with open(fp) as file:\n",
    "    soup = BeautifulSoup(file, \"lxml\")\n",
    "\n",
    "    nodes = soup.findAll(\"node\", {\"yfiles.foldertype\":\"\"})\n",
    "    groups = soup.find_all(\"node\", {\"yfiles.foldertype\":\"group\"})\n",
    "    edges = soup.findAll(\"edge\")"
   ]
  },
  {
   "cell_type": "code",
   "execution_count": null,
   "metadata": {},
   "outputs": [],
   "source": [
    "for node in G.nodes(data=True):\n",
    "    print node"
   ]
  },
  {
   "cell_type": "code",
   "execution_count": null,
   "metadata": {},
   "outputs": [],
   "source": [
    "from ipywidgets import Output\n",
    "from IPython.display import display\n",
    "from pprint import pformat\n",
    "\n",
    "out = Output()\n",
    "\n",
    "def log_clicks(node):\n",
    "    with out:\n",
    "        print(f'clicked: {pformat(node)}')\n",
    "\n",
    "def log_mouseovers(node):\n",
    "    with out:\n",
    "        print(f'mouseover: {pformat(node)}')\n",
    "\n",
    "cyto.on('node', 'click', log_clicks)\n",
    "cyto.on('node', 'mouseover', log_mouseovers)\n"
   ]
  },
  {
   "cell_type": "code",
   "execution_count": null,
   "metadata": {},
   "outputs": [],
   "source": []
  }
 ],
 "metadata": {
  "kernelspec": {
   "display_name": "Python 3",
   "language": "python",
   "name": "python3"
  },
  "language_info": {
   "codemirror_mode": {
    "name": "ipython",
    "version": 3
   },
   "file_extension": ".py",
   "mimetype": "text/x-python",
   "name": "python",
   "nbconvert_exporter": "python",
   "pygments_lexer": "ipython3",
   "version": "3.8.5"
  }
 },
 "nbformat": 4,
 "nbformat_minor": 2
}
