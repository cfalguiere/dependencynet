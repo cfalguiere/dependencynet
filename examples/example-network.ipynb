{
 "cells": [
  {
   "cell_type": "code",
   "execution_count": 20,
   "metadata": {},
   "outputs": [],
   "source": [
    "from os import path\n",
    "import logging\n",
    "\n",
    "import pandas as pd"
   ]
  },
  {
   "cell_type": "code",
   "execution_count": 21,
   "metadata": {},
   "outputs": [],
   "source": [
    "import sys\n",
    "sys.path.append(\"../\") # go to parent dir"
   ]
  },
  {
   "cell_type": "code",
   "execution_count": 22,
   "metadata": {},
   "outputs": [],
   "source": [
    "from dependencynet.schema import SchemaBuilder\n",
    "from dependencynet.model import ModelBuilder, ModelStorageService\n",
    "from dependencynet.network.graphbuilder import GraphBuilder, LevelNode, ResourceNode\n",
    "from dependencynet.network.stylebuilder import StyleBuilder\n",
    "from dependencynet.network.graphviewer import GraphViewer\n",
    "from dependencynet.network.graphml import GraphMLConverter"
   ]
  },
  {
   "cell_type": "code",
   "execution_count": 23,
   "metadata": {},
   "outputs": [],
   "source": [
    "logging.basicConfig()\n",
    "logger = logging.getLogger('dependencynet')\n",
    "logger.setLevel(logging.INFO)"
   ]
  },
  {
   "cell_type": "code",
   "execution_count": 24,
   "metadata": {},
   "outputs": [],
   "source": [
    "filename = path.join('..', 'tests', 'resources', 'data', 'compact', 'towns.csv')\n",
    "data = pd.read_csv(filename, delimiter=';')\n",
    "properties = ['area', 'country', 'town', 'monument']\n",
    "source_df = pd.DataFrame(data, columns=properties)"
   ]
  },
  {
   "cell_type": "code",
   "execution_count": 25,
   "metadata": {},
   "outputs": [
    {
     "name": "stderr",
     "output_type": "stream",
     "text": [
      "INFO:dependencynet.schema:rendering schema\n",
      "INFO:dependencynet.datasource.loaders.levelsloader:extract_items_root keys=['area'] id_pattern=A{id:02d} => shape=(2, 4)\n",
      "INFO:dependencynet.datasource.loaders.levelsloader:extract_items_root keys=['area', 'country'] id_pattern={id_parent}C{id:02d} => shape=(4, 6)\n",
      "INFO:dependencynet.datasource.loaders.levelsloader:extract_items_root keys=['area', 'country', 'town'] id_pattern={id_parent}T{id:02d} => shape=(5, 7)\n",
      "INFO:dependencynet.datasource.loaders.resourcesloader:__extract_resource keys=['area', 'country', 'town', 'monument'] id_pattern={id_parent}M{id:02d} => shape=(4, 8)\n"
     ]
    }
   ],
   "source": [
    "schema_towns = SchemaBuilder().level('area', 'A').level('country', 'C').level('town', 'T') \\\n",
    "                              .resource('monument', 'M').render()\n",
    "\n",
    "model = ModelBuilder().from_compact(source_df) \\\n",
    "                      .with_schema(schema_towns) \\\n",
    "                      .render()"
   ]
  },
  {
   "cell_type": "code",
   "execution_count": null,
   "metadata": {},
   "outputs": [],
   "source": []
  },
  {
   "cell_type": "markdown",
   "metadata": {},
   "source": [
    "nodes and edges"
   ]
  },
  {
   "cell_type": "code",
   "execution_count": 26,
   "metadata": {},
   "outputs": [],
   "source": [
    "class AreaNode(LevelNode):\n",
    "    def __init__(self, properties):\n",
    "        super().__init__(properties, 'area')"
   ]
  },
  {
   "cell_type": "code",
   "execution_count": 27,
   "metadata": {},
   "outputs": [],
   "source": [
    "class CountryNode(LevelNode):\n",
    "    def __init__(self, properties):\n",
    "        super().__init__(properties, 'country')"
   ]
  },
  {
   "cell_type": "code",
   "execution_count": 28,
   "metadata": {},
   "outputs": [],
   "source": [
    "class TownNode(LevelNode):\n",
    "    def __init__(self, properties):\n",
    "        super().__init__(properties, 'town')"
   ]
  },
  {
   "cell_type": "code",
   "execution_count": 29,
   "metadata": {},
   "outputs": [],
   "source": [
    "class MonumentNode(ResourceNode):\n",
    "    def __init__(self, properties):\n",
    "        super().__init__(properties, 'monument')"
   ]
  },
  {
   "cell_type": "code",
   "execution_count": 30,
   "metadata": {},
   "outputs": [
    {
     "name": "stderr",
     "output_type": "stream",
     "text": [
      "INFO:dependencynet.network.graphbuilder:creating nodes for each level dataset\n",
      "INFO:dependencynet.network.graphbuilder:creating edges between levels\n",
      "INFO:dependencynet.network.graphbuilder:creating nodes for resource dataset monument\n",
      "INFO:dependencynet.network.graphbuilder:creating edges between lower level and resource\n"
     ]
    }
   ],
   "source": [
    "gb = GraphBuilder(model)\n",
    "gb.register_node_type('area', AreaNode)\n",
    "gb.register_node_type('country', CountryNode)\n",
    "gb.register_node_type('town', TownNode)\n",
    "gb.register_node_type('monument', MonumentNode)\n",
    "\n",
    "\n",
    "gb.add_nodes_from_levels()\n",
    "gb.add_nodes_from_resource('monument')\n",
    "graph_model = gb.render()"
   ]
  },
  {
   "cell_type": "code",
   "execution_count": 31,
   "metadata": {},
   "outputs": [],
   "source": [
    "#display(graph_model.G.nodes)"
   ]
  },
  {
   "cell_type": "code",
   "execution_count": 32,
   "metadata": {},
   "outputs": [],
   "source": [
    "#display(graph_model.G.edges)"
   ]
  },
  {
   "cell_type": "code",
   "execution_count": 33,
   "metadata": {},
   "outputs": [],
   "source": [
    "sb = StyleBuilder(schema_towns)\n",
    "graph_style = sb.render()"
   ]
  },
  {
   "cell_type": "code",
   "execution_count": 34,
   "metadata": {},
   "outputs": [
    {
     "name": "stderr",
     "output_type": "stream",
     "text": [
      "DEBUG:matplotlib.pyplot:Loaded backend module://ipykernel.pylab.backend_inline version unknown.\n"
     ]
    }
   ],
   "source": [
    "import matplotlib.pyplot as plt\n",
    "%matplotlib inline"
   ]
  },
  {
   "cell_type": "markdown",
   "metadata": {},
   "source": [
    "dagre klay"
   ]
  },
  {
   "cell_type": "code",
   "execution_count": 35,
   "metadata": {},
   "outputs": [],
   "source": [
    "gv = GraphViewer(graph_model)\n",
    "cytoscapeobj = gv.render('dagre', graph_style, 'LR')"
   ]
  },
  {
   "cell_type": "code",
   "execution_count": 36,
   "metadata": {},
   "outputs": [
    {
     "data": {
      "application/vnd.jupyter.widget-view+json": {
       "model_id": "64bf813d675f4c3c9a67c5b782bafbd3",
       "version_major": 2,
       "version_minor": 0
      },
      "text/plain": [
       "CytoscapeWidget(cytoscape_layout={'name': 'dagre', 'nodeSpacing': 10, 'edgeLenghVal': 10, 'rankDir': 'LR'}, cy…"
      ]
     },
     "metadata": {},
     "output_type": "display_data"
    }
   ],
   "source": [
    "display(cytoscapeobj)"
   ]
  },
  {
   "cell_type": "code",
   "execution_count": null,
   "metadata": {},
   "outputs": [],
   "source": []
  },
  {
   "cell_type": "code",
   "execution_count": 37,
   "metadata": {},
   "outputs": [
    {
     "name": "stderr",
     "output_type": "stream",
     "text": [
      "INFO:dependencynet.network.graphml:file saved under output/testyed.graphml\n"
     ]
    }
   ],
   "source": [
    "filename = path.join('output', 'testyed.graphml')\n",
    "GraphMLConverter(graph_model, graph_style, schema_towns).save(filename)"
   ]
  },
  {
   "cell_type": "code",
   "execution_count": null,
   "metadata": {},
   "outputs": [],
   "source": []
  },
  {
   "cell_type": "code",
   "execution_count": 38,
   "metadata": {
    "scrolled": true
   },
   "outputs": [
    {
     "name": "stdout",
     "output_type": "stream",
     "text": [
      "AreaNode(classes='area level', data={'id': 'A01', 'label': 'A01 Europe'}, position={})\n",
      "AreaNode(classes='area level', data={'id': 'A02', 'label': 'A02 Asia'}, position={})\n",
      "CountryNode(classes='country level', data={'id': 'A01C01', 'label': 'A01C01 France'}, position={})\n",
      "CountryNode(classes='country level', data={'id': 'A01C02', 'label': 'A01C02 UK'}, position={})\n",
      "CountryNode(classes='country level', data={'id': 'A01C03', 'label': 'A01C03 Italia'}, position={})\n",
      "CountryNode(classes='country level', data={'id': 'A02C01', 'label': 'A02C01 Japan'}, position={})\n",
      "TownNode(classes='town level', data={'id': 'A01C01T01', 'label': 'A01C01T01 Paris'}, position={})\n",
      "TownNode(classes='town level', data={'id': 'A01C01T02', 'label': 'A01C01T02 Lyon'}, position={})\n",
      "TownNode(classes='town level', data={'id': 'A01C02T01', 'label': 'A01C02T01 London'}, position={})\n",
      "TownNode(classes='town level', data={'id': 'A01C03T01', 'label': 'A01C03T01 Rome'}, position={})\n",
      "TownNode(classes='town level', data={'id': 'A02C01T01', 'label': 'A02C01T01 Tokyo'}, position={})\n",
      "MonumentNode(classes='monument resource', data={'id': 'A01C01T01M01', 'label': 'A01C01T01M01 Eiffel Tower,Louvre Museum'}, position={})\n",
      "MonumentNode(classes='monument resource', data={'id': 'A01C02T01M01', 'label': 'A01C02T01M01 Tower Bridge,Tower of London'}, position={})\n",
      "MonumentNode(classes='monument resource', data={'id': 'A01C03T01M01', 'label': 'A01C03T01M01 Colosseum'}, position={})\n",
      "MonumentNode(classes='monument resource', data={'id': 'A02C01T01M01', 'label': 'A02C01T01M01 Senso-ji'}, position={})\n"
     ]
    }
   ],
   "source": [
    "for node in graph_model.G.nodes(data=True):\n",
    "    print(node[0])"
   ]
  },
  {
   "cell_type": "code",
   "execution_count": null,
   "metadata": {},
   "outputs": [],
   "source": []
  },
  {
   "cell_type": "code",
   "execution_count": null,
   "metadata": {},
   "outputs": [],
   "source": []
  }
 ],
 "metadata": {
  "kernelspec": {
   "display_name": "Python 3",
   "language": "python",
   "name": "python3"
  },
  "language_info": {
   "codemirror_mode": {
    "name": "ipython",
    "version": 3
   },
   "file_extension": ".py",
   "mimetype": "text/x-python",
   "name": "python",
   "nbconvert_exporter": "python",
   "pygments_lexer": "ipython3",
   "version": "3.8.5"
  },
  "widgets": {
   "application/vnd.jupyter.widget-state+json": {
    "state": {
     "006abd3d4ce24a66accf014a0686b290": {
      "model_module": "jupyter-cytoscape",
      "model_module_version": "^1.2.0",
      "model_name": "NodeModel",
      "state": {
       "_model_module_version": "^1.2.0",
       "_view_module_version": "^1.2.0",
       "classes": "country level",
       "data": {
        "id": "A01C02",
        "label": "A01C02 UK"
       },
       "grabbable": true,
       "grabbed": false,
       "selectable": false
      }
     },
     "0102b048ac1444f882023bdcbd4ec7af": {
      "model_module": "jupyter-cytoscape",
      "model_module_version": "^1.2.0",
      "model_name": "GraphModel",
      "state": {
       "_adj": {
        "A01": {},
        "A01C01": {},
        "A01C02": {},
        "A01C03": {},
        "A02": {},
        "A02C01": {}
       },
       "_model_module_version": "^1.2.0",
       "_view_module": "jupyter-cytoscape",
       "_view_module_version": "^1.2.0",
       "edges": [
        "IPY_MODEL_1e57bdea86b74f569381e376e51f5878",
        "IPY_MODEL_f7589a71165a4237ac13edf9c78c4fb2",
        "IPY_MODEL_9f270846fbe64655a7ee2610b5f3523b",
        "IPY_MODEL_5bf35b2b1f1844c089cb03034b2d6976"
       ],
       "nodes": [
        "IPY_MODEL_1a3a850542ed4b339d451c1136ca49be",
        "IPY_MODEL_884cfe0b00e4449a87aec173854bb144",
        "IPY_MODEL_f885bcad703a42e989459e7319d4cdc5",
        "IPY_MODEL_0bfd9ade118041729fe9cc61c1b1d643",
        "IPY_MODEL_67404249300f4516a618bda34e929ded",
        "IPY_MODEL_f089ac3cafc640718326f1bdc22837f0"
       ]
      }
     },
     "017bb3f5f696409c8300b502238d1b7b": {
      "model_module": "jupyter-cytoscape",
      "model_module_version": "^1.2.0",
      "model_name": "NodeModel",
      "state": {
       "_model_module_version": "^1.2.0",
       "_view_module_version": "^1.2.0",
       "classes": "country level",
       "data": {
        "id": "A01C03",
        "label": "A01C03 Italia"
       },
       "grabbable": true,
       "grabbed": false,
       "position": {
        "x": 134,
        "y": 128
       },
       "selectable": false
      }
     },
     "028e18c491d348849b88e24c52c41efe": {
      "model_module": "jupyter-cytoscape",
      "model_module_version": "^1.2.0",
      "model_name": "EdgeModel",
      "state": {
       "_model_module_version": "^1.2.0",
       "_view_module_version": "^1.2.0",
       "classes": " directed ",
       "data": {
        "id": "fbe026f8-cfba-4ebb-ace7-9e8ff282a1c2",
        "label": "country",
        "source": "A02",
        "target": "A02C01"
       },
       "selectable": false
      }
     },
     "02933a3ba3de4aa2be33b009115b9e22": {
      "model_module": "jupyter-cytoscape",
      "model_module_version": "^1.2.0",
      "model_name": "GraphModel",
      "state": {
       "_adj": {
        "0": {},
        "1": {},
        "2": {},
        "3": {},
        "4": {}
       },
       "_model_module_version": "^1.2.0",
       "_view_module": "jupyter-cytoscape",
       "_view_module_version": "^1.2.0",
       "edges": [
        "IPY_MODEL_f5e4091f33354abe814f646c1311fae5",
        "IPY_MODEL_c75b24e8f1554356a8109c2c916ee235",
        "IPY_MODEL_38854039bf8643ecb22999c867aed4b0",
        "IPY_MODEL_3c5bce3983ed42e8a8ac488eb493a7ec",
        "IPY_MODEL_1042fe076237474ea4580921e3a9df11",
        "IPY_MODEL_02f6245421a3445d8decc67b5c27ccf4",
        "IPY_MODEL_986add53b07948c3a537ccc1449c1311",
        "IPY_MODEL_603fc46b6b4e439a8e2b07a5db4f4e78",
        "IPY_MODEL_752c419f157b4a1bbc0af11ad6a5ec37",
        "IPY_MODEL_a2d3c875dc6a4098995229f81f3b3ac5"
       ],
       "nodes": [
        "IPY_MODEL_56b3c1ec5049441a8628fc53187aa33f",
        "IPY_MODEL_a47c11c771224be5b3f61eb9756737c8",
        "IPY_MODEL_3feadd8a4b944cf293de0131dcacc01c",
        "IPY_MODEL_ed81005ec78e4bb6bc9c9daa3a06c977",
        "IPY_MODEL_46a82d35f5e645e2bffe05e349ed5c94"
       ]
      }
     },
     "02d9efff3a2f408dbd2813075bf6e2e9": {
      "model_module": "jupyter-cytoscape",
      "model_module_version": "^1.2.0",
      "model_name": "GraphModel",
      "state": {
       "_adj": {
        "A01": {},
        "A01C01": {},
        "A01C02": {},
        "A01C03": {},
        "A02": {},
        "A02C01": {}
       },
       "_model_module_version": "^1.2.0",
       "_view_module": "jupyter-cytoscape",
       "_view_module_version": "^1.2.0",
       "edges": [
        "IPY_MODEL_565a3b5acc514e04bf4c5de2cfda11c4",
        "IPY_MODEL_67ab61fb949949b4bd67b0475191870b",
        "IPY_MODEL_5a11890f87be477c9adc0fdd84c65270",
        "IPY_MODEL_ec36dc56ffc74cf38b28ac39d62f4880"
       ],
       "nodes": [
        "IPY_MODEL_065210f6857f4454882a1b39e6af4105",
        "IPY_MODEL_043ac6f927d54c89b42911f6d9e7c9b3",
        "IPY_MODEL_505d757d08cb45f2b08a6e56c7ee4c58",
        "IPY_MODEL_7e8b129b5fc34307b18bc9ec445a486b",
        "IPY_MODEL_941ccfebbc7141f7bf43ee4e43903123",
        "IPY_MODEL_7c9fbdc35ef8423bac5aa0053ae549cb"
       ]
      }
     },
     "02f6245421a3445d8decc67b5c27ccf4": {
      "model_module": "jupyter-cytoscape",
      "model_module_version": "^1.2.0",
      "model_name": "EdgeModel",
      "state": {
       "_model_module_version": "^1.2.0",
       "_view_module_version": "^1.2.0",
       "classes": " directed ",
       "data": {
        "id": "ca4e3eaf-566b-4c0c-baca-c7cbab241af6",
        "source": "1",
        "target": "3"
       },
       "selectable": false
      }
     },
     "02fa1ae95b4947f0b20cdd69834d34bb": {
      "model_module": "jupyter-cytoscape",
      "model_module_version": "^1.2.0",
      "model_name": "CytoscapeModel",
      "state": {
       "_interaction_handlers": {},
       "_model_module_version": "^1.2.0",
       "_view_module_version": "^1.2.0",
       "auto_ungrabify": false,
       "autolock": false,
       "cytoscape_layout": {
        "edgeLenghVal": 5,
        "name": "dagre",
        "nodeSpacing": 10,
        "rankDir": "LR"
       },
       "cytoscape_style": [
        {
         "css": {
          "background-color": "black",
          "color": "white",
          "content": "data(label)",
          "font-size": "4pt",
          "height": "0.8em",
          "label": "data(id)",
          "shape": "roundrectangle",
          "text-halign": "center",
          "text-max-width": "5em",
          "text-valign": "center",
          "text-wrap": "wrap",
          "width": "5em"
         },
         "selector": "node.area"
        },
        {
         "css": {
          "background-color": "black",
          "color": "white",
          "content": "data(label)",
          "font-size": "4pt",
          "height": "0.8em",
          "label": "data(id)",
          "shape": "roundrectangle",
          "text-halign": "center",
          "text-max-width": "7em",
          "text-valign": "center",
          "text-wrap": "wrap",
          "width": "7em"
         },
         "selector": "node.country"
        },
        {
         "css": {
          "curve-style": "bezier",
          "line-color": "gray",
          "shape": "arrow",
          "target-arrow-color": "gray",
          "target-arrow-shape": "triangle",
          "width": 1
         },
         "selector": "edge"
        }
       ],
       "desktop_tap_threshold": 4,
       "graph": "IPY_MODEL_dbee3ab18af2450a94814356169e765b",
       "headless": false,
       "hide_edges_on_viewport": false,
       "layout": "IPY_MODEL_4c237e4bc3e74f9aa5b84db6b9ca896d",
       "max_zoom": 1e+50,
       "min_zoom": 1e-50,
       "motion_blur": false,
       "motion_blur_opacity": 0.2,
       "panning_enabled": true,
       "pixel_ratio": "auto",
       "rendered_position": {
        "renderedPosition": {
         "x": 100,
         "y": 100
        }
       },
       "selection_type": "single",
       "style_enabled": true,
       "texture_on_viewport": false,
       "tooltip_source": "label",
       "touch_tap_threshold": 8,
       "user_panning_enabled": true,
       "user_zooming_enabled": true,
       "wheel_sensitivity": 1,
       "zoom": 2,
       "zooming_enabled": true
      }
     },
     "033639878c784c1685c1a331912ced2a": {
      "model_module": "jupyter-cytoscape",
      "model_module_version": "^1.2.0",
      "model_name": "NodeModel",
      "state": {
       "_model_module_version": "^1.2.0",
       "_view_module_version": "^1.2.0",
       "classes": "country",
       "data": {
        "id": "A02C01",
        "label": "A02C01 Japan"
       },
       "grabbable": true,
       "grabbed": false,
       "position": {
        "x": 110,
        "y": 20
       },
       "selectable": false
      }
     },
     "03a23a958c40432fa25d92fcc7c58231": {
      "model_module": "jupyter-cytoscape",
      "model_module_version": "^1.2.0",
      "model_name": "EdgeModel",
      "state": {
       "_model_module_version": "^1.2.0",
       "_view_module_version": "^1.2.0",
       "classes": " directed ",
       "data": {
        "id": "9f332adc-e89b-4484-ad3e-c4350263b968",
        "label": "area_country",
        "source": "A02",
        "target": "A02C01"
       },
       "selectable": false
      }
     },
     "03ed2d7d9a404caba70261656e964f93": {
      "model_module": "jupyter-cytoscape",
      "model_module_version": "^1.2.0",
      "model_name": "NodeModel",
      "state": {
       "_model_module_version": "^1.2.0",
       "_view_module_version": "^1.2.0",
       "classes": "country",
       "data": {
        "id": "A01C02",
        "label": "A01C02 UK"
       },
       "grabbable": true,
       "grabbed": false,
       "position": {
        "x": 127.99999952316284,
        "y": 63.20000047683717
       },
       "selectable": false
      }
     },
     "043ac6f927d54c89b42911f6d9e7c9b3": {
      "model_module": "jupyter-cytoscape",
      "model_module_version": "^1.2.0",
      "model_name": "NodeModel",
      "state": {
       "_model_module_version": "^1.2.0",
       "_view_module_version": "^1.2.0",
       "classes": "area",
       "data": {
        "id": "A02",
        "label": "A02 Asia"
       },
       "grabbable": true,
       "grabbed": false,
       "position": {
        "x": 20,
        "y": 20
       },
       "selectable": false
      }
     },
     "0470aa47bac5468cad02b013f61c4a55": {
      "model_module": "jupyter-cytoscape",
      "model_module_version": "^1.2.0",
      "model_name": "NodeModel",
      "state": {
       "_model_module_version": "^1.2.0",
       "_view_module_version": "^1.2.0",
       "classes": "country",
       "data": {
        "id": "A01C02",
        "label": "A01C02 UK"
       },
       "grabbable": true,
       "grabbed": false,
       "position": {
        "x": 134,
        "y": 66.8
       },
       "selectable": false
      }
     },
     "04ff263b649e4f75980a37adc2c68943": {
      "model_module": "jupyter-cytoscape",
      "model_module_version": "^1.2.0",
      "model_name": "GraphModel",
      "state": {
       "_adj": {
        "A01": {},
        "A01C01": {},
        "A01C02": {},
        "A01C03": {},
        "A02": {},
        "A02C01": {}
       },
       "_model_module_version": "^1.2.0",
       "_view_module": "jupyter-cytoscape",
       "_view_module_version": "^1.2.0",
       "edges": [
        "IPY_MODEL_d13c52aeca364593a368f26c3708f395",
        "IPY_MODEL_9a697797feec482d9b3a9edfbb8840cb",
        "IPY_MODEL_d08a07c183ab4d70870641a90bf65e5f",
        "IPY_MODEL_7e578dc8c489423e8beac8db5e354532"
       ],
       "nodes": [
        "IPY_MODEL_db7ae8bc57d34e4380340a3de3920463",
        "IPY_MODEL_d84363806aec463f972f8150e5ebdab7",
        "IPY_MODEL_68e8172c9d71445c8df0442869ca4688",
        "IPY_MODEL_cbfc120f24ab4295b3b795cb4c782164",
        "IPY_MODEL_4a570fe8e64848efa40401a1e96cf584",
        "IPY_MODEL_033639878c784c1685c1a331912ced2a"
       ]
      }
     },
     "050c7098349e4101b5b1b10be23ca7b0": {
      "model_module": "jupyter-cytoscape",
      "model_module_version": "^1.2.0",
      "model_name": "NodeModel",
      "state": {
       "_model_module_version": "^1.2.0",
       "_view_module_version": "^1.2.0",
       "classes": "area level",
       "data": {
        "id": "A02",
        "label": "A02 Asia"
       },
       "grabbable": true,
       "grabbed": false,
       "selectable": false
      }
     },
     "05407866c3ef415e95e66b77798732ac": {
      "model_module": "jupyter-cytoscape",
      "model_module_version": "^1.2.0",
      "model_name": "NodeModel",
      "state": {
       "_model_module_version": "^1.2.0",
       "_view_module_version": "^1.2.0",
       "classes": "country",
       "data": {
        "id": "A01C02",
        "label": "A01C02 UK"
       },
       "grabbable": true,
       "grabbed": false,
       "position": {
        "x": 169,
        "y": 66.8
       },
       "selectable": false
      }
     },
     "05918203470c410299b580e6c7879d86": {
      "model_module": "jupyter-cytoscape",
      "model_module_version": "^1.2.0",
      "model_name": "GraphModel",
      "state": {
       "_adj": {},
       "_model_module_version": "^1.2.0",
       "_view_module": "jupyter-cytoscape",
       "_view_module_version": "^1.2.0"
      }
     },
     "05ffe411fac74730aa47331efcd411e9": {
      "model_module": "jupyter-cytoscape",
      "model_module_version": "^1.2.0",
      "model_name": "EdgeModel",
      "state": {
       "_model_module_version": "^1.2.0",
       "_view_module_version": "^1.2.0",
       "classes": " directed ",
       "data": {
        "id": "96c7ff42-7536-4c02-97ca-3951e4c8f4da",
        "label": "country",
        "source": "A01",
        "target": "A01C03"
       },
       "selectable": false
      }
     },
     "064bf6cf15604ba5a9648a9fb6ce77d2": {
      "model_module": "jupyter-cytoscape",
      "model_module_version": "^1.2.0",
      "model_name": "GraphModel",
      "state": {
       "_adj": {},
       "_model_module_version": "^1.2.0",
       "_view_module": "jupyter-cytoscape",
       "_view_module_version": "^1.2.0"
      }
     },
     "065210f6857f4454882a1b39e6af4105": {
      "model_module": "jupyter-cytoscape",
      "model_module_version": "^1.2.0",
      "model_name": "NodeModel",
      "state": {
       "_model_module_version": "^1.2.0",
       "_view_module_version": "^1.2.0",
       "classes": "area",
       "data": {
        "id": "A01",
        "label": "A01 Europe"
       },
       "grabbable": true,
       "grabbed": false,
       "position": {
        "x": 20,
        "y": 122.80000047683717
       },
       "selectable": false
      }
     },
     "06d5aa8fc2714df79b58921a2166b1c2": {
      "model_module": "jupyter-cytoscape",
      "model_module_version": "^1.2.0",
      "model_name": "GraphModel",
      "state": {
       "_adj": {
        "A01": {},
        "A01C01": {},
        "A01C02": {},
        "A01C03": {},
        "A02": {},
        "A02C01": {}
       },
       "_model_module_version": "^1.2.0",
       "_view_module": "jupyter-cytoscape",
       "_view_module_version": "^1.2.0",
       "edges": [
        "IPY_MODEL_ff741796e4a343aab74512d108fb9851",
        "IPY_MODEL_72dfc22d25a84f86ad4a5452283da09c",
        "IPY_MODEL_e12bfdf66bca404ab26bf1ecd46ccb6e",
        "IPY_MODEL_4550f71ab7d244d1985c0b3a8d14c19b"
       ],
       "nodes": [
        "IPY_MODEL_08f61535294b4cb39711436c7376ae1b",
        "IPY_MODEL_994fb5a70e89487f83e04541390d6b9d",
        "IPY_MODEL_5453c928066e497898127727e79b8082",
        "IPY_MODEL_0470aa47bac5468cad02b013f61c4a55",
        "IPY_MODEL_393a853793da4204896ada4f2599b4c6",
        "IPY_MODEL_d90b7b4a2f494e759f3aa1febe8758b0"
       ]
      }
     },
     "088e7138009445b6be8b44bb6f5b0bfe": {
      "model_module": "jupyter-cytoscape",
      "model_module_version": "^1.2.0",
      "model_name": "CytoscapeModel",
      "state": {
       "_interaction_handlers": {},
       "_model_module_version": "^1.2.0",
       "_view_module_version": "^1.2.0",
       "auto_ungrabify": false,
       "autolock": false,
       "cytoscape_layout": {
        "edgeLenghVal": 10,
        "name": "klay",
        "nodeSpacing": 15,
        "rankDir": "LR"
       },
       "cytoscape_style": [
        {
         "css": {
          "background-color": "black",
          "color": "white",
          "content": "data(label)",
          "font-size": "4pt",
          "height": "0.8em",
          "label": "data(id)",
          "shape": "roundrectangle",
          "text-halign": "center",
          "text-max-width": "5em",
          "text-valign": "center",
          "text-wrap": "wrap",
          "width": "5em"
         },
         "selector": "node.area"
        },
        {
         "css": {
          "background-color": "black",
          "color": "white",
          "content": "data(label)",
          "font-size": "4pt",
          "height": "0.8em",
          "label": "data(id)",
          "shape": "roundrectangle",
          "text-halign": "center",
          "text-max-width": "7em",
          "text-valign": "center",
          "text-wrap": "wrap",
          "width": "7em"
         },
         "selector": "node.country"
        },
        {
         "css": {
          "curve-style": "bezier",
          "line-color": "gray",
          "shape": "arrow",
          "target-arrow-color": "gray",
          "target-arrow-shape": "triangle",
          "width": 1
         },
         "selector": "edge"
        }
       ],
       "desktop_tap_threshold": 4,
       "graph": "IPY_MODEL_8f5c377448734ca7aad000e79e6362ea",
       "headless": false,
       "hide_edges_on_viewport": false,
       "layout": "IPY_MODEL_75f27139c55a47ffb6bc507b3a624fb4",
       "max_zoom": 1e+50,
       "min_zoom": 1e-50,
       "motion_blur": false,
       "motion_blur_opacity": 0.2,
       "panning_enabled": true,
       "pixel_ratio": "auto",
       "rendered_position": {
        "renderedPosition": {
         "x": 100,
         "y": 100
        }
       },
       "selection_type": "single",
       "style_enabled": true,
       "texture_on_viewport": false,
       "tooltip_source": "label",
       "touch_tap_threshold": 8,
       "user_panning_enabled": true,
       "user_zooming_enabled": true,
       "wheel_sensitivity": 1,
       "zoom": 2,
       "zooming_enabled": true
      }
     },
     "08a9dd3ac6164ccd924cc0e1fba40f55": {
      "model_module": "jupyter-cytoscape",
      "model_module_version": "^1.2.0",
      "model_name": "EdgeModel",
      "state": {
       "_model_module_version": "^1.2.0",
       "_view_module_version": "^1.2.0",
       "classes": " directed ",
       "data": {
        "id": "5f13f420-8f6a-4ec0-b9ff-1af75ce0f9ff",
        "label": "country",
        "source": "A01",
        "target": "A01C02"
       },
       "selectable": false
      }
     },
     "08f61535294b4cb39711436c7376ae1b": {
      "model_module": "jupyter-cytoscape",
      "model_module_version": "^1.2.0",
      "model_name": "NodeModel",
      "state": {
       "_model_module_version": "^1.2.0",
       "_view_module_version": "^1.2.0",
       "classes": "area",
       "data": {
        "id": "A01",
        "label": "A01 Europe"
       },
       "grabbable": true,
       "grabbed": false,
       "position": {
        "x": 28,
        "y": 66.8
       },
       "selectable": false
      }
     },
     "095c260177124875849fadc5fa977147": {
      "model_module": "jupyter-cytoscape",
      "model_module_version": "^1.2.0",
      "model_name": "NodeModel",
      "state": {
       "_model_module_version": "^1.2.0",
       "_view_module_version": "^1.2.0",
       "classes": "area level",
       "data": {
        "id": "A01",
        "label": "A01 Europe"
       },
       "grabbable": true,
       "grabbed": false,
       "position": {
        "x": 28,
        "y": 5.6000000000000005
       },
       "selectable": false
      }
     },
     "098867ec23134d03b24df53eb8ae717e": {
      "model_module": "jupyter-cytoscape",
      "model_module_version": "^1.2.0",
      "model_name": "EdgeModel",
      "state": {
       "_model_module_version": "^1.2.0",
       "_view_module_version": "^1.2.0",
       "classes": " directed ",
       "data": {
        "id": "a4ab40c4-21dd-4b47-befd-2dcab18a6b5b",
        "label": "country",
        "source": "A01",
        "target": "A01C02"
       },
       "selectable": false
      }
     },
     "09eeaa9046c74bd099aa7cda13d3cbaa": {
      "model_module": "jupyter-cytoscape",
      "model_module_version": "^1.2.0",
      "model_name": "GraphModel",
      "state": {
       "_adj": {},
       "_model_module_version": "^1.2.0",
       "_view_module": "jupyter-cytoscape",
       "_view_module_version": "^1.2.0"
      }
     },
     "0a35acb1d8674de9a34bf50ad0e64980": {
      "model_module": "jupyter-cytoscape",
      "model_module_version": "^1.2.0",
      "model_name": "GraphModel",
      "state": {
       "_adj": {},
       "_model_module_version": "^1.2.0",
       "_view_module": "jupyter-cytoscape",
       "_view_module_version": "^1.2.0"
      }
     },
     "0ad80ad978534efa953809abd2b57fce": {
      "model_module": "jupyter-cytoscape",
      "model_module_version": "^1.2.0",
      "model_name": "EdgeModel",
      "state": {
       "_model_module_version": "^1.2.0",
       "_view_module_version": "^1.2.0",
       "classes": " directed ",
       "data": {
        "id": "c5a85ed3-9ef9-4e29-b116-3eba764dbe57",
        "label": "country",
        "source": "A01",
        "target": "A01C02"
       },
       "selectable": false
      }
     },
     "0b0b34582dfc4e78bdb3b653f3840377": {
      "model_module": "jupyter-cytoscape",
      "model_module_version": "^1.2.0",
      "model_name": "EdgeModel",
      "state": {
       "_model_module_version": "^1.2.0",
       "_view_module_version": "^1.2.0",
       "classes": " directed ",
       "data": {
        "id": "eb8a67be-3714-4deb-9f0e-f71872b265a1",
        "label": "country",
        "source": "A01",
        "target": "A01C02"
       },
       "selectable": false
      }
     },
     "0b22a8a6ce6a4a90b5f493c1e7a4d891": {
      "model_module": "jupyter-cytoscape",
      "model_module_version": "^1.2.0",
      "model_name": "NodeModel",
      "state": {
       "_model_module_version": "^1.2.0",
       "_view_module_version": "^1.2.0",
       "classes": "area level",
       "data": {
        "id": "A01",
        "label": "A01 Europe"
       },
       "grabbable": true,
       "grabbed": false,
       "selectable": false
      }
     },
     "0b69a6cfc01a49a3a6c7561766e7d6f2": {
      "model_module": "jupyter-cytoscape",
      "model_module_version": "^1.2.0",
      "model_name": "NodeModel",
      "state": {
       "_model_module_version": "^1.2.0",
       "_view_module_version": "^1.2.0",
       "classes": "area",
       "data": {
        "id": "A02",
        "label": "A02 Asia"
       },
       "grabbable": true,
       "grabbed": false,
       "position": {
        "x": 35,
        "y": 189.20000000000002
       },
       "selectable": false
      }
     },
     "0bfd9ade118041729fe9cc61c1b1d643": {
      "model_module": "jupyter-cytoscape",
      "model_module_version": "^1.2.0",
      "model_name": "NodeModel",
      "state": {
       "_model_module_version": "^1.2.0",
       "_view_module_version": "^1.2.0",
       "classes": "country",
       "data": {
        "id": "A01C02",
        "label": "A01C02 UK"
       },
       "grabbable": true,
       "grabbed": false,
       "position": {
        "x": 148,
        "y": 66.8
       },
       "selectable": false
      }
     },
     "0c74bc3c74cd4f84a53e45e1e119a950": {
      "model_module": "jupyter-cytoscape",
      "model_module_version": "^1.2.0",
      "model_name": "EdgeModel",
      "state": {
       "_model_module_version": "^1.2.0",
       "_view_module_version": "^1.2.0",
       "classes": " directed ",
       "data": {
        "id": "7737e199-535e-4a44-b82e-4625f481f833",
        "label": "country",
        "source": "A01",
        "target": "A01C03"
       },
       "selectable": false
      }
     },
     "0d6e8592048b45fb96d7b8365e386f75": {
      "model_module": "jupyter-cytoscape",
      "model_module_version": "^1.2.0",
      "model_name": "NodeModel",
      "state": {
       "_model_module_version": "^1.2.0",
       "_view_module_version": "^1.2.0",
       "classes": "country level",
       "data": {
        "id": "A01C01",
        "label": "A01C01 France"
       },
       "grabbable": true,
       "grabbed": false,
       "position": {
        "x": 134,
        "y": 5.6000000000000005
       },
       "selectable": false
      }
     },
     "0e9f569e7c54455198db6b834055e9a0": {
      "model_module": "jupyter-cytoscape",
      "model_module_version": "^1.2.0",
      "model_name": "NodeModel",
      "state": {
       "_model_module_version": "^1.2.0",
       "_view_module_version": "^1.2.0",
       "classes": "country",
       "data": {
        "id": "A01C01",
        "label": "A01C01 France"
       },
       "grabbable": true,
       "grabbed": false,
       "position": {
        "x": 20,
        "y": 106.40000095367432
       },
       "selectable": false
      }
     },
     "0f5c0351fbd142048737ff15cd708850": {
      "model_module": "jupyter-cytoscape",
      "model_module_version": "^1.2.0",
      "model_name": "GraphModel",
      "state": {
       "_adj": {},
       "_model_module_version": "^1.2.0",
       "_view_module": "jupyter-cytoscape",
       "_view_module_version": "^1.2.0"
      }
     },
     "1007b95b53414e07bf6ecdcf096eb207": {
      "model_module": "jupyter-cytoscape",
      "model_module_version": "^1.2.0",
      "model_name": "EdgeModel",
      "state": {
       "_model_module_version": "^1.2.0",
       "_view_module_version": "^1.2.0",
       "classes": " directed ",
       "data": {
        "id": "6c094a12-bda3-457c-aa46-41d4290d321a",
        "label": "country",
        "source": "A01",
        "target": "A01C03"
       },
       "selectable": false
      }
     },
     "1042fe076237474ea4580921e3a9df11": {
      "model_module": "jupyter-cytoscape",
      "model_module_version": "^1.2.0",
      "model_name": "EdgeModel",
      "state": {
       "_model_module_version": "^1.2.0",
       "_view_module_version": "^1.2.0",
       "classes": " directed ",
       "data": {
        "id": "e033187b-3996-4309-af57-4d2ca29f6ef1",
        "source": "1",
        "target": "2"
       },
       "selectable": false
      }
     },
     "104eff4c771f4602b141a2051e9d61a8": {
      "model_module": "jupyter-cytoscape",
      "model_module_version": "^1.2.0",
      "model_name": "EdgeModel",
      "state": {
       "_model_module_version": "^1.2.0",
       "_view_module_version": "^1.2.0",
       "classes": " directed ",
       "data": {
        "id": "6ae88902-8d9e-4cc3-9e90-449e6850c650",
        "label": "country",
        "source": "A01",
        "target": "A01C01"
       },
       "selectable": false
      }
     },
     "10dbf057b1334b028ca437d3bc712e93": {
      "model_module": "jupyter-cytoscape",
      "model_module_version": "^1.2.0",
      "model_name": "NodeModel",
      "state": {
       "_model_module_version": "^1.2.0",
       "_view_module_version": "^1.2.0",
       "classes": "country level",
       "data": {
        "id": "A02C01",
        "label": "A02C01 Japan"
       },
       "grabbable": true,
       "grabbed": false,
       "selectable": false
      }
     },
     "11a29bf2e8554b7191f65230692d8a12": {
      "model_module": "jupyter-cytoscape",
      "model_module_version": "^1.2.0",
      "model_name": "NodeModel",
      "state": {
       "_model_module_version": "^1.2.0",
       "_view_module_version": "^1.2.0",
       "classes": "country level",
       "data": {
        "id": "A01C01",
        "label": "A01C01 France"
       },
       "grabbable": true,
       "grabbed": false,
       "position": {
        "x": 28,
        "y": 128
       },
       "selectable": false
      }
     },
     "11eb111603ca40a6aa8f0947aa32bc8f": {
      "model_module": "jupyter-cytoscape",
      "model_module_version": "^1.2.0",
      "model_name": "NodeModel",
      "state": {
       "_model_module_version": "^1.2.0",
       "_view_module_version": "^1.2.0",
       "data": {
        "id": "1"
       },
       "grabbable": true,
       "grabbed": false,
       "position": {
        "x": 418.99262967647155,
        "y": 201.72159388923967
       },
       "selectable": false
      }
     },
     "123040e7c788481b92d118bf65eee8ca": {
      "model_module": "jupyter-cytoscape",
      "model_module_version": "^1.2.0",
      "model_name": "NodeModel",
      "state": {
       "_model_module_version": "^1.2.0",
       "_view_module_version": "^1.2.0",
       "classes": "country",
       "data": {
        "id": "A01C01",
        "label": "A01C01 France"
       },
       "grabbable": true,
       "grabbed": false,
       "position": {
        "x": 169,
        "y": 5.6000000000000005
       },
       "selectable": false
      }
     },
     "1384ecb8f9ae4171864d145be2d9cca1": {
      "model_module": "jupyter-cytoscape",
      "model_module_version": "^1.2.0",
      "model_name": "EdgeModel",
      "state": {
       "_model_module_version": "^1.2.0",
       "_view_module_version": "^1.2.0",
       "classes": " directed ",
       "data": {
        "id": "ed9329f8-ac1e-461d-a0b7-118821beb3c7",
        "label": "country",
        "source": "A02",
        "target": "A02C01"
       },
       "selectable": false
      }
     },
     "1494ae80c405422ebc8f71f2fa230dfb": {
      "model_module": "jupyter-cytoscape",
      "model_module_version": "^1.2.0",
      "model_name": "EdgeModel",
      "state": {
       "_model_module_version": "^1.2.0",
       "_view_module_version": "^1.2.0",
       "classes": " directed ",
       "data": {
        "id": "64d4db52-e7e8-4dfa-abde-afe54e03e3b1",
        "source": "2",
        "target": "3"
       },
       "selectable": false
      }
     },
     "1506b6c4326e449599d5fd053a9e26a1": {
      "model_module": "jupyter-cytoscape",
      "model_module_version": "^1.2.0",
      "model_name": "EdgeModel",
      "state": {
       "_model_module_version": "^1.2.0",
       "_view_module_version": "^1.2.0",
       "classes": " directed ",
       "data": {
        "id": "df984025-31bc-4a05-adc9-11086c9d8394",
        "label": "country",
        "source": "A01",
        "target": "A01C02"
       },
       "selectable": false
      }
     },
     "1508e32c592b486784390dc0d4b4142a": {
      "model_module": "jupyter-cytoscape",
      "model_module_version": "^1.2.0",
      "model_name": "EdgeModel",
      "state": {
       "_model_module_version": "^1.2.0",
       "_view_module_version": "^1.2.0",
       "classes": " directed ",
       "data": {
        "id": "5a9c04bb-04a1-4e5d-9fb0-a646e1aacc1d",
        "label": "country",
        "source": "A01",
        "target": "A01C03"
       },
       "selectable": false
      }
     },
     "15bda3ca2dbd4ccd93b2606bdaca7917": {
      "model_module": "@jupyter-widgets/base",
      "model_module_version": "1.2.0",
      "model_name": "LayoutModel",
      "state": {}
     },
     "15c45dc4e1d347c7872143ece69cbbbe": {
      "model_module": "jupyter-cytoscape",
      "model_module_version": "^1.2.0",
      "model_name": "EdgeModel",
      "state": {
       "_model_module_version": "^1.2.0",
       "_view_module_version": "^1.2.0",
       "classes": " directed ",
       "data": {
        "id": "d68d1756-22e5-463b-979a-83180b539c59",
        "label": "country",
        "source": "A02",
        "target": "A02C01"
       },
       "selectable": false
      }
     },
     "1635b82e2f8e469a8db42759a0fbeeab": {
      "model_module": "jupyter-cytoscape",
      "model_module_version": "^1.2.0",
      "model_name": "GraphModel",
      "state": {
       "_adj": {},
       "_model_module_version": "^1.2.0",
       "_view_module": "jupyter-cytoscape",
       "_view_module_version": "^1.2.0"
      }
     },
     "169f41dc823349f08af827141735e2e1": {
      "model_module": "jupyter-cytoscape",
      "model_module_version": "^1.2.0",
      "model_name": "GraphModel",
      "state": {
       "_adj": {
        "A01": {},
        "A02": {}
       },
       "_model_module_version": "^1.2.0",
       "_view_module": "jupyter-cytoscape",
       "_view_module_version": "^1.2.0",
       "nodes": [
        "IPY_MODEL_a54441b5a8964e0d96dd92f8002f02ac",
        "IPY_MODEL_175fb18be6f2402c904bbc4a24f7348e"
       ]
      }
     },
     "16b670a46edd4f6d91ab8790891fada9": {
      "model_module": "jupyter-cytoscape",
      "model_module_version": "^1.2.0",
      "model_name": "EdgeModel",
      "state": {
       "_model_module_version": "^1.2.0",
       "_view_module_version": "^1.2.0",
       "classes": " directed ",
       "data": {
        "id": "8d86c51c-5719-49c9-aca4-972817d03267",
        "label": "country",
        "source": "A02",
        "target": "A02C01"
       },
       "selectable": false
      }
     },
     "171dd5deb07a4470b46146f7e3bf4489": {
      "model_module": "jupyter-cytoscape",
      "model_module_version": "^1.2.0",
      "model_name": "NodeModel",
      "state": {
       "_model_module_version": "^1.2.0",
       "_view_module_version": "^1.2.0",
       "classes": "country",
       "data": {
        "id": "A02C01",
        "label": "A02C01 Japan"
       },
       "grabbable": true,
       "grabbed": false,
       "position": {
        "x": 110,
        "y": 20
       },
       "selectable": false
      }
     },
     "175fb18be6f2402c904bbc4a24f7348e": {
      "model_module": "jupyter-cytoscape",
      "model_module_version": "^1.2.0",
      "model_name": "NodeModel",
      "state": {
       "_model_module_version": "^1.2.0",
       "_view_module_version": "^1.2.0",
       "classes": "area",
       "data": {
        "id": "A02",
        "label": "A02 Asia"
       },
       "grabbable": true,
       "grabbed": false,
       "position": {
        "x": 20,
        "y": 63.20000047683716
       },
       "selectable": false
      }
     },
     "178d4a25569547b6858e7f88e9aaaa03": {
      "model_module": "jupyter-cytoscape",
      "model_module_version": "^1.2.0",
      "model_name": "GraphModel",
      "state": {
       "_adj": {
        "A01": {},
        "A02": {}
       },
       "_model_module_version": "^1.2.0",
       "_view_module": "jupyter-cytoscape",
       "_view_module_version": "^1.2.0",
       "nodes": [
        "IPY_MODEL_a3b73ba2b37046c985ebfe629ced6a09",
        "IPY_MODEL_6ed3c29dd14140c7b80ca0cf2c0694fa"
       ]
      }
     },
     "18863d80582e4831a4ca9ca2a018c2ca": {
      "model_module": "jupyter-cytoscape",
      "model_module_version": "^1.2.0",
      "model_name": "NodeModel",
      "state": {
       "_model_module_version": "^1.2.0",
       "_view_module_version": "^1.2.0",
       "classes": "area",
       "data": {
        "id": "A02",
        "label": "A02 Asia"
       },
       "grabbable": true,
       "grabbed": false,
       "selectable": false
      }
     },
     "18953efcfba042a3b8b1611ab7965695": {
      "model_module": "@jupyter-widgets/base",
      "model_module_version": "1.2.0",
      "model_name": "LayoutModel",
      "state": {}
     },
     "1a36ecd015cb48c0a131d5fea1f4c190": {
      "model_module": "jupyter-cytoscape",
      "model_module_version": "^1.2.0",
      "model_name": "NodeModel",
      "state": {
       "_model_module_version": "^1.2.0",
       "_view_module_version": "^1.2.0",
       "classes": "country level",
       "data": {
        "id": "A01C02",
        "label": "A01C02 UK"
       },
       "grabbable": true,
       "grabbed": false,
       "selectable": false
      }
     },
     "1a3a850542ed4b339d451c1136ca49be": {
      "model_module": "jupyter-cytoscape",
      "model_module_version": "^1.2.0",
      "model_name": "NodeModel",
      "state": {
       "_model_module_version": "^1.2.0",
       "_view_module_version": "^1.2.0",
       "classes": "area",
       "data": {
        "id": "A01",
        "label": "A01 Europe"
       },
       "grabbable": true,
       "grabbed": false,
       "position": {
        "x": 28,
        "y": 66.8
       },
       "selectable": false
      }
     },
     "1b6183d67c9c4ae4ad2f1d8efc7e13ef": {
      "model_module": "jupyter-cytoscape",
      "model_module_version": "^1.2.0",
      "model_name": "NodeModel",
      "state": {
       "_model_module_version": "^1.2.0",
       "_view_module_version": "^1.2.0",
       "classes": "area level",
       "data": {
        "id": "A02",
        "label": "A02 Asia"
       },
       "grabbable": true,
       "grabbed": false,
       "position": {
        "x": 28,
        "y": 189.20000000000002
       },
       "selectable": false
      }
     },
     "1b7a5f3f1dbd4d02a120522aedd974bd": {
      "model_module": "jupyter-cytoscape",
      "model_module_version": "^1.2.0",
      "model_name": "NodeModel",
      "state": {
       "_model_module_version": "^1.2.0",
       "_view_module_version": "^1.2.0",
       "classes": "country",
       "data": {
        "id": "A01C03",
        "label": "A01C03 Italia"
       },
       "grabbable": true,
       "grabbed": false,
       "position": {
        "x": 127.99999952316284,
        "y": 125.60000047683717
       },
       "selectable": false
      }
     },
     "1c64e21b2a704e9bbfac189270c6b012": {
      "model_module": "jupyter-cytoscape",
      "model_module_version": "^1.2.0",
      "model_name": "GraphModel",
      "state": {
       "_adj": {
        "A01": {},
        "A01C01": {},
        "A01C02": {},
        "A01C03": {},
        "A02": {},
        "A02C01": {}
       },
       "_model_module_version": "^1.2.0",
       "_view_module": "jupyter-cytoscape",
       "_view_module_version": "^1.2.0",
       "edges": [
        "IPY_MODEL_f3147fd008d24785a846b7886205980a",
        "IPY_MODEL_e8229cd380d349cc9ca9bb8ca525f7ca",
        "IPY_MODEL_3caefb3b986e48e5bf313412573df039",
        "IPY_MODEL_dad09167011c48f180fcea2c77c17239"
       ],
       "nodes": [
        "IPY_MODEL_9b6ab424409848b6a89c345b8c63160d",
        "IPY_MODEL_876aca3f952c4dfbbce4af64443385ea",
        "IPY_MODEL_f27ab8289b7647c993b6321a6ad2075a",
        "IPY_MODEL_adbf9fc8ee024d23bed7a205bcef9b58",
        "IPY_MODEL_7e74a82a6514418fb5103022e0e46fa9",
        "IPY_MODEL_be40c3e7f3d54d848bdc2bf34f83076e"
       ]
      }
     },
     "1c7f5719d5674a6d9cbf14d8e0a77828": {
      "model_module": "jupyter-cytoscape",
      "model_module_version": "^1.2.0",
      "model_name": "NodeModel",
      "state": {
       "_model_module_version": "^1.2.0",
       "_view_module_version": "^1.2.0",
       "classes": "country level",
       "data": {
        "id": "A01C01",
        "label": "A01C01 France"
       },
       "grabbable": true,
       "grabbed": false,
       "selectable": false
      }
     },
     "1dcb72a2e851428a97dc0c479bdaf670": {
      "model_module": "jupyter-cytoscape",
      "model_module_version": "^1.2.0",
      "model_name": "CytoscapeModel",
      "state": {
       "_interaction_handlers": {},
       "_model_module_version": "^1.2.0",
       "_view_module_version": "^1.2.0",
       "auto_ungrabify": false,
       "autolock": false,
       "cytoscape_layout": {
        "edgeLenghVal": 10,
        "name": "klay",
        "nodeSpacing": 10,
        "rankDir": "LR"
       },
       "cytoscape_style": [
        {
         "css": {
          "background-color": "black",
          "color": "white",
          "content": "data(label)",
          "font-size": "4pt",
          "height": "0.8em",
          "label": "data(id)",
          "shape": "roundrectangle",
          "text-halign": "center",
          "text-max-width": "7em",
          "text-valign": "center",
          "text-wrap": "wrap",
          "width": "7em"
         },
         "selector": "node.area"
        }
       ],
       "desktop_tap_threshold": 4,
       "graph": "IPY_MODEL_f5bf94b5e4d142fe951098f98824996a",
       "headless": false,
       "hide_edges_on_viewport": false,
       "layout": "IPY_MODEL_3e845e60172c4806a58613d3a43e6591",
       "max_zoom": 1e+50,
       "min_zoom": 1e-50,
       "motion_blur": false,
       "motion_blur_opacity": 0.2,
       "panning_enabled": true,
       "pixel_ratio": "auto",
       "rendered_position": {
        "renderedPosition": {
         "x": 100,
         "y": 100
        }
       },
       "selection_type": "single",
       "style_enabled": true,
       "texture_on_viewport": false,
       "tooltip_source": "label",
       "touch_tap_threshold": 8,
       "user_panning_enabled": true,
       "user_zooming_enabled": true,
       "wheel_sensitivity": 1,
       "zoom": 2,
       "zooming_enabled": true
      }
     },
     "1e57bdea86b74f569381e376e51f5878": {
      "model_module": "jupyter-cytoscape",
      "model_module_version": "^1.2.0",
      "model_name": "EdgeModel",
      "state": {
       "_model_module_version": "^1.2.0",
       "_view_module_version": "^1.2.0",
       "classes": " directed ",
       "data": {
        "id": "54b1e611-a2c2-4da2-97a2-58fbc5a212dd",
        "label": "country",
        "source": "A01",
        "target": "A01C01"
       },
       "selectable": false
      }
     },
     "1f2e721771974f498cb7fedade463c2a": {
      "model_module": "@jupyter-widgets/base",
      "model_module_version": "1.2.0",
      "model_name": "LayoutModel",
      "state": {}
     },
     "1f469d8603894fe1955c1e4e2c135580": {
      "model_module": "@jupyter-widgets/base",
      "model_module_version": "1.2.0",
      "model_name": "LayoutModel",
      "state": {}
     },
     "1fc150cce7864c549d40e996e781a5fe": {
      "model_module": "jupyter-cytoscape",
      "model_module_version": "^1.2.0",
      "model_name": "NodeModel",
      "state": {
       "_model_module_version": "^1.2.0",
       "_view_module_version": "^1.2.0",
       "classes": "area level",
       "data": {
        "id": "A01",
        "label": "A01 Europe"
       },
       "grabbable": true,
       "grabbed": false,
       "selectable": false
      }
     },
     "20a75dcb82ea44939b5d8842e688a59b": {
      "model_module": "jupyter-cytoscape",
      "model_module_version": "^1.2.0",
      "model_name": "EdgeModel",
      "state": {
       "_model_module_version": "^1.2.0",
       "_view_module_version": "^1.2.0",
       "classes": " directed ",
       "data": {
        "id": "36cf0c21-8115-457f-8736-5482209985ac",
        "label": "country",
        "source": "A01",
        "target": "A01C01"
       },
       "selectable": false
      }
     },
     "2234a5908d8e4cffaa2391737e1b77c4": {
      "model_module": "@jupyter-widgets/base",
      "model_module_version": "1.2.0",
      "model_name": "LayoutModel",
      "state": {}
     },
     "226ef24648a943d2a58b458822bc2b1f": {
      "model_module": "@jupyter-widgets/base",
      "model_module_version": "1.2.0",
      "model_name": "LayoutModel",
      "state": {}
     },
     "2294cc582dcc4aae9631e605fc14d2c3": {
      "model_module": "jupyter-cytoscape",
      "model_module_version": "^1.2.0",
      "model_name": "EdgeModel",
      "state": {
       "_model_module_version": "^1.2.0",
       "_view_module_version": "^1.2.0",
       "classes": " directed ",
       "data": {
        "id": "35650ee9-b4e4-4b95-979c-c25431aace8d",
        "label": "country",
        "source": "A02",
        "target": "A02C01"
       },
       "selectable": false
      }
     },
     "2311b24572b848c0a58f50e9d66f20aa": {
      "model_module": "jupyter-cytoscape",
      "model_module_version": "^1.2.0",
      "model_name": "GraphModel",
      "state": {
       "_adj": {
        "A01": {},
        "A02": {}
       },
       "_model_module_version": "^1.2.0",
       "_view_module": "jupyter-cytoscape",
       "_view_module_version": "^1.2.0",
       "nodes": [
        "IPY_MODEL_a54441b5a8964e0d96dd92f8002f02ac",
        "IPY_MODEL_175fb18be6f2402c904bbc4a24f7348e"
       ]
      }
     },
     "23a94512cec348f385b78bbd2e40c9f9": {
      "model_module": "jupyter-cytoscape",
      "model_module_version": "^1.2.0",
      "model_name": "GraphModel",
      "state": {
       "_adj": {
        "A01": {},
        "A01C01": {},
        "A01C02": {},
        "A01C03": {},
        "A02": {},
        "A02C01": {}
       },
       "_model_module_version": "^1.2.0",
       "_view_module": "jupyter-cytoscape",
       "_view_module_version": "^1.2.0",
       "edges": [
        "IPY_MODEL_89a52d5b322b4aeda657d84b5cec3187",
        "IPY_MODEL_89261f7c0d69435588d5cfae8448ce6c",
        "IPY_MODEL_ba4b4ef323be4806b961d251ab1a1280",
        "IPY_MODEL_a14ed213bd6746d3b608766e6cd6bfee"
       ],
       "nodes": [
        "IPY_MODEL_5dbbeb4b8c5443b08cc53e49cd135668",
        "IPY_MODEL_f467e0f8c90d4ca39b5158d5024e8ccc",
        "IPY_MODEL_a8561f2a8cd847b7abb9f47d000be4b4",
        "IPY_MODEL_e7367415c0f04315979da634b399be8a",
        "IPY_MODEL_54ba7880ac8f4de9bfc6c263971f838f",
        "IPY_MODEL_27a327f37d5e4dd282a770bdffb7839e"
       ]
      }
     },
     "255e3194ac6a41f6a71454d8e9dddd84": {
      "model_module": "jupyter-cytoscape",
      "model_module_version": "^1.2.0",
      "model_name": "NodeModel",
      "state": {
       "_model_module_version": "^1.2.0",
       "_view_module_version": "^1.2.0",
       "classes": "area",
       "data": {
        "id": "A02",
        "label": "A02 Asia"
       },
       "grabbable": true,
       "grabbed": false,
       "selectable": false
      }
     },
     "2600071b6eda49ea837c0b865b9a7964": {
      "model_module": "jupyter-cytoscape",
      "model_module_version": "^1.2.0",
      "model_name": "GraphModel",
      "state": {
       "_adj": {},
       "_model_module_version": "^1.2.0",
       "_view_module": "jupyter-cytoscape",
       "_view_module_version": "^1.2.0"
      }
     },
     "269acfca455d4642aafd2b189d00c9b5": {
      "model_module": "jupyter-cytoscape",
      "model_module_version": "^1.2.0",
      "model_name": "CytoscapeModel",
      "state": {
       "_interaction_handlers": {},
       "_model_module_version": "^1.2.0",
       "_view_module_version": "^1.2.0",
       "auto_ungrabify": false,
       "autolock": false,
       "cytoscape_layout": {
        "edgeLenghVal": 10,
        "name": "klay",
        "nodeSpacing": 10,
        "rankDir": "LR"
       },
       "cytoscape_style": [
        {
         "css": {
          "background-color": "black",
          "color": "white",
          "content": "data(label)",
          "font-size": "4pt",
          "height": "0.8em",
          "label": "data(id)",
          "shape": "roundrectangle",
          "text-halign": "center",
          "text-max-width": "7em",
          "text-valign": "center",
          "text-wrap": "wrap",
          "width": "7em"
         },
         "selector": "node.area"
        }
       ],
       "desktop_tap_threshold": 4,
       "graph": "IPY_MODEL_178d4a25569547b6858e7f88e9aaaa03",
       "headless": false,
       "hide_edges_on_viewport": false,
       "layout": "IPY_MODEL_3f3115cb5d8c42ae872fcca4b2fc35db",
       "max_zoom": 1e+50,
       "min_zoom": 1e-50,
       "motion_blur": false,
       "motion_blur_opacity": 0.2,
       "panning_enabled": true,
       "pixel_ratio": "auto",
       "rendered_position": {
        "renderedPosition": {
         "x": 100,
         "y": 100
        }
       },
       "selection_type": "single",
       "style_enabled": true,
       "texture_on_viewport": false,
       "tooltip_source": "label",
       "touch_tap_threshold": 8,
       "user_panning_enabled": true,
       "user_zooming_enabled": true,
       "wheel_sensitivity": 1,
       "zoom": 2,
       "zooming_enabled": true
      }
     },
     "26e76e6f33314658bfde36c8360c5501": {
      "model_module": "jupyter-cytoscape",
      "model_module_version": "^1.2.0",
      "model_name": "CytoscapeModel",
      "state": {
       "_interaction_handlers": {},
       "_model_module_version": "^1.2.0",
       "_view_module_version": "^1.2.0",
       "auto_ungrabify": false,
       "autolock": false,
       "cytoscape_layout": {
        "edgeLenghVal": 10,
        "name": "dagre",
        "nodeSpacing": 10,
        "rankDir": "LR"
       },
       "cytoscape_style": [
        {
         "css": {
          "content": "data(label)",
          "font-size": "4pt",
          "height": "0.8em",
          "label": "data(id)",
          "text-halign": "center",
          "text-max-width": "5em",
          "text-valign": "center",
          "text-wrap": "wrap",
          "width": "4em"
         },
         "selector": "node"
        },
        {
         "css": {
          "shape": "roundrectangle"
         },
         "selector": "node.level"
        },
        {
         "css": {
          "shape": "ellipse"
         },
         "selector": "node.resource"
        },
        {
         "css": {
          "background-color": "red",
          "color": "white"
         },
         "selector": "node.area"
        },
        {
         "css": {
          "background-color": "blue",
          "color": "white"
         },
         "selector": "node.country"
        },
        {
         "css": {
          "curve-style": "bezier",
          "line-color": "gray",
          "shape": "arrow",
          "target-arrow-color": "gray",
          "target-arrow-shape": "triangle",
          "width": 1
         },
         "selector": "edge"
        }
       ],
       "desktop_tap_threshold": 4,
       "graph": "IPY_MODEL_2b46ebd1921e45a78c5a1570575ff3bb",
       "headless": false,
       "hide_edges_on_viewport": false,
       "layout": "IPY_MODEL_7fdb96f1df6741bd9bf19d3aa4aeb1e2",
       "max_zoom": 1e+50,
       "min_zoom": 1e-50,
       "motion_blur": false,
       "motion_blur_opacity": 0.2,
       "panning_enabled": true,
       "pixel_ratio": "auto",
       "rendered_position": {
        "renderedPosition": {
         "x": 100,
         "y": 100
        }
       },
       "selection_type": "single",
       "style_enabled": true,
       "texture_on_viewport": false,
       "tooltip_source": "label",
       "touch_tap_threshold": 8,
       "user_panning_enabled": true,
       "user_zooming_enabled": true,
       "wheel_sensitivity": 1,
       "zoom": 2,
       "zooming_enabled": true
      }
     },
     "26f2619e537c46b2bfc39c951b53ed91": {
      "model_module": "jupyter-cytoscape",
      "model_module_version": "^1.2.0",
      "model_name": "GraphModel",
      "state": {
       "_adj": {},
       "_model_module_version": "^1.2.0",
       "_view_module": "jupyter-cytoscape",
       "_view_module_version": "^1.2.0"
      }
     },
     "271d7f92901b4be0a7ccd1ab8e795b17": {
      "model_module": "@jupyter-widgets/base",
      "model_module_version": "1.2.0",
      "model_name": "LayoutModel",
      "state": {}
     },
     "27a327f37d5e4dd282a770bdffb7839e": {
      "model_module": "jupyter-cytoscape",
      "model_module_version": "^1.2.0",
      "model_name": "NodeModel",
      "state": {
       "_model_module_version": "^1.2.0",
       "_view_module_version": "^1.2.0",
       "classes": "country level",
       "data": {
        "id": "A02C01",
        "label": "A02C01 Japan"
       },
       "grabbable": true,
       "grabbed": false,
       "position": {
        "x": 134,
        "y": 189.20000000000002
       },
       "selectable": false
      }
     },
     "286b104cfa83478aa06df295723d4afc": {
      "model_module": "jupyter-cytoscape",
      "model_module_version": "^1.2.0",
      "model_name": "EdgeModel",
      "state": {
       "_model_module_version": "^1.2.0",
       "_view_module_version": "^1.2.0",
       "classes": " directed ",
       "data": {
        "id": "92ea3abd-6ddf-44b9-a9b8-d3018ee3cc48",
        "label": "country",
        "source": "A01",
        "target": "A01C02"
       },
       "selectable": false
      }
     },
     "288ce6541f2c4b59baf3bf21087c51a0": {
      "model_module": "jupyter-cytoscape",
      "model_module_version": "^1.2.0",
      "model_name": "NodeModel",
      "state": {
       "_model_module_version": "^1.2.0",
       "_view_module_version": "^1.2.0",
       "classes": "country",
       "data": {
        "id": "A01C01",
        "label": "A01C01 France"
       },
       "grabbable": true,
       "grabbed": false,
       "position": {
        "x": 20,
        "y": 106.40000095367432
       },
       "selectable": false
      }
     },
     "28d0d725526849fb8702d8003b6eded8": {
      "model_module": "jupyter-cytoscape",
      "model_module_version": "^1.2.0",
      "model_name": "EdgeModel",
      "state": {
       "_model_module_version": "^1.2.0",
       "_view_module_version": "^1.2.0",
       "classes": " directed ",
       "data": {
        "id": "a1e4f0f0-8414-478b-b8d2-1d9631a5a7d9",
        "label": "area_country",
        "source": "A01",
        "target": "A01C02"
       },
       "selectable": false
      }
     },
     "28d3392bbe894a3fac2dd51bf29bc8d4": {
      "model_module": "jupyter-cytoscape",
      "model_module_version": "^1.2.0",
      "model_name": "GraphModel",
      "state": {
       "_adj": {},
       "_model_module_version": "^1.2.0",
       "_view_module": "jupyter-cytoscape",
       "_view_module_version": "^1.2.0"
      }
     },
     "28f6752103444d8abe2fc206029baff7": {
      "model_module": "@jupyter-widgets/base",
      "model_module_version": "1.2.0",
      "model_name": "LayoutModel",
      "state": {}
     },
     "297444d6d4624795bbb8b1630f43e6d6": {
      "model_module": "jupyter-cytoscape",
      "model_module_version": "^1.2.0",
      "model_name": "GraphModel",
      "state": {
       "_adj": {
        "A01": {},
        "A01C01": {},
        "A01C02": {},
        "A01C03": {},
        "A02": {},
        "A02C01": {}
       },
       "_model_module_version": "^1.2.0",
       "_view_module": "jupyter-cytoscape",
       "_view_module_version": "^1.2.0",
       "edges": [
        "IPY_MODEL_2db37e35d3cf483199533ef1a65e8523",
        "IPY_MODEL_aa6f4a6c47074d8c8c6bec93e705940b",
        "IPY_MODEL_1508e32c592b486784390dc0d4b4142a",
        "IPY_MODEL_80b932fd800742fea50389f19196ff9a"
       ],
       "nodes": [
        "IPY_MODEL_73688994be724cdb81900ff854360a58",
        "IPY_MODEL_8a7aee0589f146fbac0be8912ac91773",
        "IPY_MODEL_8573fb15463c46808dd64324ffb3e0ea",
        "IPY_MODEL_fece539d7aea400999fa8cc56d8acfdb",
        "IPY_MODEL_6794833a3c0a4865af4c242494d7d029",
        "IPY_MODEL_735f876e1db5456e9ac1f05aaeba7626"
       ]
      }
     },
     "2a56302c40344879b05eb6be43bc0f25": {
      "model_module": "jupyter-cytoscape",
      "model_module_version": "^1.2.0",
      "model_name": "GraphModel",
      "state": {
       "_adj": {
        "A01": {},
        "A02": {}
       },
       "_model_module_version": "^1.2.0",
       "_view_module": "jupyter-cytoscape",
       "_view_module_version": "^1.2.0",
       "nodes": [
        "IPY_MODEL_a54441b5a8964e0d96dd92f8002f02ac",
        "IPY_MODEL_175fb18be6f2402c904bbc4a24f7348e"
       ]
      }
     },
     "2a5e14e9a7974c24856a9c30c3e01e9e": {
      "model_module": "jupyter-cytoscape",
      "model_module_version": "^1.2.0",
      "model_name": "NodeModel",
      "state": {
       "_model_module_version": "^1.2.0",
       "_view_module_version": "^1.2.0",
       "classes": "area",
       "data": {
        "id": "A01",
        "label": "A01 Europe"
       },
       "grabbable": true,
       "grabbed": false,
       "selectable": false
      }
     },
     "2b45c8cab4f94e0ca3724c0b163b6c21": {
      "model_module": "jupyter-cytoscape",
      "model_module_version": "^1.2.0",
      "model_name": "EdgeModel",
      "state": {
       "_model_module_version": "^1.2.0",
       "_view_module_version": "^1.2.0",
       "classes": " directed ",
       "data": {
        "id": "265ce2ba-d242-46a8-b63e-b312915a58f1",
        "label": "country",
        "source": "A02",
        "target": "A02C01"
       },
       "selectable": false
      }
     },
     "2b46ebd1921e45a78c5a1570575ff3bb": {
      "model_module": "jupyter-cytoscape",
      "model_module_version": "^1.2.0",
      "model_name": "GraphModel",
      "state": {
       "_adj": {
        "A01": {},
        "A01C01": {},
        "A01C02": {},
        "A01C03": {},
        "A02": {},
        "A02C01": {}
       },
       "_model_module_version": "^1.2.0",
       "_view_module": "jupyter-cytoscape",
       "_view_module_version": "^1.2.0",
       "edges": [
        "IPY_MODEL_568a933bdcd84072ad203b79a393bf0c",
        "IPY_MODEL_8c7cfe9bca8b48759724d9fa22ad1163",
        "IPY_MODEL_ef816a522dfc492cbc87a8970f1423cf",
        "IPY_MODEL_5910f8d45f2c40a8926035be6def8de8"
       ],
       "nodes": [
        "IPY_MODEL_a86faddd17c644d58d1e9a9ab822e27f",
        "IPY_MODEL_92b5b1b45b054fb787dac4a646b56667",
        "IPY_MODEL_4d1983acdd2842c79e16b095d42b61cc",
        "IPY_MODEL_9c58b3b01d7541fd83b85e4c214a3787",
        "IPY_MODEL_8ea892b52c3a4b33b4c70742aa408561",
        "IPY_MODEL_787819171f654431b57ad23e89ca9f81"
       ]
      }
     },
     "2d477f316a3e44b2b3a168a54efa9866": {
      "model_module": "jupyter-cytoscape",
      "model_module_version": "^1.2.0",
      "model_name": "NodeModel",
      "state": {
       "_model_module_version": "^1.2.0",
       "_view_module_version": "^1.2.0",
       "classes": "country level",
       "data": {
        "id": "A01C01",
        "label": "A01C01 France"
       },
       "grabbable": true,
       "grabbed": false,
       "selectable": false
      }
     },
     "2db37e35d3cf483199533ef1a65e8523": {
      "model_module": "jupyter-cytoscape",
      "model_module_version": "^1.2.0",
      "model_name": "EdgeModel",
      "state": {
       "_model_module_version": "^1.2.0",
       "_view_module_version": "^1.2.0",
       "classes": " directed ",
       "data": {
        "id": "33c50718-1ce7-472a-ab0e-6d5ed34c48e2",
        "label": "country",
        "source": "A01",
        "target": "A01C01"
       },
       "selectable": false
      }
     },
     "2dcc4f7dd800491b9bf2251ed88f87cf": {
      "model_module": "jupyter-cytoscape",
      "model_module_version": "^1.2.0",
      "model_name": "NodeModel",
      "state": {
       "_model_module_version": "^1.2.0",
       "_view_module_version": "^1.2.0",
       "classes": "country level",
       "data": {
        "id": "A01C02",
        "label": "A01C02 UK"
       },
       "grabbable": true,
       "grabbed": false,
       "selectable": false
      }
     },
     "2dffd1f81d8b4668a78b2a84dd8c4433": {
      "model_module": "jupyter-cytoscape",
      "model_module_version": "^1.2.0",
      "model_name": "GraphModel",
      "state": {
       "_adj": {
        "A01": {},
        "A02": {}
       },
       "_model_module_version": "^1.2.0",
       "_view_module": "jupyter-cytoscape",
       "_view_module_version": "^1.2.0",
       "nodes": [
        "IPY_MODEL_d8653f83643c415990f197e22bab0c37",
        "IPY_MODEL_337399253f464b43a718135877661a22"
       ]
      }
     },
     "2e189c78fa2e42e68dbda42a63b6c248": {
      "model_module": "jupyter-cytoscape",
      "model_module_version": "^1.2.0",
      "model_name": "EdgeModel",
      "state": {
       "_model_module_version": "^1.2.0",
       "_view_module_version": "^1.2.0",
       "classes": " directed ",
       "data": {
        "id": "d1bf0e56-df24-43aa-be03-0123b3c5d7ef",
        "label": "country",
        "source": "A01",
        "target": "A01C01"
       },
       "selectable": false
      }
     },
     "2e367e9aebad45c19902daa1e6e62253": {
      "model_module": "jupyter-cytoscape",
      "model_module_version": "^1.2.0",
      "model_name": "EdgeModel",
      "state": {
       "_model_module_version": "^1.2.0",
       "_view_module_version": "^1.2.0",
       "classes": " directed ",
       "data": {
        "id": "07011a78-a73d-483c-bd0a-73b9aa0b8b27",
        "label": "country",
        "source": "A01",
        "target": "A01C03"
       },
       "selectable": false
      }
     },
     "2f0bb0fa8437451ba74888aa032f6f67": {
      "model_module": "jupyter-cytoscape",
      "model_module_version": "^1.2.0",
      "model_name": "GraphModel",
      "state": {
       "_adj": {},
       "_model_module_version": "^1.2.0",
       "_view_module": "jupyter-cytoscape",
       "_view_module_version": "^1.2.0"
      }
     },
     "2fb18dff400a4e93915b98c76cfe2fc4": {
      "model_module": "jupyter-cytoscape",
      "model_module_version": "^1.2.0",
      "model_name": "CytoscapeModel",
      "state": {
       "_interaction_handlers": {},
       "_model_module_version": "^1.2.0",
       "_view_module_version": "^1.2.0",
       "auto_ungrabify": false,
       "autolock": false,
       "cytoscape_layout": {
        "edgeLenghVal": 10,
        "name": "klay",
        "nodeSpacing": 10,
        "rankDir": "LR"
       },
       "cytoscape_style": [
        {
         "css": {
          "background-color": "rgb(204,255,255)",
          "background-opacity": 1,
          "border-color": "rgb(0,153,255)",
          "border-opacity": 1,
          "border-width": 1.5,
          "color": "rgb(0,0,0)",
          "content": "data(src_node)",
          "font-family": "SansSerif.plain",
          "font-size": 12,
          "font-weight": "normal",
          "height": 35,
          "shape": "ellipse",
          "text-halign": "center",
          "text-opacity": 1,
          "text-valign": "center",
          "width": 75
         },
         "selector": "node"
        }
       ],
       "desktop_tap_threshold": 4,
       "graph": "IPY_MODEL_77aeeb431e70481e8fc798bedb44ca4b",
       "headless": false,
       "hide_edges_on_viewport": false,
       "layout": "IPY_MODEL_dc1e217d8e5b42109ee2461f212fca50",
       "max_zoom": 1e+50,
       "min_zoom": 1e-50,
       "motion_blur": false,
       "motion_blur_opacity": 0.2,
       "panning_enabled": true,
       "pixel_ratio": "auto",
       "rendered_position": {
        "renderedPosition": {
         "x": 100,
         "y": 100
        }
       },
       "selection_type": "single",
       "style_enabled": true,
       "texture_on_viewport": false,
       "tooltip_source": "label",
       "touch_tap_threshold": 8,
       "user_panning_enabled": true,
       "user_zooming_enabled": true,
       "wheel_sensitivity": 1,
       "zoom": 2,
       "zooming_enabled": true
      }
     },
     "307cbb11a6224b86a624324c4a4b8851": {
      "model_module": "jupyter-cytoscape",
      "model_module_version": "^1.2.0",
      "model_name": "NodeModel",
      "state": {
       "_model_module_version": "^1.2.0",
       "_view_module_version": "^1.2.0",
       "classes": "area level",
       "data": {
        "id": "A02",
        "label": "A02 Asia"
       },
       "grabbable": true,
       "grabbed": false,
       "selectable": false
      }
     },
     "30d4bae00d2d4024876e69348b5a84bc": {
      "model_module": "jupyter-cytoscape",
      "model_module_version": "^1.2.0",
      "model_name": "NodeModel",
      "state": {
       "_model_module_version": "^1.2.0",
       "_view_module_version": "^1.2.0",
       "classes": "country level",
       "data": {
        "id": "A01C03",
        "label": "A01C03 Italia"
       },
       "grabbable": true,
       "grabbed": false,
       "position": {
        "x": 28,
        "y": 250.4
       },
       "selectable": false
      }
     },
     "31ab56c1ed184b948b6954570eeb3ec6": {
      "model_module": "jupyter-cytoscape",
      "model_module_version": "^1.2.0",
      "model_name": "NodeModel",
      "state": {
       "_model_module_version": "^1.2.0",
       "_view_module_version": "^1.2.0",
       "classes": "country level",
       "data": {
        "id": "A02C01",
        "label": "A02C01 Japan"
       },
       "grabbable": true,
       "grabbed": false,
       "selectable": false
      }
     },
     "320abdd0b8e348fea608bb90cbf07665": {
      "model_module": "jupyter-cytoscape",
      "model_module_version": "^1.2.0",
      "model_name": "CytoscapeModel",
      "state": {
       "_interaction_handlers": {},
       "_model_module_version": "^1.2.0",
       "_view_module_version": "^1.2.0",
       "auto_ungrabify": false,
       "autolock": false,
       "cytoscape_layout": {
        "edgeLenghVal": 10,
        "name": "dagre",
        "nodeSpacing": 10,
        "rankDir": "LR"
       },
       "cytoscape_style": [
        {
         "css": {
          "content": "data(label)",
          "font-size": "4pt",
          "height": "0.8em",
          "label": "data(id)",
          "text-halign": "center",
          "text-max-width": "5em",
          "text-valign": "center",
          "text-wrap": "wrap",
          "width": "4em"
         },
         "selector": "node"
        },
        {
         "css": {
          "shape": "roundrectangle"
         },
         "selector": "node.level"
        },
        {
         "css": {
          "shape": "ellipse"
         },
         "selector": "node.resource"
        },
        {
         "css": {
          "background-color": "red",
          "color": "white"
         },
         "selector": "node.area"
        },
        {
         "css": {
          "background-color": "blue",
          "color": "white"
         },
         "selector": "node.country"
        },
        {
         "css": {
          "curve-style": "bezier",
          "line-color": "gray",
          "shape": "arrow",
          "target-arrow-color": "gray",
          "target-arrow-shape": "triangle",
          "width": 1
         },
         "selector": "edge"
        }
       ],
       "desktop_tap_threshold": 4,
       "graph": "IPY_MODEL_bf9e64f74e984ab3a2e3e18a09a78257",
       "headless": false,
       "hide_edges_on_viewport": false,
       "layout": "IPY_MODEL_bf68318fe2574499a6e090639a350e46",
       "max_zoom": 1e+50,
       "min_zoom": 1e-50,
       "motion_blur": false,
       "motion_blur_opacity": 0.2,
       "panning_enabled": true,
       "pixel_ratio": "auto",
       "rendered_position": {
        "renderedPosition": {
         "x": 100,
         "y": 100
        }
       },
       "selection_type": "single",
       "style_enabled": true,
       "texture_on_viewport": false,
       "tooltip_source": "label",
       "touch_tap_threshold": 8,
       "user_panning_enabled": true,
       "user_zooming_enabled": true,
       "wheel_sensitivity": 1,
       "zoom": 2,
       "zooming_enabled": true
      }
     },
     "3237d767bc4a4142a4fab0a22c8b39b1": {
      "model_module": "jupyter-cytoscape",
      "model_module_version": "^1.2.0",
      "model_name": "CytoscapeModel",
      "state": {
       "_interaction_handlers": {},
       "_model_module_version": "^1.2.0",
       "_view_module_version": "^1.2.0",
       "auto_ungrabify": false,
       "autolock": false,
       "cytoscape_layout": {
        "edgeLenghVal": 10,
        "name": "klay",
        "nodeSpacing": 10,
        "rankDir": "LR"
       },
       "cytoscape_style": [
        {
         "css": {
          "background-color": "rgb(204,255,255)",
          "background-opacity": 1,
          "border-color": "rgb(0,153,255)",
          "border-opacity": 1,
          "border-width": 1.5,
          "color": "rgb(0,0,0)",
          "content": "data(src_node)",
          "font-family": "SansSerif.plain",
          "font-size": 12,
          "font-weight": "normal",
          "height": 35,
          "shape": "ellipse",
          "text-halign": "center",
          "text-opacity": 1,
          "text-valign": "center",
          "width": 75
         },
         "selector": "node"
        }
       ],
       "desktop_tap_threshold": 4,
       "graph": "IPY_MODEL_9ee18e862cc44d83bb7957d711251eef",
       "headless": false,
       "hide_edges_on_viewport": false,
       "layout": "IPY_MODEL_6fe58f36984c43edb856bde6ec56de95",
       "max_zoom": 1e+50,
       "min_zoom": 1e-50,
       "motion_blur": false,
       "motion_blur_opacity": 0.2,
       "panning_enabled": true,
       "pixel_ratio": "auto",
       "rendered_position": {
        "renderedPosition": {
         "x": 100,
         "y": 100
        }
       },
       "selection_type": "single",
       "style_enabled": true,
       "texture_on_viewport": false,
       "tooltip_source": "label",
       "touch_tap_threshold": 8,
       "user_panning_enabled": true,
       "user_zooming_enabled": true,
       "wheel_sensitivity": 1,
       "zoom": 2,
       "zooming_enabled": true
      }
     },
     "329968d1627849f78768c326f9ed0ac3": {
      "model_module": "jupyter-cytoscape",
      "model_module_version": "^1.2.0",
      "model_name": "GraphModel",
      "state": {
       "_adj": {
        "A01": {},
        "A01C01": {},
        "A01C02": {},
        "A01C03": {},
        "A02": {},
        "A02C01": {}
       },
       "_model_module_version": "^1.2.0",
       "_view_module": "jupyter-cytoscape",
       "_view_module_version": "^1.2.0",
       "nodes": [
        "IPY_MODEL_95926727e58c4f368889fe98883ebbe8",
        "IPY_MODEL_b1b49c8e81c34e8081a51c43225f9fde",
        "IPY_MODEL_11a29bf2e8554b7191f65230692d8a12",
        "IPY_MODEL_3e77cb55063d42119b56e486a02474a4",
        "IPY_MODEL_30d4bae00d2d4024876e69348b5a84bc",
        "IPY_MODEL_e93a0835a6e2455c8af9fb1b9efed65a"
       ]
      }
     },
     "337399253f464b43a718135877661a22": {
      "model_module": "jupyter-cytoscape",
      "model_module_version": "^1.2.0",
      "model_name": "NodeModel",
      "state": {
       "_model_module_version": "^1.2.0",
       "_view_module_version": "^1.2.0",
       "classes": "area",
       "data": {
        "id": "A02",
        "label": "A02 Asia"
       },
       "grabbable": true,
       "grabbed": false,
       "position": {
        "x": 20,
        "y": 63.20000047683716
       },
       "selectable": false
      }
     },
     "339c5cad18104ce989a3c2807656f288": {
      "model_module": "jupyter-cytoscape",
      "model_module_version": "^1.2.0",
      "model_name": "CytoscapeModel",
      "state": {
       "_interaction_handlers": {},
       "_model_module_version": "^1.2.0",
       "_view_module_version": "^1.2.0",
       "auto_ungrabify": false,
       "autolock": false,
       "cytoscape_layout": {
        "name": "cola"
       },
       "cytoscape_style": [
        {
         "css": {
          "background-color": "#11479e"
         },
         "selector": "node"
        },
        {
         "css": {
          "background-opacity": 0.333
         },
         "selector": "node:parent"
        },
        {
         "selector": "edge",
         "style": {
          "line-color": "#9dbaea",
          "width": 4
         }
        },
        {
         "selector": "edge.directed",
         "style": {
          "curve-style": "bezier",
          "target-arrow-color": "#9dbaea",
          "target-arrow-shape": "triangle"
         }
        },
        {
         "selector": "edge.multiple_edges",
         "style": {
          "curve-style": "bezier"
         }
        }
       ],
       "desktop_tap_threshold": 4,
       "graph": "IPY_MODEL_02933a3ba3de4aa2be33b009115b9e22",
       "headless": false,
       "hide_edges_on_viewport": false,
       "layout": "IPY_MODEL_cb0c00d3b86d47fea566b10ffbd5a1b7",
       "max_zoom": 1e+50,
       "min_zoom": 1e-50,
       "motion_blur": false,
       "motion_blur_opacity": 0.2,
       "panning_enabled": true,
       "pixel_ratio": "auto",
       "rendered_position": {
        "renderedPosition": {
         "x": 100,
         "y": 100
        }
       },
       "selection_type": "single",
       "style_enabled": true,
       "texture_on_viewport": false,
       "tooltip_source": "tooltip",
       "touch_tap_threshold": 8,
       "user_panning_enabled": true,
       "user_zooming_enabled": true,
       "wheel_sensitivity": 1,
       "zoom": 2,
       "zooming_enabled": true
      }
     },
     "33b2be7b8d384ddd918fc209c21b0c7c": {
      "model_module": "jupyter-cytoscape",
      "model_module_version": "^1.2.0",
      "model_name": "NodeModel",
      "state": {
       "_model_module_version": "^1.2.0",
       "_view_module_version": "^1.2.0",
       "classes": "area level",
       "data": {
        "id": "A02",
        "label": "A02 Asia"
       },
       "grabbable": true,
       "grabbed": false,
       "selectable": false
      }
     },
     "33d68b4f9fca416687e0031fec66f050": {
      "model_module": "jupyter-cytoscape",
      "model_module_version": "^1.2.0",
      "model_name": "GraphModel",
      "state": {
       "_adj": {},
       "_model_module_version": "^1.2.0",
       "_view_module": "jupyter-cytoscape",
       "_view_module_version": "^1.2.0"
      }
     },
     "33e34572e4c04b8cb0f0ba29bf6b0527": {
      "model_module": "jupyter-cytoscape",
      "model_module_version": "^1.2.0",
      "model_name": "GraphModel",
      "state": {
       "_adj": {
        "A01": {},
        "A01C01": {},
        "A01C02": {},
        "A01C03": {},
        "A02": {},
        "A02C01": {}
       },
       "_model_module_version": "^1.2.0",
       "_view_module": "jupyter-cytoscape",
       "_view_module_version": "^1.2.0",
       "nodes": [
        "IPY_MODEL_49772e939b214a0b96e0bb23c6df4611",
        "IPY_MODEL_cf73a84b435d4143afff19ed59da0f00",
        "IPY_MODEL_288ce6541f2c4b59baf3bf21087c51a0",
        "IPY_MODEL_a509ebb1b7c24384ac73f922232fa7c7",
        "IPY_MODEL_34aa731b6c6d4751b3ee9cd4a840ef3a",
        "IPY_MODEL_9889c81201b64d7bbf75f0d526373467"
       ]
      }
     },
     "34aa731b6c6d4751b3ee9cd4a840ef3a": {
      "model_module": "jupyter-cytoscape",
      "model_module_version": "^1.2.0",
      "model_name": "NodeModel",
      "state": {
       "_model_module_version": "^1.2.0",
       "_view_module_version": "^1.2.0",
       "classes": "country",
       "data": {
        "id": "A01C03",
        "label": "A01C03 Italia"
       },
       "grabbable": true,
       "grabbed": false,
       "position": {
        "x": 20,
        "y": 192.80000190734864
       },
       "selectable": false
      }
     },
     "359e5552940742fa817736836b4205d2": {
      "model_module": "jupyter-cytoscape",
      "model_module_version": "^1.2.0",
      "model_name": "NodeModel",
      "state": {
       "_model_module_version": "^1.2.0",
       "_view_module_version": "^1.2.0",
       "classes": "country level",
       "data": {
        "id": "A01C03",
        "label": "A01C03 Italia"
       },
       "grabbable": true,
       "grabbed": false,
       "selectable": false
      }
     },
     "3698b7ff3b1d4e6ca7eb4be64d587af4": {
      "model_module": "jupyter-cytoscape",
      "model_module_version": "^1.2.0",
      "model_name": "EdgeModel",
      "state": {
       "_model_module_version": "^1.2.0",
       "_view_module_version": "^1.2.0",
       "classes": " directed ",
       "data": {
        "id": "b9d4fb18-6df0-4e92-a39d-b69a085c4ac1",
        "label": "country",
        "source": "A02",
        "target": "A02C01"
       },
       "selectable": false
      }
     },
     "36f2db53f2444802aeb712533722e2b8": {
      "model_module": "jupyter-cytoscape",
      "model_module_version": "^1.2.0",
      "model_name": "NodeModel",
      "state": {
       "_model_module_version": "^1.2.0",
       "_view_module_version": "^1.2.0",
       "classes": "country resource",
       "data": {
        "id": "A02C01",
        "label": "A02C01 Japan"
       },
       "grabbable": true,
       "grabbed": false,
       "position": {
        "x": 134,
        "y": 189.20000000000002
       },
       "selectable": false
      }
     },
     "38854039bf8643ecb22999c867aed4b0": {
      "model_module": "jupyter-cytoscape",
      "model_module_version": "^1.2.0",
      "model_name": "EdgeModel",
      "state": {
       "_model_module_version": "^1.2.0",
       "_view_module_version": "^1.2.0",
       "classes": " directed ",
       "data": {
        "id": "bd843ba9-8a3d-4d49-b204-cddb940a0253",
        "source": "0",
        "target": "3"
       },
       "selectable": false
      }
     },
     "38878bc500e94c6db7e74855a8c216e8": {
      "model_module": "jupyter-cytoscape",
      "model_module_version": "^1.2.0",
      "model_name": "EdgeModel",
      "state": {
       "_model_module_version": "^1.2.0",
       "_view_module_version": "^1.2.0",
       "classes": " directed ",
       "data": {
        "id": "0f38b4e1-b3ed-4da5-8521-70649cc93d1d",
        "source": "1",
        "target": "3"
       },
       "selectable": false
      }
     },
     "393a853793da4204896ada4f2599b4c6": {
      "model_module": "jupyter-cytoscape",
      "model_module_version": "^1.2.0",
      "model_name": "NodeModel",
      "state": {
       "_model_module_version": "^1.2.0",
       "_view_module_version": "^1.2.0",
       "classes": "country",
       "data": {
        "id": "A01C03",
        "label": "A01C03 Italia"
       },
       "grabbable": true,
       "grabbed": false,
       "position": {
        "x": 134,
        "y": 128
       },
       "selectable": false
      }
     },
     "3a174d120e224456ad5a48bad93879a9": {
      "model_module": "jupyter-cytoscape",
      "model_module_version": "^1.2.0",
      "model_name": "NodeModel",
      "state": {
       "_model_module_version": "^1.2.0",
       "_view_module_version": "^1.2.0",
       "classes": "country",
       "data": {
        "id": "A02C01",
        "label": "A02C01 Japan"
       },
       "grabbable": true,
       "grabbed": false,
       "position": {
        "x": 169,
        "y": 189.20000000000002
       },
       "selectable": false
      }
     },
     "3a3d127bcc42411b970eca7423eb82d1": {
      "model_module": "jupyter-cytoscape",
      "model_module_version": "^1.2.0",
      "model_name": "NodeModel",
      "state": {
       "_model_module_version": "^1.2.0",
       "_view_module_version": "^1.2.0",
       "classes": "area level",
       "data": {
        "id": "A02",
        "label": "A02 Asia"
       },
       "grabbable": true,
       "grabbed": false,
       "position": {
        "x": 28,
        "y": 189.20000000000002
       },
       "selectable": false
      }
     },
     "3a73b77b67a747028e85448a5b9f0ef5": {
      "model_module": "jupyter-cytoscape",
      "model_module_version": "^1.2.0",
      "model_name": "NodeModel",
      "state": {
       "_model_module_version": "^1.2.0",
       "_view_module_version": "^1.2.0",
       "classes": "country level",
       "data": {
        "id": "A02C01",
        "label": "A02C01 Japan"
       },
       "grabbable": true,
       "grabbed": false,
       "selectable": false
      }
     },
     "3ab7da7a18374649aaee6040642bfff6": {
      "model_module": "jupyter-cytoscape",
      "model_module_version": "^1.2.0",
      "model_name": "GraphModel",
      "state": {
       "_adj": {
        "A01": {},
        "A01C01": {},
        "A01C02": {},
        "A01C03": {},
        "A02": {},
        "A02C01": {}
       },
       "_model_module_version": "^1.2.0",
       "_view_module": "jupyter-cytoscape",
       "_view_module_version": "^1.2.0",
       "edges": [
        "IPY_MODEL_d247de51d58a441f9c03234a161cd0e7",
        "IPY_MODEL_46d0d36962de4bcea70d4ee4c099dfa8",
        "IPY_MODEL_05ffe411fac74730aa47331efcd411e9",
        "IPY_MODEL_ef69a30fbeef402e98957e6d1ea16e8b"
       ],
       "nodes": [
        "IPY_MODEL_72d39d76d12f4d1585d99c302a0146c5",
        "IPY_MODEL_8bb00005c04c4abb90a7812cf7108d59",
        "IPY_MODEL_ece5ff7f11844391a69f17e451a44186",
        "IPY_MODEL_05407866c3ef415e95e66b77798732ac",
        "IPY_MODEL_4e54965ca20c44ca947c3f63d24551a3",
        "IPY_MODEL_e1623b189802498284757e27080eb7cf"
       ]
      }
     },
     "3ad2894fdd4046c09ac44f93c7051c2f": {
      "model_module": "jupyter-cytoscape",
      "model_module_version": "^1.2.0",
      "model_name": "GraphModel",
      "state": {
       "_adj": {
        "A01": {},
        "A01C01": {},
        "A01C02": {},
        "A01C03": {},
        "A02": {},
        "A02C01": {}
       },
       "_model_module_version": "^1.2.0",
       "_view_module": "jupyter-cytoscape",
       "_view_module_version": "^1.2.0",
       "nodes": [
        "IPY_MODEL_095c260177124875849fadc5fa977147",
        "IPY_MODEL_648049ac5c794aafb14b969f0eb98760",
        "IPY_MODEL_bcf4cd013f6f40a18e2e676a7e318fbc",
        "IPY_MODEL_8d0ec166bce04348a7f08b5d2318f71b",
        "IPY_MODEL_709f0c7d7200479b8f646936d12c7295",
        "IPY_MODEL_b48231ad58114a46b57d6ee0a0d929f5"
       ]
      }
     },
     "3b79bdd01244402bab1cefc8952f6c9b": {
      "model_module": "jupyter-cytoscape",
      "model_module_version": "^1.2.0",
      "model_name": "NodeModel",
      "state": {
       "_model_module_version": "^1.2.0",
       "_view_module_version": "^1.2.0",
       "classes": "country level",
       "data": {
        "id": "A02C01",
        "label": "A02C01 Japan"
       },
       "grabbable": true,
       "grabbed": false,
       "selectable": false
      }
     },
     "3b8e66afb86540739a134c6a32642961": {
      "model_module": "jupyter-cytoscape",
      "model_module_version": "^1.2.0",
      "model_name": "EdgeModel",
      "state": {
       "_model_module_version": "^1.2.0",
       "_view_module_version": "^1.2.0",
       "classes": " directed ",
       "data": {
        "id": "9017addb-0fb8-48fb-9f0d-8edc170c5016",
        "label": "country",
        "source": "A01",
        "target": "A01C03"
       },
       "selectable": false
      }
     },
     "3bd2817322cf45bfa325a3b042d985b7": {
      "model_module": "jupyter-cytoscape",
      "model_module_version": "^1.2.0",
      "model_name": "EdgeModel",
      "state": {
       "_model_module_version": "^1.2.0",
       "_view_module_version": "^1.2.0",
       "classes": " directed ",
       "data": {
        "id": "db0fa460-e1c9-4db0-be2b-6ac3d9ddac02",
        "label": "country",
        "source": "A01",
        "target": "A01C01"
       },
       "selectable": false
      }
     },
     "3c5bce3983ed42e8a8ac488eb493a7ec": {
      "model_module": "jupyter-cytoscape",
      "model_module_version": "^1.2.0",
      "model_name": "EdgeModel",
      "state": {
       "_model_module_version": "^1.2.0",
       "_view_module_version": "^1.2.0",
       "classes": " directed ",
       "data": {
        "id": "bef68724-5ab0-4578-9cdc-3582f38325c0",
        "source": "0",
        "target": "4"
       },
       "selectable": false
      }
     },
     "3c6ecbaface6402fbbe9aa12472225d3": {
      "model_module": "jupyter-cytoscape",
      "model_module_version": "^1.2.0",
      "model_name": "NodeModel",
      "state": {
       "_model_module_version": "^1.2.0",
       "_view_module_version": "^1.2.0",
       "classes": "country level",
       "data": {
        "id": "A01C03",
        "label": "A01C03 Italia"
       },
       "grabbable": true,
       "grabbed": false,
       "selectable": false
      }
     },
     "3caefb3b986e48e5bf313412573df039": {
      "model_module": "jupyter-cytoscape",
      "model_module_version": "^1.2.0",
      "model_name": "EdgeModel",
      "state": {
       "_model_module_version": "^1.2.0",
       "_view_module_version": "^1.2.0",
       "classes": " directed ",
       "data": {
        "id": "e67ec137-4882-46d8-a432-138fd12db0b1",
        "label": "country",
        "source": "A01",
        "target": "A01C03"
       },
       "selectable": false
      }
     },
     "3cffaa0ff5884a0885337700dc39641b": {
      "model_module": "jupyter-cytoscape",
      "model_module_version": "^1.2.0",
      "model_name": "CytoscapeModel",
      "state": {
       "_interaction_handlers": {},
       "_model_module_version": "^1.2.0",
       "_view_module_version": "^1.2.0",
       "auto_ungrabify": false,
       "autolock": false,
       "cytoscape_layout": {
        "edgeLenghVal": 5,
        "name": "dagre",
        "nodeSpacing": 5,
        "rankDir": "LR"
       },
       "cytoscape_style": [
        {
         "css": {
          "background-color": "black",
          "color": "white",
          "content": "data(label)",
          "font-size": "4pt",
          "height": "0.8em",
          "label": "data(id)",
          "shape": "roundrectangle",
          "text-halign": "center",
          "text-max-width": "5em",
          "text-valign": "center",
          "text-wrap": "wrap",
          "width": "5em"
         },
         "selector": "node.area"
        },
        {
         "css": {
          "background-color": "black",
          "color": "white",
          "content": "data(label)",
          "font-size": "4pt",
          "height": "0.8em",
          "label": "data(id)",
          "shape": "roundrectangle",
          "text-halign": "center",
          "text-max-width": "7em",
          "text-valign": "center",
          "text-wrap": "wrap",
          "width": "7em"
         },
         "selector": "node.country"
        },
        {
         "css": {
          "curve-style": "bezier",
          "line-color": "gray",
          "shape": "arrow",
          "target-arrow-color": "gray",
          "target-arrow-shape": "triangle",
          "width": 1
         },
         "selector": "edge"
        }
       ],
       "desktop_tap_threshold": 4,
       "graph": "IPY_MODEL_9c29cf28a9ba4ec88af5ac1e991f2e4f",
       "headless": false,
       "hide_edges_on_viewport": false,
       "layout": "IPY_MODEL_82b837ec41f24d81947853b77a5879c2",
       "max_zoom": 1e+50,
       "min_zoom": 1e-50,
       "motion_blur": false,
       "motion_blur_opacity": 0.2,
       "panning_enabled": true,
       "pixel_ratio": "auto",
       "rendered_position": {
        "renderedPosition": {
         "x": 100,
         "y": 100
        }
       },
       "selection_type": "single",
       "style_enabled": true,
       "texture_on_viewport": false,
       "tooltip_source": "label",
       "touch_tap_threshold": 8,
       "user_panning_enabled": true,
       "user_zooming_enabled": true,
       "wheel_sensitivity": 1,
       "zoom": 2,
       "zooming_enabled": true
      }
     },
     "3d5522068e84478791132021dd3c6fdd": {
      "model_module": "jupyter-cytoscape",
      "model_module_version": "^1.2.0",
      "model_name": "NodeModel",
      "state": {
       "_model_module_version": "^1.2.0",
       "_view_module_version": "^1.2.0",
       "classes": "area",
       "data": {
        "id": "A01",
        "label": "A01 Europe"
       },
       "grabbable": true,
       "grabbed": false,
       "position": {
        "x": 20,
        "y": 122.80000047683717
       },
       "selectable": false
      }
     },
     "3e77cb55063d42119b56e486a02474a4": {
      "model_module": "jupyter-cytoscape",
      "model_module_version": "^1.2.0",
      "model_name": "NodeModel",
      "state": {
       "_model_module_version": "^1.2.0",
       "_view_module_version": "^1.2.0",
       "classes": "country level",
       "data": {
        "id": "A01C02",
        "label": "A01C02 UK"
       },
       "grabbable": true,
       "grabbed": false,
       "position": {
        "x": 28,
        "y": 189.2
       },
       "selectable": false
      }
     },
     "3e7fdd2d8b784989be36e16c556f43ba": {
      "model_module": "@jupyter-widgets/base",
      "model_module_version": "1.2.0",
      "model_name": "LayoutModel",
      "state": {}
     },
     "3e845e60172c4806a58613d3a43e6591": {
      "model_module": "@jupyter-widgets/base",
      "model_module_version": "1.2.0",
      "model_name": "LayoutModel",
      "state": {}
     },
     "3eb8c3ac53274c87af36595841c95b0c": {
      "model_module": "@jupyter-widgets/base",
      "model_module_version": "1.2.0",
      "model_name": "LayoutModel",
      "state": {}
     },
     "3f3115cb5d8c42ae872fcca4b2fc35db": {
      "model_module": "@jupyter-widgets/base",
      "model_module_version": "1.2.0",
      "model_name": "LayoutModel",
      "state": {}
     },
     "3f4f7bf0b49c4d07abef95908491d9db": {
      "model_module": "jupyter-cytoscape",
      "model_module_version": "^1.2.0",
      "model_name": "NodeModel",
      "state": {
       "_model_module_version": "^1.2.0",
       "_view_module_version": "^1.2.0",
       "classes": "country",
       "data": {
        "id": "A01C03",
        "label": "A01C03 Italia"
       },
       "grabbable": true,
       "grabbed": false,
       "position": {
        "x": 20,
        "y": 192.80000190734864
       },
       "selectable": false
      }
     },
     "3f6183f896984636a2fb76620a21a1e2": {
      "model_module": "@jupyter-widgets/base",
      "model_module_version": "1.2.0",
      "model_name": "LayoutModel",
      "state": {}
     },
     "3f7cc8a1755342898fa6e2d41c0cd174": {
      "model_module": "jupyter-cytoscape",
      "model_module_version": "^1.2.0",
      "model_name": "NodeModel",
      "state": {
       "_model_module_version": "^1.2.0",
       "_view_module_version": "^1.2.0",
       "classes": "area level",
       "data": {
        "id": "A02",
        "label": "A02 Asia"
       },
       "grabbable": true,
       "grabbed": false,
       "selectable": false
      }
     },
     "3f939639bd0d47c080817186af23cf0e": {
      "model_module": "jupyter-cytoscape",
      "model_module_version": "^1.2.0",
      "model_name": "EdgeModel",
      "state": {
       "_model_module_version": "^1.2.0",
       "_view_module_version": "^1.2.0",
       "classes": " directed ",
       "data": {
        "id": "e8842e79-04cd-4ed3-97ed-73af0f2d20cc",
        "label": "country",
        "source": "A01",
        "target": "A01C03"
       },
       "selectable": false
      }
     },
     "3feadd8a4b944cf293de0131dcacc01c": {
      "model_module": "jupyter-cytoscape",
      "model_module_version": "^1.2.0",
      "model_name": "NodeModel",
      "state": {
       "_model_module_version": "^1.2.0",
       "_view_module_version": "^1.2.0",
       "data": {
        "id": "2"
       },
       "grabbable": true,
       "grabbed": false,
       "position": {
        "x": 426.4473521120301,
        "y": 273.7468162064302
       },
       "selectable": false
      }
     },
     "4002327aa66a495bb9888ee19024b7e3": {
      "model_module": "jupyter-cytoscape",
      "model_module_version": "^1.2.0",
      "model_name": "GraphModel",
      "state": {
       "_adj": {},
       "_model_module_version": "^1.2.0",
       "_view_module": "jupyter-cytoscape",
       "_view_module_version": "^1.2.0"
      }
     },
     "407df01a69614f7695505f3d87000fc6": {
      "model_module": "@jupyter-widgets/base",
      "model_module_version": "1.2.0",
      "model_name": "LayoutModel",
      "state": {}
     },
     "410ad66d2a504c81b5b8578da8c3efa4": {
      "model_module": "jupyter-cytoscape",
      "model_module_version": "^1.2.0",
      "model_name": "CytoscapeModel",
      "state": {
       "_interaction_handlers": {},
       "_model_module_version": "^1.2.0",
       "_view_module_version": "^1.2.0",
       "auto_ungrabify": false,
       "autolock": false,
       "cytoscape_layout": {
        "edgeLenghVal": 10,
        "name": "klay",
        "nodeSpacing": 10,
        "rankDir": "LR"
       },
       "cytoscape_style": [
        {
         "css": {
          "background-color": "black",
          "color": "white",
          "content": "data(label)",
          "font-size": "4pt",
          "height": "0.8em",
          "label": "data(id)",
          "shape": "roundrectangle",
          "text-halign": "center",
          "text-max-width": "7em",
          "text-valign": "center",
          "text-wrap": "wrap",
          "width": "7em"
         },
         "selector": "node.area"
        }
       ],
       "desktop_tap_threshold": 4,
       "graph": "IPY_MODEL_2dffd1f81d8b4668a78b2a84dd8c4433",
       "headless": false,
       "hide_edges_on_viewport": false,
       "layout": "IPY_MODEL_e1aa18dd23c645ee9a26204c91d79be7",
       "max_zoom": 1e+50,
       "min_zoom": 1e-50,
       "motion_blur": false,
       "motion_blur_opacity": 0.2,
       "panning_enabled": true,
       "pixel_ratio": "auto",
       "rendered_position": {
        "renderedPosition": {
         "x": 100,
         "y": 100
        }
       },
       "selection_type": "single",
       "style_enabled": true,
       "texture_on_viewport": false,
       "tooltip_source": "label",
       "touch_tap_threshold": 8,
       "user_panning_enabled": true,
       "user_zooming_enabled": true,
       "wheel_sensitivity": 1,
       "zoom": 2,
       "zooming_enabled": true
      }
     },
     "41474e96e975475994be48f8db4fc6be": {
      "model_module": "jupyter-cytoscape",
      "model_module_version": "^1.2.0",
      "model_name": "NodeModel",
      "state": {
       "_model_module_version": "^1.2.0",
       "_view_module_version": "^1.2.0",
       "classes": "country",
       "data": {
        "id": "A01C01",
        "label": "A01C01 France"
       },
       "grabbable": true,
       "grabbed": false,
       "position": {
        "x": 127.99999952316284,
        "y": 94.40000047683716
       },
       "selectable": false
      }
     },
     "42038b8c7a47484e9604be325e2bca30": {
      "model_module": "jupyter-cytoscape",
      "model_module_version": "^1.2.0",
      "model_name": "NodeModel",
      "state": {
       "_model_module_version": "^1.2.0",
       "_view_module_version": "^1.2.0",
       "data": {
        "id": "2"
       },
       "grabbable": true,
       "grabbed": false,
       "position": {
        "x": 426.4473521120301,
        "y": 273.7468162064302
       },
       "selectable": false
      }
     },
     "42535e92311c4985b7fa1b6f7fddd97b": {
      "model_module": "jupyter-cytoscape",
      "model_module_version": "^1.2.0",
      "model_name": "CytoscapeModel",
      "state": {
       "_interaction_handlers": {},
       "_model_module_version": "^1.2.0",
       "_view_module_version": "^1.2.0",
       "auto_ungrabify": false,
       "autolock": false,
       "cytoscape_layout": {
        "edgeLenghVal": 10,
        "name": "klay",
        "nodeSpacing": 10,
        "rankDir": "LR"
       },
       "cytoscape_style": [
        {
         "css": {
          "background-color": "black",
          "color": "white",
          "content": "data(label)",
          "font-size": "4pt",
          "height": "0.8em",
          "label": "data(id)",
          "shape": "roundrectangle",
          "text-halign": "center",
          "text-max-width": "7em",
          "text-valign": "center",
          "text-wrap": "wrap",
          "width": "7em"
         },
         "selector": "node.area"
        }
       ],
       "desktop_tap_threshold": 4,
       "graph": "IPY_MODEL_52ce45d27cc74b2e9b0e621be196df65",
       "headless": false,
       "hide_edges_on_viewport": false,
       "layout": "IPY_MODEL_ff72498dc5224b9a9fe12c9f7101db0b",
       "max_zoom": 1e+50,
       "min_zoom": 1e-50,
       "motion_blur": false,
       "motion_blur_opacity": 0.2,
       "panning_enabled": true,
       "pixel_ratio": "auto",
       "rendered_position": {
        "renderedPosition": {
         "x": 100,
         "y": 100
        }
       },
       "selection_type": "single",
       "style_enabled": true,
       "texture_on_viewport": false,
       "tooltip_source": "label",
       "touch_tap_threshold": 8,
       "user_panning_enabled": true,
       "user_zooming_enabled": true,
       "wheel_sensitivity": 1,
       "zoom": 2,
       "zooming_enabled": true
      }
     },
     "43941570c0fa4b12b95194ee713161a0": {
      "model_module": "jupyter-cytoscape",
      "model_module_version": "^1.2.0",
      "model_name": "GraphModel",
      "state": {
       "_adj": {},
       "_model_module_version": "^1.2.0",
       "_view_module": "jupyter-cytoscape",
       "_view_module_version": "^1.2.0"
      }
     },
     "4396d7fd8e514d7ea58841444c5eda10": {
      "model_module": "@jupyter-widgets/base",
      "model_module_version": "1.2.0",
      "model_name": "LayoutModel",
      "state": {}
     },
     "4550f71ab7d244d1985c0b3a8d14c19b": {
      "model_module": "jupyter-cytoscape",
      "model_module_version": "^1.2.0",
      "model_name": "EdgeModel",
      "state": {
       "_model_module_version": "^1.2.0",
       "_view_module_version": "^1.2.0",
       "classes": " directed ",
       "data": {
        "id": "ec45d369-7e44-4791-9207-d3a1cd2e1beb",
        "label": "country",
        "source": "A02",
        "target": "A02C01"
       },
       "selectable": false
      }
     },
     "45e03a313eb54fd4941d4148b82fe169": {
      "model_module": "jupyter-cytoscape",
      "model_module_version": "^1.2.0",
      "model_name": "NodeModel",
      "state": {
       "_model_module_version": "^1.2.0",
       "_view_module_version": "^1.2.0",
       "classes": "country",
       "data": {
        "id": "A01C01",
        "label": "A01C01 France"
       },
       "grabbable": true,
       "grabbed": false,
       "position": {
        "x": 169,
        "y": 5.6000000000000005
       },
       "selectable": false
      }
     },
     "46a82d35f5e645e2bffe05e349ed5c94": {
      "model_module": "jupyter-cytoscape",
      "model_module_version": "^1.2.0",
      "model_name": "NodeModel",
      "state": {
       "_model_module_version": "^1.2.0",
       "_view_module_version": "^1.2.0",
       "data": {
        "id": "4"
       },
       "grabbable": true,
       "grabbed": false,
       "position": {
        "x": 497.1528845425462,
        "y": 288.9799896461065
       },
       "selectable": false
      }
     },
     "46d0d36962de4bcea70d4ee4c099dfa8": {
      "model_module": "jupyter-cytoscape",
      "model_module_version": "^1.2.0",
      "model_name": "EdgeModel",
      "state": {
       "_model_module_version": "^1.2.0",
       "_view_module_version": "^1.2.0",
       "classes": " directed ",
       "data": {
        "id": "7c018520-2eab-43b7-a992-cb32fb2b8ba0",
        "label": "country",
        "source": "A01",
        "target": "A01C02"
       },
       "selectable": false
      }
     },
     "4727532451fb46219eac9826cb80ad81": {
      "model_module": "jupyter-cytoscape",
      "model_module_version": "^1.2.0",
      "model_name": "NodeModel",
      "state": {
       "_model_module_version": "^1.2.0",
       "_view_module_version": "^1.2.0",
       "classes": "country",
       "data": {
        "id": "A01C01",
        "label": "A01C01 France"
       },
       "grabbable": true,
       "grabbed": false,
       "position": {
        "x": 127.99999952316284,
        "y": 94.40000047683716
       },
       "selectable": false
      }
     },
     "4740accce26d4708b35911a2ef9e4632": {
      "model_module": "jupyter-cytoscape",
      "model_module_version": "^1.2.0",
      "model_name": "NodeModel",
      "state": {
       "_model_module_version": "^1.2.0",
       "_view_module_version": "^1.2.0",
       "classes": "area level",
       "data": {
        "id": "A01",
        "label": "A01 Europe"
       },
       "grabbable": true,
       "grabbed": false,
       "position": {
        "x": 28,
        "y": 66.8
       },
       "selectable": false
      }
     },
     "49059aee7cf443039e1fc8918f709eee": {
      "model_module": "jupyter-cytoscape",
      "model_module_version": "^1.2.0",
      "model_name": "NodeModel",
      "state": {
       "_model_module_version": "^1.2.0",
       "_view_module_version": "^1.2.0",
       "classes": "area level",
       "data": {
        "id": "A02",
        "label": "A02 Asia"
       },
       "grabbable": true,
       "grabbed": false,
       "selectable": false
      }
     },
     "49772e939b214a0b96e0bb23c6df4611": {
      "model_module": "jupyter-cytoscape",
      "model_module_version": "^1.2.0",
      "model_name": "NodeModel",
      "state": {
       "_model_module_version": "^1.2.0",
       "_view_module_version": "^1.2.0",
       "classes": "area",
       "data": {
        "id": "A01",
        "label": "A01 Europe"
       },
       "grabbable": true,
       "grabbed": false,
       "position": {
        "x": 20,
        "y": 20
       },
       "selectable": false
      }
     },
     "49f947b805de4b2e8fe03d0d6adf2a4f": {
      "model_module": "jupyter-cytoscape",
      "model_module_version": "^1.2.0",
      "model_name": "NodeModel",
      "state": {
       "_model_module_version": "^1.2.0",
       "_view_module_version": "^1.2.0",
       "classes": "area level",
       "data": {
        "id": "A01",
        "label": "A01 Europe"
       },
       "grabbable": true,
       "grabbed": false,
       "selectable": false
      }
     },
     "4a570fe8e64848efa40401a1e96cf584": {
      "model_module": "jupyter-cytoscape",
      "model_module_version": "^1.2.0",
      "model_name": "NodeModel",
      "state": {
       "_model_module_version": "^1.2.0",
       "_view_module_version": "^1.2.0",
       "classes": "country",
       "data": {
        "id": "A01C03",
        "label": "A01C03 Italia"
       },
       "grabbable": true,
       "grabbed": false,
       "position": {
        "x": 127.99999952316284,
        "y": 125.60000047683717
       },
       "selectable": false
      }
     },
     "4ae6436c6fbc4be1b24b49e70f9064b2": {
      "model_module": "jupyter-cytoscape",
      "model_module_version": "^1.2.0",
      "model_name": "NodeModel",
      "state": {
       "_model_module_version": "^1.2.0",
       "_view_module_version": "^1.2.0",
       "classes": "country resource",
       "data": {
        "id": "A01C03",
        "label": "A01C03 Italia"
       },
       "grabbable": true,
       "grabbed": false,
       "position": {
        "x": 134,
        "y": 128
       },
       "selectable": false
      }
     },
     "4c131eaf0d4845d98b0bba8ab4c69c07": {
      "model_module": "jupyter-cytoscape",
      "model_module_version": "^1.2.0",
      "model_name": "NodeModel",
      "state": {
       "_model_module_version": "^1.2.0",
       "_view_module_version": "^1.2.0",
       "classes": "area",
       "data": {
        "id": "A02",
        "label": "A02 Asia"
       },
       "grabbable": true,
       "grabbed": false,
       "selectable": false
      }
     },
     "4c237e4bc3e74f9aa5b84db6b9ca896d": {
      "model_module": "@jupyter-widgets/base",
      "model_module_version": "1.2.0",
      "model_name": "LayoutModel",
      "state": {}
     },
     "4c9c9fac43e7483c930d4a90dce3d91d": {
      "model_module": "jupyter-cytoscape",
      "model_module_version": "^1.2.0",
      "model_name": "EdgeModel",
      "state": {
       "_model_module_version": "^1.2.0",
       "_view_module_version": "^1.2.0",
       "classes": " directed ",
       "data": {
        "id": "f7b02923-7a81-42a8-9ef1-99ea3f130669",
        "label": "country",
        "source": "A01",
        "target": "A01C01"
       },
       "selectable": false
      }
     },
     "4cba2059b5c34ee0b183a5e639d90dae": {
      "model_module": "jupyter-cytoscape",
      "model_module_version": "^1.2.0",
      "model_name": "GraphModel",
      "state": {
       "_adj": {
        "A01": {},
        "A02": {}
       },
       "_model_module_version": "^1.2.0",
       "_view_module": "jupyter-cytoscape",
       "_view_module_version": "^1.2.0",
       "nodes": [
        "IPY_MODEL_d8653f83643c415990f197e22bab0c37",
        "IPY_MODEL_337399253f464b43a718135877661a22"
       ]
      }
     },
     "4cdc3abafc044ac18d9591b930ac24c5": {
      "model_module": "jupyter-cytoscape",
      "model_module_version": "^1.2.0",
      "model_name": "EdgeModel",
      "state": {
       "_model_module_version": "^1.2.0",
       "_view_module_version": "^1.2.0",
       "classes": " directed ",
       "data": {
        "id": "3f0b996e-30ce-4f60-b823-6494526395cf",
        "label": "country",
        "source": "A02",
        "target": "A02C01"
       },
       "selectable": false
      }
     },
     "4d0cfb03575b4657b5d84dad5f404e7b": {
      "model_module": "jupyter-cytoscape",
      "model_module_version": "^1.2.0",
      "model_name": "NodeModel",
      "state": {
       "_model_module_version": "^1.2.0",
       "_view_module_version": "^1.2.0",
       "classes": "country",
       "data": {
        "id": "A02C01",
        "label": "A02C01 Japan"
       },
       "grabbable": true,
       "grabbed": false,
       "position": {
        "x": 169,
        "y": 189.20000000000002
       },
       "selectable": false
      }
     },
     "4d1983acdd2842c79e16b095d42b61cc": {
      "model_module": "jupyter-cytoscape",
      "model_module_version": "^1.2.0",
      "model_name": "NodeModel",
      "state": {
       "_model_module_version": "^1.2.0",
       "_view_module_version": "^1.2.0",
       "classes": "country level",
       "data": {
        "id": "A01C01",
        "label": "A01C01 France"
       },
       "grabbable": true,
       "grabbed": false,
       "position": {
        "x": 134,
        "y": 5.6000000000000005
       },
       "selectable": false
      }
     },
     "4da29d58d5844d5b8017c8cc21f5b42b": {
      "model_module": "jupyter-cytoscape",
      "model_module_version": "^1.2.0",
      "model_name": "NodeModel",
      "state": {
       "_model_module_version": "^1.2.0",
       "_view_module_version": "^1.2.0",
       "classes": "country level",
       "data": {
        "id": "A02C01",
        "label": "A02C01 Japan"
       },
       "grabbable": true,
       "grabbed": false,
       "selectable": false
      }
     },
     "4e0683b07c2740b3a093fa4df1430b4c": {
      "model_module": "@jupyter-widgets/base",
      "model_module_version": "1.2.0",
      "model_name": "LayoutModel",
      "state": {}
     },
     "4e54965ca20c44ca947c3f63d24551a3": {
      "model_module": "jupyter-cytoscape",
      "model_module_version": "^1.2.0",
      "model_name": "NodeModel",
      "state": {
       "_model_module_version": "^1.2.0",
       "_view_module_version": "^1.2.0",
       "classes": "country",
       "data": {
        "id": "A01C03",
        "label": "A01C03 Italia"
       },
       "grabbable": true,
       "grabbed": false,
       "position": {
        "x": 169,
        "y": 128
       },
       "selectable": false
      }
     },
     "4e7119cb7f604dae891a2f3c53eb3849": {
      "model_module": "@jupyter-widgets/base",
      "model_module_version": "1.2.0",
      "model_name": "LayoutModel",
      "state": {}
     },
     "4eaad452e9e24ee1ae76bfe5b260abb8": {
      "model_module": "@jupyter-widgets/base",
      "model_module_version": "1.2.0",
      "model_name": "LayoutModel",
      "state": {}
     },
     "4ef6952818ad4671ac8869ff43d89d52": {
      "model_module": "jupyter-cytoscape",
      "model_module_version": "^1.2.0",
      "model_name": "EdgeModel",
      "state": {
       "_model_module_version": "^1.2.0",
       "_view_module_version": "^1.2.0",
       "classes": " directed ",
       "data": {
        "id": "5cdfd0ae-1c20-44a5-b672-d8a1c2480234",
        "label": "country",
        "source": "A01",
        "target": "A01C01"
       },
       "selectable": false
      }
     },
     "4f759e9f7c5547f2bd4b17eaaefa4ca6": {
      "model_module": "jupyter-cytoscape",
      "model_module_version": "^1.2.0",
      "model_name": "NodeModel",
      "state": {
       "_model_module_version": "^1.2.0",
       "_view_module_version": "^1.2.0",
       "classes": "country",
       "data": {
        "id": "A01C03",
        "label": "A01C03 Italia"
       },
       "grabbable": true,
       "grabbed": false,
       "position": {
        "x": 127.99999952316284,
        "y": 125.60000047683717
       },
       "selectable": false
      }
     },
     "5047a69eff30496c8fa597de2a2d59f2": {
      "model_module": "jupyter-cytoscape",
      "model_module_version": "^1.2.0",
      "model_name": "EdgeModel",
      "state": {
       "_model_module_version": "^1.2.0",
       "_view_module_version": "^1.2.0",
       "classes": " directed ",
       "data": {
        "id": "3bf9ac84-96b3-4b1e-813d-8796e6111c3f",
        "label": "country",
        "source": "A01",
        "target": "A01C03"
       },
       "selectable": false
      }
     },
     "505d757d08cb45f2b08a6e56c7ee4c58": {
      "model_module": "jupyter-cytoscape",
      "model_module_version": "^1.2.0",
      "model_name": "NodeModel",
      "state": {
       "_model_module_version": "^1.2.0",
       "_view_module_version": "^1.2.0",
       "classes": "country",
       "data": {
        "id": "A01C01",
        "label": "A01C01 France"
       },
       "grabbable": true,
       "grabbed": false,
       "position": {
        "x": 127.99999952316284,
        "y": 94.40000047683716
       },
       "selectable": false
      }
     },
     "50b6702d8e034e14a272620bd9cdbb04": {
      "model_module": "jupyter-cytoscape",
      "model_module_version": "^1.2.0",
      "model_name": "EdgeModel",
      "state": {
       "_model_module_version": "^1.2.0",
       "_view_module_version": "^1.2.0",
       "classes": " directed ",
       "data": {
        "id": "5e2bcc7b-4389-4c6d-bf71-b91303c60300",
        "label": "country",
        "source": "A02",
        "target": "A02C01"
       },
       "selectable": false
      }
     },
     "50d3f5bf3f024ab89ce0cef2713dd9bf": {
      "model_module": "jupyter-cytoscape",
      "model_module_version": "^1.2.0",
      "model_name": "GraphModel",
      "state": {
       "_adj": {},
       "_model_module_version": "^1.2.0",
       "_view_module": "jupyter-cytoscape",
       "_view_module_version": "^1.2.0"
      }
     },
     "5219a38aeeb8482f82c43b1042b1c5fb": {
      "model_module": "jupyter-cytoscape",
      "model_module_version": "^1.2.0",
      "model_name": "CytoscapeModel",
      "state": {
       "_interaction_handlers": {},
       "_model_module_version": "^1.2.0",
       "_view_module_version": "^1.2.0",
       "auto_ungrabify": false,
       "autolock": false,
       "cytoscape_layout": {
        "edgeLenghVal": 10,
        "name": "klay",
        "nodeSpacing": 10,
        "rankDir": "LR"
       },
       "cytoscape_style": [
        {
         "css": {
          "background-color": "rgb(204,255,255)",
          "background-opacity": 1,
          "border-color": "rgb(0,153,255)",
          "border-opacity": 1,
          "border-width": 1.5,
          "color": "rgb(0,0,0)",
          "content": "data(src_node)",
          "font-family": "SansSerif.plain",
          "font-size": 12,
          "font-weight": "normal",
          "height": 35,
          "shape": "ellipse",
          "text-halign": "center",
          "text-opacity": 1,
          "text-valign": "center",
          "width": 75
         },
         "selector": "node"
        }
       ],
       "desktop_tap_threshold": 4,
       "graph": "IPY_MODEL_2a56302c40344879b05eb6be43bc0f25",
       "headless": false,
       "hide_edges_on_viewport": false,
       "layout": "IPY_MODEL_908c5a72380140649773be1be06c253f",
       "max_zoom": 1e+50,
       "min_zoom": 1e-50,
       "motion_blur": false,
       "motion_blur_opacity": 0.2,
       "panning_enabled": true,
       "pixel_ratio": "auto",
       "rendered_position": {
        "renderedPosition": {
         "x": 100,
         "y": 100
        }
       },
       "selection_type": "single",
       "style_enabled": true,
       "texture_on_viewport": false,
       "tooltip_source": "label",
       "touch_tap_threshold": 8,
       "user_panning_enabled": true,
       "user_zooming_enabled": true,
       "wheel_sensitivity": 1,
       "zoom": 2,
       "zooming_enabled": true
      }
     },
     "5280ecbd82a0467ca22bf6a0fc15e591": {
      "model_module": "jupyter-cytoscape",
      "model_module_version": "^1.2.0",
      "model_name": "NodeModel",
      "state": {
       "_model_module_version": "^1.2.0",
       "_view_module_version": "^1.2.0",
       "classes": "country",
       "data": {
        "id": "A02C01",
        "label": "A02C01 Japan"
       },
       "grabbable": true,
       "grabbed": false,
       "position": {
        "x": 20,
        "y": 236.0000023841858
       },
       "selectable": false
      }
     },
     "529bf5d122404cc187b82207c7a7c6e4": {
      "model_module": "@jupyter-widgets/base",
      "model_module_version": "1.2.0",
      "model_name": "LayoutModel",
      "state": {}
     },
     "52ce45d27cc74b2e9b0e621be196df65": {
      "model_module": "jupyter-cytoscape",
      "model_module_version": "^1.2.0",
      "model_name": "GraphModel",
      "state": {
       "_adj": {
        "A01": {},
        "A02": {}
       },
       "_model_module_version": "^1.2.0",
       "_view_module": "jupyter-cytoscape",
       "_view_module_version": "^1.2.0",
       "nodes": [
        "IPY_MODEL_a54441b5a8964e0d96dd92f8002f02ac",
        "IPY_MODEL_175fb18be6f2402c904bbc4a24f7348e"
       ]
      }
     },
     "5354a6903e3948aab3bf32b79e1e2f2b": {
      "model_module": "jupyter-cytoscape",
      "model_module_version": "^1.2.0",
      "model_name": "NodeModel",
      "state": {
       "_model_module_version": "^1.2.0",
       "_view_module_version": "^1.2.0",
       "classes": "area level",
       "data": {
        "id": "A02",
        "label": "A02 Asia"
       },
       "grabbable": true,
       "grabbed": false,
       "selectable": false
      }
     },
     "536fccabc9bc4838a579c3c45682e952": {
      "model_module": "jupyter-cytoscape",
      "model_module_version": "^1.2.0",
      "model_name": "CytoscapeModel",
      "state": {
       "_interaction_handlers": {},
       "_model_module_version": "^1.2.0",
       "_view_module_version": "^1.2.0",
       "auto_ungrabify": false,
       "autolock": false,
       "cytoscape_layout": {
        "edgeLenghVal": 10,
        "name": "dagre",
        "nodeSpacing": 10,
        "rankDir": "LR"
       },
       "cytoscape_style": [
        {
         "css": {
          "content": "data(label)",
          "font-size": "4pt",
          "height": "0.8em",
          "label": "data(id)",
          "text-halign": "center",
          "text-max-width": "5em",
          "text-valign": "center",
          "text-wrap": "wrap",
          "width": "4em"
         },
         "selector": "node"
        },
        {
         "css": {
          "shape": "roundrectangle"
         },
         "selector": "node.level"
        },
        {
         "css": {
          "shape": "ellipse"
         },
         "selector": "node.resource"
        },
        {
         "css": {
          "background-color": "red",
          "color": "white"
         },
         "selector": "node.area"
        },
        {
         "css": {
          "background-color": "blue",
          "color": "white"
         },
         "selector": "node.country"
        },
        {
         "css": {
          "curve-style": "bezier",
          "line-color": "gray",
          "shape": "arrow",
          "target-arrow-color": "gray",
          "target-arrow-shape": "triangle",
          "width": 1
         },
         "selector": "edge"
        }
       ],
       "desktop_tap_threshold": 4,
       "graph": "IPY_MODEL_23a94512cec348f385b78bbd2e40c9f9",
       "headless": false,
       "hide_edges_on_viewport": false,
       "layout": "IPY_MODEL_15bda3ca2dbd4ccd93b2606bdaca7917",
       "max_zoom": 1e+50,
       "min_zoom": 1e-50,
       "motion_blur": false,
       "motion_blur_opacity": 0.2,
       "panning_enabled": true,
       "pixel_ratio": "auto",
       "rendered_position": {
        "renderedPosition": {
         "x": 100,
         "y": 100
        }
       },
       "selection_type": "single",
       "style_enabled": true,
       "texture_on_viewport": false,
       "tooltip_source": "label",
       "touch_tap_threshold": 8,
       "user_panning_enabled": true,
       "user_zooming_enabled": true,
       "wheel_sensitivity": 1,
       "zoom": 2,
       "zooming_enabled": true
      }
     },
     "53f9166bd0b94860b08d56161a24caa4": {
      "model_module": "jupyter-cytoscape",
      "model_module_version": "^1.2.0",
      "model_name": "GraphModel",
      "state": {
       "_adj": {
        "A01": {},
        "A01C01": {},
        "A01C02": {},
        "A01C03": {},
        "A02": {},
        "A02C01": {}
       },
       "_model_module_version": "^1.2.0",
       "_view_module": "jupyter-cytoscape",
       "_view_module_version": "^1.2.0",
       "edges": [
        "IPY_MODEL_7b9a9f95a0c24eb8929eadb53b340f7e",
        "IPY_MODEL_ecea75668eff49f49f79245ed32a1e83",
        "IPY_MODEL_ba668a0d03ef4b0f97ccd94f15f1d36e",
        "IPY_MODEL_673cc052e61e4e658ecf7005d9e57863"
       ],
       "nodes": [
        "IPY_MODEL_a5d7558985f84d92b86aaeb9a518922c",
        "IPY_MODEL_fd56d60f86774f85a3b01c1348c6c1e8",
        "IPY_MODEL_41474e96e975475994be48f8db4fc6be",
        "IPY_MODEL_ca1d72cb9e1e4b43a6809c7d783ffca0",
        "IPY_MODEL_c37c951516a049c49e6cd7614cb35671",
        "IPY_MODEL_b067a1df29e44d2e9ea4af3cbf08ed37"
       ]
      }
     },
     "5453c928066e497898127727e79b8082": {
      "model_module": "jupyter-cytoscape",
      "model_module_version": "^1.2.0",
      "model_name": "NodeModel",
      "state": {
       "_model_module_version": "^1.2.0",
       "_view_module_version": "^1.2.0",
       "classes": "country",
       "data": {
        "id": "A01C01",
        "label": "A01C01 France"
       },
       "grabbable": true,
       "grabbed": false,
       "position": {
        "x": 134,
        "y": 5.6000000000000005
       },
       "selectable": false
      }
     },
     "548d0a96f0d846ddb4e4791b843c5ad4": {
      "model_module": "jupyter-cytoscape",
      "model_module_version": "^1.2.0",
      "model_name": "NodeModel",
      "state": {
       "_model_module_version": "^1.2.0",
       "_view_module_version": "^1.2.0",
       "classes": "country",
       "data": {
        "id": "A01C02",
        "label": "A01C02 UK"
       },
       "grabbable": true,
       "grabbed": false,
       "selectable": false
      }
     },
     "54ba7880ac8f4de9bfc6c263971f838f": {
      "model_module": "jupyter-cytoscape",
      "model_module_version": "^1.2.0",
      "model_name": "NodeModel",
      "state": {
       "_model_module_version": "^1.2.0",
       "_view_module_version": "^1.2.0",
       "classes": "country level",
       "data": {
        "id": "A01C03",
        "label": "A01C03 Italia"
       },
       "grabbable": true,
       "grabbed": false,
       "position": {
        "x": 134,
        "y": 128
       },
       "selectable": false
      }
     },
     "54d2d009313642d3ac85538f4461bb0f": {
      "model_module": "jupyter-cytoscape",
      "model_module_version": "^1.2.0",
      "model_name": "GraphModel",
      "state": {
       "_adj": {
        "A01": {},
        "A01C01": {},
        "A01C02": {},
        "A01C03": {},
        "A02": {},
        "A02C01": {}
       },
       "_model_module_version": "^1.2.0",
       "_view_module": "jupyter-cytoscape",
       "_view_module_version": "^1.2.0",
       "nodes": [
        "IPY_MODEL_a5d7558985f84d92b86aaeb9a518922c",
        "IPY_MODEL_fd56d60f86774f85a3b01c1348c6c1e8",
        "IPY_MODEL_41474e96e975475994be48f8db4fc6be",
        "IPY_MODEL_ca1d72cb9e1e4b43a6809c7d783ffca0",
        "IPY_MODEL_c37c951516a049c49e6cd7614cb35671",
        "IPY_MODEL_b067a1df29e44d2e9ea4af3cbf08ed37"
       ]
      }
     },
     "554263480fc24a0885ed5c3b5c414a6a": {
      "model_module": "jupyter-cytoscape",
      "model_module_version": "^1.2.0",
      "model_name": "NodeModel",
      "state": {
       "_model_module_version": "^1.2.0",
       "_view_module_version": "^1.2.0",
       "classes": "country level",
       "data": {
        "id": "A01C03",
        "label": "A01C03 Italia"
       },
       "grabbable": true,
       "grabbed": false,
       "selectable": false
      }
     },
     "556f3a4e3a3d4c7e93f23cde3ce3bc6f": {
      "model_module": "jupyter-cytoscape",
      "model_module_version": "^1.2.0",
      "model_name": "GraphModel",
      "state": {
       "_adj": {
        "A01": {},
        "A02": {}
       },
       "_model_module_version": "^1.2.0",
       "_view_module": "jupyter-cytoscape",
       "_view_module_version": "^1.2.0",
       "nodes": [
        "IPY_MODEL_a54441b5a8964e0d96dd92f8002f02ac",
        "IPY_MODEL_175fb18be6f2402c904bbc4a24f7348e"
       ]
      }
     },
     "5635bdcfa2f449ff954b35a4744f683b": {
      "model_module": "jupyter-cytoscape",
      "model_module_version": "^1.2.0",
      "model_name": "NodeModel",
      "state": {
       "_model_module_version": "^1.2.0",
       "_view_module_version": "^1.2.0",
       "classes": "country level",
       "data": {
        "id": "A01C01",
        "label": "A01C01 France"
       },
       "grabbable": true,
       "grabbed": false,
       "selectable": false
      }
     },
     "565a3b5acc514e04bf4c5de2cfda11c4": {
      "model_module": "jupyter-cytoscape",
      "model_module_version": "^1.2.0",
      "model_name": "EdgeModel",
      "state": {
       "_model_module_version": "^1.2.0",
       "_view_module_version": "^1.2.0",
       "classes": " directed ",
       "data": {
        "id": "c47c32d2-bed6-4f5e-b208-3428a8b94a39",
        "label": "country",
        "source": "A01",
        "target": "A01C01"
       },
       "selectable": false
      }
     },
     "568a933bdcd84072ad203b79a393bf0c": {
      "model_module": "jupyter-cytoscape",
      "model_module_version": "^1.2.0",
      "model_name": "EdgeModel",
      "state": {
       "_model_module_version": "^1.2.0",
       "_view_module_version": "^1.2.0",
       "classes": " directed ",
       "data": {
        "id": "c35a0d2f-aad3-4352-86f8-3fe4daeb141b",
        "label": "country",
        "source": "A01",
        "target": "A01C01"
       },
       "selectable": false
      }
     },
     "56b3c1ec5049441a8628fc53187aa33f": {
      "model_module": "jupyter-cytoscape",
      "model_module_version": "^1.2.0",
      "model_name": "NodeModel",
      "state": {
       "_model_module_version": "^1.2.0",
       "_view_module_version": "^1.2.0",
       "data": {
        "id": "0"
       },
       "grabbable": true,
       "grabbed": false,
       "position": {
        "x": 485.1910680907594,
        "y": 172.60683313244718
       },
       "selectable": false
      }
     },
     "56f101f164ca421ca856ebabfe982cf8": {
      "model_module": "jupyter-cytoscape",
      "model_module_version": "^1.2.0",
      "model_name": "GraphModel",
      "state": {
       "_adj": {},
       "_model_module_version": "^1.2.0",
       "_view_module": "jupyter-cytoscape",
       "_view_module_version": "^1.2.0"
      }
     },
     "5776f417c3a148c4811f5c500d2b0424": {
      "model_module": "jupyter-cytoscape",
      "model_module_version": "^1.2.0",
      "model_name": "NodeModel",
      "state": {
       "_model_module_version": "^1.2.0",
       "_view_module_version": "^1.2.0",
       "classes": "country level",
       "data": {
        "id": "A01C03",
        "label": "A01C03 Italia"
       },
       "grabbable": true,
       "grabbed": false,
       "selectable": false
      }
     },
     "577da965bff34fca8e5d8cdb5a95f894": {
      "model_module": "jupyter-cytoscape",
      "model_module_version": "^1.2.0",
      "model_name": "EdgeModel",
      "state": {
       "_model_module_version": "^1.2.0",
       "_view_module_version": "^1.2.0",
       "classes": " directed ",
       "data": {
        "id": "ac20eaa2-ccc5-4951-bdfb-c91161b86c70",
        "label": "country",
        "source": "A01",
        "target": "A01C02"
       },
       "selectable": false
      }
     },
     "580342a3a3ce4adba67627a4549fe4d5": {
      "model_module": "jupyter-cytoscape",
      "model_module_version": "^1.2.0",
      "model_name": "GraphModel",
      "state": {
       "_adj": {},
       "_model_module_version": "^1.2.0",
       "_view_module": "jupyter-cytoscape",
       "_view_module_version": "^1.2.0"
      }
     },
     "58bd66f587ac4f789e98ac252798297d": {
      "model_module": "jupyter-cytoscape",
      "model_module_version": "^1.2.0",
      "model_name": "CytoscapeModel",
      "state": {
       "_interaction_handlers": {},
       "_model_module_version": "^1.2.0",
       "_view_module_version": "^1.2.0",
       "auto_ungrabify": false,
       "autolock": false,
       "cytoscape_layout": {
        "edgeLenghVal": 10,
        "name": "dagre",
        "nodeSpacing": 10,
        "rankDir": "LR"
       },
       "cytoscape_style": [
        {
         "css": {
          "content": "data(label)",
          "font-size": "4pt",
          "height": "0.8em",
          "label": "data(id)",
          "text-halign": "center",
          "text-max-width": "5em",
          "text-valign": "center",
          "text-wrap": "wrap",
          "width": "4em"
         },
         "selector": "node"
        },
        {
         "css": {
          "shape": "roundrectangle"
         },
         "selector": "node.level"
        },
        {
         "css": {
          "shape": "ellipse"
         },
         "selector": "node.resource"
        },
        {
         "css": {
          "background-color": "red",
          "color": "white"
         },
         "selector": "node.area"
        },
        {
         "css": {
          "background-color": "blue",
          "color": "white"
         },
         "selector": "node.country"
        },
        {
         "css": {
          "curve-style": "bezier",
          "line-color": "gray",
          "shape": "arrow",
          "target-arrow-color": "gray",
          "target-arrow-shape": "triangle",
          "width": 1
         },
         "selector": "edge"
        }
       ],
       "desktop_tap_threshold": 4,
       "graph": "IPY_MODEL_744f45a7f68b4943be93aa420fa2ad6a",
       "headless": false,
       "hide_edges_on_viewport": false,
       "layout": "IPY_MODEL_4e7119cb7f604dae891a2f3c53eb3849",
       "max_zoom": 1e+50,
       "min_zoom": 1e-50,
       "motion_blur": false,
       "motion_blur_opacity": 0.2,
       "panning_enabled": true,
       "pixel_ratio": "auto",
       "rendered_position": {
        "renderedPosition": {
         "x": 100,
         "y": 100
        }
       },
       "selection_type": "single",
       "style_enabled": true,
       "texture_on_viewport": false,
       "tooltip_source": "label",
       "touch_tap_threshold": 8,
       "user_panning_enabled": true,
       "user_zooming_enabled": true,
       "wheel_sensitivity": 1,
       "zoom": 2,
       "zooming_enabled": true
      }
     },
     "58be13a709e547f39a2b12077322bc9a": {
      "model_module": "jupyter-cytoscape",
      "model_module_version": "^1.2.0",
      "model_name": "EdgeModel",
      "state": {
       "_model_module_version": "^1.2.0",
       "_view_module_version": "^1.2.0",
       "classes": " directed ",
       "data": {
        "id": "f8dc4b4f-6317-42cf-9309-aa77c29d208f",
        "label": "country",
        "source": "A01",
        "target": "A01C02"
       },
       "selectable": false
      }
     },
     "58f7fc783ec34b028bcd0f8020ae17cd": {
      "model_module": "jupyter-cytoscape",
      "model_module_version": "^1.2.0",
      "model_name": "EdgeModel",
      "state": {
       "_model_module_version": "^1.2.0",
       "_view_module_version": "^1.2.0",
       "classes": " directed ",
       "data": {
        "id": "77634204-ed0c-4b3e-ba88-12c7f3b88acb",
        "label": "country",
        "source": "A02",
        "target": "A02C01"
       },
       "selectable": false
      }
     },
     "5910f8d45f2c40a8926035be6def8de8": {
      "model_module": "jupyter-cytoscape",
      "model_module_version": "^1.2.0",
      "model_name": "EdgeModel",
      "state": {
       "_model_module_version": "^1.2.0",
       "_view_module_version": "^1.2.0",
       "classes": " directed ",
       "data": {
        "id": "1bddbcc9-2206-4229-8d85-cff9f50a26d8",
        "label": "country",
        "source": "A02",
        "target": "A02C01"
       },
       "selectable": false
      }
     },
     "59ee3999773a4b1bb9f0ce1455657ddb": {
      "model_module": "jupyter-cytoscape",
      "model_module_version": "^1.2.0",
      "model_name": "EdgeModel",
      "state": {
       "_model_module_version": "^1.2.0",
       "_view_module_version": "^1.2.0",
       "classes": " directed ",
       "data": {
        "id": "b36cf8fd-c206-42d3-b6de-db4e1cf163dd",
        "label": "country",
        "source": "A02",
        "target": "A02C01"
       },
       "selectable": false
      }
     },
     "5a11890f87be477c9adc0fdd84c65270": {
      "model_module": "jupyter-cytoscape",
      "model_module_version": "^1.2.0",
      "model_name": "EdgeModel",
      "state": {
       "_model_module_version": "^1.2.0",
       "_view_module_version": "^1.2.0",
       "classes": " directed ",
       "data": {
        "id": "06077564-f843-4de0-85b6-a2af195c448b",
        "label": "country",
        "source": "A01",
        "target": "A01C03"
       },
       "selectable": false
      }
     },
     "5adc5deb467b42e98744d4a2c64887c9": {
      "model_module": "jupyter-cytoscape",
      "model_module_version": "^1.2.0",
      "model_name": "GraphModel",
      "state": {
       "_adj": {},
       "_model_module_version": "^1.2.0",
       "_view_module": "jupyter-cytoscape",
       "_view_module_version": "^1.2.0"
      }
     },
     "5b72eaf6fb6d4be0941d6e4b460de165": {
      "model_module": "jupyter-cytoscape",
      "model_module_version": "^1.2.0",
      "model_name": "CytoscapeModel",
      "state": {
       "_interaction_handlers": {},
       "_model_module_version": "^1.2.0",
       "_view_module_version": "^1.2.0",
       "auto_ungrabify": false,
       "autolock": false,
       "cytoscape_layout": {
        "edgeLenghVal": 10,
        "name": "dagre",
        "nodeSpacing": 10,
        "rankDir": "LR"
       },
       "cytoscape_style": [
        {
         "css": {
          "content": "data(label)",
          "font-size": "4pt",
          "height": "0.8em",
          "label": "data(id)",
          "text-halign": "center",
          "text-max-width": "5em",
          "text-valign": "center",
          "text-wrap": "wrap",
          "width": "4em"
         },
         "selector": "node"
        },
        {
         "css": {
          "shape": "roundrectangle"
         },
         "selector": "node.level"
        },
        {
         "css": {
          "shape": "ellipse"
         },
         "selector": "node.resource"
        },
        {
         "css": {
          "background-color": "red",
          "color": "white"
         },
         "selector": "node.area"
        },
        {
         "css": {
          "background-color": "blue",
          "color": "white"
         },
         "selector": "node.country"
        },
        {
         "css": {
          "curve-style": "bezier",
          "line-color": "gray",
          "shape": "arrow",
          "target-arrow-color": "gray",
          "target-arrow-shape": "triangle",
          "width": 1
         },
         "selector": "edge"
        }
       ],
       "desktop_tap_threshold": 4,
       "graph": "IPY_MODEL_3ad2894fdd4046c09ac44f93c7051c2f",
       "headless": false,
       "hide_edges_on_viewport": false,
       "layout": "IPY_MODEL_e69aa0daafc4483d8ad7287c1cab8cd1",
       "max_zoom": 1e+50,
       "min_zoom": 1e-50,
       "motion_blur": false,
       "motion_blur_opacity": 0.2,
       "panning_enabled": true,
       "pixel_ratio": "auto",
       "rendered_position": {
        "renderedPosition": {
         "x": 100,
         "y": 100
        }
       },
       "selection_type": "single",
       "style_enabled": true,
       "texture_on_viewport": false,
       "tooltip_source": "label",
       "touch_tap_threshold": 8,
       "user_panning_enabled": true,
       "user_zooming_enabled": true,
       "wheel_sensitivity": 1,
       "zoom": 2,
       "zooming_enabled": true
      }
     },
     "5b864afe975e431e854eecc53af3ce3a": {
      "model_module": "jupyter-cytoscape",
      "model_module_version": "^1.2.0",
      "model_name": "NodeModel",
      "state": {
       "_model_module_version": "^1.2.0",
       "_view_module_version": "^1.2.0",
       "classes": "area",
       "data": {
        "id": "A02",
        "label": "A02 Asia"
       },
       "grabbable": true,
       "grabbed": false,
       "position": {
        "x": 35,
        "y": 189.20000000000002
       },
       "selectable": false
      }
     },
     "5bf35b2b1f1844c089cb03034b2d6976": {
      "model_module": "jupyter-cytoscape",
      "model_module_version": "^1.2.0",
      "model_name": "EdgeModel",
      "state": {
       "_model_module_version": "^1.2.0",
       "_view_module_version": "^1.2.0",
       "classes": " directed ",
       "data": {
        "id": "5715697b-a075-4791-95d1-6d06b43c2838",
        "label": "country",
        "source": "A02",
        "target": "A02C01"
       },
       "selectable": false
      }
     },
     "5cc351eebe3e411cb091761784f124b7": {
      "model_module": "@jupyter-widgets/base",
      "model_module_version": "1.2.0",
      "model_name": "LayoutModel",
      "state": {}
     },
     "5dbbeb4b8c5443b08cc53e49cd135668": {
      "model_module": "jupyter-cytoscape",
      "model_module_version": "^1.2.0",
      "model_name": "NodeModel",
      "state": {
       "_model_module_version": "^1.2.0",
       "_view_module_version": "^1.2.0",
       "classes": "area level",
       "data": {
        "id": "A01",
        "label": "A01 Europe"
       },
       "grabbable": true,
       "grabbed": false,
       "position": {
        "x": 28,
        "y": 66.8
       },
       "selectable": false
      }
     },
     "5e5bc4f9eae0473688af699263e946a8": {
      "model_module": "jupyter-cytoscape",
      "model_module_version": "^1.2.0",
      "model_name": "GraphModel",
      "state": {
       "_adj": {},
       "_model_module_version": "^1.2.0",
       "_view_module": "jupyter-cytoscape",
       "_view_module_version": "^1.2.0"
      }
     },
     "5f2188c5f35f4bea9d2ae6679e809443": {
      "model_module": "jupyter-cytoscape",
      "model_module_version": "^1.2.0",
      "model_name": "NodeModel",
      "state": {
       "_model_module_version": "^1.2.0",
       "_view_module_version": "^1.2.0",
       "classes": "country",
       "data": {
        "id": "A02C01",
        "label": "A02C01 Japan"
       },
       "grabbable": true,
       "grabbed": false,
       "position": {
        "x": 148,
        "y": 189.20000000000002
       },
       "selectable": false
      }
     },
     "6025d737e80840b192b55b7925c002ef": {
      "model_module": "jupyter-cytoscape",
      "model_module_version": "^1.2.0",
      "model_name": "GraphModel",
      "state": {
       "_adj": {
        "A01": {},
        "A01C01": {},
        "A01C02": {},
        "A01C03": {},
        "A02": {},
        "A02C01": {}
       },
       "_model_module_version": "^1.2.0",
       "_view_module": "jupyter-cytoscape",
       "_view_module_version": "^1.2.0",
       "edges": [
        "IPY_MODEL_6e602e615dff4514b99dc3602a5ddf1a",
        "IPY_MODEL_286b104cfa83478aa06df295723d4afc",
        "IPY_MODEL_a07231750a6c43508759417c7f06e6a2",
        "IPY_MODEL_3698b7ff3b1d4e6ca7eb4be64d587af4"
       ],
       "nodes": [
        "IPY_MODEL_ac99e0d6d6d844deb67499f6396f0a67",
        "IPY_MODEL_b8d67ff89b3d4d1d993bbded17273e76",
        "IPY_MODEL_6b1c258deee942d491662cb7cbd90fec",
        "IPY_MODEL_82c0b5977c6d42feb57fcedcb66b791f",
        "IPY_MODEL_7740df2c852448cab897c9f7e8475263",
        "IPY_MODEL_5f2188c5f35f4bea9d2ae6679e809443"
       ]
      }
     },
     "603fc46b6b4e439a8e2b07a5db4f4e78": {
      "model_module": "jupyter-cytoscape",
      "model_module_version": "^1.2.0",
      "model_name": "EdgeModel",
      "state": {
       "_model_module_version": "^1.2.0",
       "_view_module_version": "^1.2.0",
       "classes": " directed ",
       "data": {
        "id": "12033f1b-eda2-47dc-810a-af77623d334d",
        "source": "2",
        "target": "3"
       },
       "selectable": false
      }
     },
     "60591392bab54a77bf2af58505cf5d2e": {
      "model_module": "jupyter-cytoscape",
      "model_module_version": "^1.2.0",
      "model_name": "EdgeModel",
      "state": {
       "_model_module_version": "^1.2.0",
       "_view_module_version": "^1.2.0",
       "classes": " directed ",
       "data": {
        "id": "787c8eca-a2f1-4bbf-9e85-7f3eb29ee943",
        "label": "country",
        "source": "A02",
        "target": "A02C01"
       },
       "selectable": false
      }
     },
     "6126f679a5f04e67987073cd8b34ac59": {
      "model_module": "jupyter-cytoscape",
      "model_module_version": "^1.2.0",
      "model_name": "NodeModel",
      "state": {
       "_model_module_version": "^1.2.0",
       "_view_module_version": "^1.2.0",
       "classes": "area level",
       "data": {
        "id": "A02",
        "label": "A02 Asia"
       },
       "grabbable": true,
       "grabbed": false,
       "position": {
        "x": 28,
        "y": 189.20000000000002
       },
       "selectable": false
      }
     },
     "6185bcbf4e6045b2889ad525c56ed5b6": {
      "model_module": "@jupyter-widgets/base",
      "model_module_version": "1.2.0",
      "model_name": "LayoutModel",
      "state": {}
     },
     "6260e744ddde4922a10bbb406befb75c": {
      "model_module": "jupyter-cytoscape",
      "model_module_version": "^1.2.0",
      "model_name": "GraphModel",
      "state": {
       "_adj": {},
       "_model_module_version": "^1.2.0",
       "_view_module": "jupyter-cytoscape",
       "_view_module_version": "^1.2.0"
      }
     },
     "62b7bd5f3bf24120999b94da4efb6acb": {
      "model_module": "jupyter-cytoscape",
      "model_module_version": "^1.2.0",
      "model_name": "EdgeModel",
      "state": {
       "_model_module_version": "^1.2.0",
       "_view_module_version": "^1.2.0",
       "classes": " directed ",
       "data": {
        "id": "3aa8f074-ad9f-48a5-84e2-786d950f428a",
        "label": "country",
        "source": "A01",
        "target": "A01C02"
       },
       "selectable": false
      }
     },
     "62e47582f5174758aef9c78eab1a0632": {
      "model_module": "jupyter-cytoscape",
      "model_module_version": "^1.2.0",
      "model_name": "EdgeModel",
      "state": {
       "_model_module_version": "^1.2.0",
       "_view_module_version": "^1.2.0",
       "classes": " directed ",
       "data": {
        "id": "13285378-3aed-4062-b724-ba30ff3bb6e4",
        "label": "country",
        "source": "A01",
        "target": "A01C03"
       },
       "selectable": false
      }
     },
     "6337847b819740268b79b64ebbb3a060": {
      "model_module": "jupyter-cytoscape",
      "model_module_version": "^1.2.0",
      "model_name": "GraphModel",
      "state": {
       "_adj": {},
       "_model_module_version": "^1.2.0",
       "_view_module": "jupyter-cytoscape",
       "_view_module_version": "^1.2.0"
      }
     },
     "63442645fe6c4183a8b381465d87c2a0": {
      "model_module": "jupyter-cytoscape",
      "model_module_version": "^1.2.0",
      "model_name": "NodeModel",
      "state": {
       "_model_module_version": "^1.2.0",
       "_view_module_version": "^1.2.0",
       "classes": "country",
       "data": {
        "id": "A02C01",
        "label": "A02C01 Japan"
       },
       "grabbable": true,
       "grabbed": false,
       "position": {
        "x": 20,
        "y": 236.0000023841858
       },
       "selectable": false
      }
     },
     "635af33478784841a5aea7b28b3e7867": {
      "model_module": "jupyter-cytoscape",
      "model_module_version": "^1.2.0",
      "model_name": "NodeModel",
      "state": {
       "_model_module_version": "^1.2.0",
       "_view_module_version": "^1.2.0",
       "classes": "area level",
       "data": {
        "id": "A02",
        "label": "A02 Asia"
       },
       "grabbable": true,
       "grabbed": false,
       "selectable": false
      }
     },
     "63aaed6d41a4404a9ad3eaffd24b07c3": {
      "model_module": "jupyter-cytoscape",
      "model_module_version": "^1.2.0",
      "model_name": "NodeModel",
      "state": {
       "_model_module_version": "^1.2.0",
       "_view_module_version": "^1.2.0",
       "classes": "area level",
       "data": {
        "id": "A02",
        "label": "A02 Asia"
       },
       "grabbable": true,
       "grabbed": false,
       "selectable": false
      }
     },
     "63e37c8fc19047068ca64f7c73aba463": {
      "model_module": "jupyter-cytoscape",
      "model_module_version": "^1.2.0",
      "model_name": "CytoscapeModel",
      "state": {
       "_interaction_handlers": {},
       "_model_module_version": "^1.2.0",
       "_view_module_version": "^1.2.0",
       "auto_ungrabify": false,
       "autolock": false,
       "cytoscape_layout": {
        "edgeLenghVal": 10,
        "name": "klay",
        "nodeSpacing": 10,
        "rankDir": "LR"
       },
       "cytoscape_style": [
        {
         "css": {
          "background-color": "black",
          "color": "white",
          "content": "data(label)",
          "font-size": "4pt",
          "height": "0.8em",
          "label": "data(id)",
          "shape": "roundrectangle",
          "text-halign": "center",
          "text-max-width": "5em",
          "text-valign": "center",
          "text-wrap": "wrap",
          "width": "5em"
         },
         "selector": "node.area"
        },
        {
         "css": {
          "background-color": "black",
          "color": "white",
          "content": "data(label)",
          "font-size": "4pt",
          "height": "0.8em",
          "label": "data(id)",
          "shape": "roundrectangle",
          "text-halign": "center",
          "text-max-width": "7em",
          "text-valign": "center",
          "text-wrap": "wrap",
          "width": "7em"
         },
         "selector": "node.country"
        }
       ],
       "desktop_tap_threshold": 4,
       "graph": "IPY_MODEL_cd34da10a8284e56955e194422c1c030",
       "headless": false,
       "hide_edges_on_viewport": false,
       "layout": "IPY_MODEL_6185bcbf4e6045b2889ad525c56ed5b6",
       "max_zoom": 1e+50,
       "min_zoom": 1e-50,
       "motion_blur": false,
       "motion_blur_opacity": 0.2,
       "panning_enabled": true,
       "pixel_ratio": "auto",
       "rendered_position": {
        "renderedPosition": {
         "x": 100,
         "y": 100
        }
       },
       "selection_type": "single",
       "style_enabled": true,
       "texture_on_viewport": false,
       "tooltip_source": "label",
       "touch_tap_threshold": 8,
       "user_panning_enabled": true,
       "user_zooming_enabled": true,
       "wheel_sensitivity": 1,
       "zoom": 2,
       "zooming_enabled": true
      }
     },
     "645d7f3d1bb54daea1b825cb5ab4bc6d": {
      "model_module": "jupyter-cytoscape",
      "model_module_version": "^1.2.0",
      "model_name": "CytoscapeModel",
      "state": {
       "_interaction_handlers": {},
       "_model_module_version": "^1.2.0",
       "_view_module_version": "^1.2.0",
       "auto_ungrabify": false,
       "autolock": false,
       "cytoscape_layout": {
        "edgeLenghVal": 10,
        "name": "klay",
        "nodeSpacing": 10,
        "rankDir": "LR"
       },
       "cytoscape_style": [
        {
         "css": {
          "background-color": "#11479e"
         },
         "selector": "node"
        },
        {
         "css": {
          "background-opacity": 0.333
         },
         "selector": "node:parent"
        },
        {
         "selector": "edge",
         "style": {
          "line-color": "#9dbaea",
          "width": 4
         }
        },
        {
         "selector": "edge.directed",
         "style": {
          "curve-style": "bezier",
          "target-arrow-color": "#9dbaea",
          "target-arrow-shape": "triangle"
         }
        },
        {
         "selector": "edge.multiple_edges",
         "style": {
          "curve-style": "bezier"
         }
        }
       ],
       "desktop_tap_threshold": 4,
       "graph": "IPY_MODEL_169f41dc823349f08af827141735e2e1",
       "headless": false,
       "hide_edges_on_viewport": false,
       "layout": "IPY_MODEL_9b90134dce764f5bb04ce1e3e1b43e85",
       "max_zoom": 1e+50,
       "min_zoom": 1e-50,
       "motion_blur": false,
       "motion_blur_opacity": 0.2,
       "panning_enabled": true,
       "pixel_ratio": "auto",
       "rendered_position": {
        "renderedPosition": {
         "x": 100,
         "y": 100
        }
       },
       "selection_type": "single",
       "style_enabled": true,
       "texture_on_viewport": false,
       "tooltip_source": "label",
       "touch_tap_threshold": 8,
       "user_panning_enabled": true,
       "user_zooming_enabled": true,
       "wheel_sensitivity": 1,
       "zoom": 2,
       "zooming_enabled": true
      }
     },
     "647dd71a890a4b5b963a166b79c35137": {
      "model_module": "jupyter-cytoscape",
      "model_module_version": "^1.2.0",
      "model_name": "GraphModel",
      "state": {
       "_adj": {},
       "_model_module_version": "^1.2.0",
       "_view_module": "jupyter-cytoscape",
       "_view_module_version": "^1.2.0"
      }
     },
     "648049ac5c794aafb14b969f0eb98760": {
      "model_module": "jupyter-cytoscape",
      "model_module_version": "^1.2.0",
      "model_name": "NodeModel",
      "state": {
       "_model_module_version": "^1.2.0",
       "_view_module_version": "^1.2.0",
       "classes": "area level",
       "data": {
        "id": "A02",
        "label": "A02 Asia"
       },
       "grabbable": true,
       "grabbed": false,
       "position": {
        "x": 28,
        "y": 66.8
       },
       "selectable": false
      }
     },
     "6480ce7977734764be504f0c6fd4ab9c": {
      "model_module": "jupyter-cytoscape",
      "model_module_version": "^1.2.0",
      "model_name": "NodeModel",
      "state": {
       "_model_module_version": "^1.2.0",
       "_view_module_version": "^1.2.0",
       "classes": "country",
       "data": {
        "id": "A02C01",
        "label": "A02C01 Japan"
       },
       "grabbable": true,
       "grabbed": false,
       "selectable": false
      }
     },
     "64a1ea512e72477c958ee1ef1cdd9304": {
      "model_module": "jupyter-cytoscape",
      "model_module_version": "^1.2.0",
      "model_name": "NodeModel",
      "state": {
       "_model_module_version": "^1.2.0",
       "_view_module_version": "^1.2.0",
       "classes": "country level",
       "data": {
        "id": "A01C02",
        "label": "A01C02 UK"
       },
       "grabbable": true,
       "grabbed": false,
       "selectable": false
      }
     },
     "653b7e56f8d149ae9872215a25447cfb": {
      "model_module": "jupyter-cytoscape",
      "model_module_version": "^1.2.0",
      "model_name": "NodeModel",
      "state": {
       "_model_module_version": "^1.2.0",
       "_view_module_version": "^1.2.0",
       "classes": "country",
       "data": {
        "id": "A01C02",
        "label": "A01C02 UK"
       },
       "grabbable": true,
       "grabbed": false,
       "selectable": false
      }
     },
     "673cc052e61e4e658ecf7005d9e57863": {
      "model_module": "jupyter-cytoscape",
      "model_module_version": "^1.2.0",
      "model_name": "EdgeModel",
      "state": {
       "_model_module_version": "^1.2.0",
       "_view_module_version": "^1.2.0",
       "classes": " directed ",
       "data": {
        "id": "ff67daa6-6661-45dd-87a3-c01b6734a889",
        "label": "country",
        "source": "A02",
        "target": "A02C01"
       },
       "selectable": false
      }
     },
     "67404249300f4516a618bda34e929ded": {
      "model_module": "jupyter-cytoscape",
      "model_module_version": "^1.2.0",
      "model_name": "NodeModel",
      "state": {
       "_model_module_version": "^1.2.0",
       "_view_module_version": "^1.2.0",
       "classes": "country",
       "data": {
        "id": "A01C03",
        "label": "A01C03 Italia"
       },
       "grabbable": true,
       "grabbed": false,
       "position": {
        "x": 148,
        "y": 128
       },
       "selectable": false
      }
     },
     "6794833a3c0a4865af4c242494d7d029": {
      "model_module": "jupyter-cytoscape",
      "model_module_version": "^1.2.0",
      "model_name": "NodeModel",
      "state": {
       "_model_module_version": "^1.2.0",
       "_view_module_version": "^1.2.0",
       "classes": "country",
       "data": {
        "id": "A01C03",
        "label": "A01C03 Italia"
       },
       "grabbable": true,
       "grabbed": false,
       "position": {
        "x": 169,
        "y": 128
       },
       "selectable": false
      }
     },
     "67a499e0a4d14e5fb0c11448faa55b7c": {
      "model_module": "jupyter-cytoscape",
      "model_module_version": "^1.2.0",
      "model_name": "NodeModel",
      "state": {
       "_model_module_version": "^1.2.0",
       "_view_module_version": "^1.2.0",
       "classes": "country level",
       "data": {
        "id": "A02C01",
        "label": "A02C01 Japan"
       },
       "grabbable": true,
       "grabbed": false,
       "selectable": false
      }
     },
     "67ab61fb949949b4bd67b0475191870b": {
      "model_module": "jupyter-cytoscape",
      "model_module_version": "^1.2.0",
      "model_name": "EdgeModel",
      "state": {
       "_model_module_version": "^1.2.0",
       "_view_module_version": "^1.2.0",
       "classes": " directed ",
       "data": {
        "id": "1566e22d-66c5-4633-952a-3ecc81c671d7",
        "label": "country",
        "source": "A01",
        "target": "A01C02"
       },
       "selectable": false
      }
     },
     "68e8172c9d71445c8df0442869ca4688": {
      "model_module": "jupyter-cytoscape",
      "model_module_version": "^1.2.0",
      "model_name": "NodeModel",
      "state": {
       "_model_module_version": "^1.2.0",
       "_view_module_version": "^1.2.0",
       "classes": "country",
       "data": {
        "id": "A01C01",
        "label": "A01C01 France"
       },
       "grabbable": true,
       "grabbed": false,
       "position": {
        "x": 127.99999952316284,
        "y": 94.40000047683716
       },
       "selectable": false
      }
     },
     "6953958b57a94417af6cc12f1e82fd7b": {
      "model_module": "jupyter-cytoscape",
      "model_module_version": "^1.2.0",
      "model_name": "NodeModel",
      "state": {
       "_model_module_version": "^1.2.0",
       "_view_module_version": "^1.2.0",
       "classes": "country level",
       "data": {
        "id": "A01C02",
        "label": "A01C02 UK"
       },
       "grabbable": true,
       "grabbed": false,
       "position": {
        "x": 134,
        "y": 66.8
       },
       "selectable": false
      }
     },
     "6b1c258deee942d491662cb7cbd90fec": {
      "model_module": "jupyter-cytoscape",
      "model_module_version": "^1.2.0",
      "model_name": "NodeModel",
      "state": {
       "_model_module_version": "^1.2.0",
       "_view_module_version": "^1.2.0",
       "classes": "country",
       "data": {
        "id": "A01C01",
        "label": "A01C01 France"
       },
       "grabbable": true,
       "grabbed": false,
       "position": {
        "x": 148,
        "y": 5.6000000000000005
       },
       "selectable": false
      }
     },
     "6bc5a48003434a4386fda6fa59aa0459": {
      "model_module": "jupyter-cytoscape",
      "model_module_version": "^1.2.0",
      "model_name": "GraphModel",
      "state": {
       "_adj": {},
       "_model_module_version": "^1.2.0",
       "_view_module": "jupyter-cytoscape",
       "_view_module_version": "^1.2.0"
      }
     },
     "6c8c141f998d4e52a2c6a60204061911": {
      "model_module": "jupyter-cytoscape",
      "model_module_version": "^1.2.0",
      "model_name": "NodeModel",
      "state": {
       "_model_module_version": "^1.2.0",
       "_view_module_version": "^1.2.0",
       "classes": "country",
       "data": {
        "id": "A01C03",
        "label": "A01C03 Italia"
       },
       "grabbable": true,
       "grabbed": false,
       "selectable": false
      }
     },
     "6db3cd74217245b4b19bd043d5873d65": {
      "model_module": "jupyter-cytoscape",
      "model_module_version": "^1.2.0",
      "model_name": "NodeModel",
      "state": {
       "_model_module_version": "^1.2.0",
       "_view_module_version": "^1.2.0",
       "classes": "country level",
       "data": {
        "id": "A01C03",
        "label": "A01C03 Italia"
       },
       "grabbable": true,
       "grabbed": false,
       "position": {
        "x": 134,
        "y": 128
       },
       "selectable": false
      }
     },
     "6e602e615dff4514b99dc3602a5ddf1a": {
      "model_module": "jupyter-cytoscape",
      "model_module_version": "^1.2.0",
      "model_name": "EdgeModel",
      "state": {
       "_model_module_version": "^1.2.0",
       "_view_module_version": "^1.2.0",
       "classes": " directed ",
       "data": {
        "id": "bad96e26-cac4-4e5d-b8d8-b5324e952022",
        "label": "country",
        "source": "A01",
        "target": "A01C01"
       },
       "selectable": false
      }
     },
     "6ed3c29dd14140c7b80ca0cf2c0694fa": {
      "model_module": "jupyter-cytoscape",
      "model_module_version": "^1.2.0",
      "model_name": "NodeModel",
      "state": {
       "_model_module_version": "^1.2.0",
       "_view_module_version": "^1.2.0",
       "classes": "area",
       "data": {
        "id": "A02",
        "label": "A02 Asia"
       },
       "grabbable": true,
       "grabbed": false,
       "position": {
        "x": 20,
        "y": 63.20000047683716
       },
       "selectable": false
      }
     },
     "6ef97e7abfee4cbca3b1fdfc519c4004": {
      "model_module": "jupyter-cytoscape",
      "model_module_version": "^1.2.0",
      "model_name": "EdgeModel",
      "state": {
       "_model_module_version": "^1.2.0",
       "_view_module_version": "^1.2.0",
       "classes": " directed ",
       "data": {
        "id": "3df0ef69-3bc2-4acc-be9d-c2a1cdbec912",
        "label": "country",
        "source": "A01",
        "target": "A01C03"
       },
       "selectable": false
      }
     },
     "6f04b8d259ed42ba963fa3e070d70f47": {
      "model_module": "jupyter-cytoscape",
      "model_module_version": "^1.2.0",
      "model_name": "NodeModel",
      "state": {
       "_model_module_version": "^1.2.0",
       "_view_module_version": "^1.2.0",
       "classes": "country level",
       "data": {
        "id": "A01C01",
        "label": "A01C01 France"
       },
       "grabbable": true,
       "grabbed": false,
       "selectable": false
      }
     },
     "6f94524384a04a208ac37d80cce54525": {
      "model_module": "jupyter-cytoscape",
      "model_module_version": "^1.2.0",
      "model_name": "GraphModel",
      "state": {
       "_adj": {},
       "_model_module_version": "^1.2.0",
       "_view_module": "jupyter-cytoscape",
       "_view_module_version": "^1.2.0"
      }
     },
     "6fe58f36984c43edb856bde6ec56de95": {
      "model_module": "@jupyter-widgets/base",
      "model_module_version": "1.2.0",
      "model_name": "LayoutModel",
      "state": {}
     },
     "700ea83eae8d464389a6c896cb314290": {
      "model_module": "jupyter-cytoscape",
      "model_module_version": "^1.2.0",
      "model_name": "EdgeModel",
      "state": {
       "_model_module_version": "^1.2.0",
       "_view_module_version": "^1.2.0",
       "classes": " directed ",
       "data": {
        "id": "7b2a032f-dde7-4961-89e2-079408308086",
        "label": "country",
        "source": "A01",
        "target": "A01C03"
       },
       "selectable": false
      }
     },
     "709f0c7d7200479b8f646936d12c7295": {
      "model_module": "jupyter-cytoscape",
      "model_module_version": "^1.2.0",
      "model_name": "NodeModel",
      "state": {
       "_model_module_version": "^1.2.0",
       "_view_module_version": "^1.2.0",
       "classes": "country level",
       "data": {
        "id": "A01C03",
        "label": "A01C03 Italia"
       },
       "grabbable": true,
       "grabbed": false,
       "position": {
        "x": 28,
        "y": 250.4
       },
       "selectable": false
      }
     },
     "70a8860dbdcf484a86456cc1298e3edd": {
      "model_module": "jupyter-cytoscape",
      "model_module_version": "^1.2.0",
      "model_name": "GraphModel",
      "state": {
       "_adj": {},
       "_model_module_version": "^1.2.0",
       "_view_module": "jupyter-cytoscape",
       "_view_module_version": "^1.2.0"
      }
     },
     "713f1e44b01a44cda3a5556b8aab1b66": {
      "model_module": "jupyter-cytoscape",
      "model_module_version": "^1.2.0",
      "model_name": "NodeModel",
      "state": {
       "_model_module_version": "^1.2.0",
       "_view_module_version": "^1.2.0",
       "classes": "country level",
       "data": {
        "id": "A02C01",
        "label": "A02C01 Japan"
       },
       "grabbable": true,
       "grabbed": false,
       "position": {
        "x": 134,
        "y": 189.20000000000002
       },
       "selectable": false
      }
     },
     "7154e1f7b8994eff81aaf81f4a4ac3f4": {
      "model_module": "jupyter-cytoscape",
      "model_module_version": "^1.2.0",
      "model_name": "GraphModel",
      "state": {
       "_adj": {},
       "_model_module_version": "^1.2.0",
       "_view_module": "jupyter-cytoscape",
       "_view_module_version": "^1.2.0"
      }
     },
     "72d39d76d12f4d1585d99c302a0146c5": {
      "model_module": "jupyter-cytoscape",
      "model_module_version": "^1.2.0",
      "model_name": "NodeModel",
      "state": {
       "_model_module_version": "^1.2.0",
       "_view_module_version": "^1.2.0",
       "classes": "area",
       "data": {
        "id": "A01",
        "label": "A01 Europe"
       },
       "grabbable": true,
       "grabbed": false,
       "position": {
        "x": 35,
        "y": 66.8
       },
       "selectable": false
      }
     },
     "72dfc22d25a84f86ad4a5452283da09c": {
      "model_module": "jupyter-cytoscape",
      "model_module_version": "^1.2.0",
      "model_name": "EdgeModel",
      "state": {
       "_model_module_version": "^1.2.0",
       "_view_module_version": "^1.2.0",
       "classes": " directed ",
       "data": {
        "id": "57da8bf9-ae59-4f8d-89eb-ce614055bf52",
        "label": "country",
        "source": "A01",
        "target": "A01C02"
       },
       "selectable": false
      }
     },
     "72e681428e2b49e2b73a82293f0bd92b": {
      "model_module": "jupyter-cytoscape",
      "model_module_version": "^1.2.0",
      "model_name": "EdgeModel",
      "state": {
       "_model_module_version": "^1.2.0",
       "_view_module_version": "^1.2.0",
       "classes": " directed ",
       "data": {
        "id": "e0d30c03-0173-4d71-9402-010da81b2b27",
        "label": "country",
        "source": "A01",
        "target": "A01C01"
       },
       "selectable": false
      }
     },
     "73398a9a5d1a4a8d92a3503e8939747c": {
      "model_module": "jupyter-cytoscape",
      "model_module_version": "^1.2.0",
      "model_name": "CytoscapeModel",
      "state": {
       "_interaction_handlers": {},
       "_model_module_version": "^1.2.0",
       "_view_module_version": "^1.2.0",
       "auto_ungrabify": false,
       "autolock": false,
       "cytoscape_layout": {
        "edgeLenghVal": 10,
        "name": "dagre",
        "nodeSpacing": 10,
        "rankDir": "LR"
       },
       "cytoscape_style": [
        {
         "css": {
          "content": "data(label)",
          "font-size": "4pt",
          "height": "0.8em",
          "label": "data(id)",
          "shape": "roundrectangle",
          "text-halign": "center",
          "text-max-width": "5em",
          "text-valign": "center",
          "text-wrap": "wrap",
          "width": "4em"
         },
         "selector": "node"
        },
        {
         "css": {
          "background-color": "red",
          "color": "white"
         },
         "selector": "node.area"
        },
        {
         "css": {
          "background-color": "black",
          "color": "white",
          "content": "data(label)",
          "font-size": "4pt",
          "height": "0.8em",
          "label": "data(id)",
          "shape": "roundrectangle",
          "text-halign": "center",
          "text-max-width": "7em",
          "text-valign": "center",
          "text-wrap": "wrap",
          "width": "6em"
         },
         "selector": "node.country"
        },
        {
         "css": {
          "curve-style": "bezier",
          "line-color": "gray",
          "shape": "arrow",
          "target-arrow-color": "gray",
          "target-arrow-shape": "triangle",
          "width": 1
         },
         "selector": "edge"
        }
       ],
       "desktop_tap_threshold": 4,
       "graph": "IPY_MODEL_f45ea2bba9764d48916b21f21e3286ef",
       "headless": false,
       "hide_edges_on_viewport": false,
       "layout": "IPY_MODEL_98560cf7c4f345c7b60f7408495d4023",
       "max_zoom": 1e+50,
       "min_zoom": 1e-50,
       "motion_blur": false,
       "motion_blur_opacity": 0.2,
       "panning_enabled": true,
       "pixel_ratio": "auto",
       "rendered_position": {
        "renderedPosition": {
         "x": 100,
         "y": 100
        }
       },
       "selection_type": "single",
       "style_enabled": true,
       "texture_on_viewport": false,
       "tooltip_source": "label",
       "touch_tap_threshold": 8,
       "user_panning_enabled": true,
       "user_zooming_enabled": true,
       "wheel_sensitivity": 1,
       "zoom": 2,
       "zooming_enabled": true
      }
     },
     "735f876e1db5456e9ac1f05aaeba7626": {
      "model_module": "jupyter-cytoscape",
      "model_module_version": "^1.2.0",
      "model_name": "NodeModel",
      "state": {
       "_model_module_version": "^1.2.0",
       "_view_module_version": "^1.2.0",
       "classes": "country",
       "data": {
        "id": "A02C01",
        "label": "A02C01 Japan"
       },
       "grabbable": true,
       "grabbed": false,
       "position": {
        "x": 169,
        "y": 189.20000000000002
       },
       "selectable": false
      }
     },
     "73688994be724cdb81900ff854360a58": {
      "model_module": "jupyter-cytoscape",
      "model_module_version": "^1.2.0",
      "model_name": "NodeModel",
      "state": {
       "_model_module_version": "^1.2.0",
       "_view_module_version": "^1.2.0",
       "classes": "area",
       "data": {
        "id": "A01",
        "label": "A01 Europe"
       },
       "grabbable": true,
       "grabbed": false,
       "position": {
        "x": 35,
        "y": 66.8
       },
       "selectable": false
      }
     },
     "7385bf0650b644b88dacc2b6cfbdc1c2": {
      "model_module": "jupyter-cytoscape",
      "model_module_version": "^1.2.0",
      "model_name": "NodeModel",
      "state": {
       "_model_module_version": "^1.2.0",
       "_view_module_version": "^1.2.0",
       "classes": "area",
       "data": {
        "id": "A02",
        "label": "A02 Asia"
       },
       "grabbable": true,
       "grabbed": false,
       "position": {
        "x": 20,
        "y": 20
       },
       "selectable": false
      }
     },
     "744f45a7f68b4943be93aa420fa2ad6a": {
      "model_module": "jupyter-cytoscape",
      "model_module_version": "^1.2.0",
      "model_name": "GraphModel",
      "state": {
       "_adj": {
        "A01": {},
        "A01C01": {},
        "A01C02": {},
        "A01C03": {},
        "A02": {},
        "A02C01": {}
       },
       "_model_module_version": "^1.2.0",
       "_view_module": "jupyter-cytoscape",
       "_view_module_version": "^1.2.0",
       "edges": [
        "IPY_MODEL_3bd2817322cf45bfa325a3b042d985b7",
        "IPY_MODEL_08a9dd3ac6164ccd924cc0e1fba40f55",
        "IPY_MODEL_eabf0e5f009d48d0a7c858d64d92a243",
        "IPY_MODEL_a0721e9ac35040b2a03d1a24a735919c"
       ],
       "nodes": [
        "IPY_MODEL_d2bd55cd177a4b7eb66b84cdd781151c",
        "IPY_MODEL_d112310ad3c24b199245cdd7ceecb9e6",
        "IPY_MODEL_fd953c03b3234d42bfdd453c9a25f346",
        "IPY_MODEL_cd21b5ffe7734650be6826dbfa18fd0f",
        "IPY_MODEL_4740accce26d4708b35911a2ef9e4632",
        "IPY_MODEL_1b6183d67c9c4ae4ad2f1d8efc7e13ef"
       ]
      }
     },
     "752c419f157b4a1bbc0af11ad6a5ec37": {
      "model_module": "jupyter-cytoscape",
      "model_module_version": "^1.2.0",
      "model_name": "EdgeModel",
      "state": {
       "_model_module_version": "^1.2.0",
       "_view_module_version": "^1.2.0",
       "classes": " directed ",
       "data": {
        "id": "75724161-5589-4f4e-8a87-1347dbfa6b24",
        "source": "2",
        "target": "4"
       },
       "selectable": false
      }
     },
     "75c66319dff0492a9827e3a97ff5d645": {
      "model_module": "jupyter-cytoscape",
      "model_module_version": "^1.2.0",
      "model_name": "NodeModel",
      "state": {
       "_model_module_version": "^1.2.0",
       "_view_module_version": "^1.2.0",
       "classes": "country",
       "data": {
        "id": "A02C01",
        "label": "A02C01 Japan"
       },
       "grabbable": true,
       "grabbed": false,
       "position": {
        "x": 148,
        "y": 189.20000000000002
       },
       "selectable": false
      }
     },
     "75f27139c55a47ffb6bc507b3a624fb4": {
      "model_module": "@jupyter-widgets/base",
      "model_module_version": "1.2.0",
      "model_name": "LayoutModel",
      "state": {}
     },
     "76b59dc129454733b33b9f459ba2b4f9": {
      "model_module": "jupyter-cytoscape",
      "model_module_version": "^1.2.0",
      "model_name": "NodeModel",
      "state": {
       "_model_module_version": "^1.2.0",
       "_view_module_version": "^1.2.0",
       "classes": "country",
       "data": {
        "id": "A01C03",
        "label": "A01C03 Italia"
       },
       "grabbable": true,
       "grabbed": false,
       "position": {
        "x": 169,
        "y": 128
       },
       "selectable": false
      }
     },
     "76e01526586243be8dd202ce9f359458": {
      "model_module": "jupyter-cytoscape",
      "model_module_version": "^1.2.0",
      "model_name": "NodeModel",
      "state": {
       "_model_module_version": "^1.2.0",
       "_view_module_version": "^1.2.0",
       "classes": "area",
       "data": {
        "id": "A01",
        "label": "A01 Europe"
       },
       "grabbable": true,
       "grabbed": false,
       "selectable": false
      }
     },
     "770fbd7906ed4331a864d47002307130": {
      "model_module": "jupyter-cytoscape",
      "model_module_version": "^1.2.0",
      "model_name": "GraphModel",
      "state": {
       "_adj": {},
       "_model_module_version": "^1.2.0",
       "_view_module": "jupyter-cytoscape",
       "_view_module_version": "^1.2.0"
      }
     },
     "771561adac0740979a692305b3adcc8e": {
      "model_module": "jupyter-cytoscape",
      "model_module_version": "^1.2.0",
      "model_name": "CytoscapeModel",
      "state": {
       "_interaction_handlers": {},
       "_model_module_version": "^1.2.0",
       "_view_module_version": "^1.2.0",
       "auto_ungrabify": false,
       "autolock": false,
       "cytoscape_layout": {
        "edgeLenghVal": 10,
        "name": "dagre",
        "nodeSpacing": 10,
        "rankDir": "LR"
       },
       "cytoscape_style": [
        {
         "css": {
          "content": "data(label)",
          "font-size": "4pt",
          "height": "0.8em",
          "label": "data(id)",
          "text-halign": "center",
          "text-max-width": "5em",
          "text-valign": "center",
          "text-wrap": "wrap",
          "width": "4em"
         },
         "selector": "node"
        },
        {
         "css": {
          "shape": "roundrectangle"
         },
         "selector": "node.level"
        },
        {
         "css": {
          "shape": "ellipse"
         },
         "selector": "node.resource"
        },
        {
         "css": {
          "background-color": "red",
          "color": "white"
         },
         "selector": "node.area"
        },
        {
         "css": {
          "background-color": "blue",
          "color": "white"
         },
         "selector": "node.country"
        },
        {
         "css": {
          "curve-style": "bezier",
          "line-color": "gray",
          "shape": "arrow",
          "target-arrow-color": "gray",
          "target-arrow-shape": "triangle",
          "width": 1
         },
         "selector": "edge"
        }
       ],
       "desktop_tap_threshold": 4,
       "graph": "IPY_MODEL_86666d3a4ea84d62b61fca22dc6168cc",
       "headless": false,
       "hide_edges_on_viewport": false,
       "layout": "IPY_MODEL_18953efcfba042a3b8b1611ab7965695",
       "max_zoom": 1e+50,
       "min_zoom": 1e-50,
       "motion_blur": false,
       "motion_blur_opacity": 0.2,
       "panning_enabled": true,
       "pixel_ratio": "auto",
       "rendered_position": {
        "renderedPosition": {
         "x": 100,
         "y": 100
        }
       },
       "selection_type": "single",
       "style_enabled": true,
       "texture_on_viewport": false,
       "tooltip_source": "label",
       "touch_tap_threshold": 8,
       "user_panning_enabled": true,
       "user_zooming_enabled": true,
       "wheel_sensitivity": 1,
       "zoom": 2,
       "zooming_enabled": true
      }
     },
     "7740df2c852448cab897c9f7e8475263": {
      "model_module": "jupyter-cytoscape",
      "model_module_version": "^1.2.0",
      "model_name": "NodeModel",
      "state": {
       "_model_module_version": "^1.2.0",
       "_view_module_version": "^1.2.0",
       "classes": "country",
       "data": {
        "id": "A01C03",
        "label": "A01C03 Italia"
       },
       "grabbable": true,
       "grabbed": false,
       "position": {
        "x": 148,
        "y": 128
       },
       "selectable": false
      }
     },
     "7770da4ef51d490199d20e9845ff0e65": {
      "model_module": "jupyter-cytoscape",
      "model_module_version": "^1.2.0",
      "model_name": "NodeModel",
      "state": {
       "_model_module_version": "^1.2.0",
       "_view_module_version": "^1.2.0",
       "classes": "area level",
       "data": {
        "id": "A01",
        "label": "A01 Europe"
       },
       "grabbable": true,
       "grabbed": false,
       "position": {
        "x": 28,
        "y": 66.8
       },
       "selectable": false
      }
     },
     "77aeeb431e70481e8fc798bedb44ca4b": {
      "model_module": "jupyter-cytoscape",
      "model_module_version": "^1.2.0",
      "model_name": "GraphModel",
      "state": {
       "_adj": {
        "A01": {},
        "A02": {}
       },
       "_model_module_version": "^1.2.0",
       "_view_module": "jupyter-cytoscape",
       "_view_module_version": "^1.2.0",
       "nodes": [
        "IPY_MODEL_a54441b5a8964e0d96dd92f8002f02ac",
        "IPY_MODEL_175fb18be6f2402c904bbc4a24f7348e"
       ]
      }
     },
     "77cf96b657da408abdbb4d7f21df60af": {
      "model_module": "jupyter-cytoscape",
      "model_module_version": "^1.2.0",
      "model_name": "EdgeModel",
      "state": {
       "_model_module_version": "^1.2.0",
       "_view_module_version": "^1.2.0",
       "classes": " directed ",
       "data": {
        "id": "ce211f79-17e9-4a2a-b522-dfd4b071bd25",
        "source": "0",
        "target": "1"
       },
       "selectable": false
      }
     },
     "77f36f875e614e96b44e4e59f1a9a946": {
      "model_module": "jupyter-cytoscape",
      "model_module_version": "^1.2.0",
      "model_name": "CytoscapeModel",
      "state": {
       "_interaction_handlers": {},
       "_model_module_version": "^1.2.0",
       "_view_module_version": "^1.2.0",
       "auto_ungrabify": false,
       "autolock": false,
       "cytoscape_layout": {
        "name": "cola"
       },
       "cytoscape_style": [
        {
         "css": {
          "background-color": "#11479e"
         },
         "selector": "node"
        },
        {
         "css": {
          "background-opacity": 0.333
         },
         "selector": "node:parent"
        },
        {
         "selector": "edge",
         "style": {
          "line-color": "#9dbaea",
          "width": 4
         }
        },
        {
         "selector": "edge.directed",
         "style": {
          "curve-style": "bezier",
          "target-arrow-color": "#9dbaea",
          "target-arrow-shape": "triangle"
         }
        },
        {
         "selector": "edge.multiple_edges",
         "style": {
          "curve-style": "bezier"
         }
        }
       ],
       "desktop_tap_threshold": 4,
       "graph": "IPY_MODEL_83c1b7642a864306ac62a88a799ab039",
       "headless": false,
       "hide_edges_on_viewport": false,
       "layout": "IPY_MODEL_f0d354bf69f84e558e7be0af14a9de54",
       "max_zoom": 1e+50,
       "min_zoom": 1e-50,
       "motion_blur": false,
       "motion_blur_opacity": 0.2,
       "panning_enabled": true,
       "pixel_ratio": "auto",
       "rendered_position": {
        "renderedPosition": {
         "x": 100,
         "y": 100
        }
       },
       "selection_type": "single",
       "style_enabled": true,
       "texture_on_viewport": false,
       "tooltip_source": "tooltip",
       "touch_tap_threshold": 8,
       "user_panning_enabled": true,
       "user_zooming_enabled": true,
       "wheel_sensitivity": 1,
       "zoom": 2,
       "zooming_enabled": true
      }
     },
     "787819171f654431b57ad23e89ca9f81": {
      "model_module": "jupyter-cytoscape",
      "model_module_version": "^1.2.0",
      "model_name": "NodeModel",
      "state": {
       "_model_module_version": "^1.2.0",
       "_view_module_version": "^1.2.0",
       "classes": "country level",
       "data": {
        "id": "A02C01",
        "label": "A02C01 Japan"
       },
       "grabbable": true,
       "grabbed": false,
       "position": {
        "x": 134,
        "y": 189.20000000000002
       },
       "selectable": false
      }
     },
     "78d877ae10c842b09a486f909f11375f": {
      "model_module": "jupyter-cytoscape",
      "model_module_version": "^1.2.0",
      "model_name": "EdgeModel",
      "state": {
       "_model_module_version": "^1.2.0",
       "_view_module_version": "^1.2.0",
       "classes": " directed ",
       "data": {
        "id": "6f092d88-3750-427a-8e7f-aa264571de28",
        "label": "country",
        "source": "A01",
        "target": "A01C01"
       },
       "selectable": false
      }
     },
     "79077b518fff47bb8d439517c4a0530c": {
      "model_module": "jupyter-cytoscape",
      "model_module_version": "^1.2.0",
      "model_name": "GraphModel",
      "state": {
       "_adj": {
        "A01": {},
        "A01C01": {},
        "A01C02": {},
        "A01C03": {},
        "A02": {},
        "A02C01": {}
       },
       "_model_module_version": "^1.2.0",
       "_view_module": "jupyter-cytoscape",
       "_view_module_version": "^1.2.0",
       "nodes": [
        "IPY_MODEL_d336a882f1ca4185aa985d3261ffaad6",
        "IPY_MODEL_9c6c373e00c04dcabb4bdccd413161a4",
        "IPY_MODEL_b8401acb3aa14016acb6240981d8dcfc",
        "IPY_MODEL_93c44726c6284039be0c90983a9d26a9",
        "IPY_MODEL_ee7759959d4d479bba3098c45502c988",
        "IPY_MODEL_63442645fe6c4183a8b381465d87c2a0"
       ]
      }
     },
     "7a117da1910d4f4db8dc7166bf863046": {
      "model_module": "jupyter-cytoscape",
      "model_module_version": "^1.2.0",
      "model_name": "NodeModel",
      "state": {
       "_model_module_version": "^1.2.0",
       "_view_module_version": "^1.2.0",
       "classes": "area level",
       "data": {
        "id": "A01",
        "label": "A01 Europe"
       },
       "grabbable": true,
       "grabbed": false,
       "selectable": false
      }
     },
     "7a691fa9b41944b4a1b0bbb4cd23c836": {
      "model_module": "jupyter-cytoscape",
      "model_module_version": "^1.2.0",
      "model_name": "CytoscapeModel",
      "state": {
       "_interaction_handlers": {},
       "_model_module_version": "^1.2.0",
       "_view_module_version": "^1.2.0",
       "auto_ungrabify": false,
       "autolock": false,
       "cytoscape_layout": {
        "edgeLenghVal": 30,
        "name": "klay",
        "nodeSpacing": 300,
        "rankDir": "LR"
       },
       "cytoscape_style": [
        {
         "css": {
          "background-color": "black",
          "color": "white",
          "content": "data(label)",
          "font-size": "4pt",
          "height": "0.8em",
          "label": "data(id)",
          "shape": "roundrectangle",
          "text-halign": "center",
          "text-max-width": "5em",
          "text-valign": "center",
          "text-wrap": "wrap",
          "width": "5em"
         },
         "selector": "node.area"
        },
        {
         "css": {
          "background-color": "black",
          "color": "white",
          "content": "data(label)",
          "font-size": "4pt",
          "height": "0.8em",
          "label": "data(id)",
          "shape": "roundrectangle",
          "text-halign": "center",
          "text-max-width": "7em",
          "text-valign": "center",
          "text-wrap": "wrap",
          "width": "7em"
         },
         "selector": "node.country"
        },
        {
         "css": {
          "curve-style": "bezier",
          "line-color": "gray",
          "shape": "arrow",
          "target-arrow-color": "gray",
          "target-arrow-shape": "triangle",
          "width": 1
         },
         "selector": "edge"
        }
       ],
       "desktop_tap_threshold": 4,
       "graph": "IPY_MODEL_a9f8bbe07063400789be6179986c9ad0",
       "headless": false,
       "hide_edges_on_viewport": false,
       "layout": "IPY_MODEL_96e2036e80ea4f11a3b170a01ba5be50",
       "max_zoom": 1e+50,
       "min_zoom": 1e-50,
       "motion_blur": false,
       "motion_blur_opacity": 0.2,
       "panning_enabled": true,
       "pixel_ratio": "auto",
       "rendered_position": {
        "renderedPosition": {
         "x": 100,
         "y": 100
        }
       },
       "selection_type": "single",
       "style_enabled": true,
       "texture_on_viewport": false,
       "tooltip_source": "label",
       "touch_tap_threshold": 8,
       "user_panning_enabled": true,
       "user_zooming_enabled": true,
       "wheel_sensitivity": 1,
       "zoom": 2,
       "zooming_enabled": true
      }
     },
     "7b9a9f95a0c24eb8929eadb53b340f7e": {
      "model_module": "jupyter-cytoscape",
      "model_module_version": "^1.2.0",
      "model_name": "EdgeModel",
      "state": {
       "_model_module_version": "^1.2.0",
       "_view_module_version": "^1.2.0",
       "classes": " directed ",
       "data": {
        "id": "e7730c97-8393-4e1d-9521-4dab4c180e4b",
        "label": "country",
        "source": "A01",
        "target": "A01C01"
       },
       "selectable": false
      }
     },
     "7bd022cee93b4f4c92f2e1eb5da22b57": {
      "model_module": "jupyter-cytoscape",
      "model_module_version": "^1.2.0",
      "model_name": "NodeModel",
      "state": {
       "_model_module_version": "^1.2.0",
       "_view_module_version": "^1.2.0",
       "classes": "country level",
       "data": {
        "id": "A01C02",
        "label": "A01C02 UK"
       },
       "grabbable": true,
       "grabbed": false,
       "position": {
        "x": 134,
        "y": 66.8
       },
       "selectable": false
      }
     },
     "7be1efe44c4047cd9dac082f4eee57f8": {
      "model_module": "jupyter-cytoscape",
      "model_module_version": "^1.2.0",
      "model_name": "EdgeModel",
      "state": {
       "_model_module_version": "^1.2.0",
       "_view_module_version": "^1.2.0",
       "classes": " directed ",
       "data": {
        "id": "43b38d7f-a8a2-4b97-9a1d-9e05b4c10641",
        "label": "country",
        "source": "A01",
        "target": "A01C01"
       },
       "selectable": false
      }
     },
     "7c48cdbd18a343d39a0dc15dc70400bd": {
      "model_module": "jupyter-cytoscape",
      "model_module_version": "^1.2.0",
      "model_name": "NodeModel",
      "state": {
       "_model_module_version": "^1.2.0",
       "_view_module_version": "^1.2.0",
       "classes": "country level",
       "data": {
        "id": "A01C01",
        "label": "A01C01 France"
       },
       "grabbable": true,
       "grabbed": false,
       "selectable": false
      }
     },
     "7c9fbdc35ef8423bac5aa0053ae549cb": {
      "model_module": "jupyter-cytoscape",
      "model_module_version": "^1.2.0",
      "model_name": "NodeModel",
      "state": {
       "_model_module_version": "^1.2.0",
       "_view_module_version": "^1.2.0",
       "classes": "country",
       "data": {
        "id": "A02C01",
        "label": "A02C01 Japan"
       },
       "grabbable": true,
       "grabbed": false,
       "position": {
        "x": 110,
        "y": 20
       },
       "selectable": false
      }
     },
     "7e578dc8c489423e8beac8db5e354532": {
      "model_module": "jupyter-cytoscape",
      "model_module_version": "^1.2.0",
      "model_name": "EdgeModel",
      "state": {
       "_model_module_version": "^1.2.0",
       "_view_module_version": "^1.2.0",
       "classes": " directed ",
       "data": {
        "id": "4d5ed781-a2ad-44a3-bddb-ac6b2f9e7c90",
        "label": "country",
        "source": "A02",
        "target": "A02C01"
       },
       "selectable": false
      }
     },
     "7e74a82a6514418fb5103022e0e46fa9": {
      "model_module": "jupyter-cytoscape",
      "model_module_version": "^1.2.0",
      "model_name": "NodeModel",
      "state": {
       "_model_module_version": "^1.2.0",
       "_view_module_version": "^1.2.0",
       "classes": "country",
       "data": {
        "id": "A01C03",
        "label": "A01C03 Italia"
       },
       "grabbable": true,
       "grabbed": false,
       "position": {
        "x": 127.99999952316284,
        "y": 125.60000047683717
       },
       "selectable": false
      }
     },
     "7e8b129b5fc34307b18bc9ec445a486b": {
      "model_module": "jupyter-cytoscape",
      "model_module_version": "^1.2.0",
      "model_name": "NodeModel",
      "state": {
       "_model_module_version": "^1.2.0",
       "_view_module_version": "^1.2.0",
       "classes": "country",
       "data": {
        "id": "A01C02",
        "label": "A01C02 UK"
       },
       "grabbable": true,
       "grabbed": false,
       "position": {
        "x": 127.99999952316284,
        "y": 63.20000047683717
       },
       "selectable": false
      }
     },
     "7f64e864d61d44e8bb5584075643c2e6": {
      "model_module": "jupyter-cytoscape",
      "model_module_version": "^1.2.0",
      "model_name": "NodeModel",
      "state": {
       "_model_module_version": "^1.2.0",
       "_view_module_version": "^1.2.0",
       "classes": "country resource",
       "data": {
        "id": "A01C01",
        "label": "A01C01 France"
       },
       "grabbable": true,
       "grabbed": false,
       "position": {
        "x": 134,
        "y": 5.6000000000000005
       },
       "selectable": false
      }
     },
     "7f8767a2d40041bc860b25073adfac27": {
      "model_module": "jupyter-cytoscape",
      "model_module_version": "^1.2.0",
      "model_name": "NodeModel",
      "state": {
       "_model_module_version": "^1.2.0",
       "_view_module_version": "^1.2.0",
       "data": {
        "id": "4"
       },
       "grabbable": true,
       "grabbed": false,
       "position": {
        "x": 497.1528845425462,
        "y": 288.9799896461065
       },
       "selectable": false
      }
     },
     "7fdb96f1df6741bd9bf19d3aa4aeb1e2": {
      "model_module": "@jupyter-widgets/base",
      "model_module_version": "1.2.0",
      "model_name": "LayoutModel",
      "state": {}
     },
     "80add429ca2c429daaaa087e652cf79c": {
      "model_module": "jupyter-cytoscape",
      "model_module_version": "^1.2.0",
      "model_name": "CytoscapeModel",
      "state": {
       "_interaction_handlers": {},
       "_model_module_version": "^1.2.0",
       "_view_module_version": "^1.2.0",
       "auto_ungrabify": false,
       "autolock": false,
       "cytoscape_layout": {
        "edgeLenghVal": 20,
        "name": "klay",
        "nodeSpacing": 20,
        "rankDir": "LR"
       },
       "cytoscape_style": [
        {
         "css": {
          "background-color": "black",
          "color": "white",
          "content": "data(label)",
          "font-size": "4pt",
          "height": "0.8em",
          "label": "data(id)",
          "shape": "roundrectangle",
          "text-halign": "center",
          "text-max-width": "5em",
          "text-valign": "center",
          "text-wrap": "wrap",
          "width": "5em"
         },
         "selector": "node.area"
        },
        {
         "css": {
          "background-color": "black",
          "color": "white",
          "content": "data(label)",
          "font-size": "4pt",
          "height": "0.8em",
          "label": "data(id)",
          "shape": "roundrectangle",
          "text-halign": "center",
          "text-max-width": "7em",
          "text-valign": "center",
          "text-wrap": "wrap",
          "width": "7em"
         },
         "selector": "node.country"
        },
        {
         "css": {
          "curve-style": "bezier",
          "line-color": "gray",
          "shape": "arrow",
          "target-arrow-color": "gray",
          "target-arrow-shape": "triangle",
          "width": 1
         },
         "selector": "edge"
        }
       ],
       "desktop_tap_threshold": 4,
       "graph": "IPY_MODEL_02d9efff3a2f408dbd2813075bf6e2e9",
       "headless": false,
       "hide_edges_on_viewport": false,
       "layout": "IPY_MODEL_9a62cebbefeb4f90ba234261fc52ea5c",
       "max_zoom": 1e+50,
       "min_zoom": 1e-50,
       "motion_blur": false,
       "motion_blur_opacity": 0.2,
       "panning_enabled": true,
       "pixel_ratio": "auto",
       "rendered_position": {
        "renderedPosition": {
         "x": 100,
         "y": 100
        }
       },
       "selection_type": "single",
       "style_enabled": true,
       "texture_on_viewport": false,
       "tooltip_source": "label",
       "touch_tap_threshold": 8,
       "user_panning_enabled": true,
       "user_zooming_enabled": true,
       "wheel_sensitivity": 1,
       "zoom": 2,
       "zooming_enabled": true
      }
     },
     "80b932fd800742fea50389f19196ff9a": {
      "model_module": "jupyter-cytoscape",
      "model_module_version": "^1.2.0",
      "model_name": "EdgeModel",
      "state": {
       "_model_module_version": "^1.2.0",
       "_view_module_version": "^1.2.0",
       "classes": " directed ",
       "data": {
        "id": "26232d2e-b0b8-4a85-b67a-4f7430c51f43",
        "label": "country",
        "source": "A02",
        "target": "A02C01"
       },
       "selectable": false
      }
     },
     "81251b5746d34b6eb97de61efd112ef1": {
      "model_module": "jupyter-cytoscape",
      "model_module_version": "^1.2.0",
      "model_name": "NodeModel",
      "state": {
       "_model_module_version": "^1.2.0",
       "_view_module_version": "^1.2.0",
       "classes": "area level",
       "data": {
        "id": "A01",
        "label": "A01 Europe"
       },
       "grabbable": true,
       "grabbed": false,
       "selectable": false
      }
     },
     "824ab830cca4431a8744023b8f60f100": {
      "model_module": "jupyter-cytoscape",
      "model_module_version": "^1.2.0",
      "model_name": "NodeModel",
      "state": {
       "_model_module_version": "^1.2.0",
       "_view_module_version": "^1.2.0",
       "classes": "country",
       "data": {
        "id": "A01C02",
        "label": "A01C02 UK"
       },
       "grabbable": true,
       "grabbed": false,
       "position": {
        "x": 169,
        "y": 66.8
       },
       "selectable": false
      }
     },
     "82b837ec41f24d81947853b77a5879c2": {
      "model_module": "@jupyter-widgets/base",
      "model_module_version": "1.2.0",
      "model_name": "LayoutModel",
      "state": {}
     },
     "82c0b5977c6d42feb57fcedcb66b791f": {
      "model_module": "jupyter-cytoscape",
      "model_module_version": "^1.2.0",
      "model_name": "NodeModel",
      "state": {
       "_model_module_version": "^1.2.0",
       "_view_module_version": "^1.2.0",
       "classes": "country",
       "data": {
        "id": "A01C02",
        "label": "A01C02 UK"
       },
       "grabbable": true,
       "grabbed": false,
       "position": {
        "x": 148,
        "y": 66.8
       },
       "selectable": false
      }
     },
     "82f388d604954c908a6881edef19bd9c": {
      "model_module": "jupyter-cytoscape",
      "model_module_version": "^1.2.0",
      "model_name": "GraphModel",
      "state": {
       "_adj": {},
       "_model_module_version": "^1.2.0",
       "_view_module": "jupyter-cytoscape",
       "_view_module_version": "^1.2.0"
      }
     },
     "832c0faeac424780ac7f674d04bc8b07": {
      "model_module": "jupyter-cytoscape",
      "model_module_version": "^1.2.0",
      "model_name": "NodeModel",
      "state": {
       "_model_module_version": "^1.2.0",
       "_view_module_version": "^1.2.0",
       "classes": "country",
       "data": {
        "id": "A01C02",
        "label": "A01C02 UK"
       },
       "grabbable": true,
       "grabbed": false,
       "position": {
        "x": 169,
        "y": 66.8
       },
       "selectable": false
      }
     },
     "83b94d449544476f8f82f21945e145bc": {
      "model_module": "jupyter-cytoscape",
      "model_module_version": "^1.2.0",
      "model_name": "NodeModel",
      "state": {
       "_model_module_version": "^1.2.0",
       "_view_module_version": "^1.2.0",
       "classes": "area",
       "data": {
        "id": "A02",
        "label": "A02 Asia"
       },
       "grabbable": true,
       "grabbed": false,
       "position": {
        "x": 35,
        "y": 189.20000000000002
       },
       "selectable": false
      }
     },
     "83c1b7642a864306ac62a88a799ab039": {
      "model_module": "jupyter-cytoscape",
      "model_module_version": "^1.2.0",
      "model_name": "GraphModel",
      "state": {
       "_adj": {
        "0": {},
        "1": {},
        "2": {},
        "3": {},
        "4": {}
       },
       "_model_module_version": "^1.2.0",
       "_view_module": "jupyter-cytoscape",
       "_view_module_version": "^1.2.0",
       "edges": [
        "IPY_MODEL_77cf96b657da408abdbb4d7f21df60af",
        "IPY_MODEL_8940d958009e4763aa2a5b9d74b28921",
        "IPY_MODEL_e1fef4e88e2b47a29b2e1ec390dd43b8",
        "IPY_MODEL_8bfd165320544ef494ab68a23a5df019",
        "IPY_MODEL_e01ce1e36c4a4c60b79f37160b7a6918",
        "IPY_MODEL_38878bc500e94c6db7e74855a8c216e8",
        "IPY_MODEL_f7e20713ab4c4cae8e020116526aabb9",
        "IPY_MODEL_1494ae80c405422ebc8f71f2fa230dfb",
        "IPY_MODEL_d61c7b665aec4012a643c7f0fc2ecb7d",
        "IPY_MODEL_d81aa30fbfa746e29ea03dd299eb6a9d"
       ],
       "nodes": [
        "IPY_MODEL_d977fd291d7d40d5b78469e731703428",
        "IPY_MODEL_11eb111603ca40a6aa8f0947aa32bc8f",
        "IPY_MODEL_42038b8c7a47484e9604be325e2bca30",
        "IPY_MODEL_e62c9c78faff4781bfb4413c70544d4a",
        "IPY_MODEL_7f8767a2d40041bc860b25073adfac27"
       ]
      }
     },
     "83d10acf2dbb4b628732b4b6cb5ef8d7": {
      "model_module": "jupyter-cytoscape",
      "model_module_version": "^1.2.0",
      "model_name": "CytoscapeModel",
      "state": {
       "_interaction_handlers": {},
       "_model_module_version": "^1.2.0",
       "_view_module_version": "^1.2.0",
       "auto_ungrabify": false,
       "autolock": false,
       "cytoscape_layout": {
        "edgeLenghVal": 10,
        "name": "klay",
        "nodeSpacing": 10,
        "rankDir": "LR"
       },
       "cytoscape_style": [
        {
         "css": {
          "background-color": "black",
          "color": "white",
          "content": "data(label)",
          "font-size": "4pt",
          "height": "0.8em",
          "label": "data(id)",
          "shape": "roundrectangle",
          "text-halign": "center",
          "text-max-width": "7em",
          "text-valign": "center",
          "text-wrap": "wrap",
          "width": "7em"
         },
         "selector": "node.area"
        }
       ],
       "desktop_tap_threshold": 4,
       "graph": "IPY_MODEL_2311b24572b848c0a58f50e9d66f20aa",
       "headless": false,
       "hide_edges_on_viewport": false,
       "layout": "IPY_MODEL_c44ac617f5cb4bc8bb8898d4e9ddd3cb",
       "max_zoom": 1e+50,
       "min_zoom": 1e-50,
       "motion_blur": false,
       "motion_blur_opacity": 0.2,
       "panning_enabled": true,
       "pixel_ratio": "auto",
       "rendered_position": {
        "renderedPosition": {
         "x": 100,
         "y": 100
        }
       },
       "selection_type": "single",
       "style_enabled": true,
       "texture_on_viewport": false,
       "tooltip_source": "label",
       "touch_tap_threshold": 8,
       "user_panning_enabled": true,
       "user_zooming_enabled": true,
       "wheel_sensitivity": 1,
       "zoom": 2,
       "zooming_enabled": true
      }
     },
     "83f253a3d951451d920e4379f2a56e50": {
      "model_module": "jupyter-cytoscape",
      "model_module_version": "^1.2.0",
      "model_name": "NodeModel",
      "state": {
       "_model_module_version": "^1.2.0",
       "_view_module_version": "^1.2.0",
       "classes": "country",
       "data": {
        "id": "A01C02",
        "label": "A01C02 UK"
       },
       "grabbable": true,
       "grabbed": false,
       "position": {
        "x": 169,
        "y": 66.8
       },
       "selectable": false
      }
     },
     "84265d360e02477ab655175cd389b8c3": {
      "model_module": "jupyter-cytoscape",
      "model_module_version": "^1.2.0",
      "model_name": "GraphModel",
      "state": {
       "_adj": {
        "A01": {},
        "A01C01": {},
        "A01C02": {},
        "A01C03": {},
        "A02": {},
        "A02C01": {}
       },
       "_model_module_version": "^1.2.0",
       "_view_module": "jupyter-cytoscape",
       "_view_module_version": "^1.2.0",
       "edges": [
        "IPY_MODEL_e599aab01f89409c8273168f813772f6",
        "IPY_MODEL_0ad80ad978534efa953809abd2b57fce",
        "IPY_MODEL_b8e96c61816e4c349861575a5ae5bfde",
        "IPY_MODEL_f3a1871245ec473a9d4e8568a408c6e5"
       ],
       "nodes": [
        "IPY_MODEL_ac971d69d43a476aa63c2ed5a5d15578",
        "IPY_MODEL_7385bf0650b644b88dacc2b6cfbdc1c2",
        "IPY_MODEL_fe13e2318a624fadb8887cb8eef6bdcd",
        "IPY_MODEL_03ed2d7d9a404caba70261656e964f93",
        "IPY_MODEL_1b7a5f3f1dbd4d02a120522aedd974bd",
        "IPY_MODEL_171dd5deb07a4470b46146f7e3bf4489"
       ]
      }
     },
     "8436612ee4234ac5a980556ae3344ea5": {
      "model_module": "@jupyter-widgets/base",
      "model_module_version": "1.2.0",
      "model_name": "LayoutModel",
      "state": {}
     },
     "84db780a84ef4f59a776c20f7845e599": {
      "model_module": "jupyter-cytoscape",
      "model_module_version": "^1.2.0",
      "model_name": "NodeModel",
      "state": {
       "_model_module_version": "^1.2.0",
       "_view_module_version": "^1.2.0",
       "classes": "area",
       "data": {
        "id": "A02",
        "label": "A02 Asia"
       },
       "grabbable": true,
       "grabbed": false,
       "position": {
        "x": 28,
        "y": 189.20000000000002
       },
       "selectable": false
      }
     },
     "8573fb15463c46808dd64324ffb3e0ea": {
      "model_module": "jupyter-cytoscape",
      "model_module_version": "^1.2.0",
      "model_name": "NodeModel",
      "state": {
       "_model_module_version": "^1.2.0",
       "_view_module_version": "^1.2.0",
       "classes": "country",
       "data": {
        "id": "A01C01",
        "label": "A01C01 France"
       },
       "grabbable": true,
       "grabbed": false,
       "position": {
        "x": 169,
        "y": 5.6000000000000005
       },
       "selectable": false
      }
     },
     "85819d97886249c099fc8288d7657e34": {
      "model_module": "jupyter-cytoscape",
      "model_module_version": "^1.2.0",
      "model_name": "GraphModel",
      "state": {
       "_adj": {},
       "_model_module_version": "^1.2.0",
       "_view_module": "jupyter-cytoscape",
       "_view_module_version": "^1.2.0"
      }
     },
     "85f84514b131412db3dc23db6aa7a582": {
      "model_module": "jupyter-cytoscape",
      "model_module_version": "^1.2.0",
      "model_name": "GraphModel",
      "state": {
       "_adj": {
        "A01": {},
        "A01C01": {},
        "A01C02": {},
        "A01C03": {},
        "A02": {},
        "A02C01": {}
       },
       "_model_module_version": "^1.2.0",
       "_view_module": "jupyter-cytoscape",
       "_view_module_version": "^1.2.0",
       "edges": [
        "IPY_MODEL_b933966a5c3149fe8b2bccf895c42a49",
        "IPY_MODEL_e2d68340675e4384aedd08b5413d4e4e",
        "IPY_MODEL_3f939639bd0d47c080817186af23cf0e",
        "IPY_MODEL_f00508c50c784941adb5c798352d1e08"
       ],
       "nodes": [
        "IPY_MODEL_3d5522068e84478791132021dd3c6fdd",
        "IPY_MODEL_b95596fbf4d64c218e937457f74bbc13",
        "IPY_MODEL_a21ae7b6f11a4dd6b095f166d67da20d",
        "IPY_MODEL_a4598f2b64c34280af90fb2e208ae143",
        "IPY_MODEL_4f759e9f7c5547f2bd4b17eaaefa4ca6",
        "IPY_MODEL_df1163f9937c40af9d4c34c63083f155"
       ]
      }
     },
     "86666d3a4ea84d62b61fca22dc6168cc": {
      "model_module": "jupyter-cytoscape",
      "model_module_version": "^1.2.0",
      "model_name": "GraphModel",
      "state": {
       "_adj": {
        "A01": {},
        "A01C01": {},
        "A01C02": {},
        "A01C03": {},
        "A02": {},
        "A02C01": {}
       },
       "_model_module_version": "^1.2.0",
       "_view_module": "jupyter-cytoscape",
       "_view_module_version": "^1.2.0",
       "edges": [
        "IPY_MODEL_f147e1182e1f4ee58029fb5d93649fd9",
        "IPY_MODEL_0b0b34582dfc4e78bdb3b653f3840377",
        "IPY_MODEL_5047a69eff30496c8fa597de2a2d59f2",
        "IPY_MODEL_59ee3999773a4b1bb9f0ce1455657ddb"
       ],
       "nodes": [
        "IPY_MODEL_9fa8445c25b5419cb42927736e565ac7",
        "IPY_MODEL_e62777d50a204536aaad718722520a35",
        "IPY_MODEL_7f64e864d61d44e8bb5584075643c2e6",
        "IPY_MODEL_8f67cedd006b4b97b6b6e7bdb8822596",
        "IPY_MODEL_4ae6436c6fbc4be1b24b49e70f9064b2",
        "IPY_MODEL_36f2db53f2444802aeb712533722e2b8"
       ]
      }
     },
     "86ba2a41683e404ebd6b2405e3be4c0d": {
      "model_module": "jupyter-cytoscape",
      "model_module_version": "^1.2.0",
      "model_name": "NodeModel",
      "state": {
       "_model_module_version": "^1.2.0",
       "_view_module_version": "^1.2.0",
       "classes": "country",
       "data": {
        "id": "A01C03",
        "label": "A01C03 Italia"
       },
       "grabbable": true,
       "grabbed": false,
       "position": {
        "x": 169,
        "y": 128
       },
       "selectable": false
      }
     },
     "876aca3f952c4dfbbce4af64443385ea": {
      "model_module": "jupyter-cytoscape",
      "model_module_version": "^1.2.0",
      "model_name": "NodeModel",
      "state": {
       "_model_module_version": "^1.2.0",
       "_view_module_version": "^1.2.0",
       "classes": "area",
       "data": {
        "id": "A02",
        "label": "A02 Asia"
       },
       "grabbable": true,
       "grabbed": false,
       "position": {
        "x": -34.995980876239436,
        "y": 19.10575640851643
       },
       "selectable": false
      }
     },
     "884cfe0b00e4449a87aec173854bb144": {
      "model_module": "jupyter-cytoscape",
      "model_module_version": "^1.2.0",
      "model_name": "NodeModel",
      "state": {
       "_model_module_version": "^1.2.0",
       "_view_module_version": "^1.2.0",
       "classes": "area",
       "data": {
        "id": "A02",
        "label": "A02 Asia"
       },
       "grabbable": true,
       "grabbed": false,
       "position": {
        "x": 28,
        "y": 189.20000000000002
       },
       "selectable": false
      }
     },
     "890034483f604ff9b59f4c8745e0b403": {
      "model_module": "@jupyter-widgets/base",
      "model_module_version": "1.2.0",
      "model_name": "LayoutModel",
      "state": {}
     },
     "89261f7c0d69435588d5cfae8448ce6c": {
      "model_module": "jupyter-cytoscape",
      "model_module_version": "^1.2.0",
      "model_name": "EdgeModel",
      "state": {
       "_model_module_version": "^1.2.0",
       "_view_module_version": "^1.2.0",
       "classes": " directed ",
       "data": {
        "id": "56cc4a58-ed8c-4bc5-876a-9ef68e21920f",
        "label": "country",
        "source": "A01",
        "target": "A01C02"
       },
       "selectable": false
      }
     },
     "8940d958009e4763aa2a5b9d74b28921": {
      "model_module": "jupyter-cytoscape",
      "model_module_version": "^1.2.0",
      "model_name": "EdgeModel",
      "state": {
       "_model_module_version": "^1.2.0",
       "_view_module_version": "^1.2.0",
       "classes": " directed ",
       "data": {
        "id": "8ded8558-9f42-4717-9fa8-efb9ab7f5458",
        "source": "0",
        "target": "2"
       },
       "selectable": false
      }
     },
     "898209c62c114e64a4775e308e4616b7": {
      "model_module": "jupyter-cytoscape",
      "model_module_version": "^1.2.0",
      "model_name": "NodeModel",
      "state": {
       "_model_module_version": "^1.2.0",
       "_view_module_version": "^1.2.0",
       "classes": "country",
       "data": {
        "id": "A01C02",
        "label": "A01C02 UK"
       },
       "grabbable": true,
       "grabbed": false,
       "position": {
        "x": 127.99999952316284,
        "y": 63.20000047683717
       },
       "selectable": false
      }
     },
     "89a3784f177b45a3b4b5a4cb909baf79": {
      "model_module": "jupyter-cytoscape",
      "model_module_version": "^1.2.0",
      "model_name": "GraphModel",
      "state": {
       "_adj": {},
       "_model_module_version": "^1.2.0",
       "_view_module": "jupyter-cytoscape",
       "_view_module_version": "^1.2.0"
      }
     },
     "89a52d5b322b4aeda657d84b5cec3187": {
      "model_module": "jupyter-cytoscape",
      "model_module_version": "^1.2.0",
      "model_name": "EdgeModel",
      "state": {
       "_model_module_version": "^1.2.0",
       "_view_module_version": "^1.2.0",
       "classes": " directed ",
       "data": {
        "id": "10b002e7-a867-4902-ad57-181040dda0b9",
        "label": "country",
        "source": "A01",
        "target": "A01C01"
       },
       "selectable": false
      }
     },
     "89b7485705334294b6bb80ccf1f102da": {
      "model_module": "jupyter-cytoscape",
      "model_module_version": "^1.2.0",
      "model_name": "NodeModel",
      "state": {
       "_model_module_version": "^1.2.0",
       "_view_module_version": "^1.2.0",
       "classes": "country level",
       "data": {
        "id": "A01C02",
        "label": "A01C02 UK"
       },
       "grabbable": true,
       "grabbed": false,
       "selectable": false
      }
     },
     "8a7aee0589f146fbac0be8912ac91773": {
      "model_module": "jupyter-cytoscape",
      "model_module_version": "^1.2.0",
      "model_name": "NodeModel",
      "state": {
       "_model_module_version": "^1.2.0",
       "_view_module_version": "^1.2.0",
       "classes": "area",
       "data": {
        "id": "A02",
        "label": "A02 Asia"
       },
       "grabbable": true,
       "grabbed": false,
       "position": {
        "x": 35,
        "y": 189.20000000000002
       },
       "selectable": false
      }
     },
     "8bb00005c04c4abb90a7812cf7108d59": {
      "model_module": "jupyter-cytoscape",
      "model_module_version": "^1.2.0",
      "model_name": "NodeModel",
      "state": {
       "_model_module_version": "^1.2.0",
       "_view_module_version": "^1.2.0",
       "classes": "area",
       "data": {
        "id": "A02",
        "label": "A02 Asia"
       },
       "grabbable": true,
       "grabbed": false,
       "position": {
        "x": 35,
        "y": 189.20000000000002
       },
       "selectable": false
      }
     },
     "8bfd165320544ef494ab68a23a5df019": {
      "model_module": "jupyter-cytoscape",
      "model_module_version": "^1.2.0",
      "model_name": "EdgeModel",
      "state": {
       "_model_module_version": "^1.2.0",
       "_view_module_version": "^1.2.0",
       "classes": " directed ",
       "data": {
        "id": "ac4c92b5-8941-40ef-8eb2-eb2be596a087",
        "source": "0",
        "target": "4"
       },
       "selectable": false
      }
     },
     "8c302657197c496db37bef3da4fb65a7": {
      "model_module": "jupyter-cytoscape",
      "model_module_version": "^1.2.0",
      "model_name": "GraphModel",
      "state": {
       "_adj": {},
       "_model_module_version": "^1.2.0",
       "_view_module": "jupyter-cytoscape",
       "_view_module_version": "^1.2.0"
      }
     },
     "8c7cfe9bca8b48759724d9fa22ad1163": {
      "model_module": "jupyter-cytoscape",
      "model_module_version": "^1.2.0",
      "model_name": "EdgeModel",
      "state": {
       "_model_module_version": "^1.2.0",
       "_view_module_version": "^1.2.0",
       "classes": " directed ",
       "data": {
        "id": "047d6c09-0d5b-44cd-a90f-33361e77f13f",
        "label": "country",
        "source": "A01",
        "target": "A01C02"
       },
       "selectable": false
      }
     },
     "8d0ec166bce04348a7f08b5d2318f71b": {
      "model_module": "jupyter-cytoscape",
      "model_module_version": "^1.2.0",
      "model_name": "NodeModel",
      "state": {
       "_model_module_version": "^1.2.0",
       "_view_module_version": "^1.2.0",
       "classes": "country level",
       "data": {
        "id": "A01C02",
        "label": "A01C02 UK"
       },
       "grabbable": true,
       "grabbed": false,
       "position": {
        "x": 28,
        "y": 189.2
       },
       "selectable": false
      }
     },
     "8ea892b52c3a4b33b4c70742aa408561": {
      "model_module": "jupyter-cytoscape",
      "model_module_version": "^1.2.0",
      "model_name": "NodeModel",
      "state": {
       "_model_module_version": "^1.2.0",
       "_view_module_version": "^1.2.0",
       "classes": "country level",
       "data": {
        "id": "A01C03",
        "label": "A01C03 Italia"
       },
       "grabbable": true,
       "grabbed": false,
       "position": {
        "x": 134,
        "y": 128
       },
       "selectable": false
      }
     },
     "8ef72acea30c4f83af9cd04d3e9133a9": {
      "model_module": "jupyter-cytoscape",
      "model_module_version": "^1.2.0",
      "model_name": "CytoscapeModel",
      "state": {
       "_interaction_handlers": {},
       "_model_module_version": "^1.2.0",
       "_view_module_version": "^1.2.0",
       "auto_ungrabify": false,
       "autolock": false,
       "cytoscape_layout": {
        "edgeLenghVal": 10,
        "name": "dagre",
        "nodeSpacing": 10,
        "rankDir": "LR"
       },
       "cytoscape_style": [
        {
         "css": {
          "content": "data(label)",
          "font-size": "4pt",
          "height": "0.8em",
          "label": "data(id)",
          "shape": "roundrectangle",
          "text-halign": "center",
          "text-max-width": "5em",
          "text-valign": "center",
          "text-wrap": "wrap",
          "width": "4em"
         },
         "selector": "node"
        },
        {
         "css": {
          "background-color": "red",
          "color": "white"
         },
         "selector": "node.area"
        },
        {
         "css": {
          "background-color": "blue",
          "color": "white"
         },
         "selector": "node.country"
        },
        {
         "css": {
          "curve-style": "bezier",
          "line-color": "gray",
          "shape": "arrow",
          "target-arrow-color": "gray",
          "target-arrow-shape": "triangle",
          "width": 1
         },
         "selector": "edge"
        }
       ],
       "desktop_tap_threshold": 4,
       "graph": "IPY_MODEL_06d5aa8fc2714df79b58921a2166b1c2",
       "headless": false,
       "hide_edges_on_viewport": false,
       "layout": "IPY_MODEL_c642154737cd44cfbb3d03eb5595d33e",
       "max_zoom": 1e+50,
       "min_zoom": 1e-50,
       "motion_blur": false,
       "motion_blur_opacity": 0.2,
       "panning_enabled": true,
       "pixel_ratio": "auto",
       "rendered_position": {
        "renderedPosition": {
         "x": 100,
         "y": 100
        }
       },
       "selection_type": "single",
       "style_enabled": true,
       "texture_on_viewport": false,
       "tooltip_source": "label",
       "touch_tap_threshold": 8,
       "user_panning_enabled": true,
       "user_zooming_enabled": true,
       "wheel_sensitivity": 1,
       "zoom": 2,
       "zooming_enabled": true
      }
     },
     "8ef7606e417748309f1ca8509259f69b": {
      "model_module": "jupyter-cytoscape",
      "model_module_version": "^1.2.0",
      "model_name": "NodeModel",
      "state": {
       "_model_module_version": "^1.2.0",
       "_view_module_version": "^1.2.0",
       "classes": "country",
       "data": {
        "id": "A01C01",
        "label": "A01C01 France"
       },
       "grabbable": true,
       "grabbed": false,
       "selectable": false
      }
     },
     "8f3b0c328a1b43ebaf166da807ad64c2": {
      "model_module": "jupyter-cytoscape",
      "model_module_version": "^1.2.0",
      "model_name": "NodeModel",
      "state": {
       "_model_module_version": "^1.2.0",
       "_view_module_version": "^1.2.0",
       "classes": "country level",
       "data": {
        "id": "A01C03",
        "label": "A01C03 Italia"
       },
       "grabbable": true,
       "grabbed": false,
       "selectable": false
      }
     },
     "8f5c377448734ca7aad000e79e6362ea": {
      "model_module": "jupyter-cytoscape",
      "model_module_version": "^1.2.0",
      "model_name": "GraphModel",
      "state": {
       "_adj": {
        "A01": {},
        "A01C01": {},
        "A01C02": {},
        "A01C03": {},
        "A02": {},
        "A02C01": {}
       },
       "_model_module_version": "^1.2.0",
       "_view_module": "jupyter-cytoscape",
       "_view_module_version": "^1.2.0",
       "edges": [
        "IPY_MODEL_b5f7672383114a17b4754da2f5091fff",
        "IPY_MODEL_bd4759ec14cb4c1b9846950818cc8f01",
        "IPY_MODEL_62e47582f5174758aef9c78eab1a0632",
        "IPY_MODEL_15c45dc4e1d347c7872143ece69cbbbe"
       ],
       "nodes": [
        "IPY_MODEL_ac99e0d6d6d844deb67499f6396f0a67",
        "IPY_MODEL_b8d67ff89b3d4d1d993bbded17273e76",
        "IPY_MODEL_6b1c258deee942d491662cb7cbd90fec",
        "IPY_MODEL_82c0b5977c6d42feb57fcedcb66b791f",
        "IPY_MODEL_7740df2c852448cab897c9f7e8475263",
        "IPY_MODEL_5f2188c5f35f4bea9d2ae6679e809443"
       ]
      }
     },
     "8f67cedd006b4b97b6b6e7bdb8822596": {
      "model_module": "jupyter-cytoscape",
      "model_module_version": "^1.2.0",
      "model_name": "NodeModel",
      "state": {
       "_model_module_version": "^1.2.0",
       "_view_module_version": "^1.2.0",
       "classes": "country resource",
       "data": {
        "id": "A01C02",
        "label": "A01C02 UK"
       },
       "grabbable": true,
       "grabbed": false,
       "position": {
        "x": 134,
        "y": 66.8
       },
       "selectable": false
      }
     },
     "9088f19bad244738a7ec88f250807b31": {
      "model_module": "jupyter-cytoscape",
      "model_module_version": "^1.2.0",
      "model_name": "GraphModel",
      "state": {
       "_adj": {
        "A01": {},
        "A01C01": {},
        "A01C02": {},
        "A01C03": {},
        "A02": {},
        "A02C01": {}
       },
       "_model_module_version": "^1.2.0",
       "_view_module": "jupyter-cytoscape",
       "_view_module_version": "^1.2.0",
       "edges": [
        "IPY_MODEL_d80394e1a9804671be4fb8c62f83e8db",
        "IPY_MODEL_accc129c4a8045339d07c80b5543a881",
        "IPY_MODEL_e807e6775e024f7e8f525997b35c564b",
        "IPY_MODEL_58f7fc783ec34b028bcd0f8020ae17cd"
       ],
       "nodes": [
        "IPY_MODEL_c8cde08d35be4c4886c20adbeaab80ff",
        "IPY_MODEL_6126f679a5f04e67987073cd8b34ac59",
        "IPY_MODEL_fa082119d0e74ec09ee5148dc3c7cb92",
        "IPY_MODEL_6953958b57a94417af6cc12f1e82fd7b",
        "IPY_MODEL_6db3cd74217245b4b19bd043d5873d65",
        "IPY_MODEL_713f1e44b01a44cda3a5556b8aab1b66"
       ]
      }
     },
     "908c5a72380140649773be1be06c253f": {
      "model_module": "@jupyter-widgets/base",
      "model_module_version": "1.2.0",
      "model_name": "LayoutModel",
      "state": {}
     },
     "90c62c1068874c969b5d45ea8564e5ca": {
      "model_module": "@jupyter-widgets/base",
      "model_module_version": "1.2.0",
      "model_name": "LayoutModel",
      "state": {}
     },
     "90eb38b376534293bb0c67700a7838e6": {
      "model_module": "jupyter-cytoscape",
      "model_module_version": "^1.2.0",
      "model_name": "EdgeModel",
      "state": {
       "_model_module_version": "^1.2.0",
       "_view_module_version": "^1.2.0",
       "classes": " directed ",
       "data": {
        "id": "fad19219-5254-44af-bed7-9dfc64325ad2",
        "label": "country",
        "source": "A01",
        "target": "A01C03"
       },
       "selectable": false
      }
     },
     "90f0ce8e35d642f7b4087475440c96e4": {
      "model_module": "jupyter-cytoscape",
      "model_module_version": "^1.2.0",
      "model_name": "NodeModel",
      "state": {
       "_model_module_version": "^1.2.0",
       "_view_module_version": "^1.2.0",
       "classes": "country",
       "data": {
        "id": "A02C01",
        "label": "A02C01 Japan"
       },
       "grabbable": true,
       "grabbed": false,
       "selectable": false
      }
     },
     "90ff6b5d8c524d079d31b5d99b854211": {
      "model_module": "jupyter-cytoscape",
      "model_module_version": "^1.2.0",
      "model_name": "CytoscapeModel",
      "state": {
       "_interaction_handlers": {},
       "_model_module_version": "^1.2.0",
       "_view_module_version": "^1.2.0",
       "auto_ungrabify": false,
       "autolock": false,
       "cytoscape_layout": {
        "edgeLenghVal": 5,
        "name": "dagre",
        "nodeSpacing": 3,
        "rankDir": "LR"
       },
       "cytoscape_style": [
        {
         "css": {
          "background-color": "black",
          "color": "white",
          "content": "data(label)",
          "font-size": "4pt",
          "height": "0.8em",
          "label": "data(id)",
          "shape": "roundrectangle",
          "text-halign": "center",
          "text-max-width": "5em",
          "text-valign": "center",
          "text-wrap": "wrap",
          "width": "5em"
         },
         "selector": "node.area"
        },
        {
         "css": {
          "background-color": "black",
          "color": "white",
          "content": "data(label)",
          "font-size": "4pt",
          "height": "0.8em",
          "label": "data(id)",
          "shape": "roundrectangle",
          "text-halign": "center",
          "text-max-width": "7em",
          "text-valign": "center",
          "text-wrap": "wrap",
          "width": "7em"
         },
         "selector": "node.country"
        },
        {
         "css": {
          "curve-style": "bezier",
          "line-color": "gray",
          "shape": "arrow",
          "target-arrow-color": "gray",
          "target-arrow-shape": "triangle",
          "width": 1
         },
         "selector": "edge"
        }
       ],
       "desktop_tap_threshold": 4,
       "graph": "IPY_MODEL_9ca8b283c673453a883abfd0131adfa4",
       "headless": false,
       "hide_edges_on_viewport": false,
       "layout": "IPY_MODEL_271d7f92901b4be0a7ccd1ab8e795b17",
       "max_zoom": 1e+50,
       "min_zoom": 1e-50,
       "motion_blur": false,
       "motion_blur_opacity": 0.2,
       "panning_enabled": true,
       "pixel_ratio": "auto",
       "rendered_position": {
        "renderedPosition": {
         "x": 100,
         "y": 100
        }
       },
       "selection_type": "single",
       "style_enabled": true,
       "texture_on_viewport": false,
       "tooltip_source": "label",
       "touch_tap_threshold": 8,
       "user_panning_enabled": true,
       "user_zooming_enabled": true,
       "wheel_sensitivity": 1,
       "zoom": 2,
       "zooming_enabled": true
      }
     },
     "913e34178a324d2db63a104c9e91215c": {
      "model_module": "@jupyter-widgets/base",
      "model_module_version": "1.2.0",
      "model_name": "LayoutModel",
      "state": {}
     },
     "91d4b1b1eddb48a0a9ce68d25a59bd0a": {
      "model_module": "jupyter-cytoscape",
      "model_module_version": "^1.2.0",
      "model_name": "NodeModel",
      "state": {
       "_model_module_version": "^1.2.0",
       "_view_module_version": "^1.2.0",
       "classes": "area",
       "data": {
        "id": "A01",
        "label": "A01 Europe"
       },
       "grabbable": true,
       "grabbed": false,
       "selectable": false
      }
     },
     "9205e133ac9c41d7864ddff0e12faffa": {
      "model_module": "jupyter-cytoscape",
      "model_module_version": "^1.2.0",
      "model_name": "CytoscapeModel",
      "state": {
       "_interaction_handlers": {},
       "_model_module_version": "^1.2.0",
       "_view_module_version": "^1.2.0",
       "auto_ungrabify": false,
       "autolock": false,
       "cytoscape_layout": {
        "edgeLenghVal": 10,
        "name": "klay",
        "nodeSpacing": 10,
        "rankDir": "LR"
       },
       "cytoscape_style": [
        {
         "css": {
          "background-color": "black",
          "color": "white",
          "content": "data(label)",
          "font-size": "4pt",
          "height": "0.8em",
          "label": "data(id)",
          "shape": "roundrectangle",
          "text-halign": "center",
          "text-max-width": "5em",
          "text-valign": "center",
          "text-wrap": "wrap",
          "width": "5em"
         },
         "selector": "node.area"
        },
        {
         "css": {
          "background-color": "black",
          "color": "white",
          "content": "data(label)",
          "font-size": "4pt",
          "height": "0.8em",
          "label": "data(id)",
          "shape": "roundrectangle",
          "text-halign": "center",
          "text-max-width": "7em",
          "text-valign": "center",
          "text-wrap": "wrap",
          "width": "7em"
         },
         "selector": "node.country"
        }
       ],
       "desktop_tap_threshold": 4,
       "graph": "IPY_MODEL_d7f3dfe98d094890bd27b6486b552931",
       "headless": false,
       "hide_edges_on_viewport": false,
       "layout": "IPY_MODEL_890034483f604ff9b59f4c8745e0b403",
       "max_zoom": 1e+50,
       "min_zoom": 1e-50,
       "motion_blur": false,
       "motion_blur_opacity": 0.2,
       "panning_enabled": true,
       "pixel_ratio": "auto",
       "rendered_position": {
        "renderedPosition": {
         "x": 100,
         "y": 100
        }
       },
       "selection_type": "single",
       "style_enabled": true,
       "texture_on_viewport": false,
       "tooltip_source": "label",
       "touch_tap_threshold": 8,
       "user_panning_enabled": true,
       "user_zooming_enabled": true,
       "wheel_sensitivity": 1,
       "zoom": 2,
       "zooming_enabled": true
      }
     },
     "92b5b1b45b054fb787dac4a646b56667": {
      "model_module": "jupyter-cytoscape",
      "model_module_version": "^1.2.0",
      "model_name": "NodeModel",
      "state": {
       "_model_module_version": "^1.2.0",
       "_view_module_version": "^1.2.0",
       "classes": "area level",
       "data": {
        "id": "A02",
        "label": "A02 Asia"
       },
       "grabbable": true,
       "grabbed": false,
       "position": {
        "x": 28,
        "y": 189.20000000000002
       },
       "selectable": false
      }
     },
     "93c44726c6284039be0c90983a9d26a9": {
      "model_module": "jupyter-cytoscape",
      "model_module_version": "^1.2.0",
      "model_name": "NodeModel",
      "state": {
       "_model_module_version": "^1.2.0",
       "_view_module_version": "^1.2.0",
       "classes": "country",
       "data": {
        "id": "A01C02",
        "label": "A01C02 UK"
       },
       "grabbable": true,
       "grabbed": false,
       "position": {
        "x": 20,
        "y": 149.6000014305115
       },
       "selectable": false
      }
     },
     "941ccfebbc7141f7bf43ee4e43903123": {
      "model_module": "jupyter-cytoscape",
      "model_module_version": "^1.2.0",
      "model_name": "NodeModel",
      "state": {
       "_model_module_version": "^1.2.0",
       "_view_module_version": "^1.2.0",
       "classes": "country",
       "data": {
        "id": "A01C03",
        "label": "A01C03 Italia"
       },
       "grabbable": true,
       "grabbed": false,
       "position": {
        "x": 127.99999952316284,
        "y": 125.60000047683717
       },
       "selectable": false
      }
     },
     "943975690dd3407fbb7e0ff7cbec368e": {
      "model_module": "jupyter-cytoscape",
      "model_module_version": "^1.2.0",
      "model_name": "GraphModel",
      "state": {
       "_adj": {},
       "_model_module_version": "^1.2.0",
       "_view_module": "jupyter-cytoscape",
       "_view_module_version": "^1.2.0"
      }
     },
     "95926727e58c4f368889fe98883ebbe8": {
      "model_module": "jupyter-cytoscape",
      "model_module_version": "^1.2.0",
      "model_name": "NodeModel",
      "state": {
       "_model_module_version": "^1.2.0",
       "_view_module_version": "^1.2.0",
       "classes": "area level",
       "data": {
        "id": "A01",
        "label": "A01 Europe"
       },
       "grabbable": true,
       "grabbed": false,
       "position": {
        "x": 28,
        "y": 5.6000000000000005
       },
       "selectable": false
      }
     },
     "96d116c4563b4232aa7e9c8c2dbbc21e": {
      "model_module": "jupyter-cytoscape",
      "model_module_version": "^1.2.0",
      "model_name": "GraphModel",
      "state": {
       "_adj": {},
       "_model_module_version": "^1.2.0",
       "_view_module": "jupyter-cytoscape",
       "_view_module_version": "^1.2.0"
      }
     },
     "96e2036e80ea4f11a3b170a01ba5be50": {
      "model_module": "@jupyter-widgets/base",
      "model_module_version": "1.2.0",
      "model_name": "LayoutModel",
      "state": {}
     },
     "972a28145ddb43658e935e2ff3f104d8": {
      "model_module": "jupyter-cytoscape",
      "model_module_version": "^1.2.0",
      "model_name": "GraphModel",
      "state": {
       "_adj": {},
       "_model_module_version": "^1.2.0",
       "_view_module": "jupyter-cytoscape",
       "_view_module_version": "^1.2.0"
      }
     },
     "98560cf7c4f345c7b60f7408495d4023": {
      "model_module": "@jupyter-widgets/base",
      "model_module_version": "1.2.0",
      "model_name": "LayoutModel",
      "state": {}
     },
     "986add53b07948c3a537ccc1449c1311": {
      "model_module": "jupyter-cytoscape",
      "model_module_version": "^1.2.0",
      "model_name": "EdgeModel",
      "state": {
       "_model_module_version": "^1.2.0",
       "_view_module_version": "^1.2.0",
       "classes": " directed ",
       "data": {
        "id": "400105e7-497e-4f8a-9aa8-db5781b093fd",
        "source": "1",
        "target": "4"
       },
       "selectable": false
      }
     },
     "9889c81201b64d7bbf75f0d526373467": {
      "model_module": "jupyter-cytoscape",
      "model_module_version": "^1.2.0",
      "model_name": "NodeModel",
      "state": {
       "_model_module_version": "^1.2.0",
       "_view_module_version": "^1.2.0",
       "classes": "country",
       "data": {
        "id": "A02C01",
        "label": "A02C01 Japan"
       },
       "grabbable": true,
       "grabbed": false,
       "position": {
        "x": 20,
        "y": 236.0000023841858
       },
       "selectable": false
      }
     },
     "994fb5a70e89487f83e04541390d6b9d": {
      "model_module": "jupyter-cytoscape",
      "model_module_version": "^1.2.0",
      "model_name": "NodeModel",
      "state": {
       "_model_module_version": "^1.2.0",
       "_view_module_version": "^1.2.0",
       "classes": "area",
       "data": {
        "id": "A02",
        "label": "A02 Asia"
       },
       "grabbable": true,
       "grabbed": false,
       "position": {
        "x": 28,
        "y": 189.20000000000002
       },
       "selectable": false
      }
     },
     "99673e8faf66475a9f03ea1e1225cb68": {
      "model_module": "jupyter-cytoscape",
      "model_module_version": "^1.2.0",
      "model_name": "NodeModel",
      "state": {
       "_model_module_version": "^1.2.0",
       "_view_module_version": "^1.2.0",
       "classes": "country",
       "data": {
        "id": "A01C03",
        "label": "A01C03 Italia"
       },
       "grabbable": true,
       "grabbed": false,
       "selectable": false
      }
     },
     "99b774dbae764793a149ba7a3d38f0ed": {
      "model_module": "jupyter-cytoscape",
      "model_module_version": "^1.2.0",
      "model_name": "NodeModel",
      "state": {
       "_model_module_version": "^1.2.0",
       "_view_module_version": "^1.2.0",
       "classes": "country level",
       "data": {
        "id": "A01C02",
        "label": "A01C02 UK"
       },
       "grabbable": true,
       "grabbed": false,
       "selectable": false
      }
     },
     "9a62cebbefeb4f90ba234261fc52ea5c": {
      "model_module": "@jupyter-widgets/base",
      "model_module_version": "1.2.0",
      "model_name": "LayoutModel",
      "state": {}
     },
     "9a697797feec482d9b3a9edfbb8840cb": {
      "model_module": "jupyter-cytoscape",
      "model_module_version": "^1.2.0",
      "model_name": "EdgeModel",
      "state": {
       "_model_module_version": "^1.2.0",
       "_view_module_version": "^1.2.0",
       "classes": " directed ",
       "data": {
        "id": "15d949e7-4f23-4af6-8ec7-27da68530755",
        "label": "country",
        "source": "A01",
        "target": "A01C02"
       },
       "selectable": false
      }
     },
     "9b6ab424409848b6a89c345b8c63160d": {
      "model_module": "jupyter-cytoscape",
      "model_module_version": "^1.2.0",
      "model_name": "NodeModel",
      "state": {
       "_model_module_version": "^1.2.0",
       "_view_module_version": "^1.2.0",
       "classes": "area",
       "data": {
        "id": "A01",
        "label": "A01 Europe"
       },
       "grabbable": true,
       "grabbed": false,
       "position": {
        "x": 20,
        "y": 122.80000047683717
       },
       "selectable": false
      }
     },
     "9b8779395c62431897e74718a467157f": {
      "model_module": "jupyter-cytoscape",
      "model_module_version": "^1.2.0",
      "model_name": "GraphModel",
      "state": {
       "_adj": {},
       "_model_module_version": "^1.2.0",
       "_view_module": "jupyter-cytoscape",
       "_view_module_version": "^1.2.0"
      }
     },
     "9b90134dce764f5bb04ce1e3e1b43e85": {
      "model_module": "@jupyter-widgets/base",
      "model_module_version": "1.2.0",
      "model_name": "LayoutModel",
      "state": {}
     },
     "9be6d76e09b347cf98a2408521a36a6f": {
      "model_module": "jupyter-cytoscape",
      "model_module_version": "^1.2.0",
      "model_name": "EdgeModel",
      "state": {
       "_model_module_version": "^1.2.0",
       "_view_module_version": "^1.2.0",
       "classes": " directed ",
       "data": {
        "id": "e929de45-7a27-4cfd-bf3c-09c93f402cd7",
        "label": "country",
        "source": "A01",
        "target": "A01C01"
       },
       "selectable": false
      }
     },
     "9c29cf28a9ba4ec88af5ac1e991f2e4f": {
      "model_module": "jupyter-cytoscape",
      "model_module_version": "^1.2.0",
      "model_name": "GraphModel",
      "state": {
       "_adj": {
        "A01": {},
        "A01C01": {},
        "A01C02": {},
        "A01C03": {},
        "A02": {},
        "A02C01": {}
       },
       "_model_module_version": "^1.2.0",
       "_view_module": "jupyter-cytoscape",
       "_view_module_version": "^1.2.0",
       "edges": [
        "IPY_MODEL_20a75dcb82ea44939b5d8842e688a59b",
        "IPY_MODEL_c144995a17f04282837e90e1b118a36c",
        "IPY_MODEL_9e02907b699b47caa5983f2924adb1f4",
        "IPY_MODEL_2294cc582dcc4aae9631e605fc14d2c3"
       ],
       "nodes": [
        "IPY_MODEL_f105327396444daea00827efcec2f590",
        "IPY_MODEL_83b94d449544476f8f82f21945e145bc",
        "IPY_MODEL_fa7c3ff97f984b6eb17495f1c414e42e",
        "IPY_MODEL_824ab830cca4431a8744023b8f60f100",
        "IPY_MODEL_fb6b2f41f4254bc187f0314206aa28ca",
        "IPY_MODEL_3a174d120e224456ad5a48bad93879a9"
       ]
      }
     },
     "9c58b3b01d7541fd83b85e4c214a3787": {
      "model_module": "jupyter-cytoscape",
      "model_module_version": "^1.2.0",
      "model_name": "NodeModel",
      "state": {
       "_model_module_version": "^1.2.0",
       "_view_module_version": "^1.2.0",
       "classes": "country level",
       "data": {
        "id": "A01C02",
        "label": "A01C02 UK"
       },
       "grabbable": true,
       "grabbed": false,
       "position": {
        "x": 134,
        "y": 66.8
       },
       "selectable": false
      }
     },
     "9c6c373e00c04dcabb4bdccd413161a4": {
      "model_module": "jupyter-cytoscape",
      "model_module_version": "^1.2.0",
      "model_name": "NodeModel",
      "state": {
       "_model_module_version": "^1.2.0",
       "_view_module_version": "^1.2.0",
       "classes": "area",
       "data": {
        "id": "A02",
        "label": "A02 Asia"
       },
       "grabbable": true,
       "grabbed": false,
       "position": {
        "x": 20,
        "y": 63.20000047683716
       },
       "selectable": false
      }
     },
     "9ca8b283c673453a883abfd0131adfa4": {
      "model_module": "jupyter-cytoscape",
      "model_module_version": "^1.2.0",
      "model_name": "GraphModel",
      "state": {
       "_adj": {
        "A01": {},
        "A01C01": {},
        "A01C02": {},
        "A01C03": {},
        "A02": {},
        "A02C01": {}
       },
       "_model_module_version": "^1.2.0",
       "_view_module": "jupyter-cytoscape",
       "_view_module_version": "^1.2.0",
       "edges": [
        "IPY_MODEL_78d877ae10c842b09a486f909f11375f",
        "IPY_MODEL_f90b804bb8544d589e0d30f1a3c59566",
        "IPY_MODEL_6ef97e7abfee4cbca3b1fdfc519c4004",
        "IPY_MODEL_a912d6b2b40a4a1daf45e2af94d6a3d1"
       ],
       "nodes": [
        "IPY_MODEL_b52940fac5f844cfa1a34a742433994b",
        "IPY_MODEL_5b864afe975e431e854eecc53af3ce3a",
        "IPY_MODEL_123040e7c788481b92d118bf65eee8ca",
        "IPY_MODEL_83f253a3d951451d920e4379f2a56e50",
        "IPY_MODEL_86ba2a41683e404ebd6b2405e3be4c0d",
        "IPY_MODEL_4d0cfb03575b4657b5d84dad5f404e7b"
       ]
      }
     },
     "9cc44366035b4334a0fff71e4f6851ad": {
      "model_module": "jupyter-cytoscape",
      "model_module_version": "^1.2.0",
      "model_name": "NodeModel",
      "state": {
       "_model_module_version": "^1.2.0",
       "_view_module_version": "^1.2.0",
       "classes": "area level",
       "data": {
        "id": "A02",
        "label": "A02 Asia"
       },
       "grabbable": true,
       "grabbed": false,
       "selectable": false
      }
     },
     "9ce9229f5ba74d47927d86eb565a976f": {
      "model_module": "jupyter-cytoscape",
      "model_module_version": "^1.2.0",
      "model_name": "CytoscapeModel",
      "state": {
       "_interaction_handlers": {},
       "_model_module_version": "^1.2.0",
       "_view_module_version": "^1.2.0",
       "auto_ungrabify": false,
       "autolock": false,
       "cytoscape_layout": {
        "edgeLenghVal": 10,
        "name": "dagre",
        "nodeSpacing": 10,
        "rankDir": "LR"
       },
       "cytoscape_style": [
        {
         "css": {
          "content": "data(label)",
          "font-size": "4pt",
          "height": "0.8em",
          "label": "data(id)",
          "text-halign": "center",
          "text-max-width": "5em",
          "text-valign": "center",
          "text-wrap": "wrap",
          "width": "4em"
         },
         "selector": "node"
        },
        {
         "css": {
          "shape": "roundrectangle"
         },
         "selector": "node.level"
        },
        {
         "css": {
          "shape": "ellipse"
         },
         "selector": "node.resource"
        },
        {
         "css": {
          "background-color": "red",
          "color": "white"
         },
         "selector": "node.area"
        },
        {
         "css": {
          "background-color": "blue",
          "color": "white"
         },
         "selector": "node.country"
        },
        {
         "css": {
          "curve-style": "bezier",
          "line-color": "gray",
          "shape": "arrow",
          "target-arrow-color": "gray",
          "target-arrow-shape": "triangle",
          "width": 1
         },
         "selector": "edge"
        }
       ],
       "desktop_tap_threshold": 4,
       "graph": "IPY_MODEL_329968d1627849f78768c326f9ed0ac3",
       "headless": false,
       "hide_edges_on_viewport": false,
       "layout": "IPY_MODEL_ddbad544999e44bea8965ffa4d555a01",
       "max_zoom": 1e+50,
       "min_zoom": 1e-50,
       "motion_blur": false,
       "motion_blur_opacity": 0.2,
       "panning_enabled": true,
       "pixel_ratio": "auto",
       "rendered_position": {
        "renderedPosition": {
         "x": 100,
         "y": 100
        }
       },
       "selection_type": "single",
       "style_enabled": true,
       "texture_on_viewport": false,
       "tooltip_source": "label",
       "touch_tap_threshold": 8,
       "user_panning_enabled": true,
       "user_zooming_enabled": true,
       "wheel_sensitivity": 1,
       "zoom": 2,
       "zooming_enabled": true
      }
     },
     "9cf11f98ebc44f40927c4d3edd0e3ebb": {
      "model_module": "jupyter-cytoscape",
      "model_module_version": "^1.2.0",
      "model_name": "NodeModel",
      "state": {
       "_model_module_version": "^1.2.0",
       "_view_module_version": "^1.2.0",
       "classes": "area level",
       "data": {
        "id": "A01",
        "label": "A01 Europe"
       },
       "grabbable": true,
       "grabbed": false,
       "selectable": false
      }
     },
     "9d6b6f7047d64a8dbb19ccf24987f603": {
      "model_module": "jupyter-cytoscape",
      "model_module_version": "^1.2.0",
      "model_name": "CytoscapeModel",
      "state": {
       "_interaction_handlers": {},
       "_model_module_version": "^1.2.0",
       "_view_module_version": "^1.2.0",
       "auto_ungrabify": false,
       "autolock": false,
       "cytoscape_layout": {
        "edgeLenghVal": 10,
        "name": "klay",
        "nodeSpacing": 10,
        "rankDir": "LR"
       },
       "cytoscape_style": [
        {
         "css": {
          "background-color": "black",
          "color": "white",
          "content": "data(label)",
          "font-size": "4pt",
          "height": "0.8em",
          "label": "data(id)",
          "shape": "roundrectangle",
          "text-halign": "center",
          "text-max-width": "5em",
          "text-valign": "center",
          "text-wrap": "wrap",
          "width": "4em"
         },
         "selector": "node.area"
        },
        {
         "css": {
          "background-color": "black",
          "color": "white",
          "content": "data(label)",
          "font-size": "4pt",
          "height": "0.8em",
          "label": "data(id)",
          "shape": "roundrectangle",
          "text-halign": "center",
          "text-max-width": "7em",
          "text-valign": "center",
          "text-wrap": "wrap",
          "width": "6em"
         },
         "selector": "node.country"
        },
        {
         "css": {
          "curve-style": "bezier",
          "line-color": "gray",
          "shape": "arrow",
          "target-arrow-color": "gray",
          "target-arrow-shape": "triangle",
          "width": 1
         },
         "selector": "edge"
        }
       ],
       "desktop_tap_threshold": 4,
       "graph": "IPY_MODEL_f3cfb2824538474ca2ba1ceb855cfbe0",
       "headless": false,
       "hide_edges_on_viewport": false,
       "layout": "IPY_MODEL_3eb8c3ac53274c87af36595841c95b0c",
       "max_zoom": 1e+50,
       "min_zoom": 1e-50,
       "motion_blur": false,
       "motion_blur_opacity": 0.2,
       "panning_enabled": true,
       "pixel_ratio": "auto",
       "rendered_position": {
        "renderedPosition": {
         "x": 100,
         "y": 100
        }
       },
       "selection_type": "single",
       "style_enabled": true,
       "texture_on_viewport": false,
       "tooltip_source": "label",
       "touch_tap_threshold": 8,
       "user_panning_enabled": true,
       "user_zooming_enabled": true,
       "wheel_sensitivity": 1,
       "zoom": 2,
       "zooming_enabled": true
      }
     },
     "9d8d640907ce4e96af301f6b48d0fc5b": {
      "model_module": "jupyter-cytoscape",
      "model_module_version": "^1.2.0",
      "model_name": "NodeModel",
      "state": {
       "_model_module_version": "^1.2.0",
       "_view_module_version": "^1.2.0",
       "classes": "area level",
       "data": {
        "id": "A01",
        "label": "A01 Europe"
       },
       "grabbable": true,
       "grabbed": false,
       "selectable": false
      }
     },
     "9deacc571281477789680c9dbf88862c": {
      "model_module": "jupyter-cytoscape",
      "model_module_version": "^1.2.0",
      "model_name": "NodeModel",
      "state": {
       "_model_module_version": "^1.2.0",
       "_view_module_version": "^1.2.0",
       "classes": "country level",
       "data": {
        "id": "A02C01",
        "label": "A02C01 Japan"
       },
       "grabbable": true,
       "grabbed": false,
       "position": {
        "x": 134,
        "y": 189.20000000000002
       },
       "selectable": false
      }
     },
     "9e02907b699b47caa5983f2924adb1f4": {
      "model_module": "jupyter-cytoscape",
      "model_module_version": "^1.2.0",
      "model_name": "EdgeModel",
      "state": {
       "_model_module_version": "^1.2.0",
       "_view_module_version": "^1.2.0",
       "classes": " directed ",
       "data": {
        "id": "1a5cf53a-b795-4900-ae99-a01e590f2325",
        "label": "country",
        "source": "A01",
        "target": "A01C03"
       },
       "selectable": false
      }
     },
     "9ee18e862cc44d83bb7957d711251eef": {
      "model_module": "jupyter-cytoscape",
      "model_module_version": "^1.2.0",
      "model_name": "GraphModel",
      "state": {
       "_adj": {
        "A01": {},
        "A02": {}
       },
       "_model_module_version": "^1.2.0",
       "_view_module": "jupyter-cytoscape",
       "_view_module_version": "^1.2.0",
       "nodes": [
        "IPY_MODEL_a54441b5a8964e0d96dd92f8002f02ac",
        "IPY_MODEL_175fb18be6f2402c904bbc4a24f7348e"
       ]
      }
     },
     "9f270846fbe64655a7ee2610b5f3523b": {
      "model_module": "jupyter-cytoscape",
      "model_module_version": "^1.2.0",
      "model_name": "EdgeModel",
      "state": {
       "_model_module_version": "^1.2.0",
       "_view_module_version": "^1.2.0",
       "classes": " directed ",
       "data": {
        "id": "bef63390-1d3d-400c-92d2-4359829360e0",
        "label": "country",
        "source": "A01",
        "target": "A01C03"
       },
       "selectable": false
      }
     },
     "9fa8445c25b5419cb42927736e565ac7": {
      "model_module": "jupyter-cytoscape",
      "model_module_version": "^1.2.0",
      "model_name": "NodeModel",
      "state": {
       "_model_module_version": "^1.2.0",
       "_view_module_version": "^1.2.0",
       "classes": "area level",
       "data": {
        "id": "A01",
        "label": "A01 Europe"
       },
       "grabbable": true,
       "grabbed": false,
       "position": {
        "x": 28,
        "y": 66.8
       },
       "selectable": false
      }
     },
     "a0721e9ac35040b2a03d1a24a735919c": {
      "model_module": "jupyter-cytoscape",
      "model_module_version": "^1.2.0",
      "model_name": "EdgeModel",
      "state": {
       "_model_module_version": "^1.2.0",
       "_view_module_version": "^1.2.0",
       "classes": " directed ",
       "data": {
        "id": "43f03948-1dcc-4e6e-9b6c-55ad5d4aea80",
        "label": "country",
        "source": "A02",
        "target": "A02C01"
       },
       "selectable": false
      }
     },
     "a07231750a6c43508759417c7f06e6a2": {
      "model_module": "jupyter-cytoscape",
      "model_module_version": "^1.2.0",
      "model_name": "EdgeModel",
      "state": {
       "_model_module_version": "^1.2.0",
       "_view_module_version": "^1.2.0",
       "classes": " directed ",
       "data": {
        "id": "a54c7938-cb04-4ea1-8347-dfb55c837654",
        "label": "country",
        "source": "A01",
        "target": "A01C03"
       },
       "selectable": false
      }
     },
     "a0bff74efe60414d88caf82db50da90d": {
      "model_module": "jupyter-cytoscape",
      "model_module_version": "^1.2.0",
      "model_name": "NodeModel",
      "state": {
       "_model_module_version": "^1.2.0",
       "_view_module_version": "^1.2.0",
       "classes": "country",
       "data": {
        "id": "A01C01",
        "label": "A01C01 France"
       },
       "grabbable": true,
       "grabbed": false,
       "position": {
        "x": 148,
        "y": 5.6000000000000005
       },
       "selectable": false
      }
     },
     "a14ed213bd6746d3b608766e6cd6bfee": {
      "model_module": "jupyter-cytoscape",
      "model_module_version": "^1.2.0",
      "model_name": "EdgeModel",
      "state": {
       "_model_module_version": "^1.2.0",
       "_view_module_version": "^1.2.0",
       "classes": " directed ",
       "data": {
        "id": "7e0f7a57-61ec-426b-898d-6fb92ee321e0",
        "label": "country",
        "source": "A02",
        "target": "A02C01"
       },
       "selectable": false
      }
     },
     "a21ae7b6f11a4dd6b095f166d67da20d": {
      "model_module": "jupyter-cytoscape",
      "model_module_version": "^1.2.0",
      "model_name": "NodeModel",
      "state": {
       "_model_module_version": "^1.2.0",
       "_view_module_version": "^1.2.0",
       "classes": "country",
       "data": {
        "id": "A01C01",
        "label": "A01C01 France"
       },
       "grabbable": true,
       "grabbed": false,
       "position": {
        "x": 127.99999952316284,
        "y": 94.40000047683716
       },
       "selectable": false
      }
     },
     "a2d3c875dc6a4098995229f81f3b3ac5": {
      "model_module": "jupyter-cytoscape",
      "model_module_version": "^1.2.0",
      "model_name": "EdgeModel",
      "state": {
       "_model_module_version": "^1.2.0",
       "_view_module_version": "^1.2.0",
       "classes": " directed ",
       "data": {
        "id": "f78f13ee-84e6-445a-953f-e5ed95f298c1",
        "source": "3",
        "target": "4"
       },
       "selectable": false
      }
     },
     "a32bcf2835d14a42b3ded2c9fe46c05b": {
      "model_module": "jupyter-cytoscape",
      "model_module_version": "^1.2.0",
      "model_name": "NodeModel",
      "state": {
       "_model_module_version": "^1.2.0",
       "_view_module_version": "^1.2.0",
       "classes": "area level",
       "data": {
        "id": "A01",
        "label": "A01 Europe"
       },
       "grabbable": true,
       "grabbed": false,
       "selectable": false
      }
     },
     "a34d7da2fdf64532b6db209d87d43691": {
      "model_module": "jupyter-cytoscape",
      "model_module_version": "^1.2.0",
      "model_name": "CytoscapeModel",
      "state": {
       "_interaction_handlers": {},
       "_model_module_version": "^1.2.0",
       "_view_module_version": "^1.2.0",
       "auto_ungrabify": false,
       "autolock": false,
       "cytoscape_layout": {
        "edgeLenghVal": 10,
        "name": "klay",
        "nodeSpacing": 10,
        "rankDir": "LR"
       },
       "cytoscape_style": [
        {
         "css": {
          "background-color": "black",
          "color": "white",
          "content": "data(label)",
          "font-size": "4pt",
          "height": "0.8em",
          "label": "data(id)",
          "shape": "roundrectangle",
          "text-halign": "center",
          "text-max-width": "5em",
          "text-valign": "center",
          "text-wrap": "wrap",
          "width": "5em"
         },
         "selector": "node.area"
        },
        {
         "css": {
          "background-color": "black",
          "color": "white",
          "content": "data(label)",
          "font-size": "4pt",
          "height": "0.8em",
          "label": "data(id)",
          "shape": "roundrectangle",
          "text-halign": "center",
          "text-max-width": "7em",
          "text-valign": "center",
          "text-wrap": "wrap",
          "width": "7em"
         },
         "selector": "node.country"
        }
       ],
       "desktop_tap_threshold": 4,
       "graph": "IPY_MODEL_54d2d009313642d3ac85538f4461bb0f",
       "headless": false,
       "hide_edges_on_viewport": false,
       "layout": "IPY_MODEL_bebdf390954144bdb6c49334468028f8",
       "max_zoom": 1e+50,
       "min_zoom": 1e-50,
       "motion_blur": false,
       "motion_blur_opacity": 0.2,
       "panning_enabled": true,
       "pixel_ratio": "auto",
       "rendered_position": {
        "renderedPosition": {
         "x": 100,
         "y": 100
        }
       },
       "selection_type": "single",
       "style_enabled": true,
       "texture_on_viewport": false,
       "tooltip_source": "label",
       "touch_tap_threshold": 8,
       "user_panning_enabled": true,
       "user_zooming_enabled": true,
       "wheel_sensitivity": 1,
       "zoom": 2,
       "zooming_enabled": true
      }
     },
     "a3b73ba2b37046c985ebfe629ced6a09": {
      "model_module": "jupyter-cytoscape",
      "model_module_version": "^1.2.0",
      "model_name": "NodeModel",
      "state": {
       "_model_module_version": "^1.2.0",
       "_view_module_version": "^1.2.0",
       "classes": "area",
       "data": {
        "id": "A01",
        "label": "A01 Europe"
       },
       "grabbable": true,
       "grabbed": false,
       "position": {
        "x": 20,
        "y": 20
       },
       "selectable": false
      }
     },
     "a4598f2b64c34280af90fb2e208ae143": {
      "model_module": "jupyter-cytoscape",
      "model_module_version": "^1.2.0",
      "model_name": "NodeModel",
      "state": {
       "_model_module_version": "^1.2.0",
       "_view_module_version": "^1.2.0",
       "classes": "country",
       "data": {
        "id": "A01C02",
        "label": "A01C02 UK"
       },
       "grabbable": true,
       "grabbed": false,
       "position": {
        "x": 127.99999952316284,
        "y": 63.20000047683717
       },
       "selectable": false
      }
     },
     "a47c11c771224be5b3f61eb9756737c8": {
      "model_module": "jupyter-cytoscape",
      "model_module_version": "^1.2.0",
      "model_name": "NodeModel",
      "state": {
       "_model_module_version": "^1.2.0",
       "_view_module_version": "^1.2.0",
       "data": {
        "id": "1"
       },
       "grabbable": true,
       "grabbed": false,
       "position": {
        "x": 418.99262967647155,
        "y": 201.72159388923967
       },
       "selectable": false
      }
     },
     "a48dde2da43c4f18aee317237c1c0f56": {
      "model_module": "jupyter-cytoscape",
      "model_module_version": "^1.2.0",
      "model_name": "NodeModel",
      "state": {
       "_model_module_version": "^1.2.0",
       "_view_module_version": "^1.2.0",
       "classes": "country level",
       "data": {
        "id": "A01C02",
        "label": "A01C02 UK"
       },
       "grabbable": true,
       "grabbed": false,
       "selectable": false
      }
     },
     "a509ebb1b7c24384ac73f922232fa7c7": {
      "model_module": "jupyter-cytoscape",
      "model_module_version": "^1.2.0",
      "model_name": "NodeModel",
      "state": {
       "_model_module_version": "^1.2.0",
       "_view_module_version": "^1.2.0",
       "classes": "country",
       "data": {
        "id": "A01C02",
        "label": "A01C02 UK"
       },
       "grabbable": true,
       "grabbed": false,
       "position": {
        "x": 20,
        "y": 149.6000014305115
       },
       "selectable": false
      }
     },
     "a54441b5a8964e0d96dd92f8002f02ac": {
      "model_module": "jupyter-cytoscape",
      "model_module_version": "^1.2.0",
      "model_name": "NodeModel",
      "state": {
       "_model_module_version": "^1.2.0",
       "_view_module_version": "^1.2.0",
       "classes": "area",
       "data": {
        "id": "A01",
        "label": "A01 Europe"
       },
       "grabbable": true,
       "grabbed": false,
       "position": {
        "x": 20,
        "y": 20
       },
       "selectable": false
      }
     },
     "a59ed1fc5fa84081b972a3d57ebc8cee": {
      "model_module": "jupyter-cytoscape",
      "model_module_version": "^1.2.0",
      "model_name": "GraphModel",
      "state": {
       "_adj": {
        "A01": {},
        "A01C01": {},
        "A01C02": {},
        "A01C03": {},
        "A02": {},
        "A02C01": {}
       },
       "_model_module_version": "^1.2.0",
       "_view_module": "jupyter-cytoscape",
       "_view_module_version": "^1.2.0",
       "edges": [
        "IPY_MODEL_72e681428e2b49e2b73a82293f0bd92b",
        "IPY_MODEL_dd1fa87deaaf47c691a7e63fd3718dbe",
        "IPY_MODEL_0c74bc3c74cd4f84a53e45e1e119a950",
        "IPY_MODEL_60591392bab54a77bf2af58505cf5d2e"
       ],
       "nodes": [
        "IPY_MODEL_db7ae8bc57d34e4380340a3de3920463",
        "IPY_MODEL_d84363806aec463f972f8150e5ebdab7",
        "IPY_MODEL_68e8172c9d71445c8df0442869ca4688",
        "IPY_MODEL_cbfc120f24ab4295b3b795cb4c782164",
        "IPY_MODEL_4a570fe8e64848efa40401a1e96cf584",
        "IPY_MODEL_033639878c784c1685c1a331912ced2a"
       ]
      }
     },
     "a5d7558985f84d92b86aaeb9a518922c": {
      "model_module": "jupyter-cytoscape",
      "model_module_version": "^1.2.0",
      "model_name": "NodeModel",
      "state": {
       "_model_module_version": "^1.2.0",
       "_view_module_version": "^1.2.0",
       "classes": "area",
       "data": {
        "id": "A01",
        "label": "A01 Europe"
       },
       "grabbable": true,
       "grabbed": false,
       "position": {
        "x": 20,
        "y": 122.80000047683717
       },
       "selectable": false
      }
     },
     "a6c8de7e5a4e40109d8cca8d1ec25529": {
      "model_module": "jupyter-cytoscape",
      "model_module_version": "^1.2.0",
      "model_name": "CytoscapeModel",
      "state": {
       "_interaction_handlers": {},
       "_model_module_version": "^1.2.0",
       "_view_module_version": "^1.2.0",
       "auto_ungrabify": false,
       "autolock": false,
       "cytoscape_layout": {
        "edgeLenghVal": 5,
        "name": "klay",
        "nodeSpacing": 3,
        "rankDir": "LR"
       },
       "cytoscape_style": [
        {
         "css": {
          "background-color": "black",
          "color": "white",
          "content": "data(label)",
          "font-size": "4pt",
          "height": "0.8em",
          "label": "data(id)",
          "shape": "roundrectangle",
          "text-halign": "center",
          "text-max-width": "5em",
          "text-valign": "center",
          "text-wrap": "wrap",
          "width": "5em"
         },
         "selector": "node.area"
        },
        {
         "css": {
          "background-color": "black",
          "color": "white",
          "content": "data(label)",
          "font-size": "4pt",
          "height": "0.8em",
          "label": "data(id)",
          "shape": "roundrectangle",
          "text-halign": "center",
          "text-max-width": "7em",
          "text-valign": "center",
          "text-wrap": "wrap",
          "width": "7em"
         },
         "selector": "node.country"
        },
        {
         "css": {
          "curve-style": "bezier",
          "line-color": "gray",
          "shape": "arrow",
          "target-arrow-color": "gray",
          "target-arrow-shape": "triangle",
          "width": 1
         },
         "selector": "edge"
        }
       ],
       "desktop_tap_threshold": 4,
       "graph": "IPY_MODEL_e7914d4e7227427d8be85931a2ed2e89",
       "headless": false,
       "hide_edges_on_viewport": false,
       "layout": "IPY_MODEL_3e7fdd2d8b784989be36e16c556f43ba",
       "max_zoom": 1e+50,
       "min_zoom": 1e-50,
       "motion_blur": false,
       "motion_blur_opacity": 0.2,
       "panning_enabled": true,
       "pixel_ratio": "auto",
       "rendered_position": {
        "renderedPosition": {
         "x": 100,
         "y": 100
        }
       },
       "selection_type": "single",
       "style_enabled": true,
       "texture_on_viewport": false,
       "tooltip_source": "label",
       "touch_tap_threshold": 8,
       "user_panning_enabled": true,
       "user_zooming_enabled": true,
       "wheel_sensitivity": 1,
       "zoom": 2,
       "zooming_enabled": true
      }
     },
     "a7a4faafca064ba7bed926d98c9db9e1": {
      "model_module": "jupyter-cytoscape",
      "model_module_version": "^1.2.0",
      "model_name": "CytoscapeModel",
      "state": {
       "_interaction_handlers": {},
       "_model_module_version": "^1.2.0",
       "_view_module_version": "^1.2.0",
       "auto_ungrabify": false,
       "autolock": false,
       "cytoscape_layout": {
        "edgeLenghVal": 10,
        "name": "klay",
        "nodeSpacing": 10,
        "rankDir": "LR"
       },
       "cytoscape_style": [
        {
         "css": {
          "background-color": "black",
          "color": "white",
          "content": "data(label)",
          "font-size": "4pt",
          "height": "0.8em",
          "label": "data(id)",
          "shape": "roundrectangle",
          "text-halign": "center",
          "text-max-width": "7em",
          "text-valign": "center",
          "text-wrap": "wrap",
          "width": "7em"
         },
         "selector": "node.area"
        }
       ],
       "desktop_tap_threshold": 4,
       "graph": "IPY_MODEL_bd4c46ef33bb4580b7b2f930d15c3287",
       "headless": false,
       "hide_edges_on_viewport": false,
       "layout": "IPY_MODEL_913e34178a324d2db63a104c9e91215c",
       "max_zoom": 1e+50,
       "min_zoom": 1e-50,
       "motion_blur": false,
       "motion_blur_opacity": 0.2,
       "panning_enabled": true,
       "pixel_ratio": "auto",
       "rendered_position": {
        "renderedPosition": {
         "x": 100,
         "y": 100
        }
       },
       "selection_type": "single",
       "style_enabled": true,
       "texture_on_viewport": false,
       "tooltip_source": "label",
       "touch_tap_threshold": 8,
       "user_panning_enabled": true,
       "user_zooming_enabled": true,
       "wheel_sensitivity": 1,
       "zoom": 2,
       "zooming_enabled": true
      }
     },
     "a7c27749192e45cd822e49468173c9c9": {
      "model_module": "jupyter-cytoscape",
      "model_module_version": "^1.2.0",
      "model_name": "CytoscapeModel",
      "state": {
       "_interaction_handlers": {},
       "_model_module_version": "^1.2.0",
       "_view_module_version": "^1.2.0",
       "auto_ungrabify": false,
       "autolock": false,
       "cytoscape_layout": {
        "edgeLenghVal": 10,
        "name": "dagre",
        "nodeSpacing": 10,
        "rankDir": "LR"
       },
       "cytoscape_style": [
        {
         "css": {
          "background-color": "black",
          "color": "white",
          "content": "data(label)",
          "font-size": "4pt",
          "height": "0.8em",
          "label": "data(id)",
          "shape": "roundrectangle",
          "text-halign": "center",
          "text-max-width": "5em",
          "text-valign": "center",
          "text-wrap": "wrap",
          "width": "5em"
         },
         "selector": "node.area"
        },
        {
         "css": {
          "background-color": "black",
          "color": "white",
          "content": "data(label)",
          "font-size": "4pt",
          "height": "0.8em",
          "label": "data(id)",
          "shape": "roundrectangle",
          "text-halign": "center",
          "text-max-width": "7em",
          "text-valign": "center",
          "text-wrap": "wrap",
          "width": "7em"
         },
         "selector": "node.country"
        },
        {
         "css": {
          "curve-style": "bezier",
          "line-color": "gray",
          "shape": "arrow",
          "target-arrow-color": "gray",
          "target-arrow-shape": "triangle",
          "width": 1
         },
         "selector": "edge"
        }
       ],
       "desktop_tap_threshold": 4,
       "graph": "IPY_MODEL_3ab7da7a18374649aaee6040642bfff6",
       "headless": false,
       "hide_edges_on_viewport": false,
       "layout": "IPY_MODEL_ba5a615c5c594d66845a8bb051f15b37",
       "max_zoom": 1e+50,
       "min_zoom": 1e-50,
       "motion_blur": false,
       "motion_blur_opacity": 0.2,
       "panning_enabled": true,
       "pixel_ratio": "auto",
       "rendered_position": {
        "renderedPosition": {
         "x": 100,
         "y": 100
        }
       },
       "selection_type": "single",
       "style_enabled": true,
       "texture_on_viewport": false,
       "tooltip_source": "label",
       "touch_tap_threshold": 8,
       "user_panning_enabled": true,
       "user_zooming_enabled": true,
       "wheel_sensitivity": 1,
       "zoom": 2,
       "zooming_enabled": true
      }
     },
     "a8561f2a8cd847b7abb9f47d000be4b4": {
      "model_module": "jupyter-cytoscape",
      "model_module_version": "^1.2.0",
      "model_name": "NodeModel",
      "state": {
       "_model_module_version": "^1.2.0",
       "_view_module_version": "^1.2.0",
       "classes": "country level",
       "data": {
        "id": "A01C01",
        "label": "A01C01 France"
       },
       "grabbable": true,
       "grabbed": false,
       "position": {
        "x": 134,
        "y": 5.6000000000000005
       },
       "selectable": false
      }
     },
     "a862ed3dd30b461fb73c70035c29dfc0": {
      "model_module": "jupyter-cytoscape",
      "model_module_version": "^1.2.0",
      "model_name": "CytoscapeModel",
      "state": {
       "_interaction_handlers": {},
       "_model_module_version": "^1.2.0",
       "_view_module_version": "^1.2.0",
       "auto_ungrabify": false,
       "autolock": false,
       "cytoscape_layout": {
        "edgeLenghVal": 30,
        "name": "klay",
        "nodeSpacing": 30,
        "rankDir": "LR"
       },
       "cytoscape_style": [
        {
         "css": {
          "background-color": "black",
          "color": "white",
          "content": "data(label)",
          "font-size": "4pt",
          "height": "0.8em",
          "label": "data(id)",
          "shape": "roundrectangle",
          "text-halign": "center",
          "text-max-width": "5em",
          "text-valign": "center",
          "text-wrap": "wrap",
          "width": "5em"
         },
         "selector": "node.area"
        },
        {
         "css": {
          "background-color": "black",
          "color": "white",
          "content": "data(label)",
          "font-size": "4pt",
          "height": "0.8em",
          "label": "data(id)",
          "shape": "roundrectangle",
          "text-halign": "center",
          "text-max-width": "7em",
          "text-valign": "center",
          "text-wrap": "wrap",
          "width": "7em"
         },
         "selector": "node.country"
        },
        {
         "css": {
          "curve-style": "bezier",
          "line-color": "gray",
          "shape": "arrow",
          "target-arrow-color": "gray",
          "target-arrow-shape": "triangle",
          "width": 1
         },
         "selector": "edge"
        }
       ],
       "desktop_tap_threshold": 4,
       "graph": "IPY_MODEL_84265d360e02477ab655175cd389b8c3",
       "headless": false,
       "hide_edges_on_viewport": false,
       "layout": "IPY_MODEL_e58f475b915941b9aaec62dd087aae51",
       "max_zoom": 1e+50,
       "min_zoom": 1e-50,
       "motion_blur": false,
       "motion_blur_opacity": 0.2,
       "panning_enabled": true,
       "pixel_ratio": "auto",
       "rendered_position": {
        "renderedPosition": {
         "x": 100,
         "y": 100
        }
       },
       "selection_type": "single",
       "style_enabled": true,
       "texture_on_viewport": false,
       "tooltip_source": "label",
       "touch_tap_threshold": 8,
       "user_panning_enabled": true,
       "user_zooming_enabled": true,
       "wheel_sensitivity": 1,
       "zoom": 2,
       "zooming_enabled": true
      }
     },
     "a86faddd17c644d58d1e9a9ab822e27f": {
      "model_module": "jupyter-cytoscape",
      "model_module_version": "^1.2.0",
      "model_name": "NodeModel",
      "state": {
       "_model_module_version": "^1.2.0",
       "_view_module_version": "^1.2.0",
       "classes": "area level",
       "data": {
        "id": "A01",
        "label": "A01 Europe"
       },
       "grabbable": true,
       "grabbed": false,
       "position": {
        "x": 28,
        "y": 66.8
       },
       "selectable": false
      }
     },
     "a895a75c667f4b4eb2ad6092dee052ea": {
      "model_module": "jupyter-cytoscape",
      "model_module_version": "^1.2.0",
      "model_name": "EdgeModel",
      "state": {
       "_model_module_version": "^1.2.0",
       "_view_module_version": "^1.2.0",
       "classes": " directed ",
       "data": {
        "id": "949747ab-bd40-407d-a0e2-7fdeaec37482",
        "label": "country",
        "source": "A01",
        "target": "A01C02"
       },
       "selectable": false
      }
     },
     "a912d6b2b40a4a1daf45e2af94d6a3d1": {
      "model_module": "jupyter-cytoscape",
      "model_module_version": "^1.2.0",
      "model_name": "EdgeModel",
      "state": {
       "_model_module_version": "^1.2.0",
       "_view_module_version": "^1.2.0",
       "classes": " directed ",
       "data": {
        "id": "e6721eef-2572-41f5-a3e3-4d22347ab0db",
        "label": "country",
        "source": "A02",
        "target": "A02C01"
       },
       "selectable": false
      }
     },
     "a9f8bbe07063400789be6179986c9ad0": {
      "model_module": "jupyter-cytoscape",
      "model_module_version": "^1.2.0",
      "model_name": "GraphModel",
      "state": {
       "_adj": {
        "A01": {},
        "A01C01": {},
        "A01C02": {},
        "A01C03": {},
        "A02": {},
        "A02C01": {}
       },
       "_model_module_version": "^1.2.0",
       "_view_module": "jupyter-cytoscape",
       "_view_module_version": "^1.2.0",
       "edges": [
        "IPY_MODEL_7be1efe44c4047cd9dac082f4eee57f8",
        "IPY_MODEL_a895a75c667f4b4eb2ad6092dee052ea",
        "IPY_MODEL_2e367e9aebad45c19902daa1e6e62253",
        "IPY_MODEL_16b670a46edd4f6d91ab8790891fada9"
       ],
       "nodes": [
        "IPY_MODEL_db6d1460520344ef9de0e35a09827a9c",
        "IPY_MODEL_fbd140a5bb5c414694a9558081deebea",
        "IPY_MODEL_4727532451fb46219eac9826cb80ad81",
        "IPY_MODEL_898209c62c114e64a4775e308e4616b7",
        "IPY_MODEL_d04426696ed642d8bfe6962b05cd274d",
        "IPY_MODEL_ce25b15665934b94979f1a6d43f754fd"
       ]
      }
     },
     "aa6f4a6c47074d8c8c6bec93e705940b": {
      "model_module": "jupyter-cytoscape",
      "model_module_version": "^1.2.0",
      "model_name": "EdgeModel",
      "state": {
       "_model_module_version": "^1.2.0",
       "_view_module_version": "^1.2.0",
       "classes": " directed ",
       "data": {
        "id": "34a29a1b-5bf3-4374-a454-54dbfb4e2f32",
        "label": "country",
        "source": "A01",
        "target": "A01C02"
       },
       "selectable": false
      }
     },
     "aa88ee10cbd6419e81f1c4d0ac0392c8": {
      "model_module": "jupyter-cytoscape",
      "model_module_version": "^1.2.0",
      "model_name": "CytoscapeModel",
      "state": {
       "_interaction_handlers": {},
       "_model_module_version": "^1.2.0",
       "_view_module_version": "^1.2.0",
       "auto_ungrabify": false,
       "autolock": false,
       "cytoscape_layout": {
        "name": "cola"
       },
       "cytoscape_style": [
        {
         "css": {
          "background-color": "#11479e"
         },
         "selector": "node"
        },
        {
         "css": {
          "background-opacity": 0.333
         },
         "selector": "node:parent"
        },
        {
         "selector": "edge",
         "style": {
          "line-color": "#9dbaea",
          "width": 4
         }
        },
        {
         "selector": "edge.directed",
         "style": {
          "curve-style": "bezier",
          "target-arrow-color": "#9dbaea",
          "target-arrow-shape": "triangle"
         }
        },
        {
         "selector": "edge.multiple_edges",
         "style": {
          "curve-style": "bezier"
         }
        }
       ],
       "desktop_tap_threshold": 4,
       "graph": "IPY_MODEL_fdf538b6f1dd49ebb6881968ef99a94d",
       "headless": false,
       "hide_edges_on_viewport": false,
       "layout": "IPY_MODEL_529bf5d122404cc187b82207c7a7c6e4",
       "max_zoom": 1e+50,
       "min_zoom": 1e-50,
       "motion_blur": false,
       "motion_blur_opacity": 0.2,
       "panning_enabled": true,
       "pixel_ratio": "auto",
       "rendered_position": {
        "renderedPosition": {
         "x": 100,
         "y": 100
        }
       },
       "selection_type": "single",
       "style_enabled": true,
       "texture_on_viewport": false,
       "tooltip_source": "tooltip",
       "touch_tap_threshold": 8,
       "user_panning_enabled": true,
       "user_zooming_enabled": true,
       "wheel_sensitivity": 1,
       "zoom": 2,
       "zooming_enabled": true
      }
     },
     "aaa85295d214412ba94bf6c38328076c": {
      "model_module": "jupyter-cytoscape",
      "model_module_version": "^1.2.0",
      "model_name": "NodeModel",
      "state": {
       "_model_module_version": "^1.2.0",
       "_view_module_version": "^1.2.0",
       "classes": "country",
       "data": {
        "id": "A01C01",
        "label": "A01C01 France"
       },
       "grabbable": true,
       "grabbed": false,
       "selectable": false
      }
     },
     "ac971d69d43a476aa63c2ed5a5d15578": {
      "model_module": "jupyter-cytoscape",
      "model_module_version": "^1.2.0",
      "model_name": "NodeModel",
      "state": {
       "_model_module_version": "^1.2.0",
       "_view_module_version": "^1.2.0",
       "classes": "area",
       "data": {
        "id": "A01",
        "label": "A01 Europe"
       },
       "grabbable": true,
       "grabbed": false,
       "position": {
        "x": 20,
        "y": 122.80000047683717
       },
       "selectable": false
      }
     },
     "ac99e0d6d6d844deb67499f6396f0a67": {
      "model_module": "jupyter-cytoscape",
      "model_module_version": "^1.2.0",
      "model_name": "NodeModel",
      "state": {
       "_model_module_version": "^1.2.0",
       "_view_module_version": "^1.2.0",
       "classes": "area",
       "data": {
        "id": "A01",
        "label": "A01 Europe"
       },
       "grabbable": true,
       "grabbed": false,
       "position": {
        "x": 28,
        "y": 66.8
       },
       "selectable": false
      }
     },
     "acc2dc579bc946a686306bf6aaaff738": {
      "model_module": "jupyter-cytoscape",
      "model_module_version": "^1.2.0",
      "model_name": "GraphModel",
      "state": {
       "_adj": {},
       "_model_module_version": "^1.2.0",
       "_view_module": "jupyter-cytoscape",
       "_view_module_version": "^1.2.0"
      }
     },
     "accc129c4a8045339d07c80b5543a881": {
      "model_module": "jupyter-cytoscape",
      "model_module_version": "^1.2.0",
      "model_name": "EdgeModel",
      "state": {
       "_model_module_version": "^1.2.0",
       "_view_module_version": "^1.2.0",
       "classes": " directed ",
       "data": {
        "id": "6729c6a9-ea27-45e4-987c-834786359327",
        "label": "country",
        "source": "A01",
        "target": "A01C02"
       },
       "selectable": false
      }
     },
     "acf3a20610554b6d9b99d48ad7386e05": {
      "model_module": "jupyter-cytoscape",
      "model_module_version": "^1.2.0",
      "model_name": "CytoscapeModel",
      "state": {
       "_interaction_handlers": {},
       "_model_module_version": "^1.2.0",
       "_view_module_version": "^1.2.0",
       "auto_ungrabify": false,
       "autolock": false,
       "cytoscape_layout": {
        "edgeLenghVal": 10,
        "name": "dagre",
        "nodeSpacing": 10,
        "rankDir": "LR"
       },
       "cytoscape_style": [
        {
         "css": {
          "content": "data(label)",
          "font-size": "4pt",
          "height": "0.8em",
          "label": "data(id)",
          "text-halign": "center",
          "text-max-width": "5em",
          "text-valign": "center",
          "text-wrap": "wrap",
          "width": "4em"
         },
         "selector": "node"
        },
        {
         "css": {
          "shape": "roundrectangle"
         },
         "selector": "node.level"
        },
        {
         "css": {
          "background-color": "red",
          "color": "white"
         },
         "selector": "node.area"
        },
        {
         "css": {
          "background-color": "blue",
          "color": "white"
         },
         "selector": "node.country"
        },
        {
         "css": {
          "curve-style": "bezier",
          "line-color": "gray",
          "shape": "arrow",
          "target-arrow-color": "gray",
          "target-arrow-shape": "triangle",
          "width": 1
         },
         "selector": "edge"
        }
       ],
       "desktop_tap_threshold": 4,
       "graph": "IPY_MODEL_9088f19bad244738a7ec88f250807b31",
       "headless": false,
       "hide_edges_on_viewport": false,
       "layout": "IPY_MODEL_1f469d8603894fe1955c1e4e2c135580",
       "max_zoom": 1e+50,
       "min_zoom": 1e-50,
       "motion_blur": false,
       "motion_blur_opacity": 0.2,
       "panning_enabled": true,
       "pixel_ratio": "auto",
       "rendered_position": {
        "renderedPosition": {
         "x": 100,
         "y": 100
        }
       },
       "selection_type": "single",
       "style_enabled": true,
       "texture_on_viewport": false,
       "tooltip_source": "label",
       "touch_tap_threshold": 8,
       "user_panning_enabled": true,
       "user_zooming_enabled": true,
       "wheel_sensitivity": 1,
       "zoom": 2,
       "zooming_enabled": true
      }
     },
     "adbf9fc8ee024d23bed7a205bcef9b58": {
      "model_module": "jupyter-cytoscape",
      "model_module_version": "^1.2.0",
      "model_name": "NodeModel",
      "state": {
       "_model_module_version": "^1.2.0",
       "_view_module_version": "^1.2.0",
       "classes": "country",
       "data": {
        "id": "A01C02",
        "label": "A01C02 UK"
       },
       "grabbable": true,
       "grabbed": false,
       "position": {
        "x": 127.99999952316284,
        "y": 63.20000047683717
       },
       "selectable": false
      }
     },
     "b067a1df29e44d2e9ea4af3cbf08ed37": {
      "model_module": "jupyter-cytoscape",
      "model_module_version": "^1.2.0",
      "model_name": "NodeModel",
      "state": {
       "_model_module_version": "^1.2.0",
       "_view_module_version": "^1.2.0",
       "classes": "country",
       "data": {
        "id": "A02C01",
        "label": "A02C01 Japan"
       },
       "grabbable": true,
       "grabbed": false,
       "position": {
        "x": 110,
        "y": 20
       },
       "selectable": false
      }
     },
     "b1b49c8e81c34e8081a51c43225f9fde": {
      "model_module": "jupyter-cytoscape",
      "model_module_version": "^1.2.0",
      "model_name": "NodeModel",
      "state": {
       "_model_module_version": "^1.2.0",
       "_view_module_version": "^1.2.0",
       "classes": "area level",
       "data": {
        "id": "A02",
        "label": "A02 Asia"
       },
       "grabbable": true,
       "grabbed": false,
       "position": {
        "x": 28,
        "y": 66.8
       },
       "selectable": false
      }
     },
     "b31dc4c0aed548548f5463b8d2412625": {
      "model_module": "jupyter-cytoscape",
      "model_module_version": "^1.2.0",
      "model_name": "NodeModel",
      "state": {
       "_model_module_version": "^1.2.0",
       "_view_module_version": "^1.2.0",
       "classes": "area level",
       "data": {
        "id": "A01",
        "label": "A01 Europe"
       },
       "grabbable": true,
       "grabbed": false,
       "selectable": false
      }
     },
     "b48231ad58114a46b57d6ee0a0d929f5": {
      "model_module": "jupyter-cytoscape",
      "model_module_version": "^1.2.0",
      "model_name": "NodeModel",
      "state": {
       "_model_module_version": "^1.2.0",
       "_view_module_version": "^1.2.0",
       "classes": "country level",
       "data": {
        "id": "A02C01",
        "label": "A02C01 Japan"
       },
       "grabbable": true,
       "grabbed": false,
       "position": {
        "x": 28,
        "y": 311.59999999999997
       },
       "selectable": false
      }
     },
     "b4b9ccdb3e9846efbc6b1281567a2eea": {
      "model_module": "jupyter-cytoscape",
      "model_module_version": "^1.2.0",
      "model_name": "NodeModel",
      "state": {
       "_model_module_version": "^1.2.0",
       "_view_module_version": "^1.2.0",
       "classes": "area level",
       "data": {
        "id": "A02",
        "label": "A02 Asia"
       },
       "grabbable": true,
       "grabbed": false,
       "selectable": false
      }
     },
     "b5146442673148b8bbbf51a12ee4520b": {
      "model_module": "jupyter-cytoscape",
      "model_module_version": "^1.2.0",
      "model_name": "NodeModel",
      "state": {
       "_model_module_version": "^1.2.0",
       "_view_module_version": "^1.2.0",
       "classes": "area",
       "data": {
        "id": "A01",
        "label": "A01 Europe"
       },
       "grabbable": true,
       "grabbed": false,
       "position": {
        "x": 28,
        "y": 66.8
       },
       "selectable": false
      }
     },
     "b52940fac5f844cfa1a34a742433994b": {
      "model_module": "jupyter-cytoscape",
      "model_module_version": "^1.2.0",
      "model_name": "NodeModel",
      "state": {
       "_model_module_version": "^1.2.0",
       "_view_module_version": "^1.2.0",
       "classes": "area",
       "data": {
        "id": "A01",
        "label": "A01 Europe"
       },
       "grabbable": true,
       "grabbed": false,
       "position": {
        "x": 35,
        "y": 66.8
       },
       "selectable": false
      }
     },
     "b52f02347ce3470ea494e370302cd8e5": {
      "model_module": "jupyter-cytoscape",
      "model_module_version": "^1.2.0",
      "model_name": "GraphModel",
      "state": {
       "_adj": {},
       "_model_module_version": "^1.2.0",
       "_view_module": "jupyter-cytoscape",
       "_view_module_version": "^1.2.0"
      }
     },
     "b5f7672383114a17b4754da2f5091fff": {
      "model_module": "jupyter-cytoscape",
      "model_module_version": "^1.2.0",
      "model_name": "EdgeModel",
      "state": {
       "_model_module_version": "^1.2.0",
       "_view_module_version": "^1.2.0",
       "classes": " directed ",
       "data": {
        "id": "03b78d81-d478-47c4-abb3-d5eaac18fd14",
        "label": "country",
        "source": "A01",
        "target": "A01C01"
       },
       "selectable": false
      }
     },
     "b758b120e3004d28bdb385064c20e548": {
      "model_module": "jupyter-cytoscape",
      "model_module_version": "^1.2.0",
      "model_name": "GraphModel",
      "state": {
       "_adj": {},
       "_model_module_version": "^1.2.0",
       "_view_module": "jupyter-cytoscape",
       "_view_module_version": "^1.2.0"
      }
     },
     "b8401acb3aa14016acb6240981d8dcfc": {
      "model_module": "jupyter-cytoscape",
      "model_module_version": "^1.2.0",
      "model_name": "NodeModel",
      "state": {
       "_model_module_version": "^1.2.0",
       "_view_module_version": "^1.2.0",
       "classes": "country",
       "data": {
        "id": "A01C01",
        "label": "A01C01 France"
       },
       "grabbable": true,
       "grabbed": false,
       "position": {
        "x": 20,
        "y": 106.40000095367432
       },
       "selectable": false
      }
     },
     "b8d67ff89b3d4d1d993bbded17273e76": {
      "model_module": "jupyter-cytoscape",
      "model_module_version": "^1.2.0",
      "model_name": "NodeModel",
      "state": {
       "_model_module_version": "^1.2.0",
       "_view_module_version": "^1.2.0",
       "classes": "area",
       "data": {
        "id": "A02",
        "label": "A02 Asia"
       },
       "grabbable": true,
       "grabbed": false,
       "position": {
        "x": 28,
        "y": 189.20000000000002
       },
       "selectable": false
      }
     },
     "b8e96c61816e4c349861575a5ae5bfde": {
      "model_module": "jupyter-cytoscape",
      "model_module_version": "^1.2.0",
      "model_name": "EdgeModel",
      "state": {
       "_model_module_version": "^1.2.0",
       "_view_module_version": "^1.2.0",
       "classes": " directed ",
       "data": {
        "id": "f1487a92-70fc-4bfe-a674-752329145ca0",
        "label": "country",
        "source": "A01",
        "target": "A01C03"
       },
       "selectable": false
      }
     },
     "b933966a5c3149fe8b2bccf895c42a49": {
      "model_module": "jupyter-cytoscape",
      "model_module_version": "^1.2.0",
      "model_name": "EdgeModel",
      "state": {
       "_model_module_version": "^1.2.0",
       "_view_module_version": "^1.2.0",
       "classes": " directed ",
       "data": {
        "id": "1c0c5929-5260-443e-ac0a-f8b9dbc959aa",
        "label": "country",
        "source": "A01",
        "target": "A01C01"
       },
       "selectable": false
      }
     },
     "b955390133db42f5ab575017c1d4ffdd": {
      "model_module": "jupyter-cytoscape",
      "model_module_version": "^1.2.0",
      "model_name": "NodeModel",
      "state": {
       "_model_module_version": "^1.2.0",
       "_view_module_version": "^1.2.0",
       "classes": "area level",
       "data": {
        "id": "A01",
        "label": "A01 Europe"
       },
       "grabbable": true,
       "grabbed": false,
       "selectable": false
      }
     },
     "b95596fbf4d64c218e937457f74bbc13": {
      "model_module": "jupyter-cytoscape",
      "model_module_version": "^1.2.0",
      "model_name": "NodeModel",
      "state": {
       "_model_module_version": "^1.2.0",
       "_view_module_version": "^1.2.0",
       "classes": "area",
       "data": {
        "id": "A02",
        "label": "A02 Asia"
       },
       "grabbable": true,
       "grabbed": false,
       "position": {
        "x": 20,
        "y": 20
       },
       "selectable": false
      }
     },
     "ba4b4ef323be4806b961d251ab1a1280": {
      "model_module": "jupyter-cytoscape",
      "model_module_version": "^1.2.0",
      "model_name": "EdgeModel",
      "state": {
       "_model_module_version": "^1.2.0",
       "_view_module_version": "^1.2.0",
       "classes": " directed ",
       "data": {
        "id": "a2b6ce0d-c404-4b0b-95f8-35b9f5c513d6",
        "label": "country",
        "source": "A01",
        "target": "A01C03"
       },
       "selectable": false
      }
     },
     "ba5a615c5c594d66845a8bb051f15b37": {
      "model_module": "@jupyter-widgets/base",
      "model_module_version": "1.2.0",
      "model_name": "LayoutModel",
      "state": {}
     },
     "ba668a0d03ef4b0f97ccd94f15f1d36e": {
      "model_module": "jupyter-cytoscape",
      "model_module_version": "^1.2.0",
      "model_name": "EdgeModel",
      "state": {
       "_model_module_version": "^1.2.0",
       "_view_module_version": "^1.2.0",
       "classes": " directed ",
       "data": {
        "id": "8fe69b18-94dc-4168-9ff4-8f8c5c9a7a3a",
        "label": "country",
        "source": "A01",
        "target": "A01C03"
       },
       "selectable": false
      }
     },
     "bc014e684b1746f5b1084dc7ca4914ae": {
      "model_module": "jupyter-cytoscape",
      "model_module_version": "^1.2.0",
      "model_name": "GraphModel",
      "state": {
       "_adj": {},
       "_model_module_version": "^1.2.0",
       "_view_module": "jupyter-cytoscape",
       "_view_module_version": "^1.2.0"
      }
     },
     "bc2d1ee97d1444629010b9ffdf6b9597": {
      "model_module": "jupyter-cytoscape",
      "model_module_version": "^1.2.0",
      "model_name": "NodeModel",
      "state": {
       "_model_module_version": "^1.2.0",
       "_view_module_version": "^1.2.0",
       "classes": "area level",
       "data": {
        "id": "A02",
        "label": "A02 Asia"
       },
       "grabbable": true,
       "grabbed": false,
       "selectable": false
      }
     },
     "bc371bb08cf444a4bcb8eec97c6f57b0": {
      "model_module": "jupyter-cytoscape",
      "model_module_version": "^1.2.0",
      "model_name": "GraphModel",
      "state": {
       "_adj": {},
       "_model_module_version": "^1.2.0",
       "_view_module": "jupyter-cytoscape",
       "_view_module_version": "^1.2.0"
      }
     },
     "bc5c44c0447d470096da449cfdf3b46c": {
      "model_module": "jupyter-cytoscape",
      "model_module_version": "^1.2.0",
      "model_name": "NodeModel",
      "state": {
       "_model_module_version": "^1.2.0",
       "_view_module_version": "^1.2.0",
       "classes": "area",
       "data": {
        "id": "A01",
        "label": "A01 Europe"
       },
       "grabbable": true,
       "grabbed": false,
       "selectable": false
      }
     },
     "bcf4cd013f6f40a18e2e676a7e318fbc": {
      "model_module": "jupyter-cytoscape",
      "model_module_version": "^1.2.0",
      "model_name": "NodeModel",
      "state": {
       "_model_module_version": "^1.2.0",
       "_view_module_version": "^1.2.0",
       "classes": "country level",
       "data": {
        "id": "A01C01",
        "label": "A01C01 France"
       },
       "grabbable": true,
       "grabbed": false,
       "position": {
        "x": 28,
        "y": 128
       },
       "selectable": false
      }
     },
     "bd4759ec14cb4c1b9846950818cc8f01": {
      "model_module": "jupyter-cytoscape",
      "model_module_version": "^1.2.0",
      "model_name": "EdgeModel",
      "state": {
       "_model_module_version": "^1.2.0",
       "_view_module_version": "^1.2.0",
       "classes": " directed ",
       "data": {
        "id": "5c7dbdaa-faa0-4fd0-aa9f-110dee7ec841",
        "label": "country",
        "source": "A01",
        "target": "A01C02"
       },
       "selectable": false
      }
     },
     "bd4c46ef33bb4580b7b2f930d15c3287": {
      "model_module": "jupyter-cytoscape",
      "model_module_version": "^1.2.0",
      "model_name": "GraphModel",
      "state": {
       "_adj": {
        "A01": {},
        "A02": {}
       },
       "_model_module_version": "^1.2.0",
       "_view_module": "jupyter-cytoscape",
       "_view_module_version": "^1.2.0",
       "nodes": [
        "IPY_MODEL_d8653f83643c415990f197e22bab0c37",
        "IPY_MODEL_337399253f464b43a718135877661a22"
       ]
      }
     },
     "be21cf38083d4f8f9252d0d474466c29": {
      "model_module": "@jupyter-widgets/base",
      "model_module_version": "1.2.0",
      "model_name": "LayoutModel",
      "state": {}
     },
     "be40c3e7f3d54d848bdc2bf34f83076e": {
      "model_module": "jupyter-cytoscape",
      "model_module_version": "^1.2.0",
      "model_name": "NodeModel",
      "state": {
       "_model_module_version": "^1.2.0",
       "_view_module_version": "^1.2.0",
       "classes": "country",
       "data": {
        "id": "A02C01",
        "label": "A02C01 Japan"
       },
       "grabbable": true,
       "grabbed": false,
       "position": {
        "x": 110,
        "y": 20
       },
       "selectable": false
      }
     },
     "bebdf390954144bdb6c49334468028f8": {
      "model_module": "@jupyter-widgets/base",
      "model_module_version": "1.2.0",
      "model_name": "LayoutModel",
      "state": {}
     },
     "bf68318fe2574499a6e090639a350e46": {
      "model_module": "@jupyter-widgets/base",
      "model_module_version": "1.2.0",
      "model_name": "LayoutModel",
      "state": {}
     },
     "bf9e64f74e984ab3a2e3e18a09a78257": {
      "model_module": "jupyter-cytoscape",
      "model_module_version": "^1.2.0",
      "model_name": "GraphModel",
      "state": {
       "_adj": {
        "A01": {},
        "A01C01": {},
        "A01C02": {},
        "A01C03": {},
        "A02": {},
        "A02C01": {}
       },
       "_model_module_version": "^1.2.0",
       "_view_module": "jupyter-cytoscape",
       "_view_module_version": "^1.2.0",
       "edges": [
        "IPY_MODEL_f1a89a5fb2cc4078b5963f4f1054d189",
        "IPY_MODEL_28d0d725526849fb8702d8003b6eded8",
        "IPY_MODEL_cb11229713814a989143d1d0466efac5",
        "IPY_MODEL_03a23a958c40432fa25d92fcc7c58231"
       ],
       "nodes": [
        "IPY_MODEL_7770da4ef51d490199d20e9845ff0e65",
        "IPY_MODEL_3a3d127bcc42411b970eca7423eb82d1",
        "IPY_MODEL_0d6e8592048b45fb96d7b8365e386f75",
        "IPY_MODEL_7bd022cee93b4f4c92f2e1eb5da22b57",
        "IPY_MODEL_017bb3f5f696409c8300b502238d1b7b",
        "IPY_MODEL_9deacc571281477789680c9dbf88862c"
       ]
      }
     },
     "c144995a17f04282837e90e1b118a36c": {
      "model_module": "jupyter-cytoscape",
      "model_module_version": "^1.2.0",
      "model_name": "EdgeModel",
      "state": {
       "_model_module_version": "^1.2.0",
       "_view_module_version": "^1.2.0",
       "classes": " directed ",
       "data": {
        "id": "cb84d587-1183-4ee0-8aff-9ea4b3b5d360",
        "label": "country",
        "source": "A01",
        "target": "A01C02"
       },
       "selectable": false
      }
     },
     "c2517f7e1de3491ebf3ee0e31500749e": {
      "model_module": "jupyter-cytoscape",
      "model_module_version": "^1.2.0",
      "model_name": "NodeModel",
      "state": {
       "_model_module_version": "^1.2.0",
       "_view_module_version": "^1.2.0",
       "classes": "country level",
       "data": {
        "id": "A02C01",
        "label": "A02C01 Japan"
       },
       "grabbable": true,
       "grabbed": false,
       "selectable": false
      }
     },
     "c3119edc2d124b85bd01a669a8c22aee": {
      "model_module": "jupyter-cytoscape",
      "model_module_version": "^1.2.0",
      "model_name": "CytoscapeModel",
      "state": {
       "_interaction_handlers": {},
       "_model_module_version": "^1.2.0",
       "_view_module_version": "^1.2.0",
       "auto_ungrabify": false,
       "autolock": false,
       "cytoscape_layout": {
        "edgeLenghVal": 10,
        "name": "klay",
        "nodeSpacing": 10,
        "rankDir": "LR"
       },
       "cytoscape_style": [
        {
         "css": {
          "background-color": "rgb(204,255,255)",
          "background-opacity": 1,
          "border-color": "rgb(0,153,255)",
          "border-opacity": 1,
          "border-width": 1.5,
          "color": "rgb(0,0,0)",
          "content": "data(src_node)",
          "font-family": "SansSerif.plain",
          "font-size": 12,
          "font-weight": "normal",
          "height": 35,
          "shape": "ellipse",
          "text-halign": "center",
          "text-opacity": 1,
          "text-valign": "center",
          "width": 75
         },
         "selector": "node"
        }
       ],
       "desktop_tap_threshold": 4,
       "graph": "IPY_MODEL_c35a770821104bf0be46e6a6f64d935d",
       "headless": false,
       "hide_edges_on_viewport": false,
       "layout": "IPY_MODEL_ff117a44b50c4828936002b554a02874",
       "max_zoom": 1e+50,
       "min_zoom": 1e-50,
       "motion_blur": false,
       "motion_blur_opacity": 0.2,
       "panning_enabled": true,
       "pixel_ratio": "auto",
       "rendered_position": {
        "renderedPosition": {
         "x": 100,
         "y": 100
        }
       },
       "selection_type": "single",
       "style_enabled": true,
       "texture_on_viewport": false,
       "tooltip_source": "label",
       "touch_tap_threshold": 8,
       "user_panning_enabled": true,
       "user_zooming_enabled": true,
       "wheel_sensitivity": 1,
       "zoom": 2,
       "zooming_enabled": true
      }
     },
     "c35a770821104bf0be46e6a6f64d935d": {
      "model_module": "jupyter-cytoscape",
      "model_module_version": "^1.2.0",
      "model_name": "GraphModel",
      "state": {
       "_adj": {
        "A01": {},
        "A02": {}
       },
       "_model_module_version": "^1.2.0",
       "_view_module": "jupyter-cytoscape",
       "_view_module_version": "^1.2.0",
       "nodes": [
        "IPY_MODEL_a54441b5a8964e0d96dd92f8002f02ac",
        "IPY_MODEL_175fb18be6f2402c904bbc4a24f7348e"
       ]
      }
     },
     "c37c951516a049c49e6cd7614cb35671": {
      "model_module": "jupyter-cytoscape",
      "model_module_version": "^1.2.0",
      "model_name": "NodeModel",
      "state": {
       "_model_module_version": "^1.2.0",
       "_view_module_version": "^1.2.0",
       "classes": "country",
       "data": {
        "id": "A01C03",
        "label": "A01C03 Italia"
       },
       "grabbable": true,
       "grabbed": false,
       "position": {
        "x": 127.99999952316284,
        "y": 125.60000047683717
       },
       "selectable": false
      }
     },
     "c44ac617f5cb4bc8bb8898d4e9ddd3cb": {
      "model_module": "@jupyter-widgets/base",
      "model_module_version": "1.2.0",
      "model_name": "LayoutModel",
      "state": {}
     },
     "c642154737cd44cfbb3d03eb5595d33e": {
      "model_module": "@jupyter-widgets/base",
      "model_module_version": "1.2.0",
      "model_name": "LayoutModel",
      "state": {}
     },
     "c75b24e8f1554356a8109c2c916ee235": {
      "model_module": "jupyter-cytoscape",
      "model_module_version": "^1.2.0",
      "model_name": "EdgeModel",
      "state": {
       "_model_module_version": "^1.2.0",
       "_view_module_version": "^1.2.0",
       "classes": " directed ",
       "data": {
        "id": "70b0ec13-ffef-4a56-873a-25f54d233973",
        "source": "0",
        "target": "2"
       },
       "selectable": false
      }
     },
     "c8cde08d35be4c4886c20adbeaab80ff": {
      "model_module": "jupyter-cytoscape",
      "model_module_version": "^1.2.0",
      "model_name": "NodeModel",
      "state": {
       "_model_module_version": "^1.2.0",
       "_view_module_version": "^1.2.0",
       "classes": "area level",
       "data": {
        "id": "A01",
        "label": "A01 Europe"
       },
       "grabbable": true,
       "grabbed": false,
       "position": {
        "x": 28,
        "y": 66.8
       },
       "selectable": false
      }
     },
     "c974f6e0242a44f38acc1f8c6f76100c": {
      "model_module": "jupyter-cytoscape",
      "model_module_version": "^1.2.0",
      "model_name": "GraphModel",
      "state": {
       "_adj": {},
       "_model_module_version": "^1.2.0",
       "_view_module": "jupyter-cytoscape",
       "_view_module_version": "^1.2.0"
      }
     },
     "ca1d72cb9e1e4b43a6809c7d783ffca0": {
      "model_module": "jupyter-cytoscape",
      "model_module_version": "^1.2.0",
      "model_name": "NodeModel",
      "state": {
       "_model_module_version": "^1.2.0",
       "_view_module_version": "^1.2.0",
       "classes": "country",
       "data": {
        "id": "A01C02",
        "label": "A01C02 UK"
       },
       "grabbable": true,
       "grabbed": false,
       "position": {
        "x": 127.99999952316284,
        "y": 63.20000047683717
       },
       "selectable": false
      }
     },
     "cad9a25f80e544f399e9f29fedd2dbc4": {
      "model_module": "jupyter-cytoscape",
      "model_module_version": "^1.2.0",
      "model_name": "CytoscapeModel",
      "state": {
       "_interaction_handlers": {},
       "_model_module_version": "^1.2.0",
       "_view_module_version": "^1.2.0",
       "auto_ungrabify": false,
       "autolock": false,
       "cytoscape_layout": {
        "edgeLenghVal": 10,
        "name": "klay",
        "nodeSpacing": 10,
        "rankDir": "LR"
       },
       "cytoscape_style": [
        {
         "css": {
          "background-color": "black",
          "color": "white",
          "content": "data(label)",
          "font-size": "4pt",
          "height": "0.8em",
          "label": "data(id)",
          "shape": "roundrectangle",
          "text-halign": "center",
          "text-max-width": "7em",
          "text-valign": "center",
          "text-wrap": "wrap",
          "width": "7em"
         },
         "selector": "node.area"
        }
       ],
       "desktop_tap_threshold": 4,
       "graph": "IPY_MODEL_4cba2059b5c34ee0b183a5e639d90dae",
       "headless": false,
       "hide_edges_on_viewport": false,
       "layout": "IPY_MODEL_4e0683b07c2740b3a093fa4df1430b4c",
       "max_zoom": 1e+50,
       "min_zoom": 1e-50,
       "motion_blur": false,
       "motion_blur_opacity": 0.2,
       "panning_enabled": true,
       "pixel_ratio": "auto",
       "rendered_position": {
        "renderedPosition": {
         "x": 100,
         "y": 100
        }
       },
       "selection_type": "single",
       "style_enabled": true,
       "texture_on_viewport": false,
       "tooltip_source": "label",
       "touch_tap_threshold": 8,
       "user_panning_enabled": true,
       "user_zooming_enabled": true,
       "wheel_sensitivity": 1,
       "zoom": 2,
       "zooming_enabled": true
      }
     },
     "cb0c00d3b86d47fea566b10ffbd5a1b7": {
      "model_module": "@jupyter-widgets/base",
      "model_module_version": "1.2.0",
      "model_name": "LayoutModel",
      "state": {}
     },
     "cb11229713814a989143d1d0466efac5": {
      "model_module": "jupyter-cytoscape",
      "model_module_version": "^1.2.0",
      "model_name": "EdgeModel",
      "state": {
       "_model_module_version": "^1.2.0",
       "_view_module_version": "^1.2.0",
       "classes": " directed ",
       "data": {
        "id": "dd56073e-39ce-40d9-b53a-af4ea6175b00",
        "label": "area_country",
        "source": "A01",
        "target": "A01C03"
       },
       "selectable": false
      }
     },
     "cb80ab4f369249e99e2c058f0b17088d": {
      "model_module": "jupyter-cytoscape",
      "model_module_version": "^1.2.0",
      "model_name": "NodeModel",
      "state": {
       "_model_module_version": "^1.2.0",
       "_view_module_version": "^1.2.0",
       "classes": "area",
       "data": {
        "id": "A01",
        "label": "A01 Europe"
       },
       "grabbable": true,
       "grabbed": false,
       "selectable": false
      }
     },
     "cbfc120f24ab4295b3b795cb4c782164": {
      "model_module": "jupyter-cytoscape",
      "model_module_version": "^1.2.0",
      "model_name": "NodeModel",
      "state": {
       "_model_module_version": "^1.2.0",
       "_view_module_version": "^1.2.0",
       "classes": "country",
       "data": {
        "id": "A01C02",
        "label": "A01C02 UK"
       },
       "grabbable": true,
       "grabbed": false,
       "position": {
        "x": 127.99999952316284,
        "y": 63.20000047683717
       },
       "selectable": false
      }
     },
     "cd21b5ffe7734650be6826dbfa18fd0f": {
      "model_module": "jupyter-cytoscape",
      "model_module_version": "^1.2.0",
      "model_name": "NodeModel",
      "state": {
       "_model_module_version": "^1.2.0",
       "_view_module_version": "^1.2.0",
       "classes": "country level",
       "data": {
        "id": "A02C01",
        "label": "A02C01 Japan"
       },
       "grabbable": true,
       "grabbed": false,
       "position": {
        "x": 134,
        "y": 189.20000000000002
       },
       "selectable": false
      }
     },
     "cd34da10a8284e56955e194422c1c030": {
      "model_module": "jupyter-cytoscape",
      "model_module_version": "^1.2.0",
      "model_name": "GraphModel",
      "state": {
       "_adj": {
        "A01": {},
        "A01C01": {},
        "A01C02": {},
        "A01C03": {},
        "A02": {},
        "A02C01": {}
       },
       "_model_module_version": "^1.2.0",
       "_view_module": "jupyter-cytoscape",
       "_view_module_version": "^1.2.0",
       "nodes": [
        "IPY_MODEL_d8653f83643c415990f197e22bab0c37",
        "IPY_MODEL_337399253f464b43a718135877661a22",
        "IPY_MODEL_0e9f569e7c54455198db6b834055e9a0",
        "IPY_MODEL_fe28ab0b7c4b47a498a700fdadcb9a26",
        "IPY_MODEL_3f4f7bf0b49c4d07abef95908491d9db",
        "IPY_MODEL_5280ecbd82a0467ca22bf6a0fc15e591"
       ]
      }
     },
     "ce25b15665934b94979f1a6d43f754fd": {
      "model_module": "jupyter-cytoscape",
      "model_module_version": "^1.2.0",
      "model_name": "NodeModel",
      "state": {
       "_model_module_version": "^1.2.0",
       "_view_module_version": "^1.2.0",
       "classes": "country",
       "data": {
        "id": "A02C01",
        "label": "A02C01 Japan"
       },
       "grabbable": true,
       "grabbed": false,
       "position": {
        "x": 110,
        "y": 20
       },
       "selectable": false
      }
     },
     "ce76ef1b9e1d4ab8b36ac6eb8bdffe79": {
      "model_module": "jupyter-cytoscape",
      "model_module_version": "^1.2.0",
      "model_name": "NodeModel",
      "state": {
       "_model_module_version": "^1.2.0",
       "_view_module_version": "^1.2.0",
       "classes": "country level",
       "data": {
        "id": "A01C01",
        "label": "A01C01 France"
       },
       "grabbable": true,
       "grabbed": false,
       "selectable": false
      }
     },
     "cf73a84b435d4143afff19ed59da0f00": {
      "model_module": "jupyter-cytoscape",
      "model_module_version": "^1.2.0",
      "model_name": "NodeModel",
      "state": {
       "_model_module_version": "^1.2.0",
       "_view_module_version": "^1.2.0",
       "classes": "area",
       "data": {
        "id": "A02",
        "label": "A02 Asia"
       },
       "grabbable": true,
       "grabbed": false,
       "position": {
        "x": 20,
        "y": 63.20000047683716
       },
       "selectable": false
      }
     },
     "cfd6853b0d384831872c16b0a330ebb3": {
      "model_module": "jupyter-cytoscape",
      "model_module_version": "^1.2.0",
      "model_name": "CytoscapeModel",
      "state": {
       "_interaction_handlers": {},
       "_model_module_version": "^1.2.0",
       "_view_module_version": "^1.2.0",
       "auto_ungrabify": false,
       "autolock": false,
       "cytoscape_layout": {
        "edgeLenghVal": 10,
        "name": "dagre",
        "nodeSpacing": 10,
        "rankDir": "LR"
       },
       "cytoscape_style": [
        {
         "css": {
          "background-color": "black",
          "color": "white",
          "content": "data(label)",
          "font-size": "4pt",
          "height": "0.8em",
          "label": "data(id)",
          "shape": "roundrectangle",
          "text-halign": "center",
          "text-max-width": "5em",
          "text-valign": "center",
          "text-wrap": "wrap",
          "width": "4em"
         },
         "selector": "node.area"
        },
        {
         "css": {
          "background-color": "black",
          "color": "white",
          "content": "data(label)",
          "font-size": "4pt",
          "height": "0.8em",
          "label": "data(id)",
          "shape": "roundrectangle",
          "text-halign": "center",
          "text-max-width": "7em",
          "text-valign": "center",
          "text-wrap": "wrap",
          "width": "6em"
         },
         "selector": "node.country"
        },
        {
         "css": {
          "curve-style": "bezier",
          "line-color": "gray",
          "shape": "arrow",
          "target-arrow-color": "gray",
          "target-arrow-shape": "triangle",
          "width": 1
         },
         "selector": "edge"
        }
       ],
       "desktop_tap_threshold": 4,
       "graph": "IPY_MODEL_6025d737e80840b192b55b7925c002ef",
       "headless": false,
       "hide_edges_on_viewport": false,
       "layout": "IPY_MODEL_5cc351eebe3e411cb091761784f124b7",
       "max_zoom": 1e+50,
       "min_zoom": 1e-50,
       "motion_blur": false,
       "motion_blur_opacity": 0.2,
       "panning_enabled": true,
       "pixel_ratio": "auto",
       "rendered_position": {
        "renderedPosition": {
         "x": 100,
         "y": 100
        }
       },
       "selection_type": "single",
       "style_enabled": true,
       "texture_on_viewport": false,
       "tooltip_source": "label",
       "touch_tap_threshold": 8,
       "user_panning_enabled": true,
       "user_zooming_enabled": true,
       "wheel_sensitivity": 1,
       "zoom": 2,
       "zooming_enabled": true
      }
     },
     "d04426696ed642d8bfe6962b05cd274d": {
      "model_module": "jupyter-cytoscape",
      "model_module_version": "^1.2.0",
      "model_name": "NodeModel",
      "state": {
       "_model_module_version": "^1.2.0",
       "_view_module_version": "^1.2.0",
       "classes": "country",
       "data": {
        "id": "A01C03",
        "label": "A01C03 Italia"
       },
       "grabbable": true,
       "grabbed": false,
       "position": {
        "x": 127.99999952316284,
        "y": 125.60000047683717
       },
       "selectable": false
      }
     },
     "d08a07c183ab4d70870641a90bf65e5f": {
      "model_module": "jupyter-cytoscape",
      "model_module_version": "^1.2.0",
      "model_name": "EdgeModel",
      "state": {
       "_model_module_version": "^1.2.0",
       "_view_module_version": "^1.2.0",
       "classes": " directed ",
       "data": {
        "id": "399ba0ee-c0d1-4827-b004-3a2f7b68c18d",
        "label": "country",
        "source": "A01",
        "target": "A01C03"
       },
       "selectable": false
      }
     },
     "d112310ad3c24b199245cdd7ceecb9e6": {
      "model_module": "jupyter-cytoscape",
      "model_module_version": "^1.2.0",
      "model_name": "NodeModel",
      "state": {
       "_model_module_version": "^1.2.0",
       "_view_module_version": "^1.2.0",
       "classes": "country level",
       "data": {
        "id": "A01C02",
        "label": "A01C02 UK"
       },
       "grabbable": true,
       "grabbed": false,
       "position": {
        "x": 134,
        "y": 66.8
       },
       "selectable": false
      }
     },
     "d13c52aeca364593a368f26c3708f395": {
      "model_module": "jupyter-cytoscape",
      "model_module_version": "^1.2.0",
      "model_name": "EdgeModel",
      "state": {
       "_model_module_version": "^1.2.0",
       "_view_module_version": "^1.2.0",
       "classes": " directed ",
       "data": {
        "id": "e4688e23-76b3-4cda-b8de-bc42979d22d7",
        "label": "country",
        "source": "A01",
        "target": "A01C01"
       },
       "selectable": false
      }
     },
     "d247de51d58a441f9c03234a161cd0e7": {
      "model_module": "jupyter-cytoscape",
      "model_module_version": "^1.2.0",
      "model_name": "EdgeModel",
      "state": {
       "_model_module_version": "^1.2.0",
       "_view_module_version": "^1.2.0",
       "classes": " directed ",
       "data": {
        "id": "d8b9e6fd-13f1-4b70-96f1-044d0d6c42c6",
        "label": "country",
        "source": "A01",
        "target": "A01C01"
       },
       "selectable": false
      }
     },
     "d26b344d70b248d184bd9ea25460a248": {
      "model_module": "jupyter-cytoscape",
      "model_module_version": "^1.2.0",
      "model_name": "CytoscapeModel",
      "state": {
       "_interaction_handlers": {},
       "_model_module_version": "^1.2.0",
       "_view_module_version": "^1.2.0",
       "auto_ungrabify": false,
       "autolock": false,
       "cytoscape_layout": {
        "name": "cola"
       },
       "cytoscape_style": [
        {
         "css": {
          "background-color": "#11479e"
         },
         "selector": "node"
        },
        {
         "css": {
          "background-opacity": 0.333
         },
         "selector": "node:parent"
        },
        {
         "selector": "edge",
         "style": {
          "line-color": "#9dbaea",
          "width": 4
         }
        },
        {
         "selector": "edge.directed",
         "style": {
          "curve-style": "bezier",
          "target-arrow-color": "#9dbaea",
          "target-arrow-shape": "triangle"
         }
        },
        {
         "selector": "edge.multiple_edges",
         "style": {
          "curve-style": "bezier"
         }
        }
       ],
       "desktop_tap_threshold": 4,
       "graph": "IPY_MODEL_556f3a4e3a3d4c7e93f23cde3ce3bc6f",
       "headless": false,
       "hide_edges_on_viewport": false,
       "layout": "IPY_MODEL_226ef24648a943d2a58b458822bc2b1f",
       "max_zoom": 1e+50,
       "min_zoom": 1e-50,
       "motion_blur": false,
       "motion_blur_opacity": 0.2,
       "panning_enabled": true,
       "pixel_ratio": "auto",
       "rendered_position": {
        "renderedPosition": {
         "x": 100,
         "y": 100
        }
       },
       "selection_type": "single",
       "style_enabled": true,
       "texture_on_viewport": false,
       "tooltip_source": "tooltip",
       "touch_tap_threshold": 8,
       "user_panning_enabled": true,
       "user_zooming_enabled": true,
       "wheel_sensitivity": 1,
       "zoom": 2,
       "zooming_enabled": true
      }
     },
     "d2bd55cd177a4b7eb66b84cdd781151c": {
      "model_module": "jupyter-cytoscape",
      "model_module_version": "^1.2.0",
      "model_name": "NodeModel",
      "state": {
       "_model_module_version": "^1.2.0",
       "_view_module_version": "^1.2.0",
       "classes": "country level",
       "data": {
        "id": "A01C01",
        "label": "A01C01 France"
       },
       "grabbable": true,
       "grabbed": false,
       "position": {
        "x": 134,
        "y": 5.6000000000000005
       },
       "selectable": false
      }
     },
     "d336a882f1ca4185aa985d3261ffaad6": {
      "model_module": "jupyter-cytoscape",
      "model_module_version": "^1.2.0",
      "model_name": "NodeModel",
      "state": {
       "_model_module_version": "^1.2.0",
       "_view_module_version": "^1.2.0",
       "classes": "area",
       "data": {
        "id": "A01",
        "label": "A01 Europe"
       },
       "grabbable": true,
       "grabbed": false,
       "position": {
        "x": 20,
        "y": 20
       },
       "selectable": false
      }
     },
     "d34c6a684b23492fa30872a97b0a457f": {
      "model_module": "jupyter-cytoscape",
      "model_module_version": "^1.2.0",
      "model_name": "NodeModel",
      "state": {
       "_model_module_version": "^1.2.0",
       "_view_module_version": "^1.2.0",
       "classes": "country",
       "data": {
        "id": "A01C02",
        "label": "A01C02 UK"
       },
       "grabbable": true,
       "grabbed": false,
       "position": {
        "x": 148,
        "y": 66.8
       },
       "selectable": false
      }
     },
     "d3885c61455c4f84acc01fd7988c2b75": {
      "model_module": "jupyter-cytoscape",
      "model_module_version": "^1.2.0",
      "model_name": "NodeModel",
      "state": {
       "_model_module_version": "^1.2.0",
       "_view_module_version": "^1.2.0",
       "classes": "area level",
       "data": {
        "id": "A01",
        "label": "A01 Europe"
       },
       "grabbable": true,
       "grabbed": false,
       "selectable": false
      }
     },
     "d4f42f7efb6942bfb89584de5ba5e2aa": {
      "model_module": "jupyter-cytoscape",
      "model_module_version": "^1.2.0",
      "model_name": "EdgeModel",
      "state": {
       "_model_module_version": "^1.2.0",
       "_view_module_version": "^1.2.0",
       "classes": " directed ",
       "data": {
        "id": "aea746ff-1d1b-499f-b01c-7dba962d4a98",
        "label": "country",
        "source": "A02",
        "target": "A02C01"
       },
       "selectable": false
      }
     },
     "d510f3f12585440bbce73fc0b8bef383": {
      "model_module": "jupyter-cytoscape",
      "model_module_version": "^1.2.0",
      "model_name": "NodeModel",
      "state": {
       "_model_module_version": "^1.2.0",
       "_view_module_version": "^1.2.0",
       "classes": "area",
       "data": {
        "id": "A02",
        "label": "A02 Asia"
       },
       "grabbable": true,
       "grabbed": false,
       "selectable": false
      }
     },
     "d61c7b665aec4012a643c7f0fc2ecb7d": {
      "model_module": "jupyter-cytoscape",
      "model_module_version": "^1.2.0",
      "model_name": "EdgeModel",
      "state": {
       "_model_module_version": "^1.2.0",
       "_view_module_version": "^1.2.0",
       "classes": " directed ",
       "data": {
        "id": "334c2806-9ebb-4865-8d1a-3c10575f0076",
        "source": "2",
        "target": "4"
       },
       "selectable": false
      }
     },
     "d69d571be941411599296624ca4fb07e": {
      "model_module": "jupyter-cytoscape",
      "model_module_version": "^1.2.0",
      "model_name": "NodeModel",
      "state": {
       "_model_module_version": "^1.2.0",
       "_view_module_version": "^1.2.0",
       "classes": "country level",
       "data": {
        "id": "A01C01",
        "label": "A01C01 France"
       },
       "grabbable": true,
       "grabbed": false,
       "selectable": false
      }
     },
     "d74ed9bc0cc548e2877967eccc568b6f": {
      "model_module": "jupyter-cytoscape",
      "model_module_version": "^1.2.0",
      "model_name": "CytoscapeModel",
      "state": {
       "_interaction_handlers": {},
       "_model_module_version": "^1.2.0",
       "_view_module_version": "^1.2.0",
       "auto_ungrabify": false,
       "autolock": false,
       "cytoscape_layout": {
        "edgeLenghVal": 30,
        "name": "klay",
        "nodeSpacing": 20,
        "rankDir": "LR"
       },
       "cytoscape_style": [
        {
         "css": {
          "background-color": "black",
          "color": "white",
          "content": "data(label)",
          "font-size": "4pt",
          "height": "0.8em",
          "label": "data(id)",
          "shape": "roundrectangle",
          "text-halign": "center",
          "text-max-width": "5em",
          "text-valign": "center",
          "text-wrap": "wrap",
          "width": "5em"
         },
         "selector": "node.area"
        },
        {
         "css": {
          "background-color": "black",
          "color": "white",
          "content": "data(label)",
          "font-size": "4pt",
          "height": "0.8em",
          "label": "data(id)",
          "shape": "roundrectangle",
          "text-halign": "center",
          "text-max-width": "7em",
          "text-valign": "center",
          "text-wrap": "wrap",
          "width": "7em"
         },
         "selector": "node.country"
        },
        {
         "css": {
          "curve-style": "bezier",
          "line-color": "gray",
          "shape": "arrow",
          "target-arrow-color": "gray",
          "target-arrow-shape": "triangle",
          "width": 1
         },
         "selector": "edge"
        }
       ],
       "desktop_tap_threshold": 4,
       "graph": "IPY_MODEL_a59ed1fc5fa84081b972a3d57ebc8cee",
       "headless": false,
       "hide_edges_on_viewport": false,
       "layout": "IPY_MODEL_407df01a69614f7695505f3d87000fc6",
       "max_zoom": 1e+50,
       "min_zoom": 1e-50,
       "motion_blur": false,
       "motion_blur_opacity": 0.2,
       "panning_enabled": true,
       "pixel_ratio": "auto",
       "rendered_position": {
        "renderedPosition": {
         "x": 100,
         "y": 100
        }
       },
       "selection_type": "single",
       "style_enabled": true,
       "texture_on_viewport": false,
       "tooltip_source": "label",
       "touch_tap_threshold": 8,
       "user_panning_enabled": true,
       "user_zooming_enabled": true,
       "wheel_sensitivity": 1,
       "zoom": 2,
       "zooming_enabled": true
      }
     },
     "d7e87cae0ad448b3930e69bdcaa20b8b": {
      "model_module": "jupyter-cytoscape",
      "model_module_version": "^1.2.0",
      "model_name": "CytoscapeModel",
      "state": {
       "_interaction_handlers": {},
       "_model_module_version": "^1.2.0",
       "_view_module_version": "^1.2.0",
       "auto_ungrabify": false,
       "autolock": false,
       "cytoscape_layout": {
        "edgeLenghVal": 30,
        "name": "klay",
        "nodeSpacing": 20,
        "rankDir": "LR"
       },
       "cytoscape_style": [
        {
         "css": {
          "background-color": "black",
          "color": "white",
          "content": "data(label)",
          "font-size": "4pt",
          "height": "0.8em",
          "label": "data(id)",
          "shape": "roundrectangle",
          "text-halign": "center",
          "text-max-width": "5em",
          "text-valign": "center",
          "text-wrap": "wrap",
          "width": "5em"
         },
         "selector": "node.area"
        },
        {
         "css": {
          "background-color": "black",
          "color": "white",
          "content": "data(label)",
          "font-size": "4pt",
          "height": "0.8em",
          "label": "data(id)",
          "shape": "roundrectangle",
          "text-halign": "center",
          "text-max-width": "7em",
          "text-valign": "center",
          "text-wrap": "wrap",
          "width": "7em"
         },
         "selector": "node.country"
        },
        {
         "css": {
          "curve-style": "bezier",
          "line-color": "gray",
          "shape": "arrow",
          "target-arrow-color": "gray",
          "target-arrow-shape": "triangle",
          "width": 1
         },
         "selector": "edge"
        }
       ],
       "desktop_tap_threshold": 4,
       "graph": "IPY_MODEL_04ff263b649e4f75980a37adc2c68943",
       "headless": false,
       "hide_edges_on_viewport": false,
       "layout": "IPY_MODEL_3f6183f896984636a2fb76620a21a1e2",
       "max_zoom": 1e+50,
       "min_zoom": 1e-50,
       "motion_blur": false,
       "motion_blur_opacity": 0.2,
       "panning_enabled": true,
       "pixel_ratio": "auto",
       "rendered_position": {
        "renderedPosition": {
         "x": 100,
         "y": 100
        }
       },
       "selection_type": "single",
       "style_enabled": true,
       "texture_on_viewport": false,
       "tooltip_source": "label",
       "touch_tap_threshold": 8,
       "user_panning_enabled": true,
       "user_zooming_enabled": true,
       "wheel_sensitivity": 1,
       "zoom": 2,
       "zooming_enabled": true
      }
     },
     "d7f3dfe98d094890bd27b6486b552931": {
      "model_module": "jupyter-cytoscape",
      "model_module_version": "^1.2.0",
      "model_name": "GraphModel",
      "state": {
       "_adj": {
        "A01": {},
        "A01C01": {},
        "A01C02": {},
        "A01C03": {},
        "A02": {},
        "A02C01": {}
       },
       "_model_module_version": "^1.2.0",
       "_view_module": "jupyter-cytoscape",
       "_view_module_version": "^1.2.0",
       "edges": [
        "IPY_MODEL_104eff4c771f4602b141a2051e9d61a8",
        "IPY_MODEL_62b7bd5f3bf24120999b94da4efb6acb",
        "IPY_MODEL_1007b95b53414e07bf6ecdcf096eb207",
        "IPY_MODEL_4cdc3abafc044ac18d9591b930ac24c5"
       ],
       "nodes": [
        "IPY_MODEL_a5d7558985f84d92b86aaeb9a518922c",
        "IPY_MODEL_fd56d60f86774f85a3b01c1348c6c1e8",
        "IPY_MODEL_41474e96e975475994be48f8db4fc6be",
        "IPY_MODEL_ca1d72cb9e1e4b43a6809c7d783ffca0",
        "IPY_MODEL_c37c951516a049c49e6cd7614cb35671",
        "IPY_MODEL_b067a1df29e44d2e9ea4af3cbf08ed37"
       ]
      }
     },
     "d80394e1a9804671be4fb8c62f83e8db": {
      "model_module": "jupyter-cytoscape",
      "model_module_version": "^1.2.0",
      "model_name": "EdgeModel",
      "state": {
       "_model_module_version": "^1.2.0",
       "_view_module_version": "^1.2.0",
       "classes": " directed ",
       "data": {
        "id": "14178d78-18d6-4e3e-bf59-a8e4e8430e70",
        "label": "country",
        "source": "A01",
        "target": "A01C01"
       },
       "selectable": false
      }
     },
     "d81aa30fbfa746e29ea03dd299eb6a9d": {
      "model_module": "jupyter-cytoscape",
      "model_module_version": "^1.2.0",
      "model_name": "EdgeModel",
      "state": {
       "_model_module_version": "^1.2.0",
       "_view_module_version": "^1.2.0",
       "classes": " directed ",
       "data": {
        "id": "f4b63abf-006f-4ccd-95fb-ff74fe2d88eb",
        "source": "3",
        "target": "4"
       },
       "selectable": false
      }
     },
     "d84363806aec463f972f8150e5ebdab7": {
      "model_module": "jupyter-cytoscape",
      "model_module_version": "^1.2.0",
      "model_name": "NodeModel",
      "state": {
       "_model_module_version": "^1.2.0",
       "_view_module_version": "^1.2.0",
       "classes": "area",
       "data": {
        "id": "A02",
        "label": "A02 Asia"
       },
       "grabbable": true,
       "grabbed": false,
       "position": {
        "x": 20,
        "y": 20
       },
       "selectable": false
      }
     },
     "d8653f83643c415990f197e22bab0c37": {
      "model_module": "jupyter-cytoscape",
      "model_module_version": "^1.2.0",
      "model_name": "NodeModel",
      "state": {
       "_model_module_version": "^1.2.0",
       "_view_module_version": "^1.2.0",
       "classes": "area",
       "data": {
        "id": "A01",
        "label": "A01 Europe"
       },
       "grabbable": true,
       "grabbed": false,
       "position": {
        "x": 20,
        "y": 20
       },
       "selectable": false
      }
     },
     "d8e1a2ce1a9440a8a727880b061c080f": {
      "model_module": "jupyter-cytoscape",
      "model_module_version": "^1.2.0",
      "model_name": "CytoscapeModel",
      "state": {
       "_interaction_handlers": {},
       "_model_module_version": "^1.2.0",
       "_view_module_version": "^1.2.0",
       "auto_ungrabify": false,
       "autolock": false,
       "cytoscape_layout": {
        "edgeLenghVal": 10,
        "name": "klay",
        "nodeSpacing": 10,
        "rankDir": "LR"
       },
       "cytoscape_style": [
        {
         "css": {
          "background-color": "black",
          "color": "white",
          "content": "data(label)",
          "font-size": "4pt",
          "height": "0.8em",
          "label": "data(id)",
          "shape": "roundrectangle",
          "text-halign": "center",
          "text-max-width": "5em",
          "text-valign": "center",
          "text-wrap": "wrap",
          "width": "5em"
         },
         "selector": "node.area"
        },
        {
         "css": {
          "background-color": "black",
          "color": "white",
          "content": "data(label)",
          "font-size": "4pt",
          "height": "0.8em",
          "label": "data(id)",
          "shape": "roundrectangle",
          "text-halign": "center",
          "text-max-width": "7em",
          "text-valign": "center",
          "text-wrap": "wrap",
          "width": "7em"
         },
         "selector": "node.country"
        },
        {
         "css": {
          "curve-style": "bezier",
          "line-color": "gray",
          "shape": "arrow",
          "target-arrow-color": "gray",
          "target-arrow-shape": "triangle",
          "width": 1
         },
         "selector": "edge"
        }
       ],
       "desktop_tap_threshold": 4,
       "graph": "IPY_MODEL_85f84514b131412db3dc23db6aa7a582",
       "headless": false,
       "hide_edges_on_viewport": false,
       "layout": "IPY_MODEL_90c62c1068874c969b5d45ea8564e5ca",
       "max_zoom": 1e+50,
       "min_zoom": 1e-50,
       "motion_blur": false,
       "motion_blur_opacity": 0.2,
       "panning_enabled": true,
       "pixel_ratio": "auto",
       "rendered_position": {
        "renderedPosition": {
         "x": 100,
         "y": 100
        }
       },
       "selection_type": "single",
       "style_enabled": true,
       "texture_on_viewport": false,
       "tooltip_source": "label",
       "touch_tap_threshold": 8,
       "user_panning_enabled": true,
       "user_zooming_enabled": true,
       "wheel_sensitivity": 1,
       "zoom": 2,
       "zooming_enabled": true
      }
     },
     "d90b7b4a2f494e759f3aa1febe8758b0": {
      "model_module": "jupyter-cytoscape",
      "model_module_version": "^1.2.0",
      "model_name": "NodeModel",
      "state": {
       "_model_module_version": "^1.2.0",
       "_view_module_version": "^1.2.0",
       "classes": "country",
       "data": {
        "id": "A02C01",
        "label": "A02C01 Japan"
       },
       "grabbable": true,
       "grabbed": false,
       "position": {
        "x": 134,
        "y": 189.20000000000002
       },
       "selectable": false
      }
     },
     "d93504ca84dd4a629c3e080f4dfe34c3": {
      "model_module": "jupyter-cytoscape",
      "model_module_version": "^1.2.0",
      "model_name": "NodeModel",
      "state": {
       "_model_module_version": "^1.2.0",
       "_view_module_version": "^1.2.0",
       "classes": "country",
       "data": {
        "id": "A02C01",
        "label": "A02C01 Japan"
       },
       "grabbable": true,
       "grabbed": false,
       "position": {
        "x": 169,
        "y": 189.20000000000002
       },
       "selectable": false
      }
     },
     "d977fd291d7d40d5b78469e731703428": {
      "model_module": "jupyter-cytoscape",
      "model_module_version": "^1.2.0",
      "model_name": "NodeModel",
      "state": {
       "_model_module_version": "^1.2.0",
       "_view_module_version": "^1.2.0",
       "data": {
        "id": "0"
       },
       "grabbable": true,
       "grabbed": false,
       "position": {
        "x": 485.1910680907594,
        "y": 172.60683313244718
       },
       "selectable": false
      }
     },
     "da0a429de8954da098431cc0790a733c": {
      "model_module": "jupyter-cytoscape",
      "model_module_version": "^1.2.0",
      "model_name": "NodeModel",
      "state": {
       "_model_module_version": "^1.2.0",
       "_view_module_version": "^1.2.0",
       "classes": "country level",
       "data": {
        "id": "A01C03",
        "label": "A01C03 Italia"
       },
       "grabbable": true,
       "grabbed": false,
       "selectable": false
      }
     },
     "dad09167011c48f180fcea2c77c17239": {
      "model_module": "jupyter-cytoscape",
      "model_module_version": "^1.2.0",
      "model_name": "EdgeModel",
      "state": {
       "_model_module_version": "^1.2.0",
       "_view_module_version": "^1.2.0",
       "classes": " directed ",
       "data": {
        "id": "e0b6f0df-b877-4987-a5e8-a645272ea3ad",
        "label": "country",
        "source": "A02",
        "target": "A02C01"
       },
       "selectable": false
      }
     },
     "db4de433a6dc4e37bf665e1c05cc2b84": {
      "model_module": "jupyter-cytoscape",
      "model_module_version": "^1.2.0",
      "model_name": "NodeModel",
      "state": {
       "_model_module_version": "^1.2.0",
       "_view_module_version": "^1.2.0",
       "classes": "area",
       "data": {
        "id": "A02",
        "label": "A02 Asia"
       },
       "grabbable": true,
       "grabbed": false,
       "selectable": false
      }
     },
     "db6d1460520344ef9de0e35a09827a9c": {
      "model_module": "jupyter-cytoscape",
      "model_module_version": "^1.2.0",
      "model_name": "NodeModel",
      "state": {
       "_model_module_version": "^1.2.0",
       "_view_module_version": "^1.2.0",
       "classes": "area",
       "data": {
        "id": "A01",
        "label": "A01 Europe"
       },
       "grabbable": true,
       "grabbed": false,
       "position": {
        "x": 20,
        "y": 122.80000047683717
       },
       "selectable": false
      }
     },
     "db7ae8bc57d34e4380340a3de3920463": {
      "model_module": "jupyter-cytoscape",
      "model_module_version": "^1.2.0",
      "model_name": "NodeModel",
      "state": {
       "_model_module_version": "^1.2.0",
       "_view_module_version": "^1.2.0",
       "classes": "area",
       "data": {
        "id": "A01",
        "label": "A01 Europe"
       },
       "grabbable": true,
       "grabbed": false,
       "position": {
        "x": 20,
        "y": 122.80000047683717
       },
       "selectable": false
      }
     },
     "dbe103cc596a47fead6cb5712dd908c7": {
      "model_module": "jupyter-cytoscape",
      "model_module_version": "^1.2.0",
      "model_name": "GraphModel",
      "state": {
       "_adj": {},
       "_model_module_version": "^1.2.0",
       "_view_module": "jupyter-cytoscape",
       "_view_module_version": "^1.2.0"
      }
     },
     "dbee3ab18af2450a94814356169e765b": {
      "model_module": "jupyter-cytoscape",
      "model_module_version": "^1.2.0",
      "model_name": "GraphModel",
      "state": {
       "_adj": {
        "A01": {},
        "A01C01": {},
        "A01C02": {},
        "A01C03": {},
        "A02": {},
        "A02C01": {}
       },
       "_model_module_version": "^1.2.0",
       "_view_module": "jupyter-cytoscape",
       "_view_module_version": "^1.2.0",
       "edges": [
        "IPY_MODEL_9be6d76e09b347cf98a2408521a36a6f",
        "IPY_MODEL_e706f6fad4314af5b090a0dac3185d08",
        "IPY_MODEL_3b8e66afb86540739a134c6a32642961",
        "IPY_MODEL_028e18c491d348849b88e24c52c41efe"
       ],
       "nodes": [
        "IPY_MODEL_e3e146c1e2544d1b88fa0f7846c9e683",
        "IPY_MODEL_0b69a6cfc01a49a3a6c7561766e7d6f2",
        "IPY_MODEL_45e03a313eb54fd4941d4148b82fe169",
        "IPY_MODEL_832c0faeac424780ac7f674d04bc8b07",
        "IPY_MODEL_76b59dc129454733b33b9f459ba2b4f9",
        "IPY_MODEL_d93504ca84dd4a629c3e080f4dfe34c3"
       ]
      }
     },
     "dc1e217d8e5b42109ee2461f212fca50": {
      "model_module": "@jupyter-widgets/base",
      "model_module_version": "1.2.0",
      "model_name": "LayoutModel",
      "state": {}
     },
     "dce6054a6477424895c2599ac13773fd": {
      "model_module": "jupyter-cytoscape",
      "model_module_version": "^1.2.0",
      "model_name": "CytoscapeModel",
      "state": {
       "_interaction_handlers": {},
       "_model_module_version": "^1.2.0",
       "_view_module_version": "^1.2.0",
       "auto_ungrabify": false,
       "autolock": false,
       "cytoscape_layout": {
        "edgeLenghVal": 10,
        "name": "klay",
        "nodeSpacing": 10,
        "rankDir": "LR"
       },
       "cytoscape_style": [
        {
         "css": {
          "background-color": "black",
          "color": "white",
          "content": "data(label)",
          "font-size": "4pt",
          "height": "0.8em",
          "label": "data(id)",
          "shape": "roundrectangle",
          "text-halign": "center",
          "text-max-width": "5em",
          "text-valign": "center",
          "text-wrap": "wrap",
          "width": "5em"
         },
         "selector": "node.area"
        },
        {
         "css": {
          "background-color": "black",
          "color": "white",
          "content": "data(label)",
          "font-size": "4pt",
          "height": "0.8em",
          "label": "data(id)",
          "shape": "roundrectangle",
          "text-halign": "center",
          "text-max-width": "7em",
          "text-valign": "center",
          "text-wrap": "wrap",
          "width": "7em"
         },
         "selector": "node.country"
        }
       ],
       "desktop_tap_threshold": 4,
       "graph": "IPY_MODEL_33e34572e4c04b8cb0f0ba29bf6b0527",
       "headless": false,
       "hide_edges_on_viewport": false,
       "layout": "IPY_MODEL_2234a5908d8e4cffaa2391737e1b77c4",
       "max_zoom": 1e+50,
       "min_zoom": 1e-50,
       "motion_blur": false,
       "motion_blur_opacity": 0.2,
       "panning_enabled": true,
       "pixel_ratio": "auto",
       "rendered_position": {
        "renderedPosition": {
         "x": 100,
         "y": 100
        }
       },
       "selection_type": "single",
       "style_enabled": true,
       "texture_on_viewport": false,
       "tooltip_source": "label",
       "touch_tap_threshold": 8,
       "user_panning_enabled": true,
       "user_zooming_enabled": true,
       "wheel_sensitivity": 1,
       "zoom": 2,
       "zooming_enabled": true
      }
     },
     "dd1fa87deaaf47c691a7e63fd3718dbe": {
      "model_module": "jupyter-cytoscape",
      "model_module_version": "^1.2.0",
      "model_name": "EdgeModel",
      "state": {
       "_model_module_version": "^1.2.0",
       "_view_module_version": "^1.2.0",
       "classes": " directed ",
       "data": {
        "id": "3230798c-1c28-461d-8cb1-a77547964b96",
        "label": "country",
        "source": "A01",
        "target": "A01C02"
       },
       "selectable": false
      }
     },
     "dda2217f272f479ba6f200b9297d5104": {
      "model_module": "jupyter-cytoscape",
      "model_module_version": "^1.2.0",
      "model_name": "GraphModel",
      "state": {
       "_adj": {},
       "_model_module_version": "^1.2.0",
       "_view_module": "jupyter-cytoscape",
       "_view_module_version": "^1.2.0"
      }
     },
     "ddbad544999e44bea8965ffa4d555a01": {
      "model_module": "@jupyter-widgets/base",
      "model_module_version": "1.2.0",
      "model_name": "LayoutModel",
      "state": {}
     },
     "de887414d7424f559815531c43b3ea12": {
      "model_module": "jupyter-cytoscape",
      "model_module_version": "^1.2.0",
      "model_name": "CytoscapeModel",
      "state": {
       "_interaction_handlers": {},
       "_model_module_version": "^1.2.0",
       "_view_module_version": "^1.2.0",
       "auto_ungrabify": false,
       "autolock": false,
       "cytoscape_layout": {
        "edgeLenghVal": 10,
        "name": "klay",
        "nodeSpacing": 10,
        "rankDir": "LR"
       },
       "cytoscape_style": [
        {
         "css": {
          "background-color": "black",
          "color": "white",
          "content": "data(label)",
          "font-size": "4pt",
          "height": "0.8em",
          "label": "data(id)",
          "shape": "roundrectangle",
          "text-halign": "center",
          "text-max-width": "5em",
          "text-valign": "center",
          "text-wrap": "wrap",
          "width": "5em"
         },
         "selector": "node.area"
        },
        {
         "css": {
          "background-color": "black",
          "color": "white",
          "content": "data(label)",
          "font-size": "4pt",
          "height": "0.8em",
          "label": "data(id)",
          "shape": "roundrectangle",
          "text-halign": "center",
          "text-max-width": "7em",
          "text-valign": "center",
          "text-wrap": "wrap",
          "width": "7em"
         },
         "selector": "node.country"
        }
       ],
       "desktop_tap_threshold": 4,
       "graph": "IPY_MODEL_ff9ebbf6f2064be18b8af1bfa74cfee5",
       "headless": false,
       "hide_edges_on_viewport": false,
       "layout": "IPY_MODEL_1f2e721771974f498cb7fedade463c2a",
       "max_zoom": 1e+50,
       "min_zoom": 1e-50,
       "motion_blur": false,
       "motion_blur_opacity": 0.2,
       "panning_enabled": true,
       "pixel_ratio": "auto",
       "rendered_position": {
        "renderedPosition": {
         "x": 100,
         "y": 100
        }
       },
       "selection_type": "single",
       "style_enabled": true,
       "texture_on_viewport": false,
       "tooltip_source": "label",
       "touch_tap_threshold": 8,
       "user_panning_enabled": true,
       "user_zooming_enabled": true,
       "wheel_sensitivity": 1,
       "zoom": 2,
       "zooming_enabled": true
      }
     },
     "de9fbb0210264292a66aecbf020b4f6a": {
      "model_module": "jupyter-cytoscape",
      "model_module_version": "^1.2.0",
      "model_name": "NodeModel",
      "state": {
       "_model_module_version": "^1.2.0",
       "_view_module_version": "^1.2.0",
       "classes": "area level",
       "data": {
        "id": "A02",
        "label": "A02 Asia"
       },
       "grabbable": true,
       "grabbed": false,
       "selectable": false
      }
     },
     "df1163f9937c40af9d4c34c63083f155": {
      "model_module": "jupyter-cytoscape",
      "model_module_version": "^1.2.0",
      "model_name": "NodeModel",
      "state": {
       "_model_module_version": "^1.2.0",
       "_view_module_version": "^1.2.0",
       "classes": "country",
       "data": {
        "id": "A02C01",
        "label": "A02C01 Japan"
       },
       "grabbable": true,
       "grabbed": false,
       "position": {
        "x": 110,
        "y": 20
       },
       "selectable": false
      }
     },
     "e01ce1e36c4a4c60b79f37160b7a6918": {
      "model_module": "jupyter-cytoscape",
      "model_module_version": "^1.2.0",
      "model_name": "EdgeModel",
      "state": {
       "_model_module_version": "^1.2.0",
       "_view_module_version": "^1.2.0",
       "classes": " directed ",
       "data": {
        "id": "5ae9bde7-9708-41ed-a204-2bc434a47e37",
        "source": "1",
        "target": "2"
       },
       "selectable": false
      }
     },
     "e12bfdf66bca404ab26bf1ecd46ccb6e": {
      "model_module": "jupyter-cytoscape",
      "model_module_version": "^1.2.0",
      "model_name": "EdgeModel",
      "state": {
       "_model_module_version": "^1.2.0",
       "_view_module_version": "^1.2.0",
       "classes": " directed ",
       "data": {
        "id": "3643b152-4616-460e-9d03-fc628c50947d",
        "label": "country",
        "source": "A01",
        "target": "A01C03"
       },
       "selectable": false
      }
     },
     "e1530747e9954ed0b15f12c0e635ed30": {
      "model_module": "jupyter-cytoscape",
      "model_module_version": "^1.2.0",
      "model_name": "GraphModel",
      "state": {
       "_adj": {},
       "_model_module_version": "^1.2.0",
       "_view_module": "jupyter-cytoscape",
       "_view_module_version": "^1.2.0"
      }
     },
     "e1623b189802498284757e27080eb7cf": {
      "model_module": "jupyter-cytoscape",
      "model_module_version": "^1.2.0",
      "model_name": "NodeModel",
      "state": {
       "_model_module_version": "^1.2.0",
       "_view_module_version": "^1.2.0",
       "classes": "country",
       "data": {
        "id": "A02C01",
        "label": "A02C01 Japan"
       },
       "grabbable": true,
       "grabbed": false,
       "position": {
        "x": 169,
        "y": 189.20000000000002
       },
       "selectable": false
      }
     },
     "e1aa18dd23c645ee9a26204c91d79be7": {
      "model_module": "@jupyter-widgets/base",
      "model_module_version": "1.2.0",
      "model_name": "LayoutModel",
      "state": {}
     },
     "e1fef4e88e2b47a29b2e1ec390dd43b8": {
      "model_module": "jupyter-cytoscape",
      "model_module_version": "^1.2.0",
      "model_name": "EdgeModel",
      "state": {
       "_model_module_version": "^1.2.0",
       "_view_module_version": "^1.2.0",
       "classes": " directed ",
       "data": {
        "id": "22fc55f5-1447-4d74-a3e7-e4f0737f3d8e",
        "source": "0",
        "target": "3"
       },
       "selectable": false
      }
     },
     "e2d68340675e4384aedd08b5413d4e4e": {
      "model_module": "jupyter-cytoscape",
      "model_module_version": "^1.2.0",
      "model_name": "EdgeModel",
      "state": {
       "_model_module_version": "^1.2.0",
       "_view_module_version": "^1.2.0",
       "classes": " directed ",
       "data": {
        "id": "eae75bf5-c950-4efb-9745-6c2fba379336",
        "label": "country",
        "source": "A01",
        "target": "A01C02"
       },
       "selectable": false
      }
     },
     "e3e146c1e2544d1b88fa0f7846c9e683": {
      "model_module": "jupyter-cytoscape",
      "model_module_version": "^1.2.0",
      "model_name": "NodeModel",
      "state": {
       "_model_module_version": "^1.2.0",
       "_view_module_version": "^1.2.0",
       "classes": "area",
       "data": {
        "id": "A01",
        "label": "A01 Europe"
       },
       "grabbable": true,
       "grabbed": false,
       "position": {
        "x": 35,
        "y": 66.8
       },
       "selectable": false
      }
     },
     "e4ecd9d4d6e1429fa27e6c4bf0d48cae": {
      "model_module": "jupyter-cytoscape",
      "model_module_version": "^1.2.0",
      "model_name": "NodeModel",
      "state": {
       "_model_module_version": "^1.2.0",
       "_view_module_version": "^1.2.0",
       "classes": "area level",
       "data": {
        "id": "A01",
        "label": "A01 Europe"
       },
       "grabbable": true,
       "grabbed": false,
       "selectable": false
      }
     },
     "e5069c9377384f39b65df99b5c59c80d": {
      "model_module": "jupyter-cytoscape",
      "model_module_version": "^1.2.0",
      "model_name": "CytoscapeModel",
      "state": {
       "_interaction_handlers": {},
       "_model_module_version": "^1.2.0",
       "_view_module_version": "^1.2.0",
       "auto_ungrabify": false,
       "autolock": false,
       "cytoscape_layout": {
        "edgeLenghVal": 10,
        "name": "klay",
        "nodeSpacing": 10,
        "rankDir": "LR"
       },
       "cytoscape_style": [
        {
         "css": {
          "background-color": "black",
          "color": "white",
          "content": "data(label)",
          "font-size": "4pt",
          "height": "0.8em",
          "label": "data(id)",
          "shape": "roundrectangle",
          "text-halign": "center",
          "text-max-width": "5em",
          "text-valign": "center",
          "text-wrap": "wrap",
          "width": "5em"
         },
         "selector": "node.area"
        },
        {
         "css": {
          "background-color": "black",
          "color": "white",
          "content": "data(label)",
          "font-size": "4pt",
          "height": "0.8em",
          "label": "data(id)",
          "shape": "roundrectangle",
          "text-halign": "center",
          "text-max-width": "7em",
          "text-valign": "center",
          "text-wrap": "wrap",
          "width": "7em"
         },
         "selector": "node.country"
        },
        {
         "css": {
          "curve-style": "bezier",
          "line-color": "gray",
          "shape": "arrow",
          "target-arrow-color": "gray",
          "target-arrow-shape": "triangle",
          "width": 1
         },
         "selector": "edge"
        }
       ],
       "desktop_tap_threshold": 4,
       "graph": "IPY_MODEL_53f9166bd0b94860b08d56161a24caa4",
       "headless": false,
       "hide_edges_on_viewport": false,
       "layout": "IPY_MODEL_4eaad452e9e24ee1ae76bfe5b260abb8",
       "max_zoom": 1e+50,
       "min_zoom": 1e-50,
       "motion_blur": false,
       "motion_blur_opacity": 0.2,
       "panning_enabled": true,
       "pixel_ratio": "auto",
       "rendered_position": {
        "renderedPosition": {
         "x": 100,
         "y": 100
        }
       },
       "selection_type": "single",
       "style_enabled": true,
       "texture_on_viewport": false,
       "tooltip_source": "label",
       "touch_tap_threshold": 8,
       "user_panning_enabled": true,
       "user_zooming_enabled": true,
       "wheel_sensitivity": 1,
       "zoom": 2,
       "zooming_enabled": true
      }
     },
     "e58f475b915941b9aaec62dd087aae51": {
      "model_module": "@jupyter-widgets/base",
      "model_module_version": "1.2.0",
      "model_name": "LayoutModel",
      "state": {}
     },
     "e599aab01f89409c8273168f813772f6": {
      "model_module": "jupyter-cytoscape",
      "model_module_version": "^1.2.0",
      "model_name": "EdgeModel",
      "state": {
       "_model_module_version": "^1.2.0",
       "_view_module_version": "^1.2.0",
       "classes": " directed ",
       "data": {
        "id": "e835548a-ae65-4242-abc3-781105b18539",
        "label": "country",
        "source": "A01",
        "target": "A01C01"
       },
       "selectable": false
      }
     },
     "e5bc5feee4b34b5c94e15ce9e6ab35a1": {
      "model_module": "jupyter-cytoscape",
      "model_module_version": "^1.2.0",
      "model_name": "CytoscapeModel",
      "state": {
       "_interaction_handlers": {},
       "_model_module_version": "^1.2.0",
       "_view_module_version": "^1.2.0",
       "auto_ungrabify": false,
       "autolock": false,
       "cytoscape_layout": {
        "edgeLenghVal": 15,
        "name": "dagre",
        "nodeSpacing": 10,
        "rankDir": "LR"
       },
       "cytoscape_style": [
        {
         "css": {
          "background-color": "black",
          "color": "white",
          "content": "data(label)",
          "font-size": "4pt",
          "height": "0.8em",
          "label": "data(id)",
          "shape": "roundrectangle",
          "text-halign": "center",
          "text-max-width": "5em",
          "text-valign": "center",
          "text-wrap": "wrap",
          "width": "5em"
         },
         "selector": "node.area"
        },
        {
         "css": {
          "background-color": "black",
          "color": "white",
          "content": "data(label)",
          "font-size": "4pt",
          "height": "0.8em",
          "label": "data(id)",
          "shape": "roundrectangle",
          "text-halign": "center",
          "text-max-width": "7em",
          "text-valign": "center",
          "text-wrap": "wrap",
          "width": "7em"
         },
         "selector": "node.country"
        },
        {
         "css": {
          "curve-style": "bezier",
          "line-color": "gray",
          "shape": "arrow",
          "target-arrow-color": "gray",
          "target-arrow-shape": "triangle",
          "width": 1
         },
         "selector": "edge"
        }
       ],
       "desktop_tap_threshold": 4,
       "graph": "IPY_MODEL_297444d6d4624795bbb8b1630f43e6d6",
       "headless": false,
       "hide_edges_on_viewport": false,
       "layout": "IPY_MODEL_be21cf38083d4f8f9252d0d474466c29",
       "max_zoom": 1e+50,
       "min_zoom": 1e-50,
       "motion_blur": false,
       "motion_blur_opacity": 0.2,
       "panning_enabled": true,
       "pixel_ratio": "auto",
       "rendered_position": {
        "renderedPosition": {
         "x": 100,
         "y": 100
        }
       },
       "selection_type": "single",
       "style_enabled": true,
       "texture_on_viewport": false,
       "tooltip_source": "label",
       "touch_tap_threshold": 8,
       "user_panning_enabled": true,
       "user_zooming_enabled": true,
       "wheel_sensitivity": 1,
       "zoom": 2,
       "zooming_enabled": true
      }
     },
     "e616bc77aed04a7b89bc94e2f5e4ef0e": {
      "model_module": "jupyter-cytoscape",
      "model_module_version": "^1.2.0",
      "model_name": "GraphModel",
      "state": {
       "_adj": {},
       "_model_module_version": "^1.2.0",
       "_view_module": "jupyter-cytoscape",
       "_view_module_version": "^1.2.0"
      }
     },
     "e62777d50a204536aaad718722520a35": {
      "model_module": "jupyter-cytoscape",
      "model_module_version": "^1.2.0",
      "model_name": "NodeModel",
      "state": {
       "_model_module_version": "^1.2.0",
       "_view_module_version": "^1.2.0",
       "classes": "area level",
       "data": {
        "id": "A02",
        "label": "A02 Asia"
       },
       "grabbable": true,
       "grabbed": false,
       "position": {
        "x": 28,
        "y": 189.20000000000002
       },
       "selectable": false
      }
     },
     "e62c9c78faff4781bfb4413c70544d4a": {
      "model_module": "jupyter-cytoscape",
      "model_module_version": "^1.2.0",
      "model_name": "NodeModel",
      "state": {
       "_model_module_version": "^1.2.0",
       "_view_module_version": "^1.2.0",
       "data": {
        "id": "3"
       },
       "grabbable": true,
       "grabbed": false,
       "position": {
        "x": 533.561658804373,
        "y": 226.36289879595185
       },
       "selectable": false
      }
     },
     "e69aa0daafc4483d8ad7287c1cab8cd1": {
      "model_module": "@jupyter-widgets/base",
      "model_module_version": "1.2.0",
      "model_name": "LayoutModel",
      "state": {}
     },
     "e706f6fad4314af5b090a0dac3185d08": {
      "model_module": "jupyter-cytoscape",
      "model_module_version": "^1.2.0",
      "model_name": "EdgeModel",
      "state": {
       "_model_module_version": "^1.2.0",
       "_view_module_version": "^1.2.0",
       "classes": " directed ",
       "data": {
        "id": "4618607a-6870-4a71-8e5e-3b9dc9eff4b6",
        "label": "country",
        "source": "A01",
        "target": "A01C02"
       },
       "selectable": false
      }
     },
     "e7367415c0f04315979da634b399be8a": {
      "model_module": "jupyter-cytoscape",
      "model_module_version": "^1.2.0",
      "model_name": "NodeModel",
      "state": {
       "_model_module_version": "^1.2.0",
       "_view_module_version": "^1.2.0",
       "classes": "country level",
       "data": {
        "id": "A01C02",
        "label": "A01C02 UK"
       },
       "grabbable": true,
       "grabbed": false,
       "position": {
        "x": 134,
        "y": 66.8
       },
       "selectable": false
      }
     },
     "e7914d4e7227427d8be85931a2ed2e89": {
      "model_module": "jupyter-cytoscape",
      "model_module_version": "^1.2.0",
      "model_name": "GraphModel",
      "state": {
       "_adj": {
        "A01": {},
        "A01C01": {},
        "A01C02": {},
        "A01C03": {},
        "A02": {},
        "A02C01": {}
       },
       "_model_module_version": "^1.2.0",
       "_view_module": "jupyter-cytoscape",
       "_view_module_version": "^1.2.0",
       "edges": [
        "IPY_MODEL_4ef6952818ad4671ac8869ff43d89d52",
        "IPY_MODEL_098867ec23134d03b24df53eb8ae717e",
        "IPY_MODEL_90eb38b376534293bb0c67700a7838e6",
        "IPY_MODEL_d4f42f7efb6942bfb89584de5ba5e2aa"
       ],
       "nodes": [
        "IPY_MODEL_ac99e0d6d6d844deb67499f6396f0a67",
        "IPY_MODEL_b8d67ff89b3d4d1d993bbded17273e76",
        "IPY_MODEL_6b1c258deee942d491662cb7cbd90fec",
        "IPY_MODEL_82c0b5977c6d42feb57fcedcb66b791f",
        "IPY_MODEL_7740df2c852448cab897c9f7e8475263",
        "IPY_MODEL_5f2188c5f35f4bea9d2ae6679e809443"
       ]
      }
     },
     "e807e6775e024f7e8f525997b35c564b": {
      "model_module": "jupyter-cytoscape",
      "model_module_version": "^1.2.0",
      "model_name": "EdgeModel",
      "state": {
       "_model_module_version": "^1.2.0",
       "_view_module_version": "^1.2.0",
       "classes": " directed ",
       "data": {
        "id": "96d067e2-4020-4ca1-bf15-0dff3c85445f",
        "label": "country",
        "source": "A01",
        "target": "A01C03"
       },
       "selectable": false
      }
     },
     "e8229cd380d349cc9ca9bb8ca525f7ca": {
      "model_module": "jupyter-cytoscape",
      "model_module_version": "^1.2.0",
      "model_name": "EdgeModel",
      "state": {
       "_model_module_version": "^1.2.0",
       "_view_module_version": "^1.2.0",
       "classes": " directed ",
       "data": {
        "id": "d0c27f79-b5e7-45b1-afb9-5169e6693240",
        "label": "country",
        "source": "A01",
        "target": "A01C02"
       },
       "selectable": false
      }
     },
     "e8a2bf43c8b241efbf6f36e208daa31b": {
      "model_module": "jupyter-cytoscape",
      "model_module_version": "^1.2.0",
      "model_name": "EdgeModel",
      "state": {
       "_model_module_version": "^1.2.0",
       "_view_module_version": "^1.2.0",
       "classes": " directed ",
       "data": {
        "id": "59eb59f1-eff8-43ff-a510-78470252faf0",
        "label": "country",
        "source": "A01",
        "target": "A01C01"
       },
       "selectable": false
      }
     },
     "e92d77551ddb4d4e8d76420eace891a1": {
      "model_module": "jupyter-cytoscape",
      "model_module_version": "^1.2.0",
      "model_name": "NodeModel",
      "state": {
       "_model_module_version": "^1.2.0",
       "_view_module_version": "^1.2.0",
       "classes": "country level",
       "data": {
        "id": "A01C03",
        "label": "A01C03 Italia"
       },
       "grabbable": true,
       "grabbed": false,
       "selectable": false
      }
     },
     "e93a0835a6e2455c8af9fb1b9efed65a": {
      "model_module": "jupyter-cytoscape",
      "model_module_version": "^1.2.0",
      "model_name": "NodeModel",
      "state": {
       "_model_module_version": "^1.2.0",
       "_view_module_version": "^1.2.0",
       "classes": "country level",
       "data": {
        "id": "A02C01",
        "label": "A02C01 Japan"
       },
       "grabbable": true,
       "grabbed": false,
       "position": {
        "x": 28,
        "y": 311.59999999999997
       },
       "selectable": false
      }
     },
     "eabf0e5f009d48d0a7c858d64d92a243": {
      "model_module": "jupyter-cytoscape",
      "model_module_version": "^1.2.0",
      "model_name": "EdgeModel",
      "state": {
       "_model_module_version": "^1.2.0",
       "_view_module_version": "^1.2.0",
       "classes": " directed ",
       "data": {
        "id": "45aa0652-947b-439a-8072-4a3ac37cfe90",
        "label": "country",
        "source": "A01",
        "target": "A01C03"
       },
       "selectable": false
      }
     },
     "eb866dd817c8452a81bf7f2763d55a90": {
      "model_module": "jupyter-cytoscape",
      "model_module_version": "^1.2.0",
      "model_name": "GraphModel",
      "state": {
       "_adj": {},
       "_model_module_version": "^1.2.0",
       "_view_module": "jupyter-cytoscape",
       "_view_module_version": "^1.2.0"
      }
     },
     "ec36dc56ffc74cf38b28ac39d62f4880": {
      "model_module": "jupyter-cytoscape",
      "model_module_version": "^1.2.0",
      "model_name": "EdgeModel",
      "state": {
       "_model_module_version": "^1.2.0",
       "_view_module_version": "^1.2.0",
       "classes": " directed ",
       "data": {
        "id": "36549678-34a1-4581-84e2-55dc78c911b1",
        "label": "country",
        "source": "A02",
        "target": "A02C01"
       },
       "selectable": false
      }
     },
     "ecdc67d451a94222ba00f1c7763e1db7": {
      "model_module": "jupyter-cytoscape",
      "model_module_version": "^1.2.0",
      "model_name": "NodeModel",
      "state": {
       "_model_module_version": "^1.2.0",
       "_view_module_version": "^1.2.0",
       "classes": "area level",
       "data": {
        "id": "A01",
        "label": "A01 Europe"
       },
       "grabbable": true,
       "grabbed": false,
       "selectable": false
      }
     },
     "ece5ff7f11844391a69f17e451a44186": {
      "model_module": "jupyter-cytoscape",
      "model_module_version": "^1.2.0",
      "model_name": "NodeModel",
      "state": {
       "_model_module_version": "^1.2.0",
       "_view_module_version": "^1.2.0",
       "classes": "country",
       "data": {
        "id": "A01C01",
        "label": "A01C01 France"
       },
       "grabbable": true,
       "grabbed": false,
       "position": {
        "x": 169,
        "y": 5.6000000000000005
       },
       "selectable": false
      }
     },
     "ecea75668eff49f49f79245ed32a1e83": {
      "model_module": "jupyter-cytoscape",
      "model_module_version": "^1.2.0",
      "model_name": "EdgeModel",
      "state": {
       "_model_module_version": "^1.2.0",
       "_view_module_version": "^1.2.0",
       "classes": " directed ",
       "data": {
        "id": "f55f4da5-6ee7-4447-a5dd-b6669e0e723b",
        "label": "country",
        "source": "A01",
        "target": "A01C02"
       },
       "selectable": false
      }
     },
     "ed81005ec78e4bb6bc9c9daa3a06c977": {
      "model_module": "jupyter-cytoscape",
      "model_module_version": "^1.2.0",
      "model_name": "NodeModel",
      "state": {
       "_model_module_version": "^1.2.0",
       "_view_module_version": "^1.2.0",
       "data": {
        "id": "3"
       },
       "grabbable": true,
       "grabbed": false,
       "position": {
        "x": 533.561658804373,
        "y": 226.36289879595185
       },
       "selectable": false
      }
     },
     "ee332151df0b4b4aafbf48493e85a87c": {
      "model_module": "jupyter-cytoscape",
      "model_module_version": "^1.2.0",
      "model_name": "NodeModel",
      "state": {
       "_model_module_version": "^1.2.0",
       "_view_module_version": "^1.2.0",
       "classes": "country level",
       "data": {
        "id": "A01C02",
        "label": "A01C02 UK"
       },
       "grabbable": true,
       "grabbed": false,
       "selectable": false
      }
     },
     "ee7759959d4d479bba3098c45502c988": {
      "model_module": "jupyter-cytoscape",
      "model_module_version": "^1.2.0",
      "model_name": "NodeModel",
      "state": {
       "_model_module_version": "^1.2.0",
       "_view_module_version": "^1.2.0",
       "classes": "country",
       "data": {
        "id": "A01C03",
        "label": "A01C03 Italia"
       },
       "grabbable": true,
       "grabbed": false,
       "position": {
        "x": 20,
        "y": 192.80000190734864
       },
       "selectable": false
      }
     },
     "ef69a30fbeef402e98957e6d1ea16e8b": {
      "model_module": "jupyter-cytoscape",
      "model_module_version": "^1.2.0",
      "model_name": "EdgeModel",
      "state": {
       "_model_module_version": "^1.2.0",
       "_view_module_version": "^1.2.0",
       "classes": " directed ",
       "data": {
        "id": "92984d9b-19ba-411b-82c3-d779967d4ac1",
        "label": "country",
        "source": "A02",
        "target": "A02C01"
       },
       "selectable": false
      }
     },
     "ef816a522dfc492cbc87a8970f1423cf": {
      "model_module": "jupyter-cytoscape",
      "model_module_version": "^1.2.0",
      "model_name": "EdgeModel",
      "state": {
       "_model_module_version": "^1.2.0",
       "_view_module_version": "^1.2.0",
       "classes": " directed ",
       "data": {
        "id": "820ef299-e66b-43ab-8d6a-8ea721903e76",
        "label": "country",
        "source": "A01",
        "target": "A01C03"
       },
       "selectable": false
      }
     },
     "efb3a63689144da687c8a4406fcfc025": {
      "model_module": "jupyter-cytoscape",
      "model_module_version": "^1.2.0",
      "model_name": "NodeModel",
      "state": {
       "_model_module_version": "^1.2.0",
       "_view_module_version": "^1.2.0",
       "classes": "country level",
       "data": {
        "id": "A01C01",
        "label": "A01C01 France"
       },
       "grabbable": true,
       "grabbed": false,
       "selectable": false
      }
     },
     "f00508c50c784941adb5c798352d1e08": {
      "model_module": "jupyter-cytoscape",
      "model_module_version": "^1.2.0",
      "model_name": "EdgeModel",
      "state": {
       "_model_module_version": "^1.2.0",
       "_view_module_version": "^1.2.0",
       "classes": " directed ",
       "data": {
        "id": "beeb6714-d711-46b4-b7ee-a0d1cbc4d345",
        "label": "country",
        "source": "A02",
        "target": "A02C01"
       },
       "selectable": false
      }
     },
     "f02cb94f29c44b1198f80c5c3a9111fe": {
      "model_module": "jupyter-cytoscape",
      "model_module_version": "^1.2.0",
      "model_name": "NodeModel",
      "state": {
       "_model_module_version": "^1.2.0",
       "_view_module_version": "^1.2.0",
       "classes": "country level",
       "data": {
        "id": "A01C03",
        "label": "A01C03 Italia"
       },
       "grabbable": true,
       "grabbed": false,
       "selectable": false
      }
     },
     "f045b4df10dc473ca3afc5c92e162e0e": {
      "model_module": "jupyter-cytoscape",
      "model_module_version": "^1.2.0",
      "model_name": "GraphModel",
      "state": {
       "_adj": {},
       "_model_module_version": "^1.2.0",
       "_view_module": "jupyter-cytoscape",
       "_view_module_version": "^1.2.0"
      }
     },
     "f089ac3cafc640718326f1bdc22837f0": {
      "model_module": "jupyter-cytoscape",
      "model_module_version": "^1.2.0",
      "model_name": "NodeModel",
      "state": {
       "_model_module_version": "^1.2.0",
       "_view_module_version": "^1.2.0",
       "classes": "country",
       "data": {
        "id": "A02C01",
        "label": "A02C01 Japan"
       },
       "grabbable": true,
       "grabbed": false,
       "position": {
        "x": 148,
        "y": 189.20000000000002
       },
       "selectable": false
      }
     },
     "f0d354bf69f84e558e7be0af14a9de54": {
      "model_module": "@jupyter-widgets/base",
      "model_module_version": "1.2.0",
      "model_name": "LayoutModel",
      "state": {}
     },
     "f105327396444daea00827efcec2f590": {
      "model_module": "jupyter-cytoscape",
      "model_module_version": "^1.2.0",
      "model_name": "NodeModel",
      "state": {
       "_model_module_version": "^1.2.0",
       "_view_module_version": "^1.2.0",
       "classes": "area",
       "data": {
        "id": "A01",
        "label": "A01 Europe"
       },
       "grabbable": true,
       "grabbed": false,
       "position": {
        "x": 35,
        "y": 66.8
       },
       "selectable": false
      }
     },
     "f147508d271e4a17b23e7dfd1593a408": {
      "model_module": "jupyter-cytoscape",
      "model_module_version": "^1.2.0",
      "model_name": "EdgeModel",
      "state": {
       "_model_module_version": "^1.2.0",
       "_view_module_version": "^1.2.0",
       "classes": " directed ",
       "data": {
        "id": "21cd2113-3fda-44e1-a628-0278bf7e9b7f",
        "label": "country",
        "source": "A01",
        "target": "A01C03"
       },
       "selectable": false
      }
     },
     "f147e1182e1f4ee58029fb5d93649fd9": {
      "model_module": "jupyter-cytoscape",
      "model_module_version": "^1.2.0",
      "model_name": "EdgeModel",
      "state": {
       "_model_module_version": "^1.2.0",
       "_view_module_version": "^1.2.0",
       "classes": " directed ",
       "data": {
        "id": "6348faf0-a5a8-4208-8a9f-6545773fc5d2",
        "label": "country",
        "source": "A01",
        "target": "A01C01"
       },
       "selectable": false
      }
     },
     "f1a89a5fb2cc4078b5963f4f1054d189": {
      "model_module": "jupyter-cytoscape",
      "model_module_version": "^1.2.0",
      "model_name": "EdgeModel",
      "state": {
       "_model_module_version": "^1.2.0",
       "_view_module_version": "^1.2.0",
       "classes": " directed ",
       "data": {
        "id": "0de0cda7-3252-45fb-9d61-c971b4645a34",
        "label": "area_country",
        "source": "A01",
        "target": "A01C01"
       },
       "selectable": false
      }
     },
     "f24065251e294acea3cf318157dfe20c": {
      "model_module": "jupyter-cytoscape",
      "model_module_version": "^1.2.0",
      "model_name": "GraphModel",
      "state": {
       "_adj": {},
       "_model_module_version": "^1.2.0",
       "_view_module": "jupyter-cytoscape",
       "_view_module_version": "^1.2.0"
      }
     },
     "f27ab8289b7647c993b6321a6ad2075a": {
      "model_module": "jupyter-cytoscape",
      "model_module_version": "^1.2.0",
      "model_name": "NodeModel",
      "state": {
       "_model_module_version": "^1.2.0",
       "_view_module_version": "^1.2.0",
       "classes": "country",
       "data": {
        "id": "A01C01",
        "label": "A01C01 France"
       },
       "grabbable": true,
       "grabbed": false,
       "position": {
        "x": 127.99999952316284,
        "y": 94.40000047683716
       },
       "selectable": false
      }
     },
     "f31292b1b01a463ea97f3041891a4967": {
      "model_module": "jupyter-cytoscape",
      "model_module_version": "^1.2.0",
      "model_name": "GraphModel",
      "state": {
       "_adj": {},
       "_model_module_version": "^1.2.0",
       "_view_module": "jupyter-cytoscape",
       "_view_module_version": "^1.2.0"
      }
     },
     "f3147fd008d24785a846b7886205980a": {
      "model_module": "jupyter-cytoscape",
      "model_module_version": "^1.2.0",
      "model_name": "EdgeModel",
      "state": {
       "_model_module_version": "^1.2.0",
       "_view_module_version": "^1.2.0",
       "classes": " directed ",
       "data": {
        "id": "e9074d03-580b-45c6-b659-d6ac349ae279",
        "label": "country",
        "source": "A01",
        "target": "A01C01"
       },
       "selectable": false
      }
     },
     "f3a1871245ec473a9d4e8568a408c6e5": {
      "model_module": "jupyter-cytoscape",
      "model_module_version": "^1.2.0",
      "model_name": "EdgeModel",
      "state": {
       "_model_module_version": "^1.2.0",
       "_view_module_version": "^1.2.0",
       "classes": " directed ",
       "data": {
        "id": "575bfcd1-fb82-46e0-bb8f-607029c1b79e",
        "label": "country",
        "source": "A02",
        "target": "A02C01"
       },
       "selectable": false
      }
     },
     "f3cfb2824538474ca2ba1ceb855cfbe0": {
      "model_module": "jupyter-cytoscape",
      "model_module_version": "^1.2.0",
      "model_name": "GraphModel",
      "state": {
       "_adj": {
        "A01": {},
        "A01C01": {},
        "A01C02": {},
        "A01C03": {},
        "A02": {},
        "A02C01": {}
       },
       "_model_module_version": "^1.2.0",
       "_view_module": "jupyter-cytoscape",
       "_view_module_version": "^1.2.0",
       "edges": [
        "IPY_MODEL_4c9c9fac43e7483c930d4a90dce3d91d",
        "IPY_MODEL_577da965bff34fca8e5d8cdb5a95f894",
        "IPY_MODEL_f147508d271e4a17b23e7dfd1593a408",
        "IPY_MODEL_50b6702d8e034e14a272620bd9cdbb04"
       ],
       "nodes": [
        "IPY_MODEL_ac99e0d6d6d844deb67499f6396f0a67",
        "IPY_MODEL_b8d67ff89b3d4d1d993bbded17273e76",
        "IPY_MODEL_6b1c258deee942d491662cb7cbd90fec",
        "IPY_MODEL_82c0b5977c6d42feb57fcedcb66b791f",
        "IPY_MODEL_7740df2c852448cab897c9f7e8475263",
        "IPY_MODEL_5f2188c5f35f4bea9d2ae6679e809443"
       ]
      }
     },
     "f45ea2bba9764d48916b21f21e3286ef": {
      "model_module": "jupyter-cytoscape",
      "model_module_version": "^1.2.0",
      "model_name": "GraphModel",
      "state": {
       "_adj": {
        "A01": {},
        "A01C01": {},
        "A01C02": {},
        "A01C03": {},
        "A02": {},
        "A02C01": {}
       },
       "_model_module_version": "^1.2.0",
       "_view_module": "jupyter-cytoscape",
       "_view_module_version": "^1.2.0",
       "edges": [
        "IPY_MODEL_e8a2bf43c8b241efbf6f36e208daa31b",
        "IPY_MODEL_1506b6c4326e449599d5fd053a9e26a1",
        "IPY_MODEL_700ea83eae8d464389a6c896cb314290",
        "IPY_MODEL_1384ecb8f9ae4171864d145be2d9cca1"
       ],
       "nodes": [
        "IPY_MODEL_b5146442673148b8bbbf51a12ee4520b",
        "IPY_MODEL_84db780a84ef4f59a776c20f7845e599",
        "IPY_MODEL_a0bff74efe60414d88caf82db50da90d",
        "IPY_MODEL_d34c6a684b23492fa30872a97b0a457f",
        "IPY_MODEL_f79c31cd4301473280ce1e8d141adc82",
        "IPY_MODEL_75c66319dff0492a9827e3a97ff5d645"
       ]
      }
     },
     "f467e0f8c90d4ca39b5158d5024e8ccc": {
      "model_module": "jupyter-cytoscape",
      "model_module_version": "^1.2.0",
      "model_name": "NodeModel",
      "state": {
       "_model_module_version": "^1.2.0",
       "_view_module_version": "^1.2.0",
       "classes": "area level",
       "data": {
        "id": "A02",
        "label": "A02 Asia"
       },
       "grabbable": true,
       "grabbed": false,
       "position": {
        "x": 28,
        "y": 189.20000000000002
       },
       "selectable": false
      }
     },
     "f48a22510e1a4baba841a3191c290ecf": {
      "model_module": "jupyter-cytoscape",
      "model_module_version": "^1.2.0",
      "model_name": "GraphModel",
      "state": {
       "_adj": {},
       "_model_module_version": "^1.2.0",
       "_view_module": "jupyter-cytoscape",
       "_view_module_version": "^1.2.0"
      }
     },
     "f52c0770a677434fb849a34629c88296": {
      "model_module": "jupyter-cytoscape",
      "model_module_version": "^1.2.0",
      "model_name": "NodeModel",
      "state": {
       "_model_module_version": "^1.2.0",
       "_view_module_version": "^1.2.0",
       "classes": "country level",
       "data": {
        "id": "A02C01",
        "label": "A02C01 Japan"
       },
       "grabbable": true,
       "grabbed": false,
       "selectable": false
      }
     },
     "f53f7b1564f64d8a8270ce9fdacc8e70": {
      "model_module": "jupyter-cytoscape",
      "model_module_version": "^1.2.0",
      "model_name": "CytoscapeModel",
      "state": {
       "_interaction_handlers": {},
       "_model_module_version": "^1.2.0",
       "_view_module_version": "^1.2.0",
       "auto_ungrabify": false,
       "autolock": false,
       "cytoscape_layout": {
        "edgeLenghVal": 10,
        "name": "klay",
        "nodeSpacing": 10,
        "rankDir": "LR"
       },
       "cytoscape_style": [
        {
         "css": {
          "background-color": "black",
          "color": "white",
          "content": "data(label)",
          "font-size": "4pt",
          "height": "0.8em",
          "label": "data(id)",
          "shape": "roundrectangle",
          "text-halign": "center",
          "text-max-width": "5em",
          "text-valign": "center",
          "text-wrap": "wrap",
          "width": "5em"
         },
         "selector": "node.area"
        },
        {
         "css": {
          "background-color": "black",
          "color": "white",
          "content": "data(label)",
          "font-size": "4pt",
          "height": "0.8em",
          "label": "data(id)",
          "shape": "roundrectangle",
          "text-halign": "center",
          "text-max-width": "7em",
          "text-valign": "center",
          "text-wrap": "wrap",
          "width": "7em"
         },
         "selector": "node.country"
        },
        {
         "css": {
          "curve-style": "bezier",
          "line-color": "gray",
          "shape": "arrow",
          "target-arrow-color": "gray",
          "target-arrow-shape": "triangle",
          "width": 1
         },
         "selector": "edge"
        }
       ],
       "desktop_tap_threshold": 4,
       "graph": "IPY_MODEL_1c64e21b2a704e9bbfac189270c6b012",
       "headless": false,
       "hide_edges_on_viewport": false,
       "layout": "IPY_MODEL_28f6752103444d8abe2fc206029baff7",
       "max_zoom": 1e+50,
       "min_zoom": 1e-50,
       "motion_blur": false,
       "motion_blur_opacity": 0.2,
       "panning_enabled": true,
       "pixel_ratio": "auto",
       "rendered_position": {
        "renderedPosition": {
         "x": 100,
         "y": 100
        }
       },
       "selection_type": "single",
       "style_enabled": true,
       "texture_on_viewport": false,
       "tooltip_source": "label",
       "touch_tap_threshold": 8,
       "user_panning_enabled": true,
       "user_zooming_enabled": true,
       "wheel_sensitivity": 1,
       "zoom": 2,
       "zooming_enabled": true
      }
     },
     "f5bf94b5e4d142fe951098f98824996a": {
      "model_module": "jupyter-cytoscape",
      "model_module_version": "^1.2.0",
      "model_name": "GraphModel",
      "state": {
       "_adj": {
        "A01": {},
        "A02": {}
       },
       "_model_module_version": "^1.2.0",
       "_view_module": "jupyter-cytoscape",
       "_view_module_version": "^1.2.0",
       "nodes": [
        "IPY_MODEL_d8653f83643c415990f197e22bab0c37",
        "IPY_MODEL_337399253f464b43a718135877661a22"
       ]
      }
     },
     "f5e4091f33354abe814f646c1311fae5": {
      "model_module": "jupyter-cytoscape",
      "model_module_version": "^1.2.0",
      "model_name": "EdgeModel",
      "state": {
       "_model_module_version": "^1.2.0",
       "_view_module_version": "^1.2.0",
       "classes": " directed ",
       "data": {
        "id": "b7f820d3-8046-471a-9dca-731898b40cd7",
        "source": "0",
        "target": "1"
       },
       "selectable": false
      }
     },
     "f739445e69f1456a9b14a4a39316c82c": {
      "model_module": "jupyter-cytoscape",
      "model_module_version": "^1.2.0",
      "model_name": "CytoscapeModel",
      "state": {
       "_interaction_handlers": {},
       "_model_module_version": "^1.2.0",
       "_view_module_version": "^1.2.0",
       "auto_ungrabify": false,
       "autolock": false,
       "cytoscape_layout": {
        "edgeLenghVal": 10,
        "name": "klay",
        "nodeSpacing": 10,
        "rankDir": "LR"
       },
       "cytoscape_style": [
        {
         "css": {
          "background-color": "black",
          "color": "white",
          "content": "data(label)",
          "font-size": "4pt",
          "height": "0.8em",
          "label": "data(id)",
          "shape": "roundrectangle",
          "text-halign": "center",
          "text-max-width": "5em",
          "text-valign": "center",
          "text-wrap": "wrap",
          "width": "5em"
         },
         "selector": "node.area"
        },
        {
         "css": {
          "background-color": "black",
          "color": "white",
          "content": "data(label)",
          "font-size": "4pt",
          "height": "0.8em",
          "label": "data(id)",
          "shape": "roundrectangle",
          "text-halign": "center",
          "text-max-width": "7em",
          "text-valign": "center",
          "text-wrap": "wrap",
          "width": "7em"
         },
         "selector": "node.country"
        }
       ],
       "desktop_tap_threshold": 4,
       "graph": "IPY_MODEL_79077b518fff47bb8d439517c4a0530c",
       "headless": false,
       "hide_edges_on_viewport": false,
       "layout": "IPY_MODEL_4396d7fd8e514d7ea58841444c5eda10",
       "max_zoom": 1e+50,
       "min_zoom": 1e-50,
       "motion_blur": false,
       "motion_blur_opacity": 0.2,
       "panning_enabled": true,
       "pixel_ratio": "auto",
       "rendered_position": {
        "renderedPosition": {
         "x": 100,
         "y": 100
        }
       },
       "selection_type": "single",
       "style_enabled": true,
       "texture_on_viewport": false,
       "tooltip_source": "label",
       "touch_tap_threshold": 8,
       "user_panning_enabled": true,
       "user_zooming_enabled": true,
       "wheel_sensitivity": 1,
       "zoom": 2,
       "zooming_enabled": true
      }
     },
     "f7589a71165a4237ac13edf9c78c4fb2": {
      "model_module": "jupyter-cytoscape",
      "model_module_version": "^1.2.0",
      "model_name": "EdgeModel",
      "state": {
       "_model_module_version": "^1.2.0",
       "_view_module_version": "^1.2.0",
       "classes": " directed ",
       "data": {
        "id": "b8636c01-c33c-4c18-a2d5-4cd2db4745e4",
        "label": "country",
        "source": "A01",
        "target": "A01C02"
       },
       "selectable": false
      }
     },
     "f79c31cd4301473280ce1e8d141adc82": {
      "model_module": "jupyter-cytoscape",
      "model_module_version": "^1.2.0",
      "model_name": "NodeModel",
      "state": {
       "_model_module_version": "^1.2.0",
       "_view_module_version": "^1.2.0",
       "classes": "country",
       "data": {
        "id": "A01C03",
        "label": "A01C03 Italia"
       },
       "grabbable": true,
       "grabbed": false,
       "position": {
        "x": 148,
        "y": 128
       },
       "selectable": false
      }
     },
     "f7e20713ab4c4cae8e020116526aabb9": {
      "model_module": "jupyter-cytoscape",
      "model_module_version": "^1.2.0",
      "model_name": "EdgeModel",
      "state": {
       "_model_module_version": "^1.2.0",
       "_view_module_version": "^1.2.0",
       "classes": " directed ",
       "data": {
        "id": "368d17d9-e9e1-4a8d-aa6a-f3da1a5226f5",
        "source": "1",
        "target": "4"
       },
       "selectable": false
      }
     },
     "f885bcad703a42e989459e7319d4cdc5": {
      "model_module": "jupyter-cytoscape",
      "model_module_version": "^1.2.0",
      "model_name": "NodeModel",
      "state": {
       "_model_module_version": "^1.2.0",
       "_view_module_version": "^1.2.0",
       "classes": "country",
       "data": {
        "id": "A01C01",
        "label": "A01C01 France"
       },
       "grabbable": true,
       "grabbed": false,
       "position": {
        "x": 148,
        "y": 5.6000000000000005
       },
       "selectable": false
      }
     },
     "f8a38b18aabe48278958ada3a08cc618": {
      "model_module": "jupyter-cytoscape",
      "model_module_version": "^1.2.0",
      "model_name": "GraphModel",
      "state": {
       "_adj": {},
       "_model_module_version": "^1.2.0",
       "_view_module": "jupyter-cytoscape",
       "_view_module_version": "^1.2.0"
      }
     },
     "f90b804bb8544d589e0d30f1a3c59566": {
      "model_module": "jupyter-cytoscape",
      "model_module_version": "^1.2.0",
      "model_name": "EdgeModel",
      "state": {
       "_model_module_version": "^1.2.0",
       "_view_module_version": "^1.2.0",
       "classes": " directed ",
       "data": {
        "id": "4d694028-6f32-4f29-a252-351a13033041",
        "label": "country",
        "source": "A01",
        "target": "A01C02"
       },
       "selectable": false
      }
     },
     "f9b9057de59b4bd4932099af4c9f1e8f": {
      "model_module": "jupyter-cytoscape",
      "model_module_version": "^1.2.0",
      "model_name": "EdgeModel",
      "state": {
       "_model_module_version": "^1.2.0",
       "_view_module_version": "^1.2.0",
       "classes": " directed ",
       "data": {
        "id": "f19b4cf4-6f84-438e-b1ea-90273b82f245",
        "label": "country",
        "source": "A01",
        "target": "A01C03"
       },
       "selectable": false
      }
     },
     "fa082119d0e74ec09ee5148dc3c7cb92": {
      "model_module": "jupyter-cytoscape",
      "model_module_version": "^1.2.0",
      "model_name": "NodeModel",
      "state": {
       "_model_module_version": "^1.2.0",
       "_view_module_version": "^1.2.0",
       "classes": "country level",
       "data": {
        "id": "A01C01",
        "label": "A01C01 France"
       },
       "grabbable": true,
       "grabbed": false,
       "position": {
        "x": 134,
        "y": 5.6000000000000005
       },
       "selectable": false
      }
     },
     "fa0d2b4decf9459fa6b6b43eed2b4323": {
      "model_module": "jupyter-cytoscape",
      "model_module_version": "^1.2.0",
      "model_name": "CytoscapeModel",
      "state": {
       "_interaction_handlers": {},
       "_model_module_version": "^1.2.0",
       "_view_module_version": "^1.2.0",
       "auto_ungrabify": false,
       "autolock": false,
       "cytoscape_layout": {
        "edgeLenghVal": 10,
        "name": "dagre",
        "nodeSpacing": 10,
        "rankDir": "LR"
       },
       "cytoscape_style": [
        {
         "css": {
          "content": "data(label)",
          "font-size": "4pt",
          "height": "0.8em",
          "label": "data(id)",
          "shape": "roundrectangle",
          "text-halign": "center",
          "text-max-width": "5em",
          "text-valign": "center",
          "text-wrap": "wrap",
          "width": "4em"
         },
         "selector": "node"
        },
        {
         "css": {
          "background-color": "black",
          "color": "white"
         },
         "selector": "node.area"
        },
        {
         "css": {
          "background-color": "black",
          "color": "white",
          "content": "data(label)",
          "font-size": "4pt",
          "height": "0.8em",
          "label": "data(id)",
          "shape": "roundrectangle",
          "text-halign": "center",
          "text-max-width": "7em",
          "text-valign": "center",
          "text-wrap": "wrap",
          "width": "6em"
         },
         "selector": "node.country"
        },
        {
         "css": {
          "curve-style": "bezier",
          "line-color": "gray",
          "shape": "arrow",
          "target-arrow-color": "gray",
          "target-arrow-shape": "triangle",
          "width": 1
         },
         "selector": "edge"
        }
       ],
       "desktop_tap_threshold": 4,
       "graph": "IPY_MODEL_0102b048ac1444f882023bdcbd4ec7af",
       "headless": false,
       "hide_edges_on_viewport": false,
       "layout": "IPY_MODEL_8436612ee4234ac5a980556ae3344ea5",
       "max_zoom": 1e+50,
       "min_zoom": 1e-50,
       "motion_blur": false,
       "motion_blur_opacity": 0.2,
       "panning_enabled": true,
       "pixel_ratio": "auto",
       "rendered_position": {
        "renderedPosition": {
         "x": 100,
         "y": 100
        }
       },
       "selection_type": "single",
       "style_enabled": true,
       "texture_on_viewport": false,
       "tooltip_source": "label",
       "touch_tap_threshold": 8,
       "user_panning_enabled": true,
       "user_zooming_enabled": true,
       "wheel_sensitivity": 1,
       "zoom": 2,
       "zooming_enabled": true
      }
     },
     "fa7c3ff97f984b6eb17495f1c414e42e": {
      "model_module": "jupyter-cytoscape",
      "model_module_version": "^1.2.0",
      "model_name": "NodeModel",
      "state": {
       "_model_module_version": "^1.2.0",
       "_view_module_version": "^1.2.0",
       "classes": "country",
       "data": {
        "id": "A01C01",
        "label": "A01C01 France"
       },
       "grabbable": true,
       "grabbed": false,
       "position": {
        "x": 169,
        "y": 5.6000000000000005
       },
       "selectable": false
      }
     },
     "fb6b2f41f4254bc187f0314206aa28ca": {
      "model_module": "jupyter-cytoscape",
      "model_module_version": "^1.2.0",
      "model_name": "NodeModel",
      "state": {
       "_model_module_version": "^1.2.0",
       "_view_module_version": "^1.2.0",
       "classes": "country",
       "data": {
        "id": "A01C03",
        "label": "A01C03 Italia"
       },
       "grabbable": true,
       "grabbed": false,
       "position": {
        "x": 169,
        "y": 128
       },
       "selectable": false
      }
     },
     "fbd140a5bb5c414694a9558081deebea": {
      "model_module": "jupyter-cytoscape",
      "model_module_version": "^1.2.0",
      "model_name": "NodeModel",
      "state": {
       "_model_module_version": "^1.2.0",
       "_view_module_version": "^1.2.0",
       "classes": "area",
       "data": {
        "id": "A02",
        "label": "A02 Asia"
       },
       "grabbable": true,
       "grabbed": false,
       "position": {
        "x": 20,
        "y": 20
       },
       "selectable": false
      }
     },
     "fc5785c18b8543368b724c6ecccc4252": {
      "model_module": "jupyter-cytoscape",
      "model_module_version": "^1.2.0",
      "model_name": "NodeModel",
      "state": {
       "_model_module_version": "^1.2.0",
       "_view_module_version": "^1.2.0",
       "classes": "area level",
       "data": {
        "id": "A02",
        "label": "A02 Asia"
       },
       "grabbable": true,
       "grabbed": false,
       "selectable": false
      }
     },
     "fd56d60f86774f85a3b01c1348c6c1e8": {
      "model_module": "jupyter-cytoscape",
      "model_module_version": "^1.2.0",
      "model_name": "NodeModel",
      "state": {
       "_model_module_version": "^1.2.0",
       "_view_module_version": "^1.2.0",
       "classes": "area",
       "data": {
        "id": "A02",
        "label": "A02 Asia"
       },
       "grabbable": true,
       "grabbed": false,
       "position": {
        "x": 20,
        "y": 20
       },
       "selectable": false
      }
     },
     "fd953c03b3234d42bfdd453c9a25f346": {
      "model_module": "jupyter-cytoscape",
      "model_module_version": "^1.2.0",
      "model_name": "NodeModel",
      "state": {
       "_model_module_version": "^1.2.0",
       "_view_module_version": "^1.2.0",
       "classes": "country level",
       "data": {
        "id": "A01C03",
        "label": "A01C03 Italia"
       },
       "grabbable": true,
       "grabbed": false,
       "position": {
        "x": 134,
        "y": 128
       },
       "selectable": false
      }
     },
     "fdf538b6f1dd49ebb6881968ef99a94d": {
      "model_module": "jupyter-cytoscape",
      "model_module_version": "^1.2.0",
      "model_name": "GraphModel",
      "state": {
       "_adj": {},
       "_model_module_version": "^1.2.0",
       "_view_module": "jupyter-cytoscape",
       "_view_module_version": "^1.2.0"
      }
     },
     "fe13e2318a624fadb8887cb8eef6bdcd": {
      "model_module": "jupyter-cytoscape",
      "model_module_version": "^1.2.0",
      "model_name": "NodeModel",
      "state": {
       "_model_module_version": "^1.2.0",
       "_view_module_version": "^1.2.0",
       "classes": "country",
       "data": {
        "id": "A01C01",
        "label": "A01C01 France"
       },
       "grabbable": true,
       "grabbed": false,
       "position": {
        "x": 127.99999952316284,
        "y": 94.40000047683716
       },
       "selectable": false
      }
     },
     "fe28ab0b7c4b47a498a700fdadcb9a26": {
      "model_module": "jupyter-cytoscape",
      "model_module_version": "^1.2.0",
      "model_name": "NodeModel",
      "state": {
       "_model_module_version": "^1.2.0",
       "_view_module_version": "^1.2.0",
       "classes": "country",
       "data": {
        "id": "A01C02",
        "label": "A01C02 UK"
       },
       "grabbable": true,
       "grabbed": false,
       "position": {
        "x": 20,
        "y": 149.6000014305115
       },
       "selectable": false
      }
     },
     "fece539d7aea400999fa8cc56d8acfdb": {
      "model_module": "jupyter-cytoscape",
      "model_module_version": "^1.2.0",
      "model_name": "NodeModel",
      "state": {
       "_model_module_version": "^1.2.0",
       "_view_module_version": "^1.2.0",
       "classes": "country",
       "data": {
        "id": "A01C02",
        "label": "A01C02 UK"
       },
       "grabbable": true,
       "grabbed": false,
       "position": {
        "x": 169,
        "y": 66.8
       },
       "selectable": false
      }
     },
     "ff117a44b50c4828936002b554a02874": {
      "model_module": "@jupyter-widgets/base",
      "model_module_version": "1.2.0",
      "model_name": "LayoutModel",
      "state": {}
     },
     "ff72498dc5224b9a9fe12c9f7101db0b": {
      "model_module": "@jupyter-widgets/base",
      "model_module_version": "1.2.0",
      "model_name": "LayoutModel",
      "state": {}
     },
     "ff741796e4a343aab74512d108fb9851": {
      "model_module": "jupyter-cytoscape",
      "model_module_version": "^1.2.0",
      "model_name": "EdgeModel",
      "state": {
       "_model_module_version": "^1.2.0",
       "_view_module_version": "^1.2.0",
       "classes": " directed ",
       "data": {
        "id": "455ea0cf-8c06-476c-96f6-ab7ee4a59cf8",
        "label": "country",
        "source": "A01",
        "target": "A01C01"
       },
       "selectable": false
      }
     },
     "ff9ebbf6f2064be18b8af1bfa74cfee5": {
      "model_module": "jupyter-cytoscape",
      "model_module_version": "^1.2.0",
      "model_name": "GraphModel",
      "state": {
       "_adj": {
        "A01": {},
        "A01C01": {},
        "A01C02": {},
        "A01C03": {},
        "A02": {},
        "A02C01": {}
       },
       "_model_module_version": "^1.2.0",
       "_view_module": "jupyter-cytoscape",
       "_view_module_version": "^1.2.0",
       "edges": [
        "IPY_MODEL_2e189c78fa2e42e68dbda42a63b6c248",
        "IPY_MODEL_58be13a709e547f39a2b12077322bc9a",
        "IPY_MODEL_f9b9057de59b4bd4932099af4c9f1e8f",
        "IPY_MODEL_2b45c8cab4f94e0ca3724c0b163b6c21"
       ],
       "nodes": [
        "IPY_MODEL_a5d7558985f84d92b86aaeb9a518922c",
        "IPY_MODEL_fd56d60f86774f85a3b01c1348c6c1e8",
        "IPY_MODEL_41474e96e975475994be48f8db4fc6be",
        "IPY_MODEL_ca1d72cb9e1e4b43a6809c7d783ffca0",
        "IPY_MODEL_c37c951516a049c49e6cd7614cb35671",
        "IPY_MODEL_b067a1df29e44d2e9ea4af3cbf08ed37"
       ]
      }
     }
    },
    "version_major": 2,
    "version_minor": 0
   }
  }
 },
 "nbformat": 4,
 "nbformat_minor": 2
}
